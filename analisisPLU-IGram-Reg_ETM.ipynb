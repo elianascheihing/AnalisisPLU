{
 "cells": [
  {
   "cell_type": "markdown",
   "metadata": {},
   "source": [
    "### Cargar un modelo Word2Vec pre-entrenado para el español\n",
    "\n",
    "ver: https://github.com/dccuchile/spanish-word-embeddings"
   ]
  },
  {
   "cell_type": "code",
   "execution_count": 1,
   "metadata": {
    "scrolled": true
   },
   "outputs": [],
   "source": [
    "from gensim.models import KeyedVectors\n",
    "\n",
    "model = KeyedVectors.load_word2vec_format(\"data/SBW-vectors-300-min5.bin.gz\", binary=True) "
   ]
  },
  {
   "cell_type": "code",
   "execution_count": 2,
   "metadata": {},
   "outputs": [],
   "source": [
    "import pandas as pd\n",
    "#from pandasql import sqldf #para utilizar una síntaxis SQL para consultar nuestros datos\n",
    "\n",
    "dataset=\"data/luis/FN_PLU_2017-2021_igram_v1.csv\"\n",
    "df = pd.read_csv(dataset)\n",
    "\n"
   ]
  },
  {
   "cell_type": "code",
   "execution_count": 4,
   "metadata": {},
   "outputs": [
    {
     "data": {
      "text/plain": [
       "633"
      ]
     },
     "execution_count": 4,
     "metadata": {},
     "output_type": "execute_result"
    }
   ],
   "source": [
    "noticias = df.Description[df[\"tipoI\"].isin([2,3])]\n",
    "\n",
    "len(noticias)"
   ]
  },
  {
   "cell_type": "code",
   "execution_count": 5,
   "metadata": {},
   "outputs": [],
   "source": [
    "import spacy\n",
    "nlp = spacy.load(\"es_core_news_md\")\n",
    "\n",
    "def spacy_tokenizer(texto):\n",
    "    # crea lista de tokens a partir de un texto\n",
    "    mytokens = []\n",
    "    doc = nlp(texto.lower().strip())\n",
    "    for token in doc:\n",
    "        if not token.is_stop and not token.is_punct and not token.is_space and not token.is_digit and not token.like_num:\n",
    "            mytokens.append(token.lemma_)\n",
    "    return mytokens\n"
   ]
  },
  {
   "cell_type": "code",
   "execution_count": 6,
   "metadata": {},
   "outputs": [],
   "source": [
    "documents=[]\n",
    "for noticia in noticias:\n",
    "    documents.append(spacy_tokenizer(noticia))"
   ]
  },
  {
   "cell_type": "code",
   "execution_count": 7,
   "metadata": {},
   "outputs": [],
   "source": [
    "etm_documents=[]\n",
    "for document in documents:\n",
    "    etm_documents.append(\" \".join(document))"
   ]
  },
  {
   "cell_type": "code",
   "execution_count": 8,
   "metadata": {},
   "outputs": [],
   "source": [
    "from embedded_topic_model.utils import preprocessing\n",
    "import json\n",
    "\n",
    "# Preprocessing the dataset\n",
    "diccionario, train_dataset,test_dataset, = preprocessing.create_etm_datasets(\n",
    "    etm_documents, \n",
    "    min_df=0.01, \n",
    "    max_df=0.75, \n",
    "    train_size=0.85, \n",
    ")\n",
    "\n"
   ]
  },
  {
   "cell_type": "code",
   "execution_count": 9,
   "metadata": {},
   "outputs": [],
   "source": [
    "from embedded_topic_model.models.etm import ETM\n",
    "# Training an ETM instance\n",
    "perp =[]\n",
    "numk = range(1,10)\n",
    "for k in numk:\n",
    "    etm_instance = ETM(\n",
    "       diccionario,\n",
    "        embeddings=model, # You can pass here the path to a word2vec file or\n",
    "                                   # a KeyedVectors instance\n",
    "        num_topics=k,\n",
    "        epochs=200,\n",
    "        debug_mode=False,\n",
    "        eval_perplexity=True,\n",
    "        train_embeddings=False, # Optional. If True, ETM will learn word embeddings jointly with\n",
    "                            # topic embeddings. By default, is False. If 'embeddings' argument\n",
    "                            # is being passed, this argument must not be True\n",
    "    )\n",
    "\n",
    "    etm_instance.fit(train_dataset, test_dataset)\n",
    "    perp.append(etm_instance._perplexity(test_dataset))\n",
    "\n"
   ]
  },
  {
   "cell_type": "code",
   "execution_count": 10,
   "metadata": {},
   "outputs": [
    {
     "data": {
      "image/png": "[encoded data removed]",
      "text/plain": [
       "<Figure size 432x288 with 1 Axes>"
      ]
     },
     "metadata": {
      "needs_background": "light"
     },
     "output_type": "display_data"
    }
   ],
   "source": [
    "import matplotlib.pyplot as plt\n",
    "plt.plot(numk, perp, '-o')\n",
    "plt.xlabel('number of topics, k')\n",
    "plt.ylabel('perplexity test')\n",
    "plt.xticks(numk)\n",
    "plt.show()"
   ]
  },
  {
   "cell_type": "code",
   "execution_count": 11,
   "metadata": {},
   "outputs": [
    {
     "data": {
      "text/plain": [
       "<embedded_topic_model.models.etm.ETM at 0x7f2af39fd290>"
      ]
     },
     "execution_count": 11,
     "metadata": {},
     "output_type": "execute_result"
    }
   ],
   "source": [
    "from embedded_topic_model.models.etm import ETM\n",
    "etm_instance = ETM(\n",
    "       diccionario,\n",
    "        embeddings=model, # You can pass here the path to a word2vec file or\n",
    "                                   # a KeyedVectors instance\n",
    "        num_topics=3,\n",
    "        epochs=500,\n",
    "        debug_mode=False,\n",
    "        eval_perplexity=True,\n",
    "        train_embeddings=False, # Optional. If True, ETM will learn word embeddings jointly with\n",
    "                            # topic embeddings. By default, is False. If 'embeddings' argument\n",
    "                            # is being passed, this argument must not be True\n",
    "    )\n",
    "\n",
    "etm_instance.fit(train_dataset, test_dataset)"
   ]
  },
  {
   "cell_type": "code",
   "execution_count": 12,
   "metadata": {},
   "outputs": [
    {
     "name": "stdout",
     "output_type": "stream",
     "text": [
      "[['falso', 'social', 'noticia', 'información', 'red', 'desinformación', 'leer', 'medio', 'completo', 'facebook', 'pandemia', 'salud', 'coronavirus', 'difundir', 'vacuna', 'dato', 'mensaje', 'plataforma', 'comunicación', 'mundo'], ['fake', 'new', 'link', 'bio', 'chile', 'presidente', 'video', 'candidato', 'kast', 'campaña', 'presidencial', 'entrevista', 'detalle', 'elección', 'boric', 'electoral', 'político', 'diputado', 'trump', 'señalar'], ['persona', 'él', 'año', 'país', 'chile', 'público', 'gobierno', 'caso', 'nacional', 'carabinero', 'artículo', 'investigación', 'mujer', 'tiempo', 'mes', 'dicho', 'haber', 'situación', 'internacional', 'grupo']]\n"
     ]
    }
   ],
   "source": [
    "import numpy as np\n",
    "## extrayendo resultados del análisis de tópicos\n",
    "topics = etm_instance.get_topics(20)\n",
    "dist = etm_instance.get_document_topic_dist()\n",
    "d_topic = etm_instance.get_topic_word_dist()\n",
    "\n",
    "##creando las entradas para visualización\n",
    "true_k=3\n",
    "nDoc = len(dist)\n",
    "nVocab = len(diccionario)\n",
    "dist_doc = np.array(dist).reshape(nDoc,true_k)\n",
    "dist_topic= np.array(d_topic).reshape(true_k,nVocab)\n",
    "print(topics)"
   ]
  },
  {
   "cell_type": "code",
   "execution_count": 13,
   "metadata": {},
   "outputs": [
    {
     "data": {
      "image/png": "[encoded data removed]",
      "text/plain": [
       "<Figure size 432x288 with 1 Axes>"
      ]
     },
     "metadata": {
      "needs_background": "light"
     },
     "output_type": "display_data"
    },
    {
     "name": "stdout",
     "output_type": "stream",
     "text": [
      "[0.048818506, 0.037875496, 0.037003435, 0.03452073, 0.030690284, 0.021534877, 0.019055024, 0.012481975, 0.01175409, 0.010450889, 0.010090686, 0.00881384, 0.008700474, 0.008699578, 0.008469868]\n"
     ]
    },
    {
     "data": {
      "image/png": "[encoded data removed]",
      "text/plain": [
       "<Figure size 432x288 with 1 Axes>"
      ]
     },
     "metadata": {
      "needs_background": "light"
     },
     "output_type": "display_data"
    },
    {
     "name": "stdout",
     "output_type": "stream",
     "text": [
      "[0.03450576, 0.032242935, 0.022401383, 0.01804461, 0.01739015, 0.014172294, 0.011937973, 0.011600297, 0.009802443, 0.009722098, 0.009308732, 0.008323468, 0.008309886, 0.008266389, 0.007871144]\n"
     ]
    },
    {
     "data": {
      "image/png": "[encoded data removed]",
      "text/plain": [
       "<Figure size 432x288 with 1 Axes>"
      ]
     },
     "metadata": {
      "needs_background": "light"
     },
     "output_type": "display_data"
    },
    {
     "name": "stdout",
     "output_type": "stream",
     "text": [
      "[0.014801302, 0.0141506, 0.013553499, 0.012981779, 0.012946876, 0.008727348, 0.0082788365, 0.007567074, 0.007275041, 0.0061571044, 0.005536244, 0.005406812, 0.005218026, 0.0051752278, 0.00481501]\n"
     ]
    },
    {
     "data": {
      "image/png": "[encoded data removed]",
      "text/plain": [
       "<Figure size 432x288 with 1 Axes>"
      ]
     },
     "metadata": {
      "needs_background": "light"
     },
     "output_type": "display_data"
    }
   ],
   "source": [
    "#Generando algunos gráficos de los resultados\n",
    "from matplotlib.pylab import hist, show\n",
    "import matplotlib.pyplot as plt\n",
    "import numpy as np\n",
    "\n",
    "dist_sum = sum(dist_doc)/nDoc\n",
    "w=np.arange(0,true_k)\n",
    "plt.bar(w,height=dist_sum,alpha=0.5,tick_label=w)\n",
    "show()\n",
    "\n",
    "#distribución de tópicos en el documento 100\n",
    "#plt.bar(w,height=dist_doc[51],alpha=0.5,tick_label=w)\n",
    "#show()\n",
    "\n",
    "#frecuencia de palabras por tópico\n",
    "n_top_words=15\n",
    "numo =np.arange(0,n_top_words)\n",
    "\n",
    "for idx,topic in enumerate(dist_topic):\n",
    "    d =[]\n",
    "    s = []\n",
    "    for i in topic.argsort()[:-n_top_words - 1:-1]:\n",
    "        s.append(diccionario[i])\n",
    "        d.append(topic[i])\n",
    "    print(d)\n",
    "    \n",
    "    plt.barh(numo,width=d,alpha=0.5,tick_label=s)\n",
    "    show()\n",
    "\n"
   ]
  },
  {
   "cell_type": "code",
   "execution_count": 14,
   "metadata": {},
   "outputs": [],
   "source": [
    "doc_l = np.zeros(len(train_dataset['counts']))\n",
    "term_f= np.zeros(len(diccionario))\n",
    "for i in range(0,len(train_dataset['counts'])):\n",
    "        for j in range(0,len(train_dataset['counts'][i])):\n",
    "                js = train_dataset['tokens'][i][j]\n",
    "             \n",
    "                term_f[js] = term_f[js] + train_dataset['counts'][i][j]\n",
    "                doc_l[i] = doc_l[i]+ train_dataset['counts'][i][j]"
   ]
  },
  {
   "cell_type": "code",
   "execution_count": 16,
   "metadata": {
    "scrolled": false
   },
   "outputs": [
    {
     "data": {
      "text/html": [
       "\n",
       "<link rel=\"stylesheet\" type=\"text/css\" href=\"https://cdn.jsdelivr.net/gh/bmabey/pyLDAvis@3.3.1/pyLDAvis/js/ldavis.v1.0.0.css\">\n",
       "\n",
       "\n",
       "<div id=\"ldavis_el428631398224485718567054700476\"></div>\n",
       "<script type=\"text/javascript\">\n",
       "\n",
       "var ldavis_el428631398224485718567054700476_data = {\"mdsDat\": {\"x\": [0.030889358735834184, -0.22580161189396056, 0.19491225315812638], \"y\": [-0.17487779587603347, 0.06817926536893802, 0.10669853050709546], \"topics\": [1, 2, 3], \"cluster\": [1, 1, 1], \"Freq\": [37.72360772164536, 33.08114487893235, 29.195247399422286]}, \"tinfo\": {\"Term\": [\"falso\", \"social\", \"fake\", \"noticia\", \"new\", \"informaci\\u00f3n\", \"red\", \"desinformaci\\u00f3n\", \"link\", \"leer\", \"bio\", \"persona\", \"presidente\", \"a\\u00f1o\", \"chile\", \"candidato\", \"\\u00e9l\", \"medio\", \"pa\\u00eds\", \"completo\", \"video\", \"facebook\", \"pandemia\", \"kast\", \"presidencial\", \"campa\\u00f1a\", \"coronavirus\", \"vacuna\", \"boric\", \"difundir\", \"delito\", \"frente\", \"fiscal\\u00eda\", \"persona\", \"tribunal\", \"deber\", \"penal\", \"internacional\", \"a\\u00f1o\", \"carabinero\", \"detenido\", \"acusaci\\u00f3n\", \"art\\u00edculo\", \"fiscal\", \"v\\u00edctima\", \"fuerza\", \"joven\", \"trabajador\", \"autoridad\", \"suprema\", \"privado\", \"sector\", \"ley\", \"responsabilidad\", \"orden\", \"lugar\", \"pa\\u00eds\", \"entregado\", \"nacional\", \"caso\", \"\\u00e9l\", \"director\", \"gobierno\", \"ministerio\", \"p\\u00fablico\", \"mes\", \"humanos\", \"grupo\", \"mujer\", \"ministro\", \"investigaci\\u00f3n\", \"dicho\", \"derecho\", \"tiempo\", \"vivir\", \"salir\", \"chile\", \"general\", \"trabajo\", \"haber\", \"situaci\\u00f3n\", \"hecho\", \"derechos\", \"empresa\", \"antivacuna\", \"virus\", \"coronavirus\", \"contenidoesencial\", \"red\", \"pandemia\", \"social\", \"vacuna\", \"desinformaci\\u00f3n\", \"facebook\", \"leer\", \"dato\", \"falso\", \"usuario\", \"universidad\", \"plataforma\", \"mivoz\", \"difusi\\u00f3n\", \"noticia\", \"reducir\", \"informaci\\u00f3n\", \"completo\", \"internet\", \"mill\\u00f3n\", \"enfermedad\", \"contenido\", \"asociado\", \"difundir\", \"disponible\", \"medio\", \"salud\", \"mensaje\", \"comunicaci\\u00f3n\", \"err\\u00f3neo\", \"mundial\", \"publicar\", \"periodismo\", \"real\", \"unidos\", \"mundo\", \"p\\u00e1gina\", \"boric\", \"fakenews\", \"bolsonaro\", \"jadue\", \"new\", \"dem\\u00f3crata\", \"fake\", \"servel\", \"presidencial\", \"apruebo\", \"trump\", \"candidato\", \"republicano\", \"nicol\\u00e1s\", \"kast\", \"candidatura\", \"senador\", \"electoral\", \"clinic\", \"donald\", \"estadounidense\", \"times\", \"presidencia\", \"campa\\u00f1a\", \"acusar\", \"presidenta\", \"fact\", \"partido\", \"abanderado\", \"presidente\", \"link\", \"elecci\\u00f3n\", \"bio\", \"canal\", \"video\", \"diputado\", \"detalle\", \"imagen\", \"the\", \"entrevista\", \"se\\u00f1alar\", \"news\", \"parlamentario\", \"desmentir\", \"chile\", \"pol\\u00edtico\", \"debate\", \"circular\", \"pol\\u00edtica\", \"chileno\"], \"Freq\": [334.0, 256.0, 204.0, 257.0, 190.0, 241.0, 207.0, 146.0, 140.0, 129.0, 114.0, 114.0, 88.0, 105.0, 201.0, 69.0, 116.0, 89.0, 104.0, 82.0, 76.0, 71.0, 68.0, 58.0, 55.0, 60.0, 58.0, 57.0, 46.0, 61.0, 19.373584778026835, 26.63930218702393, 20.37822018934643, 112.85542214215418, 20.97939162784605, 26.874712683700857, 12.188684431988586, 31.669186186418184, 103.34130601357221, 46.94604674617862, 13.632400025723346, 14.713990415816143, 42.21217361384093, 22.408171048151317, 10.787024813596393, 10.898345329333777, 24.252851932338185, 20.30326326883612, 23.66205335428291, 6.515190005806591, 13.031985736800912, 22.839082358867927, 22.430862457050797, 21.454446622938697, 11.419067184270753, 18.628249574662554, 98.98211274328183, 10.402619174389345, 55.46997455197362, 57.696636954036585, 107.89401712937303, 25.318559933937852, 63.12360818233226, 29.71786526682279, 66.54337499386881, 36.71298469550999, 25.978103788023752, 31.441135929241902, 39.785861608613104, 27.99442595443924, 41.225294380882524, 34.42692555123463, 28.078086988377347, 39.459536354264436, 26.723966244434752, 27.085131030910805, 98.71598664992374, 27.10085453338481, 26.72982816214607, 34.40880011821447, 31.812254614145388, 27.612898903835738, 28.26626839396041, 26.917977612999028, 5.611320950018784, 41.693774601264465, 58.174511200749, 6.513569728784253, 205.20632120894845, 67.46997194964172, 253.24923857457455, 56.632598146541525, 143.98996117825118, 69.87841908006223, 127.40876805062179, 50.00893730712797, 326.41815694136807, 33.76142649171294, 31.714322713552605, 43.98894036968727, 5.414366420832668, 22.35160086407568, 247.41832620500233, 15.76596617077647, 230.81806551667498, 78.592088822786, 30.955590099463272, 37.979669713534044, 28.00873969284216, 39.37054302746422, 10.812617732703467, 58.168520673841286, 16.073660991912188, 83.4589933971363, 58.93251835082093, 45.88995188535428, 43.195528707418006, 23.589310976527383, 24.99304960084358, 40.672140677140206, 37.310452509318395, 33.13105430501325, 31.027915437061733, 42.84006690678395, 40.215285160939665, 46.44717796159608, 27.712791621880218, 21.80483887855958, 7.6634500613390175, 190.26373562840377, 17.62207820289138, 203.6165277673329, 17.48896454599672, 54.93030140792613, 20.51213910817299, 37.87143853760911, 68.45269578310928, 20.850021869206326, 2.469743432359467, 57.84366125622964, 13.323750208418666, 21.987574420412482, 45.629024819584984, 14.928361521537916, 24.024548882275113, 22.470822087009324, 10.665835146198628, 15.472887414206212, 57.36954878671692, 30.661535417499795, 17.011867921262656, 13.457832479231858, 33.950766927329354, 14.112809210942107, 83.6299058986415, 132.18929420604167, 48.77949585946292, 106.48021992756742, 36.03637817318628, 70.44530360574187, 37.99286013145881, 49.03616618258941, 35.46431341898178, 29.69887881804848, 49.11631520606655, 36.39136624384473, 27.31653098084921, 27.734447356041745, 32.16420870269655, 102.61829440796642, 42.4994730925064, 29.43289880994049, 31.191434553038057, 31.78960654366797, 30.77616984431753], \"Total\": [334.0, 256.0, 204.0, 257.0, 190.0, 241.0, 207.0, 146.0, 140.0, 129.0, 114.0, 114.0, 88.0, 105.0, 201.0, 69.0, 116.0, 89.0, 104.0, 82.0, 76.0, 71.0, 68.0, 58.0, 55.0, 60.0, 58.0, 57.0, 46.0, 61.0, 19.5596666350876, 26.895224627915514, 20.594063860018146, 114.31270907115253, 21.273267871365736, 27.368766554086495, 12.451727643999094, 32.39470764747623, 105.96944514153647, 48.27845306257, 14.120211769769519, 15.265033877951156, 43.795882328572525, 23.25145791241554, 11.210921301877292, 11.337994062564727, 25.25107189297648, 21.14798637381851, 24.64813623344888, 6.796558860799091, 13.626584205000139, 23.897313095186405, 23.571441653873222, 22.55962466215358, 12.00827518402139, 19.64673077497014, 104.70023226226206, 11.04515381270207, 59.23261064981749, 61.61792885810692, 116.82925318001818, 27.046025254515968, 68.9953284858307, 32.11590961929044, 74.59549475258477, 40.241219813426326, 28.157965259756523, 34.89204466709159, 46.313494229673026, 31.52598429066575, 50.55789703600049, 40.825774385617216, 31.670339770204823, 50.66491453905576, 29.88551294946897, 30.674287430846285, 201.48968938125526, 31.26302975954832, 30.630713781923202, 53.57666814492711, 46.39099650527687, 34.359313746011175, 37.47064172594945, 38.782599367202074, 5.627238185119724, 42.03179362590774, 58.79144208981612, 6.58558776166114, 207.68325060610155, 68.34079592290706, 256.66005560263153, 57.491552947006305, 146.31494069913387, 71.11435266157909, 129.73993289497255, 51.024614326161895, 334.49195365035365, 34.732833086705085, 32.80699204773366, 45.5661180560228, 5.623358489874915, 23.272437721464847, 257.71413599985834, 16.5001726022387, 241.84508382107305, 82.41190769885314, 32.63588549121189, 40.16224228918971, 29.618445582308155, 41.7343236411178, 11.464488387021765, 61.92679305289637, 17.174524383971068, 89.61217154317636, 64.35980933537543, 50.02359402363505, 48.28685083093612, 25.748745684796614, 27.587306917645414, 47.360217330509585, 43.211351553383544, 38.95867191504567, 35.962412835362905, 55.69970966448686, 52.54877075079137, 46.51115663196804, 27.752941959949556, 21.85026884774675, 7.681619564577297, 190.94631412754694, 17.72036968522888, 204.89117570302324, 17.673896409717003, 55.52063815208153, 20.761789889149792, 38.38301760329349, 69.42199035640252, 21.162371700070132, 2.5069957397218516, 58.758136637292324, 13.58977964677359, 22.46213772604272, 46.88423688784387, 15.395916500161299, 24.826398026661707, 23.526927698374774, 11.173938023110956, 16.224295199947367, 60.18171823474689, 32.19013437733847, 17.89175160129743, 14.158843747811446, 35.88051550495202, 14.926624005476391, 88.68135789316551, 140.85851141267824, 51.819270706324964, 114.01195185260852, 38.43845751093765, 76.32113697817952, 41.78079380643287, 55.33824302430644, 39.49796630197082, 32.53164934752839, 57.93243329921327, 41.626164053072245, 29.736738260152954, 30.748807268646438, 38.68697933600884, 201.48968938125526, 57.811007996138805, 34.87600406865295, 41.229830347212335, 43.8761730037251, 54.383468946876874], \"Category\": [\"Default\", \"Default\", \"Default\", \"Default\", \"Default\", \"Default\", \"Default\", \"Default\", \"Default\", \"Default\", \"Default\", \"Default\", \"Default\", \"Default\", \"Default\", \"Default\", \"Default\", \"Default\", \"Default\", \"Default\", \"Default\", \"Default\", \"Default\", \"Default\", \"Default\", \"Default\", \"Default\", \"Default\", \"Default\", \"Default\", \"Topic1\", \"Topic1\", \"Topic1\", \"Topic1\", \"Topic1\", \"Topic1\", \"Topic1\", \"Topic1\", \"Topic1\", \"Topic1\", \"Topic1\", \"Topic1\", \"Topic1\", \"Topic1\", \"Topic1\", \"Topic1\", \"Topic1\", \"Topic1\", \"Topic1\", \"Topic1\", \"Topic1\", \"Topic1\", \"Topic1\", \"Topic1\", \"Topic1\", \"Topic1\", \"Topic1\", \"Topic1\", \"Topic1\", \"Topic1\", \"Topic1\", \"Topic1\", \"Topic1\", \"Topic1\", \"Topic1\", \"Topic1\", \"Topic1\", \"Topic1\", \"Topic1\", \"Topic1\", \"Topic1\", \"Topic1\", \"Topic1\", \"Topic1\", \"Topic1\", \"Topic1\", \"Topic1\", \"Topic1\", \"Topic1\", \"Topic1\", \"Topic1\", \"Topic1\", \"Topic1\", \"Topic1\", \"Topic2\", \"Topic2\", \"Topic2\", \"Topic2\", \"Topic2\", \"Topic2\", \"Topic2\", \"Topic2\", \"Topic2\", \"Topic2\", \"Topic2\", \"Topic2\", \"Topic2\", \"Topic2\", \"Topic2\", \"Topic2\", \"Topic2\", \"Topic2\", \"Topic2\", \"Topic2\", \"Topic2\", \"Topic2\", \"Topic2\", \"Topic2\", \"Topic2\", \"Topic2\", \"Topic2\", \"Topic2\", \"Topic2\", \"Topic2\", \"Topic2\", \"Topic2\", \"Topic2\", \"Topic2\", \"Topic2\", \"Topic2\", \"Topic2\", \"Topic2\", \"Topic2\", \"Topic2\", \"Topic2\", \"Topic3\", \"Topic3\", \"Topic3\", \"Topic3\", \"Topic3\", \"Topic3\", \"Topic3\", \"Topic3\", \"Topic3\", \"Topic3\", \"Topic3\", \"Topic3\", \"Topic3\", \"Topic3\", \"Topic3\", \"Topic3\", \"Topic3\", \"Topic3\", \"Topic3\", \"Topic3\", \"Topic3\", \"Topic3\", \"Topic3\", \"Topic3\", \"Topic3\", \"Topic3\", \"Topic3\", \"Topic3\", \"Topic3\", \"Topic3\", \"Topic3\", \"Topic3\", \"Topic3\", \"Topic3\", \"Topic3\", \"Topic3\", \"Topic3\", \"Topic3\", \"Topic3\", \"Topic3\", \"Topic3\", \"Topic3\", \"Topic3\", \"Topic3\", \"Topic3\", \"Topic3\", \"Topic3\", \"Topic3\", \"Topic3\", \"Topic3\"], \"logprob\": [30.0, 29.0, 28.0, 27.0, 26.0, 25.0, 24.0, 23.0, 22.0, 21.0, 20.0, 19.0, 18.0, 17.0, 16.0, 15.0, 14.0, 13.0, 12.0, 11.0, 10.0, 9.0, 8.0, 7.0, 6.0, 5.0, 4.0, 3.0, 2.0, 1.0, -5.9752, -5.6568, -5.9247, -4.213, -5.8956, -5.648, -6.4386, -5.4838, -4.3011, -5.0901, -6.3267, -6.2503, -5.1964, -5.8297, -6.5608, -6.5505, -5.7506, -5.9284, -5.7753, -7.065, -6.3717, -5.8107, -5.8287, -5.8732, -6.5039, -6.0145, -4.3442, -6.5971, -4.9233, -4.8839, -4.258, -5.7076, -4.7941, -5.5474, -4.7413, -5.336, -5.6819, -5.491, -5.2556, -5.6071, -5.2201, -5.4003, -5.6042, -5.2639, -5.6536, -5.6402, -4.3469, -5.6396, -5.6534, -5.4008, -5.4793, -5.6209, -5.5975, -5.6464, -7.083, -5.0775, -4.7444, -6.9339, -3.4838, -4.5961, -3.2735, -4.7712, -3.8381, -4.5611, -3.9604, -4.8956, -3.0196, -5.2885, -5.3511, -5.0239, -7.1188, -5.7009, -3.2967, -6.05, -3.3662, -4.4436, -5.3753, -5.1708, -5.4753, -5.1348, -6.4271, -4.7445, -6.0306, -4.3835, -4.7314, -4.9816, -5.0421, -5.647, -5.5892, -5.1023, -5.1886, -5.3074, -5.3729, -5.0504, -5.1136, -4.8446, -5.361, -5.6007, -6.6464, -3.4345, -5.8137, -3.3666, -5.8213, -4.6768, -5.6619, -5.0487, -4.4567, -5.6455, -7.7788, -4.6251, -6.0933, -5.5924, -4.8623, -5.9796, -5.5038, -5.5706, -6.3158, -5.9438, -4.6334, -5.2599, -5.849, -6.0833, -5.158, -6.0358, -4.2565, -3.7986, -4.7956, -4.0149, -5.0983, -4.428, -5.0455, -4.7903, -5.1143, -5.2918, -4.7887, -5.0885, -5.3754, -5.3602, -5.212, -4.0519, -4.9334, -5.3008, -5.2427, -5.2237, -5.2561], \"loglift\": [30.0, 29.0, 28.0, 27.0, 26.0, 25.0, 24.0, 23.0, 22.0, 21.0, 20.0, 19.0, 18.0, 17.0, 16.0, 15.0, 14.0, 13.0, 12.0, 11.0, 10.0, 9.0, 8.0, 7.0, 6.0, 5.0, 4.0, 3.0, 2.0, 1.0, 0.9653, 0.9653, 0.9643, 0.9621, 0.961, 0.9567, 0.9535, 0.9522, 0.9498, 0.9469, 0.9397, 0.9381, 0.9381, 0.9379, 0.9363, 0.9353, 0.9345, 0.9341, 0.9341, 0.9326, 0.9303, 0.9296, 0.9253, 0.9247, 0.9246, 0.9217, 0.9187, 0.9149, 0.9093, 0.9091, 0.8953, 0.9089, 0.8859, 0.8973, 0.8607, 0.8831, 0.8943, 0.8707, 0.823, 0.8561, 0.7708, 0.8044, 0.8545, 0.7249, 0.8631, 0.8504, 0.2614, 0.832, 0.8387, 0.5321, 0.5976, 0.7563, 0.693, 0.6097, 1.1034, 1.0981, 1.0957, 1.0952, 1.0942, 1.0934, 1.0928, 1.0912, 1.0902, 1.0887, 1.0881, 1.0861, 1.0818, 1.0778, 1.0723, 1.071, 1.0683, 1.0658, 1.0654, 1.0607, 1.0595, 1.0587, 1.0533, 1.0503, 1.0503, 1.0479, 1.0477, 1.0436, 1.04, 1.0351, 1.0181, 1.02, 0.9948, 1.0186, 1.0074, 0.954, 0.9594, 0.9442, 0.9586, 0.8437, 0.8387, 1.2298, 1.2297, 1.2291, 1.2288, 1.2276, 1.2256, 1.2249, 1.2206, 1.2205, 1.2191, 1.2177, 1.2171, 1.2163, 1.2162, 1.2155, 1.2114, 1.2098, 1.204, 1.2003, 1.1983, 1.1852, 1.1846, 1.1837, 1.1833, 1.1825, 1.1807, 1.1804, 1.1759, 1.1751, 1.1725, 1.1676, 1.1707, 1.1628, 1.1666, 1.1511, 1.1361, 1.1103, 1.1234, 1.1401, 1.0661, 1.0968, 1.1463, 1.128, 1.0465, 0.5564, 0.9235, 1.0615, 0.9521, 0.9089, 0.6618]}, \"token.table\": {\"Topic\": [1, 3, 1, 1, 3, 2, 3, 1, 3, 2, 1, 2, 1, 2, 3, 1, 2, 3, 3, 3, 1, 2, 3, 1, 2, 3, 1, 3, 3, 1, 3, 1, 2, 3, 1, 3, 1, 3, 1, 2, 3, 3, 1, 2, 3, 1, 2, 3, 1, 2, 2, 2, 3, 1, 2, 1, 2, 3, 1, 1, 3, 1, 3, 1, 3, 2, 3, 1, 2, 3, 1, 2, 3, 1, 1, 2, 3, 1, 2, 1, 2, 1, 3, 1, 2, 3, 1, 2, 1, 3, 1, 3, 1, 3, 1, 2, 1, 2, 3, 1, 1, 2, 3, 1, 2, 1, 3, 2, 3, 3, 2, 3, 3, 1, 2, 3, 1, 3, 1, 1, 1, 1, 2, 3, 1, 2, 3, 1, 2, 1, 3, 1, 2, 3, 1, 3, 1, 2, 3, 1, 2, 1, 2, 1, 2, 1, 2, 3, 3, 1, 3, 2, 3, 1, 2, 3, 1, 3, 2, 3, 1, 3, 1, 2, 1, 2, 3, 1, 2, 3, 1, 2, 1, 2, 1, 3, 2, 1, 3, 1, 2, 1, 2, 1, 2, 3, 1, 3, 2, 3, 3, 1, 2, 3, 1, 1, 2, 1, 2, 3, 1, 3, 1, 2, 3, 1, 1, 2, 3, 1, 2, 3, 1, 2, 1, 3, 1, 2, 3, 1, 3, 1, 3, 1, 3, 1, 3, 1, 2, 1, 2, 3, 1, 2, 3, 1, 2, 1, 2, 3, 1, 2, 3, 2, 3, 1, 2, 1, 2, 3, 1, 2, 1, 2, 3, 3, 1, 2, 3, 1, 2, 3, 1, 2, 3, 1, 1, 2, 3, 1, 2, 3, 3, 1, 3, 1, 2, 3, 1, 3, 1, 2, 3, 1, 2, 1, 2, 2, 1, 2, 3, 2, 1, 2, 3, 1, 1, 2, 3], \"Freq\": [0.06699438530997448, 0.9379213943396427, 0.9826378454138925, 0.031065418624160512, 0.9630279773489759, 1.0662424092632121, 1.011473486251525, 0.9589942653718181, 0.0228331967945671, 0.9594845952700704, 0.9737044526486621, 0.04057101886036092, 0.9719782892363891, 0.018873364839541537, 0.009436682419770769, 0.008771010264720073, 0.061397071853040504, 0.9297270880603277, 1.0068525999975826, 0.989010021057685, 0.016616341795017642, 0.033232683590035283, 0.9471314823160055, 0.026015612091495874, 0.026015612091495874, 0.9365620352938515, 0.014404657585674854, 0.97951671582589, 0.9566012354796635, 0.9735191792306788, 0.020713174026184656, 0.9412844779895435, 0.016229042723957646, 0.048687128171872936, 0.4913402780262068, 0.51119241047171, 0.422922635230698, 0.5700261605283321, 0.024254283647994996, 0.21828855283195497, 0.7518827930878449, 0.9742843175229515, 0.024268337620678964, 0.958599336016819, 0.024268337620678964, 0.04141914342276081, 0.8905115835893574, 0.06212871513414121, 0.04792218551805031, 0.934482617601981, 1.0629271453569284, 0.986538141238192, 0.017009278297210207, 0.019598384293661758, 0.9799192146830878, 0.11469203846077242, 0.05734601923038621, 0.8315172788406, 0.9865260075437549, 0.9713866986831142, 1.0157801625890575, 0.8841079762062469, 0.12630113945803528, 0.747251680523241, 0.2401880401681846, 0.9841783710667384, 0.01366914404259359, 0.025848490038849477, 0.15509094023309686, 0.8271516812431833, 0.0542120572690083, 0.0722827430253444, 0.8854636020604689, 0.991486546255143, 0.8328072280725209, 0.09797732094970835, 0.07348299071228126, 0.06459239697077962, 0.9365897560763045, 0.04296928460904939, 0.9453242613990867, 0.09573776933324162, 0.9095088086657954, 0.92435024240117, 0.0369740096960468, 0.0369740096960468, 0.0582257754359298, 0.9316124069748768, 0.04027970545409263, 0.9667129308982231, 0.05789352028904231, 0.9455941647210243, 0.021329130351256283, 0.9811399961577889, 0.6961885082626396, 0.2836323552181124, 0.0337627441393253, 0.9453568359011084, 0.0337627441393253, 0.9053744447179967, 0.10356892777161288, 0.05178446388580644, 0.8458129101348385, 0.07767368649653886, 0.9320842379584663, 0.04250448731854944, 0.9350987210080876, 0.9843301299966534, 0.01406185899995219, 0.9181540690432035, 0.004880639669174609, 0.9956504925116202, 1.008902048669542, 0.014948042682146336, 0.9746123828759411, 0.0089688256092878, 0.94617722823534, 0.043008055828879094, 0.9711536361130026, 1.0038956868192779, 0.9701892538751012, 0.8636399033511359, 0.09595998926123733, 0.06397332617415823, 0.9131052983237563, 0.043481204682083635, 0.043481204682083635, 0.8884546691308587, 0.08597948410943794, 0.634604598927813, 0.3546319817537778, 0.8149173236398112, 0.11641676051997302, 0.08731257038997976, 0.9233621733726373, 0.07102785949020286, 0.07595327762103816, 0.02531775920701272, 0.8861215722454453, 0.04548366179788981, 0.9551568977556861, 0.9878156749623582, 0.030869239842573695, 0.030641117437100875, 0.9498746405501272, 0.8109514517742965, 0.178013733316309, 0.01977930370181211, 1.0414470454760438, 0.9504547015556808, 0.0396022792314867, 0.017018919544247852, 0.9870973335663753, 0.01541545425045846, 0.9788813449041122, 0.00770772712522923, 0.933332815321671, 0.04242421887825777, 0.06389390253906899, 0.9371105705730118, 0.9670820157115364, 0.05089905345850192, 0.06695519031261415, 0.9262134659911625, 0.0199905668418691, 0.9195660747259785, 0.0599717005256073, 0.919455229526991, 0.049700282677134645, 0.024850141338567323, 0.04979801639557189, 0.9461623115158659, 0.9341164661261994, 0.062274431075079954, 0.8881562504708306, 0.09515959826473185, 0.8891483637407614, 0.8636791644706442, 0.12955187467059662, 0.10874566368350866, 0.9062138640292388, 0.2333943943030742, 0.771996842694784, 0.9285425612110763, 0.03376518404403914, 0.01688259202201957, 0.005237074119859822, 0.9950440827733662, 0.0672568720383159, 0.9079677725172647, 0.7977676101762733, 0.007760536659118689, 0.958426277401158, 0.031042146636474754, 0.9160349701709839, 0.0146325483409363, 0.9803807388427321, 0.06504317330185796, 0.03252158665092898, 0.9106044262260115, 0.05574055923817403, 0.9475895070489585, 0.9455566416702531, 0.03820430875435366, 0.009551077188588416, 0.9637216893178034, 0.023142067166415623, 0.8562564851573781, 0.11571033583207811, 0.9885165080784198, 0.008747933699809024, 0.008747933699809024, 0.021946131087368825, 0.9656297678442284, 0.27349696152809855, 0.7293252307415962, 0.24216841195599045, 0.017297743711142174, 0.7265052358679713, 0.0616359593853571, 0.9245393907803564, 0.01801132035371803, 0.9906226194544918, 0.05589167691817745, 0.9501585076090167, 0.05638163554084843, 0.9472114770862536, 0.9540175149124884, 0.07338596268557604, 0.021114767971214466, 0.8657054868197931, 0.12668860782728678, 0.01902994086659849, 0.7611976346639395, 0.20932934953258336, 0.8981775671871715, 0.1072450826492145, 0.10267290447483703, 0.8470514619174054, 0.025668226118709257, 0.004815024789344379, 0.9870800818155977, 0.004815024789344379, 0.9696868260535143, 0.9923273391862031, 0.9308665509506444, 0.04432697861669735, 0.8802160461223495, 0.06520118860165552, 0.06520118860165552, 0.07768823512116506, 0.9167211744297477, 0.9624512976997758, 0.04184570859564243, 0.9794259241182145, 0.9618705239583447, 0.04804670441047735, 0.07207005661571603, 0.8648406793885923, 0.6897890196508297, 0.301782696097238, 0.02155590686408843, 0.007792408504330948, 0.9857396757978649, 0.003896204252165474, 1.0299329621603528, 0.0307392960411328, 0.0614785920822656, 0.9221788812339841, 0.769763461654244, 0.05921257397340339, 0.15790019726240903, 0.9844335969332206, 0.9457165162901876, 0.04728582581450938, 0.8814681953619417, 0.06529394039718087, 0.06529394039718087, 0.9871544008650612, 0.9900211701109028, 0.08342043159712607, 0.8620111265036361, 0.055613621064750714, 0.030481307111149224, 0.9754018275567752, 0.02879120161328782, 0.9789008548517859, 0.9914499970550561, 0.06551265085882456, 0.013102530171764912, 0.9171771120235439, 0.9992435815090189, 0.9034477690127704, 0.03346102848195446, 0.06692205696390892, 0.9811860866562346, 0.924426006845961, 0.008559500063388528, 0.06847600050710823], \"Term\": [\"abanderado\", \"abanderado\", \"acusaci\\u00f3n\", \"acusar\", \"acusar\", \"antivacuna\", \"apruebo\", \"art\\u00edculo\", \"art\\u00edculo\", \"asociado\", \"autoridad\", \"autoridad\", \"a\\u00f1o\", \"a\\u00f1o\", \"a\\u00f1o\", \"bio\", \"bio\", \"bio\", \"bolsonaro\", \"boric\", \"campa\\u00f1a\", \"campa\\u00f1a\", \"campa\\u00f1a\", \"canal\", \"canal\", \"canal\", \"candidato\", \"candidato\", \"candidatura\", \"carabinero\", \"carabinero\", \"caso\", \"caso\", \"caso\", \"chile\", \"chile\", \"chileno\", \"chileno\", \"circular\", \"circular\", \"circular\", \"clinic\", \"completo\", \"completo\", \"completo\", \"comunicaci\\u00f3n\", \"comunicaci\\u00f3n\", \"comunicaci\\u00f3n\", \"contenido\", \"contenido\", \"contenidoesencial\", \"coronavirus\", \"coronavirus\", \"dato\", \"dato\", \"debate\", \"debate\", \"debate\", \"deber\", \"delito\", \"dem\\u00f3crata\", \"derecho\", \"derecho\", \"derechos\", \"derechos\", \"desinformaci\\u00f3n\", \"desinformaci\\u00f3n\", \"desmentir\", \"desmentir\", \"desmentir\", \"detalle\", \"detalle\", \"detalle\", \"detenido\", \"dicho\", \"dicho\", \"dicho\", \"difundir\", \"difundir\", \"difusi\\u00f3n\", \"difusi\\u00f3n\", \"diputado\", \"diputado\", \"director\", \"director\", \"director\", \"disponible\", \"disponible\", \"donald\", \"donald\", \"elecci\\u00f3n\", \"elecci\\u00f3n\", \"electoral\", \"electoral\", \"empresa\", \"empresa\", \"enfermedad\", \"enfermedad\", \"enfermedad\", \"entregado\", \"entrevista\", \"entrevista\", \"entrevista\", \"err\\u00f3neo\", \"err\\u00f3neo\", \"estadounidense\", \"estadounidense\", \"facebook\", \"facebook\", \"fact\", \"fake\", \"fake\", \"fakenews\", \"falso\", \"falso\", \"falso\", \"fiscal\", \"fiscal\", \"fiscal\\u00eda\", \"frente\", \"fuerza\", \"general\", \"general\", \"general\", \"gobierno\", \"gobierno\", \"gobierno\", \"grupo\", \"grupo\", \"haber\", \"haber\", \"hecho\", \"hecho\", \"hecho\", \"humanos\", \"humanos\", \"imagen\", \"imagen\", \"imagen\", \"informaci\\u00f3n\", \"informaci\\u00f3n\", \"internacional\", \"internacional\", \"internet\", \"internet\", \"investigaci\\u00f3n\", \"investigaci\\u00f3n\", \"investigaci\\u00f3n\", \"jadue\", \"joven\", \"joven\", \"kast\", \"kast\", \"leer\", \"leer\", \"leer\", \"ley\", \"ley\", \"link\", \"link\", \"lugar\", \"lugar\", \"medio\", \"medio\", \"mensaje\", \"mensaje\", \"mensaje\", \"mes\", \"mes\", \"mes\", \"mill\\u00f3n\", \"mill\\u00f3n\", \"ministerio\", \"ministerio\", \"ministro\", \"ministro\", \"mivoz\", \"mujer\", \"mujer\", \"mundial\", \"mundial\", \"mundo\", \"mundo\", \"nacional\", \"nacional\", \"nacional\", \"new\", \"new\", \"news\", \"news\", \"nicol\\u00e1s\", \"noticia\", \"noticia\", \"noticia\", \"orden\", \"pandemia\", \"pandemia\", \"parlamentario\", \"parlamentario\", \"parlamentario\", \"partido\", \"partido\", \"pa\\u00eds\", \"pa\\u00eds\", \"pa\\u00eds\", \"penal\", \"periodismo\", \"periodismo\", \"periodismo\", \"persona\", \"persona\", \"persona\", \"plataforma\", \"plataforma\", \"pol\\u00edtica\", \"pol\\u00edtica\", \"pol\\u00edtico\", \"pol\\u00edtico\", \"pol\\u00edtico\", \"presidencia\", \"presidencia\", \"presidencial\", \"presidencial\", \"presidenta\", \"presidenta\", \"presidente\", \"presidente\", \"privado\", \"privado\", \"publicar\", \"publicar\", \"publicar\", \"p\\u00e1gina\", \"p\\u00e1gina\", \"p\\u00e1gina\", \"p\\u00fablico\", \"p\\u00fablico\", \"real\", \"real\", \"real\", \"red\", \"red\", \"red\", \"reducir\", \"republicano\", \"responsabilidad\", \"responsabilidad\", \"salir\", \"salir\", \"salir\", \"salud\", \"salud\", \"sector\", \"sector\", \"senador\", \"servel\", \"se\\u00f1alar\", \"se\\u00f1alar\", \"se\\u00f1alar\", \"situaci\\u00f3n\", \"situaci\\u00f3n\", \"situaci\\u00f3n\", \"social\", \"social\", \"social\", \"suprema\", \"the\", \"the\", \"the\", \"tiempo\", \"tiempo\", \"tiempo\", \"times\", \"trabajador\", \"trabajador\", \"trabajo\", \"trabajo\", \"trabajo\", \"tribunal\", \"trump\", \"unidos\", \"unidos\", \"unidos\", \"universidad\", \"universidad\", \"usuario\", \"usuario\", \"vacuna\", \"video\", \"video\", \"video\", \"virus\", \"vivir\", \"vivir\", \"vivir\", \"v\\u00edctima\", \"\\u00e9l\", \"\\u00e9l\", \"\\u00e9l\"]}, \"R\": 30, \"lambda.step\": 0.01, \"plot.opts\": {\"xlab\": \"PC1\", \"ylab\": \"PC2\"}, \"topic.order\": [3, 1, 2]};\n",
       "\n",
       "function LDAvis_load_lib(url, callback){\n",
       "  var s = document.createElement('script');\n",
       "  s.src = url;\n",
       "  s.async = true;\n",
       "  s.onreadystatechange = s.onload = callback;\n",
       "  s.onerror = function(){console.warn(\"failed to load library \" + url);};\n",
       "  document.getElementsByTagName(\"head\")[0].appendChild(s);\n",
       "}\n",
       "\n",
       "if(typeof(LDAvis) !== \"undefined\"){\n",
       "   // already loaded: just create the visualization\n",
       "   !function(LDAvis){\n",
       "       new LDAvis(\"#\" + \"ldavis_el428631398224485718567054700476\", ldavis_el428631398224485718567054700476_data);\n",
       "   }(LDAvis);\n",
       "}else if(typeof define === \"function\" && define.amd){\n",
       "   // require.js is available: use it to load d3/LDAvis\n",
       "   require.config({paths: {d3: \"https://d3js.org/d3.v5\"}});\n",
       "   require([\"d3\"], function(d3){\n",
       "      window.d3 = d3;\n",
       "      LDAvis_load_lib(\"https://cdn.jsdelivr.net/gh/bmabey/pyLDAvis@3.3.1/pyLDAvis/js/ldavis.v3.0.0.js\", function(){\n",
       "        new LDAvis(\"#\" + \"ldavis_el428631398224485718567054700476\", ldavis_el428631398224485718567054700476_data);\n",
       "      });\n",
       "    });\n",
       "}else{\n",
       "    // require.js not available: dynamically load d3 & LDAvis\n",
       "    LDAvis_load_lib(\"https://d3js.org/d3.v5.js\", function(){\n",
       "         LDAvis_load_lib(\"https://cdn.jsdelivr.net/gh/bmabey/pyLDAvis@3.3.1/pyLDAvis/js/ldavis.v3.0.0.js\", function(){\n",
       "                 new LDAvis(\"#\" + \"ldavis_el428631398224485718567054700476\", ldavis_el428631398224485718567054700476_data);\n",
       "            })\n",
       "         });\n",
       "}\n",
       "</script>"
      ],
      "text/plain": [
       "<IPython.core.display.HTML object>"
      ]
     },
     "execution_count": 16,
     "metadata": {},
     "output_type": "execute_result"
    }
   ],
   "source": [
    "import pyLDAvis\n",
    "prepared = pyLDAvis.prepare(doc_lengths = doc_l,\n",
    "                        vocab = diccionario,\n",
    "                        term_frequency = term_f,\n",
    "                        topic_term_dists = dist_topic,\n",
    "                        doc_topic_dists = dist_doc)\n",
    "pyLDAvis.display(prepared)"
   ]
  },
  {
   "cell_type": "code",
   "execution_count": 18,
   "metadata": {},
   "outputs": [
    {
     "name": "stdout",
     "output_type": "stream",
     "text": [
      "0.09516610729985647\n",
      "0.9866666666666667\n",
      "698.7\n"
     ]
    },
    {
     "name": "stderr",
     "output_type": "stream",
     "text": [
      "/home/eliana/anaconda3/envs/etmEnv/lib/python3.7/site-packages/past/builtins/misc.py:45: DeprecationWarning: the imp module is deprecated in favour of importlib; see the module's documentation for alternative uses\n",
      "  from imp import reload\n",
      "/home/eliana/anaconda3/envs/etmEnv/lib/python3.7/site-packages/sklearn/linear_model/_least_angle.py:34: DeprecationWarning: `np.float` is a deprecated alias for the builtin `float`. To silence this warning, use `float` by itself. Doing this will not modify any behavior and is safe. If you specifically wanted the numpy scalar type, use `np.float64` here.\n",
      "Deprecated in NumPy 1.20; for more details and guidance: https://numpy.org/devdocs/release/1.20.0-notes.html#deprecations\n",
      "  method='lar', copy_X=True, eps=np.finfo(np.float).eps,\n",
      "/home/eliana/anaconda3/envs/etmEnv/lib/python3.7/site-packages/sklearn/linear_model/_least_angle.py:164: DeprecationWarning: `np.float` is a deprecated alias for the builtin `float`. To silence this warning, use `float` by itself. Doing this will not modify any behavior and is safe. If you specifically wanted the numpy scalar type, use `np.float64` here.\n",
      "Deprecated in NumPy 1.20; for more details and guidance: https://numpy.org/devdocs/release/1.20.0-notes.html#deprecations\n",
      "  method='lar', copy_X=True, eps=np.finfo(np.float).eps,\n",
      "/home/eliana/anaconda3/envs/etmEnv/lib/python3.7/site-packages/sklearn/linear_model/_least_angle.py:281: DeprecationWarning: `np.float` is a deprecated alias for the builtin `float`. To silence this warning, use `float` by itself. Doing this will not modify any behavior and is safe. If you specifically wanted the numpy scalar type, use `np.float64` here.\n",
      "Deprecated in NumPy 1.20; for more details and guidance: https://numpy.org/devdocs/release/1.20.0-notes.html#deprecations\n",
      "  eps=np.finfo(np.float).eps, copy_Gram=True, verbose=0,\n",
      "/home/eliana/anaconda3/envs/etmEnv/lib/python3.7/site-packages/sklearn/linear_model/_least_angle.py:865: DeprecationWarning: `np.float` is a deprecated alias for the builtin `float`. To silence this warning, use `float` by itself. Doing this will not modify any behavior and is safe. If you specifically wanted the numpy scalar type, use `np.float64` here.\n",
      "Deprecated in NumPy 1.20; for more details and guidance: https://numpy.org/devdocs/release/1.20.0-notes.html#deprecations\n",
      "  eps=np.finfo(np.float).eps, copy_X=True, fit_path=True,\n",
      "/home/eliana/anaconda3/envs/etmEnv/lib/python3.7/site-packages/sklearn/linear_model/_least_angle.py:1121: DeprecationWarning: `np.float` is a deprecated alias for the builtin `float`. To silence this warning, use `float` by itself. Doing this will not modify any behavior and is safe. If you specifically wanted the numpy scalar type, use `np.float64` here.\n",
      "Deprecated in NumPy 1.20; for more details and guidance: https://numpy.org/devdocs/release/1.20.0-notes.html#deprecations\n",
      "  eps=np.finfo(np.float).eps, copy_X=True, fit_path=True,\n",
      "/home/eliana/anaconda3/envs/etmEnv/lib/python3.7/site-packages/sklearn/linear_model/_least_angle.py:1149: DeprecationWarning: `np.float` is a deprecated alias for the builtin `float`. To silence this warning, use `float` by itself. Doing this will not modify any behavior and is safe. If you specifically wanted the numpy scalar type, use `np.float64` here.\n",
      "Deprecated in NumPy 1.20; for more details and guidance: https://numpy.org/devdocs/release/1.20.0-notes.html#deprecations\n",
      "  eps=np.finfo(np.float).eps, positive=False):\n",
      "/home/eliana/anaconda3/envs/etmEnv/lib/python3.7/site-packages/sklearn/linear_model/_least_angle.py:1379: DeprecationWarning: `np.float` is a deprecated alias for the builtin `float`. To silence this warning, use `float` by itself. Doing this will not modify any behavior and is safe. If you specifically wanted the numpy scalar type, use `np.float64` here.\n",
      "Deprecated in NumPy 1.20; for more details and guidance: https://numpy.org/devdocs/release/1.20.0-notes.html#deprecations\n",
      "  max_n_alphas=1000, n_jobs=None, eps=np.finfo(np.float).eps,\n",
      "/home/eliana/anaconda3/envs/etmEnv/lib/python3.7/site-packages/sklearn/linear_model/_least_angle.py:1621: DeprecationWarning: `np.float` is a deprecated alias for the builtin `float`. To silence this warning, use `float` by itself. Doing this will not modify any behavior and is safe. If you specifically wanted the numpy scalar type, use `np.float64` here.\n",
      "Deprecated in NumPy 1.20; for more details and guidance: https://numpy.org/devdocs/release/1.20.0-notes.html#deprecations\n",
      "  max_n_alphas=1000, n_jobs=None, eps=np.finfo(np.float).eps,\n",
      "/home/eliana/anaconda3/envs/etmEnv/lib/python3.7/site-packages/sklearn/linear_model/_least_angle.py:1755: DeprecationWarning: `np.float` is a deprecated alias for the builtin `float`. To silence this warning, use `float` by itself. Doing this will not modify any behavior and is safe. If you specifically wanted the numpy scalar type, use `np.float64` here.\n",
      "Deprecated in NumPy 1.20; for more details and guidance: https://numpy.org/devdocs/release/1.20.0-notes.html#deprecations\n",
      "  eps=np.finfo(np.float).eps, copy_X=True, positive=False):\n",
      "/home/eliana/anaconda3/envs/etmEnv/lib/python3.7/site-packages/sklearn/decomposition/_lda.py:28: DeprecationWarning: `np.float` is a deprecated alias for the builtin `float`. To silence this warning, use `float` by itself. Doing this will not modify any behavior and is safe. If you specifically wanted the numpy scalar type, use `np.float64` here.\n",
      "Deprecated in NumPy 1.20; for more details and guidance: https://numpy.org/devdocs/release/1.20.0-notes.html#deprecations\n",
      "  EPS = np.finfo(np.float).eps\n",
      "/home/eliana/anaconda3/envs/etmEnv/lib/python3.7/site-packages/past/builtins/misc.py:45: DeprecationWarning: the imp module is deprecated in favour of importlib; see the module's documentation for alternative uses\n",
      "  from imp import reload\n",
      "/home/eliana/anaconda3/envs/etmEnv/lib/python3.7/site-packages/sklearn/linear_model/_least_angle.py:34: DeprecationWarning: `np.float` is a deprecated alias for the builtin `float`. To silence this warning, use `float` by itself. Doing this will not modify any behavior and is safe. If you specifically wanted the numpy scalar type, use `np.float64` here.\n",
      "Deprecated in NumPy 1.20; for more details and guidance: https://numpy.org/devdocs/release/1.20.0-notes.html#deprecations\n",
      "  method='lar', copy_X=True, eps=np.finfo(np.float).eps,\n",
      "/home/eliana/anaconda3/envs/etmEnv/lib/python3.7/site-packages/sklearn/linear_model/_least_angle.py:164: DeprecationWarning: `np.float` is a deprecated alias for the builtin `float`. To silence this warning, use `float` by itself. Doing this will not modify any behavior and is safe. If you specifically wanted the numpy scalar type, use `np.float64` here.\n",
      "Deprecated in NumPy 1.20; for more details and guidance: https://numpy.org/devdocs/release/1.20.0-notes.html#deprecations\n",
      "  method='lar', copy_X=True, eps=np.finfo(np.float).eps,\n",
      "/home/eliana/anaconda3/envs/etmEnv/lib/python3.7/site-packages/sklearn/linear_model/_least_angle.py:281: DeprecationWarning: `np.float` is a deprecated alias for the builtin `float`. To silence this warning, use `float` by itself. Doing this will not modify any behavior and is safe. If you specifically wanted the numpy scalar type, use `np.float64` here.\n",
      "Deprecated in NumPy 1.20; for more details and guidance: https://numpy.org/devdocs/release/1.20.0-notes.html#deprecations\n",
      "  eps=np.finfo(np.float).eps, copy_Gram=True, verbose=0,\n",
      "/home/eliana/anaconda3/envs/etmEnv/lib/python3.7/site-packages/sklearn/linear_model/_least_angle.py:865: DeprecationWarning: `np.float` is a deprecated alias for the builtin `float`. To silence this warning, use `float` by itself. Doing this will not modify any behavior and is safe. If you specifically wanted the numpy scalar type, use `np.float64` here.\n",
      "Deprecated in NumPy 1.20; for more details and guidance: https://numpy.org/devdocs/release/1.20.0-notes.html#deprecations\n",
      "  eps=np.finfo(np.float).eps, copy_X=True, fit_path=True,\n",
      "/home/eliana/anaconda3/envs/etmEnv/lib/python3.7/site-packages/sklearn/linear_model/_least_angle.py:1121: DeprecationWarning: `np.float` is a deprecated alias for the builtin `float`. To silence this warning, use `float` by itself. Doing this will not modify any behavior and is safe. If you specifically wanted the numpy scalar type, use `np.float64` here.\n",
      "Deprecated in NumPy 1.20; for more details and guidance: https://numpy.org/devdocs/release/1.20.0-notes.html#deprecations\n",
      "  eps=np.finfo(np.float).eps, copy_X=True, fit_path=True,\n",
      "/home/eliana/anaconda3/envs/etmEnv/lib/python3.7/site-packages/sklearn/linear_model/_least_angle.py:1149: DeprecationWarning: `np.float` is a deprecated alias for the builtin `float`. To silence this warning, use `float` by itself. Doing this will not modify any behavior and is safe. If you specifically wanted the numpy scalar type, use `np.float64` here.\n",
      "Deprecated in NumPy 1.20; for more details and guidance: https://numpy.org/devdocs/release/1.20.0-notes.html#deprecations\n",
      "  eps=np.finfo(np.float).eps, positive=False):\n",
      "/home/eliana/anaconda3/envs/etmEnv/lib/python3.7/site-packages/sklearn/linear_model/_least_angle.py:1379: DeprecationWarning: `np.float` is a deprecated alias for the builtin `float`. To silence this warning, use `float` by itself. Doing this will not modify any behavior and is safe. If you specifically wanted the numpy scalar type, use `np.float64` here.\n",
      "Deprecated in NumPy 1.20; for more details and guidance: https://numpy.org/devdocs/release/1.20.0-notes.html#deprecations\n",
      "  max_n_alphas=1000, n_jobs=None, eps=np.finfo(np.float).eps,\n",
      "/home/eliana/anaconda3/envs/etmEnv/lib/python3.7/site-packages/sklearn/linear_model/_least_angle.py:1621: DeprecationWarning: `np.float` is a deprecated alias for the builtin `float`. To silence this warning, use `float` by itself. Doing this will not modify any behavior and is safe. If you specifically wanted the numpy scalar type, use `np.float64` here.\n",
      "Deprecated in NumPy 1.20; for more details and guidance: https://numpy.org/devdocs/release/1.20.0-notes.html#deprecations\n",
      "  max_n_alphas=1000, n_jobs=None, eps=np.finfo(np.float).eps,\n",
      "/home/eliana/anaconda3/envs/etmEnv/lib/python3.7/site-packages/sklearn/linear_model/_least_angle.py:1755: DeprecationWarning: `np.float` is a deprecated alias for the builtin `float`. To silence this warning, use `float` by itself. Doing this will not modify any behavior and is safe. If you specifically wanted the numpy scalar type, use `np.float64` here.\n",
      "Deprecated in NumPy 1.20; for more details and guidance: https://numpy.org/devdocs/release/1.20.0-notes.html#deprecations\n",
      "  eps=np.finfo(np.float).eps, copy_X=True, positive=False):\n",
      "/home/eliana/anaconda3/envs/etmEnv/lib/python3.7/site-packages/sklearn/decomposition/_lda.py:28: DeprecationWarning: `np.float` is a deprecated alias for the builtin `float`. To silence this warning, use `float` by itself. Doing this will not modify any behavior and is safe. If you specifically wanted the numpy scalar type, use `np.float64` here.\n",
      "Deprecated in NumPy 1.20; for more details and guidance: https://numpy.org/devdocs/release/1.20.0-notes.html#deprecations\n",
      "  EPS = np.finfo(np.float).eps\n"
     ]
    },
    {
     "name": "stderr",
     "output_type": "stream",
     "text": [
      "/home/eliana/anaconda3/envs/etmEnv/lib/python3.7/site-packages/past/builtins/misc.py:45: DeprecationWarning: the imp module is deprecated in favour of importlib; see the module's documentation for alternative uses\n",
      "  from imp import reload\n",
      "/home/eliana/anaconda3/envs/etmEnv/lib/python3.7/site-packages/sklearn/linear_model/_least_angle.py:34: DeprecationWarning: `np.float` is a deprecated alias for the builtin `float`. To silence this warning, use `float` by itself. Doing this will not modify any behavior and is safe. If you specifically wanted the numpy scalar type, use `np.float64` here.\n",
      "Deprecated in NumPy 1.20; for more details and guidance: https://numpy.org/devdocs/release/1.20.0-notes.html#deprecations\n",
      "  method='lar', copy_X=True, eps=np.finfo(np.float).eps,\n",
      "/home/eliana/anaconda3/envs/etmEnv/lib/python3.7/site-packages/sklearn/linear_model/_least_angle.py:164: DeprecationWarning: `np.float` is a deprecated alias for the builtin `float`. To silence this warning, use `float` by itself. Doing this will not modify any behavior and is safe. If you specifically wanted the numpy scalar type, use `np.float64` here.\n",
      "Deprecated in NumPy 1.20; for more details and guidance: https://numpy.org/devdocs/release/1.20.0-notes.html#deprecations\n",
      "  method='lar', copy_X=True, eps=np.finfo(np.float).eps,\n",
      "/home/eliana/anaconda3/envs/etmEnv/lib/python3.7/site-packages/sklearn/linear_model/_least_angle.py:281: DeprecationWarning: `np.float` is a deprecated alias for the builtin `float`. To silence this warning, use `float` by itself. Doing this will not modify any behavior and is safe. If you specifically wanted the numpy scalar type, use `np.float64` here.\n",
      "Deprecated in NumPy 1.20; for more details and guidance: https://numpy.org/devdocs/release/1.20.0-notes.html#deprecations\n",
      "  eps=np.finfo(np.float).eps, copy_Gram=True, verbose=0,\n",
      "/home/eliana/anaconda3/envs/etmEnv/lib/python3.7/site-packages/sklearn/linear_model/_least_angle.py:865: DeprecationWarning: `np.float` is a deprecated alias for the builtin `float`. To silence this warning, use `float` by itself. Doing this will not modify any behavior and is safe. If you specifically wanted the numpy scalar type, use `np.float64` here.\n",
      "Deprecated in NumPy 1.20; for more details and guidance: https://numpy.org/devdocs/release/1.20.0-notes.html#deprecations\n",
      "  eps=np.finfo(np.float).eps, copy_X=True, fit_path=True,\n",
      "/home/eliana/anaconda3/envs/etmEnv/lib/python3.7/site-packages/sklearn/linear_model/_least_angle.py:1121: DeprecationWarning: `np.float` is a deprecated alias for the builtin `float`. To silence this warning, use `float` by itself. Doing this will not modify any behavior and is safe. If you specifically wanted the numpy scalar type, use `np.float64` here.\n",
      "Deprecated in NumPy 1.20; for more details and guidance: https://numpy.org/devdocs/release/1.20.0-notes.html#deprecations\n",
      "  eps=np.finfo(np.float).eps, copy_X=True, fit_path=True,\n",
      "/home/eliana/anaconda3/envs/etmEnv/lib/python3.7/site-packages/sklearn/linear_model/_least_angle.py:1149: DeprecationWarning: `np.float` is a deprecated alias for the builtin `float`. To silence this warning, use `float` by itself. Doing this will not modify any behavior and is safe. If you specifically wanted the numpy scalar type, use `np.float64` here.\n",
      "Deprecated in NumPy 1.20; for more details and guidance: https://numpy.org/devdocs/release/1.20.0-notes.html#deprecations\n",
      "  eps=np.finfo(np.float).eps, positive=False):\n",
      "/home/eliana/anaconda3/envs/etmEnv/lib/python3.7/site-packages/sklearn/linear_model/_least_angle.py:1379: DeprecationWarning: `np.float` is a deprecated alias for the builtin `float`. To silence this warning, use `float` by itself. Doing this will not modify any behavior and is safe. If you specifically wanted the numpy scalar type, use `np.float64` here.\n",
      "Deprecated in NumPy 1.20; for more details and guidance: https://numpy.org/devdocs/release/1.20.0-notes.html#deprecations\n",
      "  max_n_alphas=1000, n_jobs=None, eps=np.finfo(np.float).eps,\n",
      "/home/eliana/anaconda3/envs/etmEnv/lib/python3.7/site-packages/sklearn/linear_model/_least_angle.py:1621: DeprecationWarning: `np.float` is a deprecated alias for the builtin `float`. To silence this warning, use `float` by itself. Doing this will not modify any behavior and is safe. If you specifically wanted the numpy scalar type, use `np.float64` here.\n",
      "Deprecated in NumPy 1.20; for more details and guidance: https://numpy.org/devdocs/release/1.20.0-notes.html#deprecations\n",
      "  max_n_alphas=1000, n_jobs=None, eps=np.finfo(np.float).eps,\n",
      "/home/eliana/anaconda3/envs/etmEnv/lib/python3.7/site-packages/sklearn/linear_model/_least_angle.py:1755: DeprecationWarning: `np.float` is a deprecated alias for the builtin `float`. To silence this warning, use `float` by itself. Doing this will not modify any behavior and is safe. If you specifically wanted the numpy scalar type, use `np.float64` here.\n",
      "Deprecated in NumPy 1.20; for more details and guidance: https://numpy.org/devdocs/release/1.20.0-notes.html#deprecations\n",
      "  eps=np.finfo(np.float).eps, copy_X=True, positive=False):\n",
      "/home/eliana/anaconda3/envs/etmEnv/lib/python3.7/site-packages/sklearn/decomposition/_lda.py:28: DeprecationWarning: `np.float` is a deprecated alias for the builtin `float`. To silence this warning, use `float` by itself. Doing this will not modify any behavior and is safe. If you specifically wanted the numpy scalar type, use `np.float64` here.\n",
      "Deprecated in NumPy 1.20; for more details and guidance: https://numpy.org/devdocs/release/1.20.0-notes.html#deprecations\n",
      "  EPS = np.finfo(np.float).eps\n",
      "/home/eliana/anaconda3/envs/etmEnv/lib/python3.7/site-packages/past/builtins/misc.py:45: DeprecationWarning: the imp module is deprecated in favour of importlib; see the module's documentation for alternative uses\n",
      "  from imp import reload\n",
      "/home/eliana/anaconda3/envs/etmEnv/lib/python3.7/site-packages/sklearn/linear_model/_least_angle.py:34: DeprecationWarning: `np.float` is a deprecated alias for the builtin `float`. To silence this warning, use `float` by itself. Doing this will not modify any behavior and is safe. If you specifically wanted the numpy scalar type, use `np.float64` here.\n",
      "Deprecated in NumPy 1.20; for more details and guidance: https://numpy.org/devdocs/release/1.20.0-notes.html#deprecations\n",
      "  method='lar', copy_X=True, eps=np.finfo(np.float).eps,\n",
      "/home/eliana/anaconda3/envs/etmEnv/lib/python3.7/site-packages/sklearn/linear_model/_least_angle.py:164: DeprecationWarning: `np.float` is a deprecated alias for the builtin `float`. To silence this warning, use `float` by itself. Doing this will not modify any behavior and is safe. If you specifically wanted the numpy scalar type, use `np.float64` here.\n",
      "Deprecated in NumPy 1.20; for more details and guidance: https://numpy.org/devdocs/release/1.20.0-notes.html#deprecations\n",
      "  method='lar', copy_X=True, eps=np.finfo(np.float).eps,\n",
      "/home/eliana/anaconda3/envs/etmEnv/lib/python3.7/site-packages/sklearn/linear_model/_least_angle.py:281: DeprecationWarning: `np.float` is a deprecated alias for the builtin `float`. To silence this warning, use `float` by itself. Doing this will not modify any behavior and is safe. If you specifically wanted the numpy scalar type, use `np.float64` here.\n",
      "Deprecated in NumPy 1.20; for more details and guidance: https://numpy.org/devdocs/release/1.20.0-notes.html#deprecations\n",
      "  eps=np.finfo(np.float).eps, copy_Gram=True, verbose=0,\n",
      "/home/eliana/anaconda3/envs/etmEnv/lib/python3.7/site-packages/sklearn/linear_model/_least_angle.py:865: DeprecationWarning: `np.float` is a deprecated alias for the builtin `float`. To silence this warning, use `float` by itself. Doing this will not modify any behavior and is safe. If you specifically wanted the numpy scalar type, use `np.float64` here.\n",
      "Deprecated in NumPy 1.20; for more details and guidance: https://numpy.org/devdocs/release/1.20.0-notes.html#deprecations\n",
      "  eps=np.finfo(np.float).eps, copy_X=True, fit_path=True,\n",
      "/home/eliana/anaconda3/envs/etmEnv/lib/python3.7/site-packages/sklearn/linear_model/_least_angle.py:1121: DeprecationWarning: `np.float` is a deprecated alias for the builtin `float`. To silence this warning, use `float` by itself. Doing this will not modify any behavior and is safe. If you specifically wanted the numpy scalar type, use `np.float64` here.\n",
      "Deprecated in NumPy 1.20; for more details and guidance: https://numpy.org/devdocs/release/1.20.0-notes.html#deprecations\n",
      "  eps=np.finfo(np.float).eps, copy_X=True, fit_path=True,\n",
      "/home/eliana/anaconda3/envs/etmEnv/lib/python3.7/site-packages/sklearn/linear_model/_least_angle.py:1149: DeprecationWarning: `np.float` is a deprecated alias for the builtin `float`. To silence this warning, use `float` by itself. Doing this will not modify any behavior and is safe. If you specifically wanted the numpy scalar type, use `np.float64` here.\n",
      "Deprecated in NumPy 1.20; for more details and guidance: https://numpy.org/devdocs/release/1.20.0-notes.html#deprecations\n",
      "  eps=np.finfo(np.float).eps, positive=False):\n",
      "/home/eliana/anaconda3/envs/etmEnv/lib/python3.7/site-packages/sklearn/linear_model/_least_angle.py:1379: DeprecationWarning: `np.float` is a deprecated alias for the builtin `float`. To silence this warning, use `float` by itself. Doing this will not modify any behavior and is safe. If you specifically wanted the numpy scalar type, use `np.float64` here.\n",
      "Deprecated in NumPy 1.20; for more details and guidance: https://numpy.org/devdocs/release/1.20.0-notes.html#deprecations\n",
      "  max_n_alphas=1000, n_jobs=None, eps=np.finfo(np.float).eps,\n",
      "/home/eliana/anaconda3/envs/etmEnv/lib/python3.7/site-packages/sklearn/linear_model/_least_angle.py:1621: DeprecationWarning: `np.float` is a deprecated alias for the builtin `float`. To silence this warning, use `float` by itself. Doing this will not modify any behavior and is safe. If you specifically wanted the numpy scalar type, use `np.float64` here.\n",
      "Deprecated in NumPy 1.20; for more details and guidance: https://numpy.org/devdocs/release/1.20.0-notes.html#deprecations\n",
      "  max_n_alphas=1000, n_jobs=None, eps=np.finfo(np.float).eps,\n",
      "/home/eliana/anaconda3/envs/etmEnv/lib/python3.7/site-packages/sklearn/linear_model/_least_angle.py:1755: DeprecationWarning: `np.float` is a deprecated alias for the builtin `float`. To silence this warning, use `float` by itself. Doing this will not modify any behavior and is safe. If you specifically wanted the numpy scalar type, use `np.float64` here.\n",
      "Deprecated in NumPy 1.20; for more details and guidance: https://numpy.org/devdocs/release/1.20.0-notes.html#deprecations\n",
      "  eps=np.finfo(np.float).eps, copy_X=True, positive=False):\n",
      "/home/eliana/anaconda3/envs/etmEnv/lib/python3.7/site-packages/sklearn/decomposition/_lda.py:28: DeprecationWarning: `np.float` is a deprecated alias for the builtin `float`. To silence this warning, use `float` by itself. Doing this will not modify any behavior and is safe. If you specifically wanted the numpy scalar type, use `np.float64` here.\n",
      "Deprecated in NumPy 1.20; for more details and guidance: https://numpy.org/devdocs/release/1.20.0-notes.html#deprecations\n",
      "  EPS = np.finfo(np.float).eps\n"
     ]
    },
    {
     "name": "stderr",
     "output_type": "stream",
     "text": [
      "/home/eliana/anaconda3/envs/etmEnv/lib/python3.7/site-packages/past/builtins/misc.py:45: DeprecationWarning: the imp module is deprecated in favour of importlib; see the module's documentation for alternative uses\n",
      "  from imp import reload\n",
      "/home/eliana/anaconda3/envs/etmEnv/lib/python3.7/site-packages/sklearn/linear_model/_least_angle.py:34: DeprecationWarning: `np.float` is a deprecated alias for the builtin `float`. To silence this warning, use `float` by itself. Doing this will not modify any behavior and is safe. If you specifically wanted the numpy scalar type, use `np.float64` here.\n",
      "Deprecated in NumPy 1.20; for more details and guidance: https://numpy.org/devdocs/release/1.20.0-notes.html#deprecations\n",
      "  method='lar', copy_X=True, eps=np.finfo(np.float).eps,\n",
      "/home/eliana/anaconda3/envs/etmEnv/lib/python3.7/site-packages/sklearn/linear_model/_least_angle.py:164: DeprecationWarning: `np.float` is a deprecated alias for the builtin `float`. To silence this warning, use `float` by itself. Doing this will not modify any behavior and is safe. If you specifically wanted the numpy scalar type, use `np.float64` here.\n",
      "Deprecated in NumPy 1.20; for more details and guidance: https://numpy.org/devdocs/release/1.20.0-notes.html#deprecations\n",
      "  method='lar', copy_X=True, eps=np.finfo(np.float).eps,\n",
      "/home/eliana/anaconda3/envs/etmEnv/lib/python3.7/site-packages/sklearn/linear_model/_least_angle.py:281: DeprecationWarning: `np.float` is a deprecated alias for the builtin `float`. To silence this warning, use `float` by itself. Doing this will not modify any behavior and is safe. If you specifically wanted the numpy scalar type, use `np.float64` here.\n",
      "Deprecated in NumPy 1.20; for more details and guidance: https://numpy.org/devdocs/release/1.20.0-notes.html#deprecations\n",
      "  eps=np.finfo(np.float).eps, copy_Gram=True, verbose=0,\n",
      "/home/eliana/anaconda3/envs/etmEnv/lib/python3.7/site-packages/sklearn/linear_model/_least_angle.py:865: DeprecationWarning: `np.float` is a deprecated alias for the builtin `float`. To silence this warning, use `float` by itself. Doing this will not modify any behavior and is safe. If you specifically wanted the numpy scalar type, use `np.float64` here.\n",
      "Deprecated in NumPy 1.20; for more details and guidance: https://numpy.org/devdocs/release/1.20.0-notes.html#deprecations\n",
      "  eps=np.finfo(np.float).eps, copy_X=True, fit_path=True,\n",
      "/home/eliana/anaconda3/envs/etmEnv/lib/python3.7/site-packages/sklearn/linear_model/_least_angle.py:1121: DeprecationWarning: `np.float` is a deprecated alias for the builtin `float`. To silence this warning, use `float` by itself. Doing this will not modify any behavior and is safe. If you specifically wanted the numpy scalar type, use `np.float64` here.\n",
      "Deprecated in NumPy 1.20; for more details and guidance: https://numpy.org/devdocs/release/1.20.0-notes.html#deprecations\n",
      "  eps=np.finfo(np.float).eps, copy_X=True, fit_path=True,\n",
      "/home/eliana/anaconda3/envs/etmEnv/lib/python3.7/site-packages/sklearn/linear_model/_least_angle.py:1149: DeprecationWarning: `np.float` is a deprecated alias for the builtin `float`. To silence this warning, use `float` by itself. Doing this will not modify any behavior and is safe. If you specifically wanted the numpy scalar type, use `np.float64` here.\n",
      "Deprecated in NumPy 1.20; for more details and guidance: https://numpy.org/devdocs/release/1.20.0-notes.html#deprecations\n",
      "  eps=np.finfo(np.float).eps, positive=False):\n",
      "/home/eliana/anaconda3/envs/etmEnv/lib/python3.7/site-packages/sklearn/linear_model/_least_angle.py:1379: DeprecationWarning: `np.float` is a deprecated alias for the builtin `float`. To silence this warning, use `float` by itself. Doing this will not modify any behavior and is safe. If you specifically wanted the numpy scalar type, use `np.float64` here.\n",
      "Deprecated in NumPy 1.20; for more details and guidance: https://numpy.org/devdocs/release/1.20.0-notes.html#deprecations\n",
      "  max_n_alphas=1000, n_jobs=None, eps=np.finfo(np.float).eps,\n",
      "/home/eliana/anaconda3/envs/etmEnv/lib/python3.7/site-packages/sklearn/linear_model/_least_angle.py:1621: DeprecationWarning: `np.float` is a deprecated alias for the builtin `float`. To silence this warning, use `float` by itself. Doing this will not modify any behavior and is safe. If you specifically wanted the numpy scalar type, use `np.float64` here.\n",
      "Deprecated in NumPy 1.20; for more details and guidance: https://numpy.org/devdocs/release/1.20.0-notes.html#deprecations\n",
      "  max_n_alphas=1000, n_jobs=None, eps=np.finfo(np.float).eps,\n",
      "/home/eliana/anaconda3/envs/etmEnv/lib/python3.7/site-packages/sklearn/linear_model/_least_angle.py:1755: DeprecationWarning: `np.float` is a deprecated alias for the builtin `float`. To silence this warning, use `float` by itself. Doing this will not modify any behavior and is safe. If you specifically wanted the numpy scalar type, use `np.float64` here.\n",
      "Deprecated in NumPy 1.20; for more details and guidance: https://numpy.org/devdocs/release/1.20.0-notes.html#deprecations\n",
      "  eps=np.finfo(np.float).eps, copy_X=True, positive=False):\n",
      "/home/eliana/anaconda3/envs/etmEnv/lib/python3.7/site-packages/sklearn/decomposition/_lda.py:28: DeprecationWarning: `np.float` is a deprecated alias for the builtin `float`. To silence this warning, use `float` by itself. Doing this will not modify any behavior and is safe. If you specifically wanted the numpy scalar type, use `np.float64` here.\n",
      "Deprecated in NumPy 1.20; for more details and guidance: https://numpy.org/devdocs/release/1.20.0-notes.html#deprecations\n",
      "  EPS = np.finfo(np.float).eps\n",
      "/home/eliana/anaconda3/envs/etmEnv/lib/python3.7/site-packages/past/builtins/misc.py:45: DeprecationWarning: the imp module is deprecated in favour of importlib; see the module's documentation for alternative uses\n",
      "  from imp import reload\n",
      "/home/eliana/anaconda3/envs/etmEnv/lib/python3.7/site-packages/sklearn/linear_model/_least_angle.py:34: DeprecationWarning: `np.float` is a deprecated alias for the builtin `float`. To silence this warning, use `float` by itself. Doing this will not modify any behavior and is safe. If you specifically wanted the numpy scalar type, use `np.float64` here.\n",
      "Deprecated in NumPy 1.20; for more details and guidance: https://numpy.org/devdocs/release/1.20.0-notes.html#deprecations\n",
      "  method='lar', copy_X=True, eps=np.finfo(np.float).eps,\n",
      "/home/eliana/anaconda3/envs/etmEnv/lib/python3.7/site-packages/sklearn/linear_model/_least_angle.py:164: DeprecationWarning: `np.float` is a deprecated alias for the builtin `float`. To silence this warning, use `float` by itself. Doing this will not modify any behavior and is safe. If you specifically wanted the numpy scalar type, use `np.float64` here.\n",
      "Deprecated in NumPy 1.20; for more details and guidance: https://numpy.org/devdocs/release/1.20.0-notes.html#deprecations\n",
      "  method='lar', copy_X=True, eps=np.finfo(np.float).eps,\n",
      "/home/eliana/anaconda3/envs/etmEnv/lib/python3.7/site-packages/sklearn/linear_model/_least_angle.py:281: DeprecationWarning: `np.float` is a deprecated alias for the builtin `float`. To silence this warning, use `float` by itself. Doing this will not modify any behavior and is safe. If you specifically wanted the numpy scalar type, use `np.float64` here.\n",
      "Deprecated in NumPy 1.20; for more details and guidance: https://numpy.org/devdocs/release/1.20.0-notes.html#deprecations\n",
      "  eps=np.finfo(np.float).eps, copy_Gram=True, verbose=0,\n",
      "/home/eliana/anaconda3/envs/etmEnv/lib/python3.7/site-packages/sklearn/linear_model/_least_angle.py:865: DeprecationWarning: `np.float` is a deprecated alias for the builtin `float`. To silence this warning, use `float` by itself. Doing this will not modify any behavior and is safe. If you specifically wanted the numpy scalar type, use `np.float64` here.\n",
      "Deprecated in NumPy 1.20; for more details and guidance: https://numpy.org/devdocs/release/1.20.0-notes.html#deprecations\n",
      "  eps=np.finfo(np.float).eps, copy_X=True, fit_path=True,\n",
      "/home/eliana/anaconda3/envs/etmEnv/lib/python3.7/site-packages/sklearn/linear_model/_least_angle.py:1121: DeprecationWarning: `np.float` is a deprecated alias for the builtin `float`. To silence this warning, use `float` by itself. Doing this will not modify any behavior and is safe. If you specifically wanted the numpy scalar type, use `np.float64` here.\n",
      "Deprecated in NumPy 1.20; for more details and guidance: https://numpy.org/devdocs/release/1.20.0-notes.html#deprecations\n",
      "  eps=np.finfo(np.float).eps, copy_X=True, fit_path=True,\n",
      "/home/eliana/anaconda3/envs/etmEnv/lib/python3.7/site-packages/sklearn/linear_model/_least_angle.py:1149: DeprecationWarning: `np.float` is a deprecated alias for the builtin `float`. To silence this warning, use `float` by itself. Doing this will not modify any behavior and is safe. If you specifically wanted the numpy scalar type, use `np.float64` here.\n",
      "Deprecated in NumPy 1.20; for more details and guidance: https://numpy.org/devdocs/release/1.20.0-notes.html#deprecations\n",
      "  eps=np.finfo(np.float).eps, positive=False):\n",
      "/home/eliana/anaconda3/envs/etmEnv/lib/python3.7/site-packages/sklearn/linear_model/_least_angle.py:1379: DeprecationWarning: `np.float` is a deprecated alias for the builtin `float`. To silence this warning, use `float` by itself. Doing this will not modify any behavior and is safe. If you specifically wanted the numpy scalar type, use `np.float64` here.\n",
      "Deprecated in NumPy 1.20; for more details and guidance: https://numpy.org/devdocs/release/1.20.0-notes.html#deprecations\n",
      "  max_n_alphas=1000, n_jobs=None, eps=np.finfo(np.float).eps,\n",
      "/home/eliana/anaconda3/envs/etmEnv/lib/python3.7/site-packages/sklearn/linear_model/_least_angle.py:1621: DeprecationWarning: `np.float` is a deprecated alias for the builtin `float`. To silence this warning, use `float` by itself. Doing this will not modify any behavior and is safe. If you specifically wanted the numpy scalar type, use `np.float64` here.\n",
      "Deprecated in NumPy 1.20; for more details and guidance: https://numpy.org/devdocs/release/1.20.0-notes.html#deprecations\n",
      "  max_n_alphas=1000, n_jobs=None, eps=np.finfo(np.float).eps,\n",
      "/home/eliana/anaconda3/envs/etmEnv/lib/python3.7/site-packages/sklearn/linear_model/_least_angle.py:1755: DeprecationWarning: `np.float` is a deprecated alias for the builtin `float`. To silence this warning, use `float` by itself. Doing this will not modify any behavior and is safe. If you specifically wanted the numpy scalar type, use `np.float64` here.\n",
      "Deprecated in NumPy 1.20; for more details and guidance: https://numpy.org/devdocs/release/1.20.0-notes.html#deprecations\n",
      "  eps=np.finfo(np.float).eps, copy_X=True, positive=False):\n",
      "/home/eliana/anaconda3/envs/etmEnv/lib/python3.7/site-packages/sklearn/decomposition/_lda.py:28: DeprecationWarning: `np.float` is a deprecated alias for the builtin `float`. To silence this warning, use `float` by itself. Doing this will not modify any behavior and is safe. If you specifically wanted the numpy scalar type, use `np.float64` here.\n",
      "Deprecated in NumPy 1.20; for more details and guidance: https://numpy.org/devdocs/release/1.20.0-notes.html#deprecations\n",
      "  EPS = np.finfo(np.float).eps\n"
     ]
    },
    {
     "name": "stderr",
     "output_type": "stream",
     "text": [
      "/home/eliana/anaconda3/envs/etmEnv/lib/python3.7/site-packages/past/builtins/misc.py:45: DeprecationWarning: the imp module is deprecated in favour of importlib; see the module's documentation for alternative uses\n",
      "  from imp import reload\n",
      "/home/eliana/anaconda3/envs/etmEnv/lib/python3.7/site-packages/sklearn/linear_model/_least_angle.py:34: DeprecationWarning: `np.float` is a deprecated alias for the builtin `float`. To silence this warning, use `float` by itself. Doing this will not modify any behavior and is safe. If you specifically wanted the numpy scalar type, use `np.float64` here.\n",
      "Deprecated in NumPy 1.20; for more details and guidance: https://numpy.org/devdocs/release/1.20.0-notes.html#deprecations\n",
      "  method='lar', copy_X=True, eps=np.finfo(np.float).eps,\n",
      "/home/eliana/anaconda3/envs/etmEnv/lib/python3.7/site-packages/sklearn/linear_model/_least_angle.py:164: DeprecationWarning: `np.float` is a deprecated alias for the builtin `float`. To silence this warning, use `float` by itself. Doing this will not modify any behavior and is safe. If you specifically wanted the numpy scalar type, use `np.float64` here.\n",
      "Deprecated in NumPy 1.20; for more details and guidance: https://numpy.org/devdocs/release/1.20.0-notes.html#deprecations\n",
      "  method='lar', copy_X=True, eps=np.finfo(np.float).eps,\n",
      "/home/eliana/anaconda3/envs/etmEnv/lib/python3.7/site-packages/sklearn/linear_model/_least_angle.py:281: DeprecationWarning: `np.float` is a deprecated alias for the builtin `float`. To silence this warning, use `float` by itself. Doing this will not modify any behavior and is safe. If you specifically wanted the numpy scalar type, use `np.float64` here.\n",
      "Deprecated in NumPy 1.20; for more details and guidance: https://numpy.org/devdocs/release/1.20.0-notes.html#deprecations\n",
      "  eps=np.finfo(np.float).eps, copy_Gram=True, verbose=0,\n",
      "/home/eliana/anaconda3/envs/etmEnv/lib/python3.7/site-packages/sklearn/linear_model/_least_angle.py:865: DeprecationWarning: `np.float` is a deprecated alias for the builtin `float`. To silence this warning, use `float` by itself. Doing this will not modify any behavior and is safe. If you specifically wanted the numpy scalar type, use `np.float64` here.\n",
      "Deprecated in NumPy 1.20; for more details and guidance: https://numpy.org/devdocs/release/1.20.0-notes.html#deprecations\n",
      "  eps=np.finfo(np.float).eps, copy_X=True, fit_path=True,\n",
      "/home/eliana/anaconda3/envs/etmEnv/lib/python3.7/site-packages/sklearn/linear_model/_least_angle.py:1121: DeprecationWarning: `np.float` is a deprecated alias for the builtin `float`. To silence this warning, use `float` by itself. Doing this will not modify any behavior and is safe. If you specifically wanted the numpy scalar type, use `np.float64` here.\n",
      "Deprecated in NumPy 1.20; for more details and guidance: https://numpy.org/devdocs/release/1.20.0-notes.html#deprecations\n",
      "  eps=np.finfo(np.float).eps, copy_X=True, fit_path=True,\n",
      "/home/eliana/anaconda3/envs/etmEnv/lib/python3.7/site-packages/sklearn/linear_model/_least_angle.py:1149: DeprecationWarning: `np.float` is a deprecated alias for the builtin `float`. To silence this warning, use `float` by itself. Doing this will not modify any behavior and is safe. If you specifically wanted the numpy scalar type, use `np.float64` here.\n",
      "Deprecated in NumPy 1.20; for more details and guidance: https://numpy.org/devdocs/release/1.20.0-notes.html#deprecations\n",
      "  eps=np.finfo(np.float).eps, positive=False):\n",
      "/home/eliana/anaconda3/envs/etmEnv/lib/python3.7/site-packages/sklearn/linear_model/_least_angle.py:1379: DeprecationWarning: `np.float` is a deprecated alias for the builtin `float`. To silence this warning, use `float` by itself. Doing this will not modify any behavior and is safe. If you specifically wanted the numpy scalar type, use `np.float64` here.\n",
      "Deprecated in NumPy 1.20; for more details and guidance: https://numpy.org/devdocs/release/1.20.0-notes.html#deprecations\n",
      "  max_n_alphas=1000, n_jobs=None, eps=np.finfo(np.float).eps,\n",
      "/home/eliana/anaconda3/envs/etmEnv/lib/python3.7/site-packages/sklearn/linear_model/_least_angle.py:1621: DeprecationWarning: `np.float` is a deprecated alias for the builtin `float`. To silence this warning, use `float` by itself. Doing this will not modify any behavior and is safe. If you specifically wanted the numpy scalar type, use `np.float64` here.\n",
      "Deprecated in NumPy 1.20; for more details and guidance: https://numpy.org/devdocs/release/1.20.0-notes.html#deprecations\n",
      "  max_n_alphas=1000, n_jobs=None, eps=np.finfo(np.float).eps,\n",
      "/home/eliana/anaconda3/envs/etmEnv/lib/python3.7/site-packages/sklearn/linear_model/_least_angle.py:1755: DeprecationWarning: `np.float` is a deprecated alias for the builtin `float`. To silence this warning, use `float` by itself. Doing this will not modify any behavior and is safe. If you specifically wanted the numpy scalar type, use `np.float64` here.\n",
      "Deprecated in NumPy 1.20; for more details and guidance: https://numpy.org/devdocs/release/1.20.0-notes.html#deprecations\n",
      "  eps=np.finfo(np.float).eps, copy_X=True, positive=False):\n",
      "/home/eliana/anaconda3/envs/etmEnv/lib/python3.7/site-packages/sklearn/decomposition/_lda.py:28: DeprecationWarning: `np.float` is a deprecated alias for the builtin `float`. To silence this warning, use `float` by itself. Doing this will not modify any behavior and is safe. If you specifically wanted the numpy scalar type, use `np.float64` here.\n",
      "Deprecated in NumPy 1.20; for more details and guidance: https://numpy.org/devdocs/release/1.20.0-notes.html#deprecations\n",
      "  EPS = np.finfo(np.float).eps\n",
      "/home/eliana/anaconda3/envs/etmEnv/lib/python3.7/site-packages/past/builtins/misc.py:45: DeprecationWarning: the imp module is deprecated in favour of importlib; see the module's documentation for alternative uses\n",
      "  from imp import reload\n",
      "/home/eliana/anaconda3/envs/etmEnv/lib/python3.7/site-packages/sklearn/linear_model/_least_angle.py:34: DeprecationWarning: `np.float` is a deprecated alias for the builtin `float`. To silence this warning, use `float` by itself. Doing this will not modify any behavior and is safe. If you specifically wanted the numpy scalar type, use `np.float64` here.\n",
      "Deprecated in NumPy 1.20; for more details and guidance: https://numpy.org/devdocs/release/1.20.0-notes.html#deprecations\n",
      "  method='lar', copy_X=True, eps=np.finfo(np.float).eps,\n",
      "/home/eliana/anaconda3/envs/etmEnv/lib/python3.7/site-packages/sklearn/linear_model/_least_angle.py:164: DeprecationWarning: `np.float` is a deprecated alias for the builtin `float`. To silence this warning, use `float` by itself. Doing this will not modify any behavior and is safe. If you specifically wanted the numpy scalar type, use `np.float64` here.\n",
      "Deprecated in NumPy 1.20; for more details and guidance: https://numpy.org/devdocs/release/1.20.0-notes.html#deprecations\n",
      "  method='lar', copy_X=True, eps=np.finfo(np.float).eps,\n",
      "/home/eliana/anaconda3/envs/etmEnv/lib/python3.7/site-packages/sklearn/linear_model/_least_angle.py:281: DeprecationWarning: `np.float` is a deprecated alias for the builtin `float`. To silence this warning, use `float` by itself. Doing this will not modify any behavior and is safe. If you specifically wanted the numpy scalar type, use `np.float64` here.\n",
      "Deprecated in NumPy 1.20; for more details and guidance: https://numpy.org/devdocs/release/1.20.0-notes.html#deprecations\n",
      "  eps=np.finfo(np.float).eps, copy_Gram=True, verbose=0,\n",
      "/home/eliana/anaconda3/envs/etmEnv/lib/python3.7/site-packages/sklearn/linear_model/_least_angle.py:865: DeprecationWarning: `np.float` is a deprecated alias for the builtin `float`. To silence this warning, use `float` by itself. Doing this will not modify any behavior and is safe. If you specifically wanted the numpy scalar type, use `np.float64` here.\n",
      "Deprecated in NumPy 1.20; for more details and guidance: https://numpy.org/devdocs/release/1.20.0-notes.html#deprecations\n",
      "  eps=np.finfo(np.float).eps, copy_X=True, fit_path=True,\n",
      "/home/eliana/anaconda3/envs/etmEnv/lib/python3.7/site-packages/sklearn/linear_model/_least_angle.py:1121: DeprecationWarning: `np.float` is a deprecated alias for the builtin `float`. To silence this warning, use `float` by itself. Doing this will not modify any behavior and is safe. If you specifically wanted the numpy scalar type, use `np.float64` here.\n",
      "Deprecated in NumPy 1.20; for more details and guidance: https://numpy.org/devdocs/release/1.20.0-notes.html#deprecations\n",
      "  eps=np.finfo(np.float).eps, copy_X=True, fit_path=True,\n",
      "/home/eliana/anaconda3/envs/etmEnv/lib/python3.7/site-packages/sklearn/linear_model/_least_angle.py:1149: DeprecationWarning: `np.float` is a deprecated alias for the builtin `float`. To silence this warning, use `float` by itself. Doing this will not modify any behavior and is safe. If you specifically wanted the numpy scalar type, use `np.float64` here.\n",
      "Deprecated in NumPy 1.20; for more details and guidance: https://numpy.org/devdocs/release/1.20.0-notes.html#deprecations\n",
      "  eps=np.finfo(np.float).eps, positive=False):\n",
      "/home/eliana/anaconda3/envs/etmEnv/lib/python3.7/site-packages/sklearn/linear_model/_least_angle.py:1379: DeprecationWarning: `np.float` is a deprecated alias for the builtin `float`. To silence this warning, use `float` by itself. Doing this will not modify any behavior and is safe. If you specifically wanted the numpy scalar type, use `np.float64` here.\n",
      "Deprecated in NumPy 1.20; for more details and guidance: https://numpy.org/devdocs/release/1.20.0-notes.html#deprecations\n",
      "  max_n_alphas=1000, n_jobs=None, eps=np.finfo(np.float).eps,\n",
      "/home/eliana/anaconda3/envs/etmEnv/lib/python3.7/site-packages/sklearn/linear_model/_least_angle.py:1621: DeprecationWarning: `np.float` is a deprecated alias for the builtin `float`. To silence this warning, use `float` by itself. Doing this will not modify any behavior and is safe. If you specifically wanted the numpy scalar type, use `np.float64` here.\n",
      "Deprecated in NumPy 1.20; for more details and guidance: https://numpy.org/devdocs/release/1.20.0-notes.html#deprecations\n",
      "  max_n_alphas=1000, n_jobs=None, eps=np.finfo(np.float).eps,\n",
      "/home/eliana/anaconda3/envs/etmEnv/lib/python3.7/site-packages/sklearn/linear_model/_least_angle.py:1755: DeprecationWarning: `np.float` is a deprecated alias for the builtin `float`. To silence this warning, use `float` by itself. Doing this will not modify any behavior and is safe. If you specifically wanted the numpy scalar type, use `np.float64` here.\n",
      "Deprecated in NumPy 1.20; for more details and guidance: https://numpy.org/devdocs/release/1.20.0-notes.html#deprecations\n",
      "  eps=np.finfo(np.float).eps, copy_X=True, positive=False):\n",
      "/home/eliana/anaconda3/envs/etmEnv/lib/python3.7/site-packages/sklearn/decomposition/_lda.py:28: DeprecationWarning: `np.float` is a deprecated alias for the builtin `float`. To silence this warning, use `float` by itself. Doing this will not modify any behavior and is safe. If you specifically wanted the numpy scalar type, use `np.float64` here.\n",
      "Deprecated in NumPy 1.20; for more details and guidance: https://numpy.org/devdocs/release/1.20.0-notes.html#deprecations\n",
      "  EPS = np.finfo(np.float).eps\n"
     ]
    }
   ],
   "source": [
    "topic_coherence = etm_instance.get_topic_coherence()\n",
    "print(topic_coherence)\n",
    "topic_diversity = etm_instance.get_topic_diversity()\n",
    "print(topic_diversity)\n",
    "print(etm_instance._perplexity(test_dataset))"
   ]
  },
  {
   "cell_type": "code",
   "execution_count": null,
   "metadata": {},
   "outputs": [],
   "source": []
  }
 ],
 "metadata": {
  "kernelspec": {
   "display_name": "Python 3 (ipykernel)",
   "language": "python",
   "name": "python3"
  },
  "language_info": {
   "codemirror_mode": {
    "name": "ipython",
    "version": 3
   },
   "file_extension": ".py",
   "mimetype": "text/x-python",
   "name": "python",
   "nbconvert_exporter": "python",
   "pygments_lexer": "ipython3",
   "version": "3.7.12"
  }
 },
 "nbformat": 4,
 "nbformat_minor": 2
}
