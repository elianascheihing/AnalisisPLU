{
 "cells": [
  {
   "cell_type": "code",
   "execution_count": 2,
   "metadata": {},
   "outputs": [],
   "source": [
    "import pandas as pd\n",
    "#from pandasql import sqldf #para utilizar una síntaxis SQL para consultar nuestros datos\n",
    "\n",
    "dataset=\"data/luis/FN_PLU_2017-2021_Twitter_def_v1.csv\"\n",
    "df = pd.read_csv(dataset)\n",
    "\n"
   ]
  },
  {
   "cell_type": "code",
   "execution_count": 3,
   "metadata": {},
   "outputs": [
    {
     "data": {
      "text/plain": [
       "124"
      ]
     },
     "execution_count": 3,
     "metadata": {},
     "output_type": "execute_result"
    }
   ],
   "source": [
    "noticias = df.Message[df[\"tipoT\"]==1]\n",
    "len(noticias)"
   ]
  },
  {
   "cell_type": "code",
   "execution_count": 4,
   "metadata": {},
   "outputs": [],
   "source": [
    "import re\n",
    "# Remove Emails\n",
    "noticias = [re.sub(r'\\S*@\\S*\\s?', '', sent) for sent in noticias]\n",
    "\n",
    "# Remove new line characters\n",
    "noticias = [re.sub(r'\\s+', ' ', sent) for sent in noticias]\n",
    "\n",
    "# Remove distracting single quotes\n",
    "noticias= [re.sub(\"\\'\", \"\", sent) for sent in noticias]\n",
    "\n",
    "# Remove links\n",
    "noticias = [re.sub(r'\\S*http\\S*\\s?', '', sent) for sent in noticias]\n",
    "noticias = [re.sub(r'\\S*https\\S*\\s?', '', sent) for sent in noticias]\n"
   ]
  },
  {
   "cell_type": "code",
   "execution_count": 5,
   "metadata": {},
   "outputs": [],
   "source": [
    "import spacy\n",
    "nlp = spacy.load(\"es_core_news_md\")\n",
    "\n",
    "def spacy_tokenizer(texto):\n",
    "    # crea lista de tokens a partir de un texto\n",
    "    mytokens = []\n",
    "    doc = nlp(texto.lower().strip())\n",
    "    for token in doc:\n",
    "        if not token.is_stop and not token.is_punct and not token.is_space and not token.is_digit and not token.like_num:\n",
    "            mytokens.append(token.lemma_)\n",
    "    return mytokens\n"
   ]
  },
  {
   "cell_type": "markdown",
   "metadata": {},
   "source": [
    "**LDA con estimación variacional**"
   ]
  },
  {
   "cell_type": "code",
   "execution_count": 6,
   "metadata": {},
   "outputs": [
    {
     "name": "stderr",
     "output_type": "stream",
     "text": [
      "/home/eliana/anaconda3/lib/python3.9/site-packages/sklearn/utils/deprecation.py:87: FutureWarning: Function get_feature_names is deprecated; get_feature_names is deprecated in 1.0 and will be removed in 1.2. Please use get_feature_names_out instead.\n",
      "  warnings.warn(msg, category=FutureWarning)\n"
     ]
    }
   ],
   "source": [
    "#Aplicando Modelos Probabilistas de Tópicos y LDA\n",
    "import re\n",
    "from sklearn.feature_extraction.text import TfidfVectorizer, CountVectorizer\n",
    "from sklearn.cluster import KMeans\n",
    "from sklearn.metrics import adjusted_rand_score\n",
    "from sklearn.decomposition import LatentDirichletAllocation\n",
    "\n",
    "def print_top_words(model, feature_names, n_top_words):\n",
    "    for topic_idx, topic in enumerate(model.components_):\n",
    "        message = \"Topic #%d: \" % topic_idx\n",
    "        message += \" \".join([feature_names[i]\n",
    "                             for i in topic.argsort()[:-n_top_words - 1:-1]])\n",
    "        print(message)\n",
    "    print()\n",
    "\n",
    "myStopWords=['gnl','=','$','+','a','e','o','u','y',' ','  ','   ','    ']\n",
    "\n",
    "tf_vectorizer = CountVectorizer(max_df=0.95, min_df=2,\n",
    "                                stop_words=myStopWords,tokenizer=spacy_tokenizer, ngram_range=(1,1))\n",
    "tf = tf_vectorizer.fit_transform(noticias)\n",
    "diccionario= tf_vectorizer.get_feature_names()"
   ]
  },
  {
   "cell_type": "code",
   "execution_count": 7,
   "metadata": {},
   "outputs": [],
   "source": [
    "from random import sample\n",
    "num= tf.shape[0]\n",
    "num1 = int(0.85*num)\n",
    "ind = range(0,num)\n",
    "ind = pd.Series(ind)\n",
    "ind1 = ind.sample(num1)\n",
    "train = tf[ind1]\n",
    "ind2 = ind.index.difference(ind1)\n",
    "test = tf[ind2]\n"
   ]
  },
  {
   "cell_type": "code",
   "execution_count": 8,
   "metadata": {},
   "outputs": [],
   "source": [
    "import math\n",
    "def get_umass_score(dt_matrix, i, j):\n",
    "    zo_matrix = (dt_matrix > 0).astype(int)\n",
    "    col_i, col_j = zo_matrix[:, i], zo_matrix[:, j]\n",
    "    col_ij = col_i + col_j\n",
    "    col_ij = (col_ij == 2).astype(int)    \n",
    "    Di, Dij = col_i.sum(), col_ij.sum()    \n",
    "    return math.log((Dij + 1) / Di)\n",
    "\n",
    "def get_topic_coherence(dt_matrix, topic, n_top_words):\n",
    "    indexed_topic = zip(topic, range(0, len(topic)))\n",
    "    topic_top = sorted(indexed_topic, key=lambda x: 1 - x[0])[0:n_top_words]\n",
    "    coherence = 0\n",
    "    for j_index in range(0, len(topic_top)):\n",
    "        for i_index in range(0, j_index - 1):\n",
    "            i = topic_top[i_index][1]\n",
    "            j = topic_top[j_index][1]\n",
    "            coherence += get_umass_score(dt_matrix, i, j)\n",
    "    return coherence\n",
    "\n",
    "def get_average_topic_coherence(dt_matrix, topics, n_top_words):\n",
    "    total_coherence = 0\n",
    "    for i in range(0, len(topics)):\n",
    "        total_coherence += get_topic_coherence(dt_matrix, topics[i], n_top_words)\n",
    "    return total_coherence / len(topics)"
   ]
  },
  {
   "cell_type": "code",
   "execution_count": 11,
   "metadata": {},
   "outputs": [],
   "source": [
    "perp1 = []\n",
    "perp2 =[]\n",
    "c_umass =[]\n",
    "numk = range(1,10)\n",
    "for k in numk:\n",
    "    #Estimación de LDA con Bayes Variacional\n",
    "    lda = LatentDirichletAllocation(n_components=k, max_iter=1000,\n",
    "                                learning_method='online',\n",
    "                                learning_offset=10.,\n",
    "                                random_state=0)\n",
    "\n",
    "    lda.fit(train)\n",
    "    #Cálculo de índice de ajuste de los datos\n",
    "    perp1.append(lda.perplexity(train))\n",
    "    perp2.append(lda.perplexity(test))\n",
    "    c_umass.append(get_average_topic_coherence(tf, lda.components_, 10))\n",
    "\n"
   ]
  },
  {
   "cell_type": "code",
   "execution_count": 21,
   "metadata": {},
   "outputs": [
    {
     "data": {
      "image/png": "[encoded data removed]",
      "text/plain": [
       "<Figure size 432x288 with 1 Axes>"
      ]
     },
     "metadata": {
      "needs_background": "light"
     },
     "output_type": "display_data"
    },
    {
     "data": {
      "image/png": "[encoded data removed]",
      "text/plain": [
       "<Figure size 432x288 with 1 Axes>"
      ]
     },
     "metadata": {
      "needs_background": "light"
     },
     "output_type": "display_data"
    },
    {
     "data": {
      "image/png": "[encoded data removed]",
      "text/plain": [
       "<Figure size 432x288 with 1 Axes>"
      ]
     },
     "metadata": {
      "needs_background": "light"
     },
     "output_type": "display_data"
    }
   ],
   "source": [
    "import matplotlib.pyplot as plt\n",
    "plt.plot(numk, perp1, '-o')\n",
    "plt.xlabel('number of topics, k')\n",
    "plt.ylabel('perplexity train')\n",
    "plt.xticks(numk)\n",
    "plt.show()\n",
    "\n",
    "plt.plot(numk, perp2, '-o')\n",
    "plt.xlabel('number of topics, k')\n",
    "plt.ylabel('perplexity test')\n",
    "plt.xticks(numk)\n",
    "plt.show()\n",
    "\n",
    "plt.plot(numk, c_umass, '-o')\n",
    "plt.xlabel('number of topics, k')\n",
    "plt.ylabel('coherence test')\n",
    "plt.xticks(numk)\n",
    "plt.show()\n"
   ]
  },
  {
   "cell_type": "code",
   "execution_count": 22,
   "metadata": {},
   "outputs": [],
   "source": [
    "lda = LatentDirichletAllocation(n_components=3, max_iter=1000,\n",
    "                                learning_method='online',\n",
    "                                learning_offset=10.,\n",
    "                                random_state=0)\n",
    "\n",
    "lda.fit(train)\n",
    "perp = lda.perplexity(test)"
   ]
  },
  {
   "cell_type": "code",
   "execution_count": 23,
   "metadata": {},
   "outputs": [
    {
     "name": "stdout",
     "output_type": "stream",
     "text": [
      "163.06255913003017\n"
     ]
    }
   ],
   "source": [
    "perp = lda.perplexity(train)\n",
    "print(perp)"
   ]
  },
  {
   "cell_type": "code",
   "execution_count": 25,
   "metadata": {},
   "outputs": [
    {
     "name": "stdout",
     "output_type": "stream",
     "text": [
      "-62.00359401405294\n"
     ]
    }
   ],
   "source": [
    "import math\n",
    "avg_coherence = get_average_topic_coherence(tf, lda.components_, 10)\n",
    "print(avg_coherence)\n"
   ]
  },
  {
   "cell_type": "code",
   "execution_count": 26,
   "metadata": {},
   "outputs": [],
   "source": [
    "def proportion_unique_words(topics, topk=10):\n",
    "    \"\"\"\n",
    "    compute the proportion of unique words\n",
    "    Parameters\n",
    "    ----------\n",
    "    topics: a list of lists of words\n",
    "    topk: top k words on which the topic diversity will be computed\n",
    "    \"\"\"\n",
    "    if topk > len(topics[0]):\n",
    "        raise Exception('Words in topics are less than '+str(topk))\n",
    "    else:\n",
    "        unique_words = set()\n",
    "        for topic in topics:\n",
    "            unique_words = unique_words.union(set(topic[:topk]))\n",
    "        puw = len(unique_words) / (topk * len(topics))\n",
    "        return puw"
   ]
  },
  {
   "cell_type": "code",
   "execution_count": 27,
   "metadata": {},
   "outputs": [],
   "source": [
    "import numpy as np\n",
    "n_top_words=25\n",
    "topics = []\n",
    "numo =np.arange(0,n_top_words)\n",
    "for idx,topic in enumerate(lda.components_):\n",
    "    s = []\n",
    "    for i in topic.argsort()[:-n_top_words - 1:-1]:\n",
    "        s.append(diccionario[i])\n",
    "    topics.append(s)    \n",
    " "
   ]
  },
  {
   "cell_type": "code",
   "execution_count": 28,
   "metadata": {},
   "outputs": [
    {
     "name": "stdout",
     "output_type": "stream",
     "text": [
      "0.92\n"
     ]
    }
   ],
   "source": [
    "diversity = proportion_unique_words(topics,topk=25)\n",
    "print(diversity)"
   ]
  },
  {
   "cell_type": "code",
   "execution_count": 20,
   "metadata": {},
   "outputs": [
    {
     "name": "stderr",
     "output_type": "stream",
     "text": [
      "/home/eliana/anaconda3/lib/python3.9/site-packages/sklearn/utils/deprecation.py:87: FutureWarning: Function get_feature_names is deprecated; get_feature_names is deprecated in 1.0 and will be removed in 1.2. Please use get_feature_names_out instead.\n",
      "  warnings.warn(msg, category=FutureWarning)\n",
      "/home/eliana/anaconda3/lib/python3.9/site-packages/pyLDAvis/_prepare.py:246: FutureWarning: In a future version of pandas all arguments of DataFrame.drop except for the argument 'labels' will be keyword-only.\n",
      "  default_term_info = default_term_info.sort_values(\n"
     ]
    },
    {
     "data": {
      "text/html": [
       "\n",
       "<link rel=\"stylesheet\" type=\"text/css\" href=\"https://cdn.jsdelivr.net/gh/bmabey/pyLDAvis@3.3.1/pyLDAvis/js/ldavis.v1.0.0.css\">\n",
       "\n",
       "\n",
       "<div id=\"ldavis_el2311491402158909254881669812821\"></div>\n",
       "<script type=\"text/javascript\">\n",
       "\n",
       "var ldavis_el2311491402158909254881669812821_data = {\"mdsDat\": {\"x\": [-0.11097199903283515, -0.06982419598259897, 0.18079619501543406], \"y\": [0.09232368228607357, -0.1074817333945716, 0.015158051108497978], \"topics\": [1, 2, 3], \"cluster\": [1, 1, 1], \"Freq\": [53.410630685481166, 25.864753946365294, 20.724615368153547]}, \"tinfo\": {\"Term\": [\"desinformaci\\u00f3n\", \"falso\", \"noticia\", \"fake\", \"red\", \"new\", \"rt\", \"rechazar\", \"maip\\u00fa\", \"desmentir\", \"diputado\", \"social\", \"campa\\u00f1a\", \"informaci\\u00f3n\", \"bus\", \"diversidad\", \"coordinador\", \"pandemia\", \"circular\", \"autoridad\", \"puclaro\", \"embalse\", \"so\", \"ib\\u00e1\\u00f1ez\", \"necesario\", \"intendente\", \"estable\", \"aparecer\", \"haddad\", \"mill\\u00f3n\", \"fake\", \"new\", \"difundir\", \"rt\", \"informar\", \"denuncia\", \"rrss\", \"news\", \"proceso\", \"presidenta\", \"entregar\", \"colegio\", \"whatsapp\", \"cuidado\", \"llamado\", \"oficial\", \"advertir\", \"paso\", \"denunciar\", \"plebiscito\", \"periodista\", \"inf\\u00f3rmate\", \"informaci\\u00f3n\", \"aclarar\", \"elecci\\u00f3n\", \"emitir\", \"audio\", \"comunicado\", \"posible\", \"empresa\", \"falso\", \"acusar\", \"\\u26a0\", \"informar \\u00e9l\", \"llamar\", \"circular\", \"noticia\", \"|\", \"red\", \"coronavirus\", \"social\", \"m\\u00e9dico\", \"puclaro\", \"embalse\", \"so\", \"estable\", \"intendente\", \"necesario\", \"ib\\u00e1\\u00f1ez\", \"aparecer\", \"haddad\", \"mill\\u00f3n\", \"padre\", \"desmentir\", \"contagiado\", \"contagio\", \"terminar\", \"alberto\", \"hurtado\", \"facebook\", \"arma\", \"mundo\", \"ver\", \"atenci\\u00f3n\", \"covid-19\", \"enfermedad\", \"mandatario\", \"pcr\", \"chileno\", \"bolsonaro\", \"leer\", \"suspender\", \"persona\", \"red\", \"social\", \"noticia\", \"pol\\u00edtico\", \"falso\", \"maip\\u00fa\", \"circular\", \"informaci\\u00f3n\", \"rt\", \"caso\", \"concejal\", \"coronavirus\", \"ayer\", \"rechazar\", \"diputado\", \"bus\", \"diversidad\", \"coordinador\", \"desinformaci\\u00f3n\", \"flores\", \"r\\u00edo\", \"hospital\", \"real\", \"capacidad\", \"manejo\", \"salud\", \"cuestionar\", \"voz\", \"pandemia\", \"campa\\u00f1a\", \"participar\", \"iniciativa\", \"resultar\", \"lugar\", \"aclarado\", \"preferencia\", \"regi\\u00f3n\", \"consultora\", \"mostrar\", \"covid19\", \"18,8%\", \"dato\", \"dc\", \"maip\\u00fa\", \"autoridad\", \"barrigar\", \"transparencia\", \"melipilla\", \"expuesto\", \"social\", \"cplt\", \"regional\", \"consejo\", \"democracia\", \"digital\", \"alejandra\"], \"Freq\": [22.0, 51.0, 27.0, 25.0, 22.0, 22.0, 38.0, 6.0, 11.0, 8.0, 5.0, 17.0, 6.0, 36.0, 4.0, 4.0, 4.0, 4.0, 16.0, 5.0, 3.0, 3.0, 3.0, 3.0, 3.0, 3.0, 3.0, 3.0, 3.0, 3.0, 25.326262805763196, 21.617930811120413, 7.710116287822614, 34.33081334315123, 4.943505274773202, 4.016668388751709, 4.015118295028707, 4.014103058358297, 4.0120885034149225, 4.01211959742627, 4.004785077091497, 3.090011980537855, 3.0884872165959094, 3.088178469137257, 3.086942260307301, 3.086665652015773, 3.0860537912087356, 3.0821202976208455, 3.079987488740573, 3.071054402419511, 3.0694414605180738, 3.0690840658483123, 29.636491204166308, 3.029437935015824, 3.0186011030888613, 2.1629841635832037, 2.162936766187878, 2.1630434401476424, 2.1628415671265033, 2.162968668189214, 34.9109746856412, 4.029959404931134, 4.018974304505697, 3.996706907970273, 3.939582939601794, 9.930719818806585, 12.891156329715129, 4.6151379859513275, 8.652523407646768, 3.980324927822721, 5.886153276733233, 3.0951500338411475, 3.129768605732644, 3.1297196668779965, 3.1296893168496913, 3.1296228969988134, 3.1296483253539273, 3.129742883309914, 3.129803288122125, 3.12971297254737, 3.1295267239858475, 3.121080066960705, 3.116435379157996, 6.876575255035875, 2.1907985583462897, 2.1910448895995005, 2.190644709595874, 2.190637533828409, 2.1905518957437353, 2.190576194518943, 2.1905939230423113, 2.1863042031803728, 2.0596939934611735, 2.025866536456416, 3.3630586803099485, 1.953560298351566, 1.2520208581096144, 1.2519816492974156, 1.2504417861090353, 1.2442554900333187, 3.113263164926578, 1.2442281970074411, 2.395313399463607, 12.74099390708694, 9.77419286260987, 13.841864428468357, 2.2195239381291008, 15.948714744644823, 5.027214873556521, 6.523174922913038, 6.279760438156318, 3.4092273489916742, 2.2318361450625326, 2.2083360435162263, 2.228314110101365, 2.2112270459612584, 5.960971383501093, 4.953718845622784, 4.07960683834428, 4.07960292014666, 4.079537138879217, 19.399069941528428, 2.1969395083958294, 2.197022690098935, 2.19699585586792, 2.1969213732936184, 2.196961681139685, 2.196985554977163, 2.1969583382719473, 2.1970058880228445, 2.144210174153333, 3.4348604412959367, 4.717489154414366, 2.0097794888050777, 2.007594349285982, 1.2556799168096215, 1.255732278479001, 1.2556235141498142, 1.2557211224831932, 1.2556614253896794, 1.2556907457408377, 1.2557027411816577, 1.2557398889239137, 1.2558123755578552, 1.2557142707558309, 1.2556046891705352, 5.93531584675094, 2.9544498294227997, 1.2557896170156595, 2.3245224489148453, 1.847498805317932, 1.255762668703715, 2.1104815414486247, 1.365804407807741, 1.3042806053139788, 1.320643952064588, 1.289437848951009, 1.2893513700467703, 1.2879372366397301], \"Total\": [22.0, 51.0, 27.0, 25.0, 22.0, 22.0, 38.0, 6.0, 11.0, 8.0, 5.0, 17.0, 6.0, 36.0, 4.0, 4.0, 4.0, 4.0, 16.0, 5.0, 3.0, 3.0, 3.0, 3.0, 3.0, 3.0, 3.0, 3.0, 3.0, 3.0, 25.9701225752728, 22.26147195493638, 8.355005707089747, 38.06084291555354, 5.573335310024685, 4.646266083953262, 4.646173705454674, 4.646426690793534, 4.646091405671609, 4.64624510399202, 4.6465785576185645, 3.719020178355703, 3.7189989976190616, 3.7190521825436713, 3.719123838227213, 3.71913668241719, 3.719314114717433, 3.719104514297595, 3.7190430488912396, 3.7194056447538144, 3.719319239316973, 3.719358951818397, 36.24252480997996, 3.7200914436058157, 3.7202713405977827, 2.7919146631798157, 2.7918962734102646, 2.792046494098721, 2.791809987067178, 2.7920130038534863, 51.196697469478536, 5.587306020278108, 5.585011959375056, 5.585396741553785, 5.586238874924768, 16.77609275017916, 27.06574063448223, 7.4576024722792935, 22.427088355061894, 6.524285477968046, 17.77082768079173, 4.657789619233554, 3.754125178395484, 3.7540665937194713, 3.7540318310004634, 3.7539857281228435, 3.7540432747990167, 3.7542115354384986, 3.7542855559964403, 3.7542284044606102, 3.754136408844618, 3.75427871771976, 3.753991326165001, 8.436533227076731, 2.815269630903176, 2.8155882230743656, 2.81527105836527, 2.815285576338149, 2.8151988157519234, 2.815332863206576, 2.8154492648233935, 2.8152265801303367, 2.81396550235858, 2.815673386256859, 4.684270795467336, 2.8157838744671135, 1.8764489034675176, 1.8764570432897967, 1.876539747521403, 1.8764014220321104, 4.6955881886439395, 1.8766349439843943, 3.756051093451971, 22.427088355061894, 17.77082768079173, 27.06574063448223, 3.7562666365280872, 51.196697469478536, 11.279848390412585, 16.77609275017916, 36.24252480997996, 38.06084291555354, 5.597411949373523, 3.756699316694177, 6.524285477968046, 5.596753801595143, 6.586065445117172, 5.643795022411516, 4.703150670425695, 4.7034028157827485, 4.703346412262414, 22.55429333938129, 2.8203001935509597, 2.820471783145335, 2.820446670255005, 2.820388354617272, 2.82047448518934, 2.8205178408475917, 2.8204995516835005, 2.820886276639425, 2.819759807375621, 4.693597389451867, 6.567276488463037, 2.817716342124303, 2.8174953860817187, 1.8790001168022912, 1.8791027205285942, 1.8789552064440205, 1.879117854162832, 1.879035855997788, 1.879094110992274, 1.8791241980283628, 1.8791803495385833, 1.8792916275378513, 1.87914537127953, 1.878988013004068, 11.279848390412585, 5.613466640971957, 1.8793540694987092, 5.603736900712551, 4.673775821286774, 1.8793690355019113, 17.77082768079173, 4.662218852328576, 2.8068298859918985, 3.734338068509937, 2.8068381347399507, 2.8068287599163577, 2.806665792244405], \"Category\": [\"Default\", \"Default\", \"Default\", \"Default\", \"Default\", \"Default\", \"Default\", \"Default\", \"Default\", \"Default\", \"Default\", \"Default\", \"Default\", \"Default\", \"Default\", \"Default\", \"Default\", \"Default\", \"Default\", \"Default\", \"Default\", \"Default\", \"Default\", \"Default\", \"Default\", \"Default\", \"Default\", \"Default\", \"Default\", \"Default\", \"Topic1\", \"Topic1\", \"Topic1\", \"Topic1\", \"Topic1\", \"Topic1\", \"Topic1\", \"Topic1\", \"Topic1\", \"Topic1\", \"Topic1\", \"Topic1\", \"Topic1\", \"Topic1\", \"Topic1\", \"Topic1\", \"Topic1\", \"Topic1\", \"Topic1\", \"Topic1\", \"Topic1\", \"Topic1\", \"Topic1\", \"Topic1\", \"Topic1\", \"Topic1\", \"Topic1\", \"Topic1\", \"Topic1\", \"Topic1\", \"Topic1\", \"Topic1\", \"Topic1\", \"Topic1\", \"Topic1\", \"Topic1\", \"Topic1\", \"Topic1\", \"Topic1\", \"Topic1\", \"Topic1\", \"Topic1\", \"Topic2\", \"Topic2\", \"Topic2\", \"Topic2\", \"Topic2\", \"Topic2\", \"Topic2\", \"Topic2\", \"Topic2\", \"Topic2\", \"Topic2\", \"Topic2\", \"Topic2\", \"Topic2\", \"Topic2\", \"Topic2\", \"Topic2\", \"Topic2\", \"Topic2\", \"Topic2\", \"Topic2\", \"Topic2\", \"Topic2\", \"Topic2\", \"Topic2\", \"Topic2\", \"Topic2\", \"Topic2\", \"Topic2\", \"Topic2\", \"Topic2\", \"Topic2\", \"Topic2\", \"Topic2\", \"Topic2\", \"Topic2\", \"Topic2\", \"Topic2\", \"Topic2\", \"Topic2\", \"Topic2\", \"Topic2\", \"Topic2\", \"Topic2\", \"Topic3\", \"Topic3\", \"Topic3\", \"Topic3\", \"Topic3\", \"Topic3\", \"Topic3\", \"Topic3\", \"Topic3\", \"Topic3\", \"Topic3\", \"Topic3\", \"Topic3\", \"Topic3\", \"Topic3\", \"Topic3\", \"Topic3\", \"Topic3\", \"Topic3\", \"Topic3\", \"Topic3\", \"Topic3\", \"Topic3\", \"Topic3\", \"Topic3\", \"Topic3\", \"Topic3\", \"Topic3\", \"Topic3\", \"Topic3\", \"Topic3\", \"Topic3\", \"Topic3\", \"Topic3\", \"Topic3\", \"Topic3\", \"Topic3\", \"Topic3\", \"Topic3\", \"Topic3\", \"Topic3\", \"Topic3\", \"Topic3\"], \"logprob\": [30.0, 29.0, 28.0, 27.0, 26.0, 25.0, 24.0, 23.0, 22.0, 21.0, 20.0, 19.0, 18.0, 17.0, 16.0, 15.0, 14.0, 13.0, 12.0, 11.0, 10.0, 9.0, 8.0, 7.0, 6.0, 5.0, 4.0, 3.0, 2.0, 1.0, -2.9719, -3.1302, -4.1612, -2.6677, -4.6056, -4.8133, -4.8136, -4.8139, -4.8144, -4.8144, -4.8162, -5.0755, -5.076, -5.0761, -5.0765, -5.0766, -5.0768, -5.0781, -5.0788, -5.0817, -5.0822, -5.0823, -2.8147, -5.0953, -5.0989, -5.4322, -5.4322, -5.4322, -5.4323, -5.4322, -2.6509, -4.81, -4.8127, -4.8182, -4.8326, -3.9081, -3.6472, -4.6744, -4.0459, -4.8224, -4.4311, -5.0739, -4.3376, -4.3376, -4.3377, -4.3377, -4.3377, -4.3376, -4.3376, -4.3376, -4.3377, -4.3404, -4.3419, -3.5505, -4.6943, -4.6942, -4.6944, -4.6944, -4.6944, -4.6944, -4.6944, -4.6964, -4.756, -4.7726, -4.2657, -4.8089, -5.2538, -5.2539, -5.2551, -5.26, -4.3429, -5.2601, -4.6051, -2.9338, -3.1988, -2.8509, -4.6813, -2.7092, -3.8637, -3.6032, -3.6413, -4.2521, -4.6758, -4.6863, -4.6773, -4.685, -3.4718, -3.6569, -3.851, -3.851, -3.851, -2.2918, -4.47, -4.4699, -4.4699, -4.47, -4.47, -4.4699, -4.47, -4.4699, -4.4943, -4.023, -3.7057, -4.559, -4.5601, -5.0293, -5.0293, -5.0294, -5.0293, -5.0294, -5.0293, -5.0293, -5.0293, -5.0292, -5.0293, -5.0294, -3.4761, -4.1737, -5.0293, -4.4135, -4.6432, -5.0293, -4.5101, -4.9453, -4.9914, -4.9789, -5.0028, -5.0029, -5.004], \"loglift\": [30.0, 29.0, 28.0, 27.0, 26.0, 25.0, 24.0, 23.0, 22.0, 21.0, 20.0, 19.0, 18.0, 17.0, 16.0, 15.0, 14.0, 13.0, 12.0, 11.0, 10.0, 9.0, 8.0, 7.0, 6.0, 5.0, 4.0, 3.0, 2.0, 1.0, 0.6021, 0.5978, 0.5468, 0.524, 0.5072, 0.4815, 0.4812, 0.4809, 0.4804, 0.4804, 0.4785, 0.4419, 0.4414, 0.4413, 0.4409, 0.4408, 0.4405, 0.4393, 0.4386, 0.4356, 0.4351, 0.435, 0.4259, 0.4218, 0.4182, 0.3719, 0.3719, 0.3719, 0.3719, 0.3719, 0.2443, 0.3004, 0.2981, 0.2925, 0.2779, 0.1028, -0.1146, 0.1473, -0.3253, 0.133, -0.4778, 0.2185, 1.1704, 1.1704, 1.1704, 1.1704, 1.1704, 1.1704, 1.1704, 1.1703, 1.1703, 1.1676, 1.1662, 1.1478, 1.1015, 1.1015, 1.1014, 1.1014, 1.1014, 1.1014, 1.1013, 1.0995, 1.0403, 1.0231, 1.0209, 0.9867, 0.9477, 0.9476, 0.9464, 0.9415, 0.9413, 0.9413, 0.9024, 0.7868, 0.7545, 0.6817, 0.8262, 0.186, 0.5441, 0.4077, -0.4006, -1.0604, 0.4328, 0.821, 0.278, 0.4236, 1.4741, 1.4434, 1.4316, 1.4316, 1.4316, 1.4231, 1.3241, 1.324, 1.324, 1.324, 1.324, 1.324, 1.324, 1.3239, 1.3, 1.2616, 1.243, 1.2359, 1.2349, 1.1708, 1.1708, 1.1708, 1.1708, 1.1708, 1.1707, 1.1707, 1.1707, 1.1707, 1.1707, 1.1707, 0.9318, 0.932, 1.1707, 0.6939, 0.6457, 1.1707, -0.5568, 0.3461, 0.8074, 0.5344, 0.796, 0.7959, 0.7949]}, \"token.table\": {\"Topic\": [3, 3, 1, 1, 3, 1, 2, 1, 3, 2, 2, 2, 1, 1, 3, 1, 2, 3, 2, 3, 1, 3, 3, 1, 2, 2, 1, 2, 1, 1, 2, 3, 1, 3, 3, 2, 2, 3, 1, 2, 1, 2, 3, 1, 3, 3, 1, 3, 3, 1, 3, 1, 1, 1, 2, 3, 1, 2, 1, 1, 3, 3, 3, 1, 2, 1, 1, 2, 3, 1, 2, 3, 2, 1, 1, 2, 3, 2, 3, 2, 2, 1, 2, 1, 1, 2, 1, 3, 2, 2, 3, 1, 1, 2, 3, 2, 3, 2, 3, 1, 2, 3, 2, 3, 2, 1, 2, 2, 1, 1, 1, 2, 1, 2, 1, 3, 3, 1, 2, 1, 2, 3, 1, 2, 3, 1, 3, 1, 1, 2, 3, 3, 1, 2, 3, 1, 3, 3, 3, 1, 1, 2, 3, 3, 2, 1, 2, 3, 2, 2, 1, 3, 2, 3, 1, 1, 2, 3, 1, 2], \"Freq\": [0.5321153914308379, 0.5322106650389661, 0.8064317895078825, 0.7159085229058029, 0.17897713072645072, 0.806600332069, 0.7104075042367128, 0.3562946478213676, 0.3562946478213676, 0.7990989563755714, 0.710366201582203, 0.710309657988702, 0.7163589919323995, 0.3562860755958292, 0.5344291133937438, 0.5360250077723561, 0.35735000518157073, 0.5320977117775022, 0.5329350043430564, 0.8504936967366918, 0.30454024640404126, 0.7613506160101031, 0.7091005469123182, 0.5359619815610976, 0.35730798770739847, 0.5328957200724544, 0.59608635627585, 0.41726044939309503, 0.806664082507451, 0.7163204496154368, 0.5323822407378511, 0.26619112036892556, 0.5355701501332024, 0.2677850750666012, 0.532171323485198, 0.7104115279211722, 0.7103311427464994, 0.850458301257872, 0.613093956956307, 0.3065469784781535, 0.21348039933294097, 0.6404411979988229, 0.5321469013048915, 0.6434704365072074, 0.21449014550240245, 0.7089970327987266, 0.8066571407847603, 0.5321568066440168, 0.53220137280239, 0.35627277099562726, 0.35627277099562726, 0.8609063552805851, 0.8066591218658766, 0.1330123695235355, 0.04433745650784517, 0.8424116736490583, 0.11853209998516194, 0.8297246998961335, 0.9575098187199917, 0.3562739609486542, 0.3562739609486542, 0.8859287022553077, 0.8504481025051887, 0.8063927937895928, 0.7991333997694607, 0.7163542734225714, 0.7163290418918665, 0.7102817862320842, 0.3551408931160421, 0.8608484609480175, 0.7991506141127848, 0.5320934745170665, 0.710395572096602, 0.9626446670607365, 0.6836378463838537, 0.31252015834690455, 0.7091443685935634, 0.7991185384026275, 0.7091075399837906, 0.7104293980266582, 0.7990867916821947, 0.8277569004171315, 0.1655513800834263, 0.8971288684186228, 0.7161532448073245, 0.1790383112018311, 0.8065906084523781, 0.7098503195000412, 0.7991383637314659, 0.6388975948221695, 0.21296586494072314, 0.8066415990681299, 0.716045283697946, 0.1790113209244865, 0.5321688852212926, 0.443268369125404, 0.5319220429504848, 0.5329215190203609, 0.7090896469560999, 0.4279195401052343, 0.21395977005261715, 0.4279195401052343, 0.7990882471885606, 0.5321628027829305, 0.7104223916170207, 0.6440823320168879, 0.21469411067229596, 0.7991025470144677, 0.9882545073629599, 0.86087659747772, 0.4803119994225383, 0.5172590763011952, 0.8066388132985208, 0.7991494224001677, 0.2130561948596923, 0.6391685845790769, 0.7097946553740683, 0.806645790261313, 0.5329192072773508, 0.8065992207087147, 0.5324741198240504, 0.2662370599120252, 0.8065804826186331, 0.5324435652546214, 0.2662217826273107, 0.7163811324068722, 0.5321645993542599, 0.8609102426738592, 0.8609387226254507, 0.7991209289622576, 0.7091222018151472, 0.9110143301792311, 0.40130042105838765, 0.5796561637510044, 0.04458893567315418, 0.3562738180146648, 0.3562738180146648, 0.5321878221791512, 0.5321979445652265, 0.8609234724272024, 0.8933065427751186, 0.07882116553898105, 0.7091012262386964, 0.7090942449560892, 0.7991407998265397, 0.33763199484992623, 0.5627199914165437, 0.11254399828330874, 0.5328686877570558, 0.7104111677123305, 0.5353570399813972, 0.35690469332093144, 0.7107407671926542, 0.7092802708828665, 0.8066686766844058, 0.6704567612158915, 0.26818270448635656, 0.13409135224317828, 0.7162025845415713, 0.17905064613539282], \"Term\": [\"18,8%\", \"aclarado\", \"aclarar\", \"acusar\", \"acusar\", \"advertir\", \"alberto\", \"alejandra\", \"alejandra\", \"aparecer\", \"arma\", \"atenci\\u00f3n\", \"audio\", \"autoridad\", \"autoridad\", \"ayer\", \"ayer\", \"barrigar\", \"bolsonaro\", \"bus\", \"campa\\u00f1a\", \"campa\\u00f1a\", \"capacidad\", \"caso\", \"caso\", \"chileno\", \"circular\", \"circular\", \"colegio\", \"comunicado\", \"concejal\", \"concejal\", \"consejo\", \"consejo\", \"consultora\", \"contagiado\", \"contagio\", \"coordinador\", \"coronavirus\", \"coronavirus\", \"covid-19\", \"covid-19\", \"covid19\", \"cplt\", \"cplt\", \"cuestionar\", \"cuidado\", \"dato\", \"dc\", \"democracia\", \"democracia\", \"denuncia\", \"denunciar\", \"desinformaci\\u00f3n\", \"desinformaci\\u00f3n\", \"desinformaci\\u00f3n\", \"desmentir\", \"desmentir\", \"difundir\", \"digital\", \"digital\", \"diputado\", \"diversidad\", \"elecci\\u00f3n\", \"embalse\", \"emitir\", \"empresa\", \"enfermedad\", \"enfermedad\", \"entregar\", \"estable\", \"expuesto\", \"facebook\", \"fake\", \"falso\", \"falso\", \"flores\", \"haddad\", \"hospital\", \"hurtado\", \"ib\\u00e1\\u00f1ez\", \"informaci\\u00f3n\", \"informaci\\u00f3n\", \"informar\", \"informar \\u00e9l\", \"informar \\u00e9l\", \"inf\\u00f3rmate\", \"iniciativa\", \"intendente\", \"leer\", \"leer\", \"llamado\", \"llamar\", \"llamar\", \"lugar\", \"maip\\u00fa\", \"maip\\u00fa\", \"mandatario\", \"manejo\", \"melipilla\", \"melipilla\", \"melipilla\", \"mill\\u00f3n\", \"mostrar\", \"mundo\", \"m\\u00e9dico\", \"m\\u00e9dico\", \"necesario\", \"new\", \"news\", \"noticia\", \"noticia\", \"oficial\", \"padre\", \"pandemia\", \"pandemia\", \"participar\", \"paso\", \"pcr\", \"periodista\", \"persona\", \"persona\", \"plebiscito\", \"pol\\u00edtico\", \"pol\\u00edtico\", \"posible\", \"preferencia\", \"presidenta\", \"proceso\", \"puclaro\", \"real\", \"rechazar\", \"red\", \"red\", \"red\", \"regional\", \"regional\", \"regi\\u00f3n\", \"resultar\", \"rrss\", \"rt\", \"rt\", \"r\\u00edo\", \"salud\", \"so\", \"social\", \"social\", \"social\", \"suspender\", \"terminar\", \"transparencia\", \"transparencia\", \"ver\", \"voz\", \"whatsapp\", \"|\", \"|\", \"|\", \"\\u26a0\", \"\\u26a0\"]}, \"R\": 30, \"lambda.step\": 0.01, \"plot.opts\": {\"xlab\": \"PC1\", \"ylab\": \"PC2\"}, \"topic.order\": [2, 3, 1]};\n",
       "\n",
       "function LDAvis_load_lib(url, callback){\n",
       "  var s = document.createElement('script');\n",
       "  s.src = url;\n",
       "  s.async = true;\n",
       "  s.onreadystatechange = s.onload = callback;\n",
       "  s.onerror = function(){console.warn(\"failed to load library \" + url);};\n",
       "  document.getElementsByTagName(\"head\")[0].appendChild(s);\n",
       "}\n",
       "\n",
       "if(typeof(LDAvis) !== \"undefined\"){\n",
       "   // already loaded: just create the visualization\n",
       "   !function(LDAvis){\n",
       "       new LDAvis(\"#\" + \"ldavis_el2311491402158909254881669812821\", ldavis_el2311491402158909254881669812821_data);\n",
       "   }(LDAvis);\n",
       "}else if(typeof define === \"function\" && define.amd){\n",
       "   // require.js is available: use it to load d3/LDAvis\n",
       "   require.config({paths: {d3: \"https://d3js.org/d3.v5\"}});\n",
       "   require([\"d3\"], function(d3){\n",
       "      window.d3 = d3;\n",
       "      LDAvis_load_lib(\"https://cdn.jsdelivr.net/gh/bmabey/pyLDAvis@3.3.1/pyLDAvis/js/ldavis.v3.0.0.js\", function(){\n",
       "        new LDAvis(\"#\" + \"ldavis_el2311491402158909254881669812821\", ldavis_el2311491402158909254881669812821_data);\n",
       "      });\n",
       "    });\n",
       "}else{\n",
       "    // require.js not available: dynamically load d3 & LDAvis\n",
       "    LDAvis_load_lib(\"https://d3js.org/d3.v5.js\", function(){\n",
       "         LDAvis_load_lib(\"https://cdn.jsdelivr.net/gh/bmabey/pyLDAvis@3.3.1/pyLDAvis/js/ldavis.v3.0.0.js\", function(){\n",
       "                 new LDAvis(\"#\" + \"ldavis_el2311491402158909254881669812821\", ldavis_el2311491402158909254881669812821_data);\n",
       "            })\n",
       "         });\n",
       "}\n",
       "</script>"
      ],
      "text/plain": [
       "<IPython.core.display.HTML object>"
      ]
     },
     "execution_count": 20,
     "metadata": {},
     "output_type": "execute_result"
    }
   ],
   "source": [
    "import pyLDAvis\n",
    "import pyLDAvis.sklearn\n",
    "pyLDAvis.enable_notebook()\n",
    "prepared = pyLDAvis.sklearn.prepare(lda,tf,tf_vectorizer)\n",
    "pyLDAvis.display(prepared)"
   ]
  },
  {
   "cell_type": "code",
   "execution_count": null,
   "metadata": {},
   "outputs": [],
   "source": []
  }
 ],
 "metadata": {
  "kernelspec": {
   "display_name": "Python 3 (ipykernel)",
   "language": "python",
   "name": "python3"
  },
  "language_info": {
   "codemirror_mode": {
    "name": "ipython",
    "version": 3
   },
   "file_extension": ".py",
   "mimetype": "text/x-python",
   "name": "python",
   "nbconvert_exporter": "python",
   "pygments_lexer": "ipython3",
   "version": "3.9.7"
  }
 },
 "nbformat": 4,
 "nbformat_minor": 2
}
