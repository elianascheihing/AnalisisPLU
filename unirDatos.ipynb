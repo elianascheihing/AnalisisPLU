{
 "cells": [
  {
   "cell_type": "code",
   "execution_count": 31,
   "id": "00098a1f",
   "metadata": {},
   "outputs": [],
   "source": [
    "datos <-read.csv(\"./data/luis/FN_PLU_2017-2021_fbk.csv\",sep=\",\",header=TRUE)\n",
    "\n",
    "\n"
   ]
  },
  {
   "cell_type": "code",
   "execution_count": null,
   "id": "c7902012",
   "metadata": {},
   "outputs": [],
   "source": [
    "\n"
   ]
  },
  {
   "cell_type": "code",
   "execution_count": 33,
   "id": "6f15bc46",
   "metadata": {},
   "outputs": [],
   "source": [
    "\n",
    "medios <- read.csv(\"./data/luis/Medios_REV_LCU_25May22.csv\")\n"
   ]
  },
  {
   "cell_type": "code",
   "execution_count": 8,
   "id": "ac1c9d44",
   "metadata": {},
   "outputs": [
    {
     "data": {
      "text/html": [
       "<style>\n",
       ".list-inline {list-style: none; margin:0; padding: 0}\n",
       ".list-inline>li {display: inline-block}\n",
       ".list-inline>li:not(:last-child)::after {content: \"\\00b7\"; padding: 0 .5ex}\n",
       "</style>\n",
       "<ol class=list-inline><li>159</li><li>16</li></ol>\n"
      ],
      "text/latex": [
       "\\begin{enumerate*}\n",
       "\\item 159\n",
       "\\item 16\n",
       "\\end{enumerate*}\n"
      ],
      "text/markdown": [
       "1. 159\n",
       "2. 16\n",
       "\n",
       "\n"
      ],
      "text/plain": [
       "[1] 159  16"
      ]
     },
     "metadata": {},
     "output_type": "display_data"
    }
   ],
   "source": [
    "dim(medios)"
   ]
  },
  {
   "cell_type": "code",
   "execution_count": 32,
   "id": "e7e57580",
   "metadata": {},
   "outputs": [],
   "source": [
    "tipo = rep(NULL,4656)\n",
    "    \n",
    "for (i in 1:4656){\n",
    "    encuentra=FALSE\n",
    "    k=1\n",
    "    while (k <= 159 && !encuentra){       \n",
    "            if (paste(\"https://www.facebook.com/\",tolower(datos[i,2]),\"/\",sep=\"\")==tolower(medios[k,9])){\n",
    "                tipo[i] = medios[k,4]\n",
    "                encuentra = TRUE\n",
    "            }\n",
    "            else{\n",
    "                k= k+1\n",
    "            }\n",
    "    if (!encuentra)\n",
    "        tipo[i]=i\n",
    "    }\n",
    "}\n",
    "    "
   ]
  },
  {
   "cell_type": "code",
   "execution_count": 33,
   "id": "c8f68348",
   "metadata": {
    "scrolled": false
   },
   "outputs": [
    {
     "data": {
      "text/plain": [
       "   Min. 1st Qu.  Median    Mean 3rd Qu.    Max. \n",
       "  1.000   2.000   2.000   2.099   2.000   3.000 "
      ]
     },
     "metadata": {},
     "output_type": "display_data"
    }
   ],
   "source": [
    "summary(tipo)\n",
    "\n",
    "\n"
   ]
  },
  {
   "cell_type": "code",
   "execution_count": 34,
   "id": "8fd63542",
   "metadata": {},
   "outputs": [],
   "source": [
    "datos1 <- cbind(tipo,datos)\n"
   ]
  },
  {
   "cell_type": "code",
   "execution_count": 35,
   "id": "a46ca00f",
   "metadata": {},
   "outputs": [],
   "source": [
    "write.csv(datos1, \"./data/luis/FN_PLU_2017-2021_fbk_v1.csv\")"
   ]
  },
  {
   "cell_type": "code",
   "execution_count": 6,
   "id": "969d3d37",
   "metadata": {},
   "outputs": [],
   "source": [
    "datosNac <- datos1[datos1[,1]==2,]\n",
    "datosReg <- datos1[datos1[,1]==1 ,]\n",
    "datosReg <- rbind(datosReg,datos1[datos1[,1]==3 ,] )"
   ]
  },
  {
   "cell_type": "code",
   "execution_count": 7,
   "id": "d4413c70",
   "metadata": {},
   "outputs": [
    {
     "data": {
      "text/html": [
       "<style>\n",
       ".list-inline {list-style: none; margin:0; padding: 0}\n",
       ".list-inline>li {display: inline-block}\n",
       ".list-inline>li:not(:last-child)::after {content: \"\\00b7\"; padding: 0 .5ex}\n",
       "</style>\n",
       "<ol class=list-inline><li>3991</li><li>12</li></ol>\n"
      ],
      "text/latex": [
       "\\begin{enumerate*}\n",
       "\\item 3991\n",
       "\\item 12\n",
       "\\end{enumerate*}\n"
      ],
      "text/markdown": [
       "1. 3991\n",
       "2. 12\n",
       "\n",
       "\n"
      ],
      "text/plain": [
       "[1] 3991   12"
      ]
     },
     "metadata": {},
     "output_type": "display_data"
    },
    {
     "data": {
      "text/html": [
       "<style>\n",
       ".list-inline {list-style: none; margin:0; padding: 0}\n",
       ".list-inline>li {display: inline-block}\n",
       ".list-inline>li:not(:last-child)::after {content: \"\\00b7\"; padding: 0 .5ex}\n",
       "</style>\n",
       "<ol class=list-inline><li>703</li><li>12</li></ol>\n"
      ],
      "text/latex": [
       "\\begin{enumerate*}\n",
       "\\item 703\n",
       "\\item 12\n",
       "\\end{enumerate*}\n"
      ],
      "text/markdown": [
       "1. 703\n",
       "2. 12\n",
       "\n",
       "\n"
      ],
      "text/plain": [
       "[1] 703  12"
      ]
     },
     "metadata": {},
     "output_type": "display_data"
    }
   ],
   "source": [
    "dim(datosNac)\n",
    "dim(datosReg)\n",
    "\n"
   ]
  },
  {
   "cell_type": "code",
   "execution_count": 8,
   "id": "21524376",
   "metadata": {},
   "outputs": [
    {
     "data": {
      "text/html": [
       "'https://www.facebook.com/ thecliniconline'"
      ],
      "text/latex": [
       "'https://www.facebook.com/ thecliniconline'"
      ],
      "text/markdown": [
       "'https://www.facebook.com/ thecliniconline'"
      ],
      "text/plain": [
       "[1] \"https://www.facebook.com/ thecliniconline\""
      ]
     },
     "metadata": {},
     "output_type": "display_data"
    }
   ],
   "source": [
    "paste(\"https://www.facebook.com/\",datos[1,2])"
   ]
  },
  {
   "cell_type": "code",
   "execution_count": 58,
   "id": "8f5804c0",
   "metadata": {},
   "outputs": [],
   "source": [
    "datosI <-read.csv(\"./data/luis/FN_PLU_2017-2021_igram.csv\",sep=\",\",header=TRUE)"
   ]
  },
  {
   "cell_type": "code",
   "execution_count": 37,
   "id": "6bbdabbe",
   "metadata": {},
   "outputs": [
    {
     "data": {
      "text/html": [
       "<style>\n",
       ".list-inline {list-style: none; margin:0; padding: 0}\n",
       ".list-inline>li {display: inline-block}\n",
       ".list-inline>li:not(:last-child)::after {content: \"\\00b7\"; padding: 0 .5ex}\n",
       "</style>\n",
       "<ol class=list-inline><li>678</li><li>11</li></ol>\n"
      ],
      "text/latex": [
       "\\begin{enumerate*}\n",
       "\\item 678\n",
       "\\item 11\n",
       "\\end{enumerate*}\n"
      ],
      "text/markdown": [
       "1. 678\n",
       "2. 11\n",
       "\n",
       "\n"
      ],
      "text/plain": [
       "[1] 678  11"
      ]
     },
     "metadata": {},
     "output_type": "display_data"
    }
   ],
   "source": [
    "dim(datosI)"
   ]
  },
  {
   "cell_type": "code",
   "execution_count": 68,
   "id": "21d01fb5",
   "metadata": {
    "scrolled": true
   },
   "outputs": [
    {
     "data": {
      "text/plain": [
       "NULL"
      ]
     },
     "metadata": {},
     "output_type": "display_data"
    }
   ],
   "source": [
    "tipoI = rep(NULL,678)\n",
    "tipoI\n",
    "for (i in 1:678){\n",
    "    encuentra=FALSE\n",
    "    k=1\n",
    "    while (k <= 159 && !encuentra){       \n",
    "            if (paste(\"https://www.instagram.com/\",tolower(datosI[i,11]),\"/\",sep=\"\")==tolower(medios[k,10])){\n",
    "                tipoI[i] = medios[k,4]\n",
    "                encuentra = TRUE\n",
    "            }\n",
    "            else\n",
    "                k= k+1\n",
    "    }\n",
    "    if(!encuentra){\n",
    "        tipoI[i]=i\n",
    "    }\n",
    "}\n",
    "    "
   ]
  },
  {
   "cell_type": "code",
   "execution_count": 69,
   "id": "c76e604a",
   "metadata": {},
   "outputs": [
    {
     "data": {
      "text/plain": [
       "   Min. 1st Qu.  Median    Mean 3rd Qu.    Max. \n",
       "  1.000   2.000   2.000   2.025   2.000   3.000 "
      ]
     },
     "metadata": {},
     "output_type": "display_data"
    }
   ],
   "source": [
    "summary(tipoI)"
   ]
  },
  {
   "cell_type": "code",
   "execution_count": 70,
   "id": "6e8b55cd",
   "metadata": {
    "scrolled": true
   },
   "outputs": [],
   "source": [
    "datos2 <- cbind(tipoI,datosI)\n"
   ]
  },
  {
   "cell_type": "code",
   "execution_count": 71,
   "id": "9ef8f6a8",
   "metadata": {},
   "outputs": [],
   "source": [
    "write.csv(datos2, \"./data/luis/FN_PLU_2017-2021_igram_v1.csv\")"
   ]
  },
  {
   "cell_type": "code",
   "execution_count": 1,
   "id": "e3c5291f",
   "metadata": {},
   "outputs": [],
   "source": [
    "datosT <-read.csv(\"./data/FN_PLU_2017-2021_Twitter_def.csv\",sep=\",\",header=TRUE)"
   ]
  },
  {
   "cell_type": "code",
   "execution_count": 74,
   "id": "ec95cb21",
   "metadata": {},
   "outputs": [
    {
     "data": {
      "text/html": [
       "<style>\n",
       ".list-inline {list-style: none; margin:0; padding: 0}\n",
       ".list-inline>li {display: inline-block}\n",
       ".list-inline>li:not(:last-child)::after {content: \"\\00b7\"; padding: 0 .5ex}\n",
       "</style>\n",
       "<ol class=list-inline><li>5364</li><li>15</li></ol>\n"
      ],
      "text/latex": [
       "\\begin{enumerate*}\n",
       "\\item 5364\n",
       "\\item 15\n",
       "\\end{enumerate*}\n"
      ],
      "text/markdown": [
       "1. 5364\n",
       "2. 15\n",
       "\n",
       "\n"
      ],
      "text/plain": [
       "[1] 5364   15"
      ]
     },
     "metadata": {},
     "output_type": "display_data"
    }
   ],
   "source": [
    "dim(datosT)"
   ]
  },
  {
   "cell_type": "code",
   "execution_count": 75,
   "id": "d515dbb1",
   "metadata": {},
   "outputs": [
    {
     "data": {
      "text/html": [
       "<style>\n",
       ".list-inline {list-style: none; margin:0; padding: 0}\n",
       ".list-inline>li {display: inline-block}\n",
       ".list-inline>li:not(:last-child)::after {content: \"\\00b7\"; padding: 0 .5ex}\n",
       "</style>\n",
       "<ol class=list-inline><li>thecliniccl</li><li>PublimetroChile</li><li>thecliniccl</li><li>El_Ciudadano</li><li>lacuarta</li><li>thecliniccl</li><li>thecliniccl</li><li>uchileradio</li><li>eldesconcierto</li><li>elnortero</li></ol>\n",
       "\n",
       "<details>\n",
       "\t<summary style=display:list-item;cursor:pointer>\n",
       "\t\t<strong>Levels</strong>:\n",
       "\t</summary>\n",
       "\t<style>\n",
       "\t.list-inline {list-style: none; margin:0; padding: 0}\n",
       "\t.list-inline>li {display: inline-block}\n",
       "\t.list-inline>li:not(:last-child)::after {content: \"\\00b7\"; padding: 0 .5ex}\n",
       "\t</style>\n",
       "\t<ol class=list-inline><li>'24HorasTVN'</li><li>'adnradiochile'</li><li>'AgriculturaFM'</li><li>'alamediaCL'</li><li>'alertaconcon'</li><li>'ASChile'</li><li>'biobio'</li><li>'calamaenlinea'</li><li>'cambio21cl'</li><li>'Canal_21tv'</li><li>'CanalVertice'</li><li>'chicureohoy'</li><li>'CHVNoticias'</li><li>'ciper'</li><li>'Clave9cl'</li><li>'CNNChile'</li><li>'Cooperativa'</li><li>'ddivisadero'</li><li>'DFinanciero'</li><li>'diario_eha'</li><li>'diarioafta'</li><li>'DiarioConce'</li><li>'diarioeltrabajo'</li><li>'diariolabatalla'</li><li>'DiarioLaHora'</li><li>'DiarioOvalleHoy'</li><li>'DiarioPaillaco'</li><li>'DigitalFmChile'</li><li>'El_Ciudadano'</li><li>'el_dinamo'</li><li>'el_serenense'</li><li>'elamaule'</li><li>'elandacollino'</li><li>'ElBoyaldia'</li><li>'elcachapoal'</li><li>'ELCLARINDECHILE'</li><li>'ElComunicadorcl'</li><li>'elconcecuente'</li><li>'eldefinido'</li><li>'ElDeportivoLT'</li><li>'eldesconcierto'</li><li>'eldia_cl'</li><li>'elepicentro'</li><li>'elhurtadino'</li><li>'elliberocl'</li><li>'elmagallanews'</li><li>'elmorrocotudo'</li><li>'elmostrador'</li><li>'elnaveghable'</li><li>'elnortero'</li><li>'elobservatodo'</li><li>'ElPeriodista'</li><li>'elqhaydecierto'</li><li>'Elquiglobal'</li><li>'elrepuertero'</li><li>'elsiglochile'</li><li>'elsoldeiquique'</li><li>'elsurcl'</li><li>'elvacanudo'</li><li>'Emol'</li><li>'EnfDig'</li><li>'eo_enlinea'</li><li>'FMConquistador'</li><li>'FortinOficial'</li><li>'fundacionREM'</li><li>'GlamoramaCL'</li><li>'informavaldivia'</li><li>'InterferenciaCL'</li><li>'La_Segunda'</li><li>'lacuarta'</li><li>'ladiscusioncl'</li><li>'laestrellavalpo'</li><li>'lanalhue'</li><li>'laopinon'</li><li>'laperladelimari'</li><li>'laprensacurico'</li><li>'LaPrensAustral'</li><li>'LaRedTV'</li><li>'latercera'</li><li>'latribunacl'</li><li>'lavozdemaipu'</li><li>'LID_Chile'</li><li>'lun'</li><li>'mapuexpress'</li><li>'MauleNoticias'</li><li>'meganoticiascl'</li><li>'mercurioafta'</li><li>'nacioncl'</li><li>'NoticierodelHua'</li><li>'Pagina7Chile'</li><li>'pinguinodiario'</li><li>'portaldemeli'</li><li>'PublimetroChile'</li><li>'pulso_tw'</li><li>'radiochiloe'</li><li>'RadioDuna'</li><li>'radioelsalar1'</li><li>'radiolaclave'</li><li>'radiolasnieves'</li><li>'RadioPudahuel'</li><li>'red_coquimbo'</li><li>'Red_OHiggins'</li><li>'RedAntofagasta'</li><li>'RedAraucania'</li><li>'RedArica'</li><li>'redatacama'</li><li>'RedBiobio'</li><li>'redloslagos'</li><li>'RedlosRios'</li><li>'RedMaule'</li><li>'RedPanguipulli'</li><li>'RedValparaiso'</li><li>'RNuevoMundo'</li><li>'rsumen'</li><li>'rvfradiopopular'</li><li>'santacruzfm943'</li><li>'T13'</li><li>'Tele13_Radio'</li><li>'thecliniccl'</li><li>'TVU_television'</li><li>'uchileradio'</li></ol>\n",
       "</details>"
      ],
      "text/latex": [
       "\\begin{enumerate*}\n",
       "\\item thecliniccl\n",
       "\\item PublimetroChile\n",
       "\\item thecliniccl\n",
       "\\item El\\_Ciudadano\n",
       "\\item lacuarta\n",
       "\\item thecliniccl\n",
       "\\item thecliniccl\n",
       "\\item uchileradio\n",
       "\\item eldesconcierto\n",
       "\\item elnortero\n",
       "\\end{enumerate*}\n",
       "\n",
       "\\emph{Levels}: \\begin{enumerate*}\n",
       "\\item '24HorasTVN'\n",
       "\\item 'adnradiochile'\n",
       "\\item 'AgriculturaFM'\n",
       "\\item 'alamediaCL'\n",
       "\\item 'alertaconcon'\n",
       "\\item 'ASChile'\n",
       "\\item 'biobio'\n",
       "\\item 'calamaenlinea'\n",
       "\\item 'cambio21cl'\n",
       "\\item 'Canal\\_21tv'\n",
       "\\item 'CanalVertice'\n",
       "\\item 'chicureohoy'\n",
       "\\item 'CHVNoticias'\n",
       "\\item 'ciper'\n",
       "\\item 'Clave9cl'\n",
       "\\item 'CNNChile'\n",
       "\\item 'Cooperativa'\n",
       "\\item 'ddivisadero'\n",
       "\\item 'DFinanciero'\n",
       "\\item 'diario\\_eha'\n",
       "\\item 'diarioafta'\n",
       "\\item 'DiarioConce'\n",
       "\\item 'diarioeltrabajo'\n",
       "\\item 'diariolabatalla'\n",
       "\\item 'DiarioLaHora'\n",
       "\\item 'DiarioOvalleHoy'\n",
       "\\item 'DiarioPaillaco'\n",
       "\\item 'DigitalFmChile'\n",
       "\\item 'El\\_Ciudadano'\n",
       "\\item 'el\\_dinamo'\n",
       "\\item 'el\\_serenense'\n",
       "\\item 'elamaule'\n",
       "\\item 'elandacollino'\n",
       "\\item 'ElBoyaldia'\n",
       "\\item 'elcachapoal'\n",
       "\\item 'ELCLARINDECHILE'\n",
       "\\item 'ElComunicadorcl'\n",
       "\\item 'elconcecuente'\n",
       "\\item 'eldefinido'\n",
       "\\item 'ElDeportivoLT'\n",
       "\\item 'eldesconcierto'\n",
       "\\item 'eldia\\_cl'\n",
       "\\item 'elepicentro'\n",
       "\\item 'elhurtadino'\n",
       "\\item 'elliberocl'\n",
       "\\item 'elmagallanews'\n",
       "\\item 'elmorrocotudo'\n",
       "\\item 'elmostrador'\n",
       "\\item 'elnaveghable'\n",
       "\\item 'elnortero'\n",
       "\\item 'elobservatodo'\n",
       "\\item 'ElPeriodista'\n",
       "\\item 'elqhaydecierto'\n",
       "\\item 'Elquiglobal'\n",
       "\\item 'elrepuertero'\n",
       "\\item 'elsiglochile'\n",
       "\\item 'elsoldeiquique'\n",
       "\\item 'elsurcl'\n",
       "\\item 'elvacanudo'\n",
       "\\item 'Emol'\n",
       "\\item 'EnfDig'\n",
       "\\item 'eo\\_enlinea'\n",
       "\\item 'FMConquistador'\n",
       "\\item 'FortinOficial'\n",
       "\\item 'fundacionREM'\n",
       "\\item 'GlamoramaCL'\n",
       "\\item 'informavaldivia'\n",
       "\\item 'InterferenciaCL'\n",
       "\\item 'La\\_Segunda'\n",
       "\\item 'lacuarta'\n",
       "\\item 'ladiscusioncl'\n",
       "\\item 'laestrellavalpo'\n",
       "\\item 'lanalhue'\n",
       "\\item 'laopinon'\n",
       "\\item 'laperladelimari'\n",
       "\\item 'laprensacurico'\n",
       "\\item 'LaPrensAustral'\n",
       "\\item 'LaRedTV'\n",
       "\\item 'latercera'\n",
       "\\item 'latribunacl'\n",
       "\\item 'lavozdemaipu'\n",
       "\\item 'LID\\_Chile'\n",
       "\\item 'lun'\n",
       "\\item 'mapuexpress'\n",
       "\\item 'MauleNoticias'\n",
       "\\item 'meganoticiascl'\n",
       "\\item 'mercurioafta'\n",
       "\\item 'nacioncl'\n",
       "\\item 'NoticierodelHua'\n",
       "\\item 'Pagina7Chile'\n",
       "\\item 'pinguinodiario'\n",
       "\\item 'portaldemeli'\n",
       "\\item 'PublimetroChile'\n",
       "\\item 'pulso\\_tw'\n",
       "\\item 'radiochiloe'\n",
       "\\item 'RadioDuna'\n",
       "\\item 'radioelsalar1'\n",
       "\\item 'radiolaclave'\n",
       "\\item 'radiolasnieves'\n",
       "\\item 'RadioPudahuel'\n",
       "\\item 'red\\_coquimbo'\n",
       "\\item 'Red\\_OHiggins'\n",
       "\\item 'RedAntofagasta'\n",
       "\\item 'RedAraucania'\n",
       "\\item 'RedArica'\n",
       "\\item 'redatacama'\n",
       "\\item 'RedBiobio'\n",
       "\\item 'redloslagos'\n",
       "\\item 'RedlosRios'\n",
       "\\item 'RedMaule'\n",
       "\\item 'RedPanguipulli'\n",
       "\\item 'RedValparaiso'\n",
       "\\item 'RNuevoMundo'\n",
       "\\item 'rsumen'\n",
       "\\item 'rvfradiopopular'\n",
       "\\item 'santacruzfm943'\n",
       "\\item 'T13'\n",
       "\\item 'Tele13\\_Radio'\n",
       "\\item 'thecliniccl'\n",
       "\\item 'TVU\\_television'\n",
       "\\item 'uchileradio'\n",
       "\\end{enumerate*}\n"
      ],
      "text/markdown": [
       "1. thecliniccl\n",
       "2. PublimetroChile\n",
       "3. thecliniccl\n",
       "4. El_Ciudadano\n",
       "5. lacuarta\n",
       "6. thecliniccl\n",
       "7. thecliniccl\n",
       "8. uchileradio\n",
       "9. eldesconcierto\n",
       "10. elnortero\n",
       "\n",
       "\n",
       "\n",
       "**Levels**: 1. '24HorasTVN'\n",
       "2. 'adnradiochile'\n",
       "3. 'AgriculturaFM'\n",
       "4. 'alamediaCL'\n",
       "5. 'alertaconcon'\n",
       "6. 'ASChile'\n",
       "7. 'biobio'\n",
       "8. 'calamaenlinea'\n",
       "9. 'cambio21cl'\n",
       "10. 'Canal_21tv'\n",
       "11. 'CanalVertice'\n",
       "12. 'chicureohoy'\n",
       "13. 'CHVNoticias'\n",
       "14. 'ciper'\n",
       "15. 'Clave9cl'\n",
       "16. 'CNNChile'\n",
       "17. 'Cooperativa'\n",
       "18. 'ddivisadero'\n",
       "19. 'DFinanciero'\n",
       "20. 'diario_eha'\n",
       "21. 'diarioafta'\n",
       "22. 'DiarioConce'\n",
       "23. 'diarioeltrabajo'\n",
       "24. 'diariolabatalla'\n",
       "25. 'DiarioLaHora'\n",
       "26. 'DiarioOvalleHoy'\n",
       "27. 'DiarioPaillaco'\n",
       "28. 'DigitalFmChile'\n",
       "29. 'El_Ciudadano'\n",
       "30. 'el_dinamo'\n",
       "31. 'el_serenense'\n",
       "32. 'elamaule'\n",
       "33. 'elandacollino'\n",
       "34. 'ElBoyaldia'\n",
       "35. 'elcachapoal'\n",
       "36. 'ELCLARINDECHILE'\n",
       "37. 'ElComunicadorcl'\n",
       "38. 'elconcecuente'\n",
       "39. 'eldefinido'\n",
       "40. 'ElDeportivoLT'\n",
       "41. 'eldesconcierto'\n",
       "42. 'eldia_cl'\n",
       "43. 'elepicentro'\n",
       "44. 'elhurtadino'\n",
       "45. 'elliberocl'\n",
       "46. 'elmagallanews'\n",
       "47. 'elmorrocotudo'\n",
       "48. 'elmostrador'\n",
       "49. 'elnaveghable'\n",
       "50. 'elnortero'\n",
       "51. 'elobservatodo'\n",
       "52. 'ElPeriodista'\n",
       "53. 'elqhaydecierto'\n",
       "54. 'Elquiglobal'\n",
       "55. 'elrepuertero'\n",
       "56. 'elsiglochile'\n",
       "57. 'elsoldeiquique'\n",
       "58. 'elsurcl'\n",
       "59. 'elvacanudo'\n",
       "60. 'Emol'\n",
       "61. 'EnfDig'\n",
       "62. 'eo_enlinea'\n",
       "63. 'FMConquistador'\n",
       "64. 'FortinOficial'\n",
       "65. 'fundacionREM'\n",
       "66. 'GlamoramaCL'\n",
       "67. 'informavaldivia'\n",
       "68. 'InterferenciaCL'\n",
       "69. 'La_Segunda'\n",
       "70. 'lacuarta'\n",
       "71. 'ladiscusioncl'\n",
       "72. 'laestrellavalpo'\n",
       "73. 'lanalhue'\n",
       "74. 'laopinon'\n",
       "75. 'laperladelimari'\n",
       "76. 'laprensacurico'\n",
       "77. 'LaPrensAustral'\n",
       "78. 'LaRedTV'\n",
       "79. 'latercera'\n",
       "80. 'latribunacl'\n",
       "81. 'lavozdemaipu'\n",
       "82. 'LID_Chile'\n",
       "83. 'lun'\n",
       "84. 'mapuexpress'\n",
       "85. 'MauleNoticias'\n",
       "86. 'meganoticiascl'\n",
       "87. 'mercurioafta'\n",
       "88. 'nacioncl'\n",
       "89. 'NoticierodelHua'\n",
       "90. 'Pagina7Chile'\n",
       "91. 'pinguinodiario'\n",
       "92. 'portaldemeli'\n",
       "93. 'PublimetroChile'\n",
       "94. 'pulso_tw'\n",
       "95. 'radiochiloe'\n",
       "96. 'RadioDuna'\n",
       "97. 'radioelsalar1'\n",
       "98. 'radiolaclave'\n",
       "99. 'radiolasnieves'\n",
       "100. 'RadioPudahuel'\n",
       "101. 'red_coquimbo'\n",
       "102. 'Red_OHiggins'\n",
       "103. 'RedAntofagasta'\n",
       "104. 'RedAraucania'\n",
       "105. 'RedArica'\n",
       "106. 'redatacama'\n",
       "107. 'RedBiobio'\n",
       "108. 'redloslagos'\n",
       "109. 'RedlosRios'\n",
       "110. 'RedMaule'\n",
       "111. 'RedPanguipulli'\n",
       "112. 'RedValparaiso'\n",
       "113. 'RNuevoMundo'\n",
       "114. 'rsumen'\n",
       "115. 'rvfradiopopular'\n",
       "116. 'santacruzfm943'\n",
       "117. 'T13'\n",
       "118. 'Tele13_Radio'\n",
       "119. 'thecliniccl'\n",
       "120. 'TVU_television'\n",
       "121. 'uchileradio'\n",
       "\n",
       "\n"
      ],
      "text/plain": [
       " [1] thecliniccl     PublimetroChile thecliniccl     El_Ciudadano   \n",
       " [5] lacuarta        thecliniccl     thecliniccl     uchileradio    \n",
       " [9] eldesconcierto  elnortero      \n",
       "121 Levels: 24HorasTVN adnradiochile AgriculturaFM alamediaCL ... uchileradio"
      ]
     },
     "metadata": {},
     "output_type": "display_data"
    }
   ],
   "source": [
    "datosT[1:10,2]"
   ]
  },
  {
   "cell_type": "code",
   "execution_count": 22,
   "id": "7280867f",
   "metadata": {},
   "outputs": [
    {
     "data": {
      "text/html": [
       "'https://twitter.com/el_ciudadano'"
      ],
      "text/latex": [
       "'https://twitter.com/el\\_ciudadano'"
      ],
      "text/markdown": [
       "'https://twitter.com/el_ciudadano'"
      ],
      "text/plain": [
       "[1] \"https://twitter.com/el_ciudadano\""
      ]
     },
     "metadata": {},
     "output_type": "display_data"
    }
   ],
   "source": [
    "paste(\"https://twitter.com/\",tolower(datosT[4,2]),sep=\"\")"
   ]
  },
  {
   "cell_type": "code",
   "execution_count": 34,
   "id": "25d19c19",
   "metadata": {
    "scrolled": false
   },
   "outputs": [],
   "source": [
    "tipoT = rep(NULL,5364)\n",
    "\n",
    "for (i in 1:5364){\n",
    "    encuentra=FALSE\n",
    "    k=1\n",
    "    while (k <= 159 && !encuentra){       \n",
    "            if ((paste(\"https://twitter.com/\",tolower(datosT[i,2]),sep=\"\")==tolower(medios[k,8]))\n",
    "                || (paste(\"http://twitter.com/\",tolower(datosT[i,2]),sep=\"\")==tolower(medios[k,8]))){\n",
    "                tipoT[i] = medios[k,4]\n",
    "                encuentra = TRUE\n",
    "            }\n",
    "            else\n",
    "                k= k+1\n",
    "    }\n",
    "    if(!encuentra){\n",
    "        tipoT[i]=i\n",
    "    }\n",
    "}\n",
    "    "
   ]
  },
  {
   "cell_type": "code",
   "execution_count": 35,
   "id": "2e808a1e",
   "metadata": {},
   "outputs": [
    {
     "data": {
      "text/plain": [
       "   Min. 1st Qu.  Median    Mean 3rd Qu.    Max. \n",
       "  1.000   2.000   2.000   2.061   2.000   3.000 "
      ]
     },
     "metadata": {},
     "output_type": "display_data"
    }
   ],
   "source": [
    "summary(tipoT)\n"
   ]
  },
  {
   "cell_type": "code",
   "execution_count": 36,
   "id": "ec232878",
   "metadata": {},
   "outputs": [],
   "source": [
    "datos3 <- cbind(tipoT,datosT)"
   ]
  },
  {
   "cell_type": "code",
   "execution_count": 37,
   "id": "e680ac55",
   "metadata": {},
   "outputs": [],
   "source": [
    "write.csv(datos3, \"./data/luis/FN_PLU_2017-2021_Twitter_def_V1.csv\")"
   ]
  }
 ],
 "metadata": {
  "kernelspec": {
   "display_name": "R",
   "language": "R",
   "name": "ir"
  },
  "language_info": {
   "codemirror_mode": "r",
   "file_extension": ".r",
   "mimetype": "text/x-r-source",
   "name": "R",
   "pygments_lexer": "r",
   "version": "3.6.1"
  }
 },
 "nbformat": 4,
 "nbformat_minor": 5
}
