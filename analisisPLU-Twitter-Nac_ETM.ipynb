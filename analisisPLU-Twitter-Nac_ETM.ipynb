{
 "cells": [
  {
   "cell_type": "markdown",
   "metadata": {},
   "source": [
    "### Cargar un modelo Word2Vec pre-entrenado para el español\n",
    "\n",
    "ver: https://github.com/dccuchile/spanish-word-embeddings"
   ]
  },
  {
   "cell_type": "code",
   "execution_count": 2,
   "metadata": {
    "scrolled": true
   },
   "outputs": [],
   "source": [
    "from gensim.models import KeyedVectors\n",
    "\n",
    "model = KeyedVectors.load_word2vec_format(\"data/SBW-vectors-300-min5.bin.gz\", binary=True) "
   ]
  },
  {
   "cell_type": "code",
   "execution_count": 3,
   "metadata": {},
   "outputs": [],
   "source": [
    "import pandas as pd\n",
    "#from pandasql import sqldf #para utilizar una síntaxis SQL para consultar nuestros datos\n",
    "\n",
    "dataset=\"data/luis/FN_PLU_2017-2021_Twitter_def_v1.csv\"\n",
    "df = pd.read_csv(dataset)\n",
    "\n"
   ]
  },
  {
   "cell_type": "code",
   "execution_count": 4,
   "metadata": {},
   "outputs": [
    {
     "name": "stdout",
     "output_type": "stream",
     "text": [
      "28      Embajada de EE.UU. desmiente cancelación del p...\n",
      "109     🔵⚠️ NOTICIA FALSA | SERVEL informó: “Desmentim...\n",
      "120     Policía de Brasil acusa a Jair Bolsonaro de te...\n",
      "292     El padre de Mayol era asesor de la DINACOS cua...\n",
      "339     RT @ServelChile: NOTICIA FALSA | Esta informac...\n",
      "                              ...                        \n",
      "5004    #Calama Concejo Municipal solicitó a Contralor...\n",
      "5024    Fiscalía inició investigación contra isapre Ma...\n",
      "5215    PDI solicitó datos a Facebook y Whatsapp por i...\n",
      "5303    RT @canal_chile: Colegio de Periodistas advier...\n",
      "5337    Donald Trump ignora a periodista de CNN y acus...\n",
      "Name: Message, Length: 124, dtype: object\n"
     ]
    }
   ],
   "source": [
    "noticias = df.Message[df[\"tipoT\"]==1]\n",
    "\n"
   ]
  },
  {
   "cell_type": "code",
   "execution_count": 28,
   "metadata": {},
   "outputs": [
    {
     "data": {
      "text/plain": [
       "124"
      ]
     },
     "execution_count": 28,
     "metadata": {},
     "output_type": "execute_result"
    }
   ],
   "source": [
    "len(noticias)"
   ]
  },
  {
   "cell_type": "code",
   "execution_count": 7,
   "metadata": {},
   "outputs": [],
   "source": [
    "import spacy\n",
    "nlp = spacy.load(\"es_core_news_md\")\n",
    "\n",
    "def spacy_tokenizer(texto):\n",
    "    # crea lista de tokens a partir de un texto\n",
    "    mytokens = []\n",
    "    doc = nlp(texto.lower().strip())\n",
    "    for token in doc:\n",
    "        if not token.is_stop and not token.is_punct and not token.is_space and not token.is_digit and not token.like_num:\n",
    "            mytokens.append(token.lemma_)\n",
    "    return mytokens\n"
   ]
  },
  {
   "cell_type": "code",
   "execution_count": 6,
   "metadata": {},
   "outputs": [],
   "source": [
    "import re\n",
    "# Remove Emails\n",
    "noticias = [re.sub(r'\\S*@\\S*\\s?', '', sent) for sent in noticias]\n",
    "\n",
    "# Remove new line characters\n",
    "noticias = [re.sub(r'\\s+', ' ', sent) for sent in noticias]\n",
    "\n",
    "# Remove distracting single quotes\n",
    "noticias= [re.sub(\"\\'\", \"\", sent) for sent in noticias]\n",
    "\n",
    "# Remove links\n",
    "noticias = [re.sub(r'\\S*http\\S*\\s?', '', sent) for sent in noticias]\n",
    "noticias = [re.sub(r'\\S*https\\S*\\s?', '', sent) for sent in noticias]\n"
   ]
  },
  {
   "cell_type": "code",
   "execution_count": 9,
   "metadata": {},
   "outputs": [],
   "source": [
    "documents=[]\n",
    "for noticia in noticias:\n",
    "    documents.append(spacy_tokenizer(noticia))"
   ]
  },
  {
   "cell_type": "code",
   "execution_count": 10,
   "metadata": {},
   "outputs": [],
   "source": [
    "etm_documents=[]\n",
    "for document in documents:\n",
    "    etm_documents.append(\" \".join(document))"
   ]
  },
  {
   "cell_type": "code",
   "execution_count": 15,
   "metadata": {},
   "outputs": [],
   "source": [
    "from embedded_topic_model.utils import preprocessing\n",
    "import json\n",
    "\n",
    "# Preprocessing the dataset\n",
    "diccionario, train_dataset,test_dataset, = preprocessing.create_etm_datasets(\n",
    "    etm_documents, \n",
    "    min_df=0.01, \n",
    "    max_df=0.75, \n",
    "    train_size=0.85, \n",
    ")\n",
    "\n"
   ]
  },
  {
   "cell_type": "code",
   "execution_count": 27,
   "metadata": {},
   "outputs": [],
   "source": [
    "from embedded_topic_model.models.etm import ETM\n",
    "# Training an ETM instance\n",
    "perp =[]\n",
    "numk = range(1,12)\n",
    "for k in numk:\n",
    "    etm_instance = ETM(\n",
    "       diccionario,\n",
    "        embeddings=model, # You can pass here the path to a word2vec file or\n",
    "                                   # a KeyedVectors instance\n",
    "        num_topics=k,\n",
    "        epochs=200,\n",
    "        debug_mode=False,\n",
    "        eval_perplexity=True,\n",
    "        train_embeddings=False, # Optional. If True, ETM will learn word embeddings jointly with\n",
    "                            # topic embeddings. By default, is False. If 'embeddings' argument\n",
    "                            # is being passed, this argument must not be True\n",
    "    )\n",
    "\n",
    "    etm_instance.fit(train_dataset, test_dataset)\n",
    "    perp.append(etm_instance._perplexity(test_dataset))\n",
    "\n"
   ]
  },
  {
   "cell_type": "code",
   "execution_count": 29,
   "metadata": {},
   "outputs": [
    {
     "data": {
      "image/png": "[encoded data removed]",
      "text/plain": [
       "<Figure size 432x288 with 1 Axes>"
      ]
     },
     "metadata": {
      "needs_background": "light"
     },
     "output_type": "display_data"
    }
   ],
   "source": [
    "import matplotlib.pyplot as plt\n",
    "plt.plot(numk, perp, '-o')\n",
    "plt.xlabel('number of topics, k')\n",
    "plt.ylabel('perplexity test')\n",
    "plt.xticks(numk)\n",
    "plt.show()"
   ]
  },
  {
   "cell_type": "code",
   "execution_count": 30,
   "metadata": {},
   "outputs": [
    {
     "data": {
      "text/plain": [
       "<embedded_topic_model.models.etm.ETM at 0x7f26ba737090>"
      ]
     },
     "execution_count": 30,
     "metadata": {},
     "output_type": "execute_result"
    }
   ],
   "source": [
    "from embedded_topic_model.models.etm import ETM\n",
    "etm_instance = ETM(\n",
    "       diccionario,\n",
    "        embeddings=model, # You can pass here the path to a word2vec file or\n",
    "                                   # a KeyedVectors instance\n",
    "        num_topics=3,\n",
    "        epochs=500,\n",
    "        debug_mode=False,\n",
    "        eval_perplexity=True,\n",
    "        train_embeddings=False, # Optional. If True, ETM will learn word embeddings jointly with\n",
    "                            # topic embeddings. By default, is False. If 'embeddings' argument\n",
    "                            # is being passed, this argument must not be True\n",
    "    )\n",
    "\n",
    "etm_instance.fit(train_dataset, test_dataset)"
   ]
  },
  {
   "cell_type": "code",
   "execution_count": 31,
   "metadata": {},
   "outputs": [
    {
     "name": "stdout",
     "output_type": "stream",
     "text": [
      "[['desinformación', 'información', 'falso', 'rt', 'transparencia', 'desmentir', 'diputado', 'red', 'proceso', 'detalle', 'intendente', 'leer', 'autoridad', 'campaña', 'elección', 'aparecer', 'estable', 'nota', 'cargo', 'puclaro'], ['rt', 'fake', 'new', 'informar', 'falso', 'él', 'noticia', 'llamado', 'rrss', 'coronavirus', 'llamar', 'circular', 'news', 'paso', 'responsabilidad', 'vacuna', 'video', 'difusión', 'periodista', 'difundir'], ['falso', 'noticia', 'información', 'social', 'red', 'maipú', 'circular', 'desinformación', 'rechazar', 'bus', 'acusar', 'coordinador', 'diversidad', 'ayer', 'difundir', 'médico', 'melipilla', 'chile', 'haddad', 'valdiviacl']]\n"
     ]
    }
   ],
   "source": [
    "import numpy as np\n",
    "## extrayendo resultados del análisis de tópicos\n",
    "topics = etm_instance.get_topics(20)\n",
    "dist = etm_instance.get_document_topic_dist()\n",
    "d_topic = etm_instance.get_topic_word_dist()\n",
    "\n",
    "##creando las entradas para visualización\n",
    "true_k=3\n",
    "nDoc = len(dist)\n",
    "nVocab = len(diccionario)\n",
    "dist_doc = np.array(dist).reshape(nDoc,true_k)\n",
    "dist_topic= np.array(d_topic).reshape(true_k,nVocab)\n",
    "print(topics)"
   ]
  },
  {
   "cell_type": "code",
   "execution_count": 32,
   "metadata": {},
   "outputs": [
    {
     "data": {
      "image/png": "[encoded data removed]",
      "text/plain": [
       "<Figure size 432x288 with 1 Axes>"
      ]
     },
     "metadata": {
      "needs_background": "light"
     },
     "output_type": "display_data"
    },
    {
     "name": "stdout",
     "output_type": "stream",
     "text": [
      "[0.062292907, 0.05986814, 0.048717532, 0.038846225, 0.020556016, 0.019140756, 0.019066347, 0.0180988, 0.016057752, 0.015982067, 0.015616531, 0.014535503, 0.013440116, 0.013147248, 0.01266826]\n"
     ]
    },
    {
     "data": {
      "image/png": "[encoded data removed]",
      "text/plain": [
       "<Figure size 432x288 with 1 Axes>"
      ]
     },
     "metadata": {
      "needs_background": "light"
     },
     "output_type": "display_data"
    },
    {
     "name": "stdout",
     "output_type": "stream",
     "text": [
      "[0.12121396, 0.10800066, 0.09824311, 0.039936133, 0.029604457, 0.02541941, 0.024678644, 0.02058661, 0.018533967, 0.018374369, 0.018170608, 0.017551616, 0.012694157, 0.01226797, 0.0120953815]\n"
     ]
    },
    {
     "data": {
      "image/png": "[encoded data removed]",
      "text/plain": [
       "<Figure size 432x288 with 1 Axes>"
      ]
     },
     "metadata": {
      "needs_background": "light"
     },
     "output_type": "display_data"
    },
    {
     "name": "stdout",
     "output_type": "stream",
     "text": [
      "[0.11835617, 0.09018986, 0.058770414, 0.050565135, 0.04523026, 0.03926354, 0.027969895, 0.023863647, 0.020908885, 0.01733304, 0.017166503, 0.01653775, 0.016278677, 0.016131544, 0.015383259]\n"
     ]
    },
    {
     "data": {
      "image/png": "[encoded data removed]",
      "text/plain": [
       "<Figure size 432x288 with 1 Axes>"
      ]
     },
     "metadata": {
      "needs_background": "light"
     },
     "output_type": "display_data"
    }
   ],
   "source": [
    "#Generando algunos gráficos de los resultados\n",
    "from matplotlib.pylab import hist, show\n",
    "import matplotlib.pyplot as plt\n",
    "import numpy as np\n",
    "\n",
    "dist_sum = sum(dist_doc)/nDoc\n",
    "w=np.arange(0,true_k)\n",
    "plt.bar(w,height=dist_sum,alpha=0.5,tick_label=w)\n",
    "show()\n",
    "\n",
    "#distribución de tópicos en el documento 100\n",
    "#plt.bar(w,height=dist_doc[51],alpha=0.5,tick_label=w)\n",
    "#show()\n",
    "\n",
    "#frecuencia de palabras por tópico\n",
    "n_top_words=15\n",
    "numo =np.arange(0,n_top_words)\n",
    "\n",
    "for idx,topic in enumerate(dist_topic):\n",
    "    d =[]\n",
    "    s = []\n",
    "    for i in topic.argsort()[:-n_top_words - 1:-1]:\n",
    "        s.append(diccionario[i])\n",
    "        d.append(topic[i])\n",
    "    print(d)\n",
    "    \n",
    "    plt.barh(numo,width=d,alpha=0.5,tick_label=s)\n",
    "    show()\n",
    "\n"
   ]
  },
  {
   "cell_type": "code",
   "execution_count": 33,
   "metadata": {},
   "outputs": [],
   "source": [
    "doc_l = np.zeros(len(train_dataset['counts']))\n",
    "term_f= np.zeros(len(diccionario))\n",
    "for i in range(0,len(train_dataset['counts'])):\n",
    "        for j in range(0,len(train_dataset['counts'][i])):\n",
    "                js = train_dataset['tokens'][i][j]\n",
    "             \n",
    "                term_f[js] = term_f[js] + train_dataset['counts'][i][j]\n",
    "                doc_l[i] = doc_l[i]+ train_dataset['counts'][i][j]"
   ]
  },
  {
   "cell_type": "code",
   "execution_count": 34,
   "metadata": {
    "scrolled": false
   },
   "outputs": [
    {
     "data": {
      "text/html": [
       "\n",
       "<link rel=\"stylesheet\" type=\"text/css\" href=\"https://cdn.jsdelivr.net/gh/bmabey/pyLDAvis@3.3.1/pyLDAvis/js/ldavis.v1.0.0.css\">\n",
       "\n",
       "\n",
       "<div id=\"ldavis_el42390139803908894032571678391\"></div>\n",
       "<script type=\"text/javascript\">\n",
       "\n",
       "var ldavis_el42390139803908894032571678391_data = {\"mdsDat\": {\"x\": [-0.1324867508825453, -0.15319690001592112, 0.2856836508984663], \"y\": [0.22353865507008847, -0.21299018379714127, -0.010548471272947273], \"topics\": [1, 2, 3], \"cluster\": [1, 1, 1], \"Freq\": [36.07089585610336, 32.55636512445276, 31.372739019443873]}, \"tinfo\": {\"Term\": [\"fake\", \"new\", \"rt\", \"noticia\", \"social\", \"informaci\\u00f3n\", \"maip\\u00fa\", \"informar\", \"red\", \"falso\", \"desinformaci\\u00f3n\", \"\\u00e9l\", \"llamado\", \"transparencia\", \"diputado\", \"bus\", \"intendente\", \"rechazar\", \"llamar\", \"diversidad\", \"detalle\", \"rrss\", \"coordinador\", \"ayer\", \"circular\", \"coronavirus\", \"news\", \"elecci\\u00f3n\", \"puclaro\", \"estable\", \"haddad\", \"maip\\u00fa\", \"social\", \"fakenews\", \"oxiquim\", \"familiar\", \"arma\", \"bus\", \"phishing\", \"facebook\", \"diversidad\", \"concejal\", \"alberto\", \"coordinador\", \"comunidad\", \"m\\u00e9dico\", \"comunicado\", \"marcado\", \"hurtado\", \"ayer\", \"empresa\", \"voto\", \"colegio\", \"cuidado\", \"pol\\u00edtico\", \"contagiado\", \"rondar\", \"emitir\", \"terminar\", \"servicio\", \"padre\", \"rechazar\", \"noticia\", \"inf\\u00f3rmate\", \"red\", \"falso\", \"acusar\", \"informaci\\u00f3n\", \"circular\", \"melipilla\", \"chile\", \"difundir\", \"valdiviacl\", \"persona\", \"desinformaci\\u00f3n\", \"leer\", \"cathy\", \"covid19\", \"puclaro\", \"embalse\", \"enap\", \"barrigar\", \"lago\", \"intendente\", \"sernapesca\", \"servel\", \"ln\", \"estable\", \"bustamante\", \"transparencia\", \"interponar\", \"resultar\", \"diputado\", \"cargo\", \"expuesto\", \"lugar\", \"r\\u00edo\", \"cplt\", \"regional\", \"austral\", \"consejo\", \"incidir\", \"consultora\", \"capacidad\", \"elecci\\u00f3n\", \"flores\", \"detalle\", \"so\", \"aclarado\", \"manejo\", \"participar\", \"preferencia\", \"ib\\u00e1\\u00f1ez\", \"pandemia\", \"aparecer\", \"necesario\", \"nota\", \"mostrar\", \"dato\", \"desinformaci\\u00f3n\", \"proceso\", \"informaci\\u00f3n\", \"desmentir\", \"regi\\u00f3n\", \"autoridad\", \"falso\", \"campa\\u00f1a\", \"leer\", \"rt\", \"red\", \"new\", \"fake\", \"bolsonaro\", \"bellolio\", \"radio\", \"llamado\", \"news\", \"paso\", \"video\", \"referir\", \"ministro\", \"informar\", \"querer\", \"responsabilidad\", \"mandatario\", \"gobierno\", \"calama\", \"salir\", \"pa\\u00eds\", \"foto\", \"canal\", \"cnn\", \"abundar\", \"vacuna\", \"nuevamente\", \"llamar\", \"trump\", \"difusi\\u00f3n\", \"\\u00e9l\", \"audio\", \"periodista\", \"rrss\", \"rt\", \"coronavirus\", \"circular\", \"noticia\", \"falso\", \"whatsapp\", \"difundir\"], \"Freq\": [26.0, 24.0, 39.0, 31.0, 14.0, 31.0, 11.0, 10.0, 17.0, 53.0, 24.0, 6.0, 5.0, 5.0, 4.0, 4.0, 3.0, 6.0, 4.0, 4.0, 4.0, 5.0, 4.0, 4.0, 12.0, 6.0, 3.0, 3.0, 2.0, 3.0, 2.9494746870990936, 11.07523949877463, 14.263130413032556, 1.9125076788801754, 2.0301586247939194, 1.9906601573475524, 1.9095124790252342, 4.889206989631168, 1.9512992145360195, 2.839120821952854, 4.591798079524877, 2.856877130631127, 1.843422631732638, 4.664876069723344, 2.8061537895276225, 3.786584906365404, 1.8430096637747406, 1.8239010951961643, 1.905303988767272, 4.550295850565239, 1.8748297381184327, 1.827632386792854, 2.753470164135422, 2.615392278334763, 2.6981243140070044, 1.982129689453885, 1.847241534534136, 1.8546561745644643, 1.876519307724805, 1.888044450068887, 2.803698311472618, 5.897861261423626, 25.440251103557685, 2.671043651195391, 12.758298292253498, 33.38524602192247, 4.8422310963135455, 16.57762982384523, 7.8895915364407045, 3.191655700393186, 2.9825108102195714, 4.339223776588103, 2.8768559004568632, 2.786739041461178, 6.7313241224663685, 2.3337631050777246, 1.9967872053821416, 2.069737176581483, 2.9572361200784956, 2.8922332352992184, 1.0253836314610183, 2.0494143352998484, 2.0263778142712905, 3.975824645289867, 1.0880379799455575, 0.9764160569503849, 2.002839576655184, 3.030638964001002, 1.9160017062005628, 5.233372055644617, 1.0180795768866209, 2.088354513414046, 4.854116046138362, 2.995504102292079, 2.0322405006341064, 1.9810901862955794, 1.9888600358776511, 2.9340205839159115, 2.8527228169236527, 0.9652222761856616, 2.875387792634305, 1.03851207975698, 2.052284030885433, 2.0117739730329753, 3.225222249927651, 1.9978221736735633, 4.068886907520492, 2.950369763434445, 2.019560301491623, 1.9749311172605348, 2.9309842027154653, 2.031121359663772, 2.830693522768396, 2.9013319462304934, 3.110321801088822, 2.944580342868204, 3.017118934918492, 2.7591533846643106, 2.895762085947839, 15.859199684805532, 4.088155574913545, 15.241875835021684, 4.873059878122652, 2.1144195911405035, 3.421729652162407, 12.403034396934522, 3.3471680705445563, 3.700605118495373, 9.889890485526697, 4.60778742802042, 24.102455744483578, 26.496322173193924, 2.127373320517714, 2.0028503564349736, 2.0486025928914575, 5.050612233301785, 3.1143186645306336, 3.0097601091596866, 2.8800941569256735, 2.037449969733975, 1.9881573449259888, 9.797723961152714, 1.9764250531497416, 2.967418252602172, 1.8792768653302694, 1.9944121452565717, 1.9415834733283626, 2.0782755941455995, 1.7249161616906163, 1.8906797947439036, 0.9085063778507729, 1.9512052412451177, 1.9534601681661232, 2.9611847014562738, 1.8741620951823146, 4.457882905989073, 1.7875119185405215, 2.869982286846029, 6.236266471820652, 2.5941854630493406, 2.702425611031308, 4.547027576972752, 29.738004566465204, 4.507872412660375, 4.306022523080655, 6.054530649188946, 7.263004227200634, 2.381925757832676, 2.6330924917212055], \"Total\": [26.0, 24.0, 39.0, 31.0, 14.0, 31.0, 11.0, 10.0, 17.0, 53.0, 24.0, 6.0, 5.0, 5.0, 4.0, 4.0, 3.0, 6.0, 4.0, 4.0, 4.0, 5.0, 4.0, 4.0, 12.0, 6.0, 3.0, 3.0, 2.0, 3.0, 2.9506997170611005, 11.082188216967648, 14.282886448140033, 1.9164045352356616, 2.038025661180042, 2.002755877577947, 1.929658709476044, 4.951230503522827, 1.9798236690701279, 2.88760256780825, 4.691085078365376, 2.92282217346826, 1.890190611709436, 4.842530365518574, 2.915622326374764, 3.944695808741294, 1.9220420811611318, 1.9043639340320992, 1.9899705071635463, 4.753313848610044, 1.984253122118958, 1.93553392475742, 2.9194582389363544, 2.7897589136500938, 2.8780357691518343, 2.1167228469160926, 1.9767199833056597, 1.995096971193017, 2.0202490020673896, 2.0336902951007403, 3.0660378809597844, 6.691716935886714, 31.55455824400775, 2.950824324590762, 17.452160512406763, 53.051284646057624, 5.919951669315959, 31.88780525810458, 12.58273603551029, 3.978823786978993, 3.8576441963262016, 7.417060518858882, 4.035478467365846, 3.882012086762263, 24.55819328238811, 6.08085954037458, 1.997131163907101, 2.0707705944269965, 2.9630782030470217, 2.8990924117645376, 1.0281474379603337, 2.057295674595141, 2.0357442372155106, 3.994726964310375, 1.093618111699246, 0.9826939019684338, 2.0188018281457794, 3.05508999560883, 1.9339767225525077, 5.291188847871786, 1.0294505194838544, 2.1147181716158494, 4.916775802631296, 3.040985766580005, 2.064775006660731, 2.013638334996203, 2.022429905684394, 2.989034134210004, 2.9087257866010767, 0.9841968300426611, 2.93336938828462, 1.0600817950943462, 2.0967203627803475, 2.05663853603613, 3.29996767115712, 2.0459121316634854, 4.188268215200384, 3.033552239844758, 2.0725667953455433, 2.026195956033877, 3.0446006230708096, 2.0863432296132824, 2.9580522602652515, 3.069499749609729, 3.3166618794041147, 3.13207331896165, 3.279857344806907, 2.9763953973948856, 3.1534224769322927, 24.55819328238811, 5.03798907530221, 31.88780525810458, 7.107009567020738, 2.1822030207685774, 5.041014587137401, 53.051284646057624, 5.003273042485379, 6.08085954037458, 39.62890778249311, 17.452160512406763, 24.104495828353308, 26.561446634239616, 2.133232416469033, 2.0157618058807123, 2.069282253054836, 5.106691240901407, 3.162500426428499, 3.0812312459830746, 2.952632329707087, 2.093444463367108, 2.044392257356816, 10.093395549242539, 2.049376949472381, 3.0828175890328886, 1.9527561167415017, 2.095182061791704, 2.0409716598870546, 2.185756630213789, 1.8281245797030103, 2.0071351648795783, 0.9680149277448585, 2.0797181519439425, 2.0904443768565293, 3.1744170082444203, 2.014933004328474, 4.859506177115283, 1.9501145492745355, 3.1373665524143477, 6.817714220633371, 2.8408246825440706, 2.990982663835031, 5.192411939562756, 39.62890778249311, 6.0753708994319275, 12.58273603551029, 31.55455824400775, 53.051284646057624, 3.8855348304108217, 7.417060518858882], \"Category\": [\"Default\", \"Default\", \"Default\", \"Default\", \"Default\", \"Default\", \"Default\", \"Default\", \"Default\", \"Default\", \"Default\", \"Default\", \"Default\", \"Default\", \"Default\", \"Default\", \"Default\", \"Default\", \"Default\", \"Default\", \"Default\", \"Default\", \"Default\", \"Default\", \"Default\", \"Default\", \"Default\", \"Default\", \"Default\", \"Default\", \"Topic1\", \"Topic1\", \"Topic1\", \"Topic1\", \"Topic1\", \"Topic1\", \"Topic1\", \"Topic1\", \"Topic1\", \"Topic1\", \"Topic1\", \"Topic1\", \"Topic1\", \"Topic1\", \"Topic1\", \"Topic1\", \"Topic1\", \"Topic1\", \"Topic1\", \"Topic1\", \"Topic1\", \"Topic1\", \"Topic1\", \"Topic1\", \"Topic1\", \"Topic1\", \"Topic1\", \"Topic1\", \"Topic1\", \"Topic1\", \"Topic1\", \"Topic1\", \"Topic1\", \"Topic1\", \"Topic1\", \"Topic1\", \"Topic1\", \"Topic1\", \"Topic1\", \"Topic1\", \"Topic1\", \"Topic1\", \"Topic1\", \"Topic1\", \"Topic1\", \"Topic1\", \"Topic2\", \"Topic2\", \"Topic2\", \"Topic2\", \"Topic2\", \"Topic2\", \"Topic2\", \"Topic2\", \"Topic2\", \"Topic2\", \"Topic2\", \"Topic2\", \"Topic2\", \"Topic2\", \"Topic2\", \"Topic2\", \"Topic2\", \"Topic2\", \"Topic2\", \"Topic2\", \"Topic2\", \"Topic2\", \"Topic2\", \"Topic2\", \"Topic2\", \"Topic2\", \"Topic2\", \"Topic2\", \"Topic2\", \"Topic2\", \"Topic2\", \"Topic2\", \"Topic2\", \"Topic2\", \"Topic2\", \"Topic2\", \"Topic2\", \"Topic2\", \"Topic2\", \"Topic2\", \"Topic2\", \"Topic2\", \"Topic2\", \"Topic2\", \"Topic2\", \"Topic2\", \"Topic2\", \"Topic2\", \"Topic2\", \"Topic2\", \"Topic2\", \"Topic2\", \"Topic2\", \"Topic2\", \"Topic3\", \"Topic3\", \"Topic3\", \"Topic3\", \"Topic3\", \"Topic3\", \"Topic3\", \"Topic3\", \"Topic3\", \"Topic3\", \"Topic3\", \"Topic3\", \"Topic3\", \"Topic3\", \"Topic3\", \"Topic3\", \"Topic3\", \"Topic3\", \"Topic3\", \"Topic3\", \"Topic3\", \"Topic3\", \"Topic3\", \"Topic3\", \"Topic3\", \"Topic3\", \"Topic3\", \"Topic3\", \"Topic3\", \"Topic3\", \"Topic3\", \"Topic3\", \"Topic3\", \"Topic3\", \"Topic3\", \"Topic3\", \"Topic3\", \"Topic3\", \"Topic3\"], \"logprob\": [30.0, 29.0, 28.0, 27.0, 26.0, 25.0, 24.0, 23.0, 22.0, 21.0, 20.0, 19.0, 18.0, 17.0, 16.0, 15.0, 14.0, 13.0, 12.0, 11.0, 10.0, 9.0, 8.0, 7.0, 6.0, 5.0, 4.0, 3.0, 2.0, 1.0, -4.5605, -3.2375, -2.9845, -4.9938, -4.9341, -4.9537, -4.9953, -4.0551, -4.9737, -4.5987, -4.1179, -4.5924, -5.0305, -4.1021, -4.6104, -4.3107, -5.0308, -5.0412, -4.9975, -4.127, -5.0137, -5.0391, -4.6293, -4.6808, -4.6496, -4.958, -5.0285, -5.0245, -5.0128, -5.0066, -4.6112, -3.8676, -2.4058, -4.6597, -3.096, -2.1341, -4.0648, -2.8341, -3.5766, -4.4816, -4.5494, -4.1745, -4.5855, -4.6173, -3.7354, -4.7947, -4.8481, -4.8122, -4.4554, -4.4776, -5.5146, -4.8221, -4.8334, -4.1594, -5.4553, -5.5635, -4.8451, -4.4309, -4.8894, -3.8846, -5.5217, -4.8033, -3.9598, -4.4425, -4.8305, -4.856, -4.8521, -4.4633, -4.4914, -5.5751, -4.4835, -5.5019, -4.8207, -4.8406, -4.3687, -4.8476, -4.1363, -4.4577, -4.8368, -4.8591, -4.4643, -4.8311, -4.4991, -4.4745, -4.4049, -4.4597, -4.4354, -4.5247, -4.4764, -2.7759, -4.1316, -2.8156, -3.9559, -4.7909, -4.3095, -3.0217, -4.3315, -4.2312, -3.2481, -4.0119, -2.3203, -2.2256, -4.7477, -4.8081, -4.7855, -3.8831, -4.3666, -4.4008, -4.4448, -4.7909, -4.8154, -3.2205, -4.8213, -4.4149, -4.8717, -4.8123, -4.8391, -4.7711, -4.9574, -4.8657, -5.5986, -4.8342, -4.833, -4.417, -4.8745, -4.0079, -4.9218, -4.4483, -3.6722, -4.5494, -4.5085, -3.9882, -2.1102, -3.9968, -4.0426, -3.7018, -3.5198, -4.6347, -4.5345], \"loglift\": [30.0, 29.0, 28.0, 27.0, 26.0, 25.0, 24.0, 23.0, 22.0, 21.0, 20.0, 19.0, 18.0, 17.0, 16.0, 15.0, 14.0, 13.0, 12.0, 11.0, 10.0, 9.0, 8.0, 7.0, 6.0, 5.0, 4.0, 3.0, 2.0, 1.0, 1.0193, 1.0191, 1.0183, 1.0176, 1.0158, 1.0136, 1.0092, 1.0071, 1.0052, 1.0028, 0.9983, 0.9969, 0.9946, 0.9823, 0.9814, 0.9788, 0.9777, 0.9765, 0.9762, 0.976, 0.963, 0.9623, 0.9611, 0.9551, 0.9551, 0.954, 0.9519, 0.9467, 0.9459, 0.9454, 0.9302, 0.8934, 0.8043, 0.9201, 0.7064, 0.5565, 0.8187, 0.3655, 0.5529, 0.7992, 0.7624, 0.4836, 0.6813, 0.6882, -0.2746, 0.062, 1.122, 1.1217, 1.1202, 1.1198, 1.1195, 1.1184, 1.1176, 1.1175, 1.1171, 1.1158, 1.1143, 1.1142, 1.1129, 1.1112, 1.1111, 1.1097, 1.1094, 1.1071, 1.1063, 1.1059, 1.1055, 1.1036, 1.1028, 1.1027, 1.1022, 1.1016, 1.1008, 1.1001, 1.0993, 1.0984, 1.0933, 1.0944, 1.0963, 1.0966, 1.0842, 1.0954, 1.0782, 1.0659, 1.058, 1.0605, 1.0387, 1.0464, 1.037, 0.6849, 0.9133, 0.384, 0.7448, 1.0906, 0.7347, -0.3311, 0.7202, 0.6255, -0.2658, -0.2095, 1.1591, 1.1568, 1.1565, 1.1528, 1.1492, 1.1482, 1.1439, 1.1358, 1.1344, 1.1321, 1.1313, 1.1295, 1.123, 1.1211, 1.1209, 1.1099, 1.1093, 1.1088, 1.1011, 1.0995, 1.0958, 1.0954, 1.0915, 1.0897, 1.0868, 1.073, 1.0722, 1.0702, 1.0701, 1.0684, 1.0578, 1.0265, 0.8721, 0.8608, 0.0869, -0.4917, -0.8292, 0.6699, 0.1236]}, \"token.table\": {\"Topic\": [3, 2, 1, 3, 1, 2, 1, 3, 2, 2, 3, 1, 2, 3, 3, 1, 2, 3, 2, 3, 3, 2, 2, 2, 1, 3, 1, 3, 3, 1, 1, 1, 1, 2, 2, 1, 1, 1, 3, 2, 2, 1, 2, 1, 2, 3, 1, 2, 2, 1, 3, 3, 2, 1, 2, 2, 1, 1, 2, 2, 2, 1, 3, 1, 1, 2, 3, 1, 2, 3, 3, 1, 1, 2, 2, 1, 2, 3, 1, 2, 2, 2, 1, 2, 3, 3, 2, 2, 1, 3, 2, 1, 1, 2, 3, 2, 1, 2, 3, 3, 2, 1, 3, 3, 1, 1, 2, 2, 3, 3, 3, 1, 2, 1, 1, 2, 2, 3, 2, 3, 3, 1, 2, 1, 2, 3, 2, 2, 3, 2, 1, 2, 3, 2, 3, 2, 3, 2, 2, 1, 2, 1, 1, 2, 3, 3, 1, 2, 3, 1, 1, 3, 2, 3], \"Freq\": [0.9567343776960315, 0.9649869931774889, 0.8446014898932007, 0.16892029797864014, 1.058094346469775, 0.9045239186513014, 1.036452710615887, 1.05603137653443, 1.0160569201961906, 0.595118293776568, 0.39674552918437866, 1.0518977200426376, 0.9721500048327198, 0.9921807200460246, 0.9375443503293646, 1.0098499749592498, 1.0341386101898646, 0.9799254145991807, 0.5996074918409307, 0.39973832789395375, 1.0330419204687842, 0.972460626870635, 0.986522210320603, 1.0014364785572154, 0.7776766978294751, 0.2592255659431584, 0.6357917687713427, 0.31789588438567135, 0.9616687713816274, 1.0275879133975863, 1.0405599438237965, 1.0289398502892346, 1.0264052419036358, 1.0227147020697398, 0.9538706426964386, 0.9448568115159011, 1.032518047920297, 0.3291980083367434, 0.8229950208418585, 0.9658240296547289, 1.0036686987493684, 1.0753617401565458, 0.9513473129418596, 0.28503725496044713, 0.6515137256238792, 0.0814392157029849, 0.28141231289187657, 0.7035307822296915, 0.9550486727385066, 0.5392972040378338, 0.40447290302837535, 0.956215969629485, 1.0169265796752753, 1.0658514856316073, 0.9090998151954811, 1.0348066132096994, 1.0024575390959825, 1.0079359219373312, 0.9726231502203874, 0.9819677994140884, 0.9686285399369063, 1.0389241350055531, 0.9788623472971585, 1.0436209908854441, 0.6220396022483937, 0.2261962189994159, 0.13194779441632593, 0.9986239573136194, 0.9775590891940431, 0.9964450999591717, 0.9545709828623157, 1.0167079973112285, 1.0050400208447057, 1.014180864989514, 0.9433234346893025, 0.5331191614599845, 0.47039926011175104, 0.9907468652360951, 1.0166650637245433, 1.0013199990228958, 0.9713920009495743, 0.982441685668529, 0.3289008711220454, 0.6578017422440908, 0.9791075598918383, 0.823128905327268, 0.9906866400239748, 0.9932270185965502, 0.9925837555401007, 1.0241934376000483, 0.9870713610123112, 1.050219427210749, 0.7539916720659334, 0.2513305573553111, 0.9782858415761119, 1.0079306004255264, 1.0140198874489013, 0.9578319836377792, 0.9956648822237388, 0.9486164728799689, 0.9146739277395668, 0.7922785610458524, 0.1901468546510046, 0.9925888333277607, 0.9813419124673707, 0.9784614921525001, 0.9773579556021904, 0.9853509117968238, 0.9736367576795887, 1.0940173455382958, 1.0030148406655781, 0.7727951209193961, 0.25759837363979865, 1.010190973693808, 1.0423775938282063, 0.9586150407144242, 0.7939675811544024, 0.1984918952886006, 1.0124606218340813, 0.9759063604745368, 0.9665187033076053, 0.8966308732849807, 0.14943847888083012, 0.7448934469035099, 0.28649747957827304, 0.9553632947984627, 1.0313794493174206, 0.9165050093714905, 0.9731357478536804, 0.945752501134374, 1.0117770938175115, 0.1925887259407635, 0.9629436297038175, 0.25234104494844817, 0.7570231348453444, 0.9889094274064328, 0.9150149528789853, 0.9143959754344377, 1.0176108735353913, 0.9834339106687474, 0.9889396202234265, 0.9801940280651834, 0.9899769770722975, 0.9449672169631769, 1.0255807797260024, 0.945055420320823, 0.7434062712167677, 0.24780209040558923, 1.0160425224015657, 1.0333066108622506, 0.2573648271464006, 0.5147296542928012, 0.14667672589935857, 0.8800603553961515], \"Term\": [\"abundar\", \"aclarado\", \"acusar\", \"acusar\", \"alberto\", \"aparecer\", \"arma\", \"audio\", \"austral\", \"autoridad\", \"autoridad\", \"ayer\", \"barrigar\", \"bellolio\", \"bolsonaro\", \"bus\", \"bustamante\", \"calama\", \"campa\\u00f1a\", \"campa\\u00f1a\", \"canal\", \"capacidad\", \"cargo\", \"cathy\", \"chile\", \"chile\", \"circular\", \"circular\", \"cnn\", \"colegio\", \"comunicado\", \"comunidad\", \"concejal\", \"consejo\", \"consultora\", \"contagiado\", \"coordinador\", \"coronavirus\", \"coronavirus\", \"covid19\", \"cplt\", \"cuidado\", \"dato\", \"desinformaci\\u00f3n\", \"desinformaci\\u00f3n\", \"desinformaci\\u00f3n\", \"desmentir\", \"desmentir\", \"detalle\", \"difundir\", \"difundir\", \"difusi\\u00f3n\", \"diputado\", \"diversidad\", \"elecci\\u00f3n\", \"embalse\", \"emitir\", \"empresa\", \"enap\", \"estable\", \"expuesto\", \"facebook\", \"fake\", \"fakenews\", \"falso\", \"falso\", \"falso\", \"familiar\", \"flores\", \"foto\", \"gobierno\", \"haddad\", \"hurtado\", \"ib\\u00e1\\u00f1ez\", \"incidir\", \"informaci\\u00f3n\", \"informaci\\u00f3n\", \"informar\", \"inf\\u00f3rmate\", \"intendente\", \"interponar\", \"lago\", \"leer\", \"leer\", \"llamado\", \"llamar\", \"ln\", \"lugar\", \"maip\\u00fa\", \"mandatario\", \"manejo\", \"marcado\", \"melipilla\", \"melipilla\", \"ministro\", \"mostrar\", \"m\\u00e9dico\", \"necesario\", \"new\", \"news\", \"nota\", \"noticia\", \"noticia\", \"nuevamente\", \"oxiquim\", \"padre\", \"pandemia\", \"participar\", \"paso\", \"pa\\u00eds\", \"periodista\", \"persona\", \"persona\", \"phishing\", \"pol\\u00edtico\", \"preferencia\", \"proceso\", \"proceso\", \"puclaro\", \"querer\", \"radio\", \"rechazar\", \"rechazar\", \"red\", \"red\", \"referir\", \"regional\", \"regi\\u00f3n\", \"responsabilidad\", \"resultar\", \"rondar\", \"rrss\", \"rrss\", \"rt\", \"rt\", \"r\\u00edo\", \"salir\", \"sernapesca\", \"servel\", \"servicio\", \"so\", \"social\", \"terminar\", \"transparencia\", \"trump\", \"vacuna\", \"valdiviacl\", \"valdiviacl\", \"video\", \"voto\", \"whatsapp\", \"whatsapp\", \"\\u00e9l\", \"\\u00e9l\"]}, \"R\": 30, \"lambda.step\": 0.01, \"plot.opts\": {\"xlab\": \"PC1\", \"ylab\": \"PC2\"}, \"topic.order\": [3, 1, 2]};\n",
       "\n",
       "function LDAvis_load_lib(url, callback){\n",
       "  var s = document.createElement('script');\n",
       "  s.src = url;\n",
       "  s.async = true;\n",
       "  s.onreadystatechange = s.onload = callback;\n",
       "  s.onerror = function(){console.warn(\"failed to load library \" + url);};\n",
       "  document.getElementsByTagName(\"head\")[0].appendChild(s);\n",
       "}\n",
       "\n",
       "if(typeof(LDAvis) !== \"undefined\"){\n",
       "   // already loaded: just create the visualization\n",
       "   !function(LDAvis){\n",
       "       new LDAvis(\"#\" + \"ldavis_el42390139803908894032571678391\", ldavis_el42390139803908894032571678391_data);\n",
       "   }(LDAvis);\n",
       "}else if(typeof define === \"function\" && define.amd){\n",
       "   // require.js is available: use it to load d3/LDAvis\n",
       "   require.config({paths: {d3: \"https://d3js.org/d3.v5\"}});\n",
       "   require([\"d3\"], function(d3){\n",
       "      window.d3 = d3;\n",
       "      LDAvis_load_lib(\"https://cdn.jsdelivr.net/gh/bmabey/pyLDAvis@3.3.1/pyLDAvis/js/ldavis.v3.0.0.js\", function(){\n",
       "        new LDAvis(\"#\" + \"ldavis_el42390139803908894032571678391\", ldavis_el42390139803908894032571678391_data);\n",
       "      });\n",
       "    });\n",
       "}else{\n",
       "    // require.js not available: dynamically load d3 & LDAvis\n",
       "    LDAvis_load_lib(\"https://d3js.org/d3.v5.js\", function(){\n",
       "         LDAvis_load_lib(\"https://cdn.jsdelivr.net/gh/bmabey/pyLDAvis@3.3.1/pyLDAvis/js/ldavis.v3.0.0.js\", function(){\n",
       "                 new LDAvis(\"#\" + \"ldavis_el42390139803908894032571678391\", ldavis_el42390139803908894032571678391_data);\n",
       "            })\n",
       "         });\n",
       "}\n",
       "</script>"
      ],
      "text/plain": [
       "<IPython.core.display.HTML object>"
      ]
     },
     "execution_count": 34,
     "metadata": {},
     "output_type": "execute_result"
    }
   ],
   "source": [
    "import pyLDAvis\n",
    "prepared = pyLDAvis.prepare(doc_lengths = doc_l,\n",
    "                        vocab = diccionario,\n",
    "                        term_frequency = term_f,\n",
    "                        topic_term_dists = dist_topic,\n",
    "                        doc_topic_dists = dist_doc)\n",
    "pyLDAvis.display(prepared)"
   ]
  },
  {
   "cell_type": "code",
   "execution_count": 35,
   "metadata": {},
   "outputs": [
    {
     "name": "stdout",
     "output_type": "stream",
     "text": [
      "-0.18535434493009295\n",
      "0.88\n",
      "86.7\n"
     ]
    },
    {
     "name": "stderr",
     "output_type": "stream",
     "text": [
      "/home/eliana/anaconda3/envs/etmEnv/lib/python3.7/site-packages/past/builtins/misc.py:45: DeprecationWarning: the imp module is deprecated in favour of importlib; see the module's documentation for alternative uses\n",
      "  from imp import reload\n",
      "/home/eliana/anaconda3/envs/etmEnv/lib/python3.7/site-packages/sklearn/linear_model/_least_angle.py:34: DeprecationWarning: `np.float` is a deprecated alias for the builtin `float`. To silence this warning, use `float` by itself. Doing this will not modify any behavior and is safe. If you specifically wanted the numpy scalar type, use `np.float64` here.\n",
      "Deprecated in NumPy 1.20; for more details and guidance: https://numpy.org/devdocs/release/1.20.0-notes.html#deprecations\n",
      "  method='lar', copy_X=True, eps=np.finfo(np.float).eps,\n",
      "/home/eliana/anaconda3/envs/etmEnv/lib/python3.7/site-packages/sklearn/linear_model/_least_angle.py:164: DeprecationWarning: `np.float` is a deprecated alias for the builtin `float`. To silence this warning, use `float` by itself. Doing this will not modify any behavior and is safe. If you specifically wanted the numpy scalar type, use `np.float64` here.\n",
      "Deprecated in NumPy 1.20; for more details and guidance: https://numpy.org/devdocs/release/1.20.0-notes.html#deprecations\n",
      "  method='lar', copy_X=True, eps=np.finfo(np.float).eps,\n",
      "/home/eliana/anaconda3/envs/etmEnv/lib/python3.7/site-packages/sklearn/linear_model/_least_angle.py:281: DeprecationWarning: `np.float` is a deprecated alias for the builtin `float`. To silence this warning, use `float` by itself. Doing this will not modify any behavior and is safe. If you specifically wanted the numpy scalar type, use `np.float64` here.\n",
      "Deprecated in NumPy 1.20; for more details and guidance: https://numpy.org/devdocs/release/1.20.0-notes.html#deprecations\n",
      "  eps=np.finfo(np.float).eps, copy_Gram=True, verbose=0,\n",
      "/home/eliana/anaconda3/envs/etmEnv/lib/python3.7/site-packages/sklearn/linear_model/_least_angle.py:865: DeprecationWarning: `np.float` is a deprecated alias for the builtin `float`. To silence this warning, use `float` by itself. Doing this will not modify any behavior and is safe. If you specifically wanted the numpy scalar type, use `np.float64` here.\n",
      "Deprecated in NumPy 1.20; for more details and guidance: https://numpy.org/devdocs/release/1.20.0-notes.html#deprecations\n",
      "  eps=np.finfo(np.float).eps, copy_X=True, fit_path=True,\n",
      "/home/eliana/anaconda3/envs/etmEnv/lib/python3.7/site-packages/sklearn/linear_model/_least_angle.py:1121: DeprecationWarning: `np.float` is a deprecated alias for the builtin `float`. To silence this warning, use `float` by itself. Doing this will not modify any behavior and is safe. If you specifically wanted the numpy scalar type, use `np.float64` here.\n",
      "Deprecated in NumPy 1.20; for more details and guidance: https://numpy.org/devdocs/release/1.20.0-notes.html#deprecations\n",
      "  eps=np.finfo(np.float).eps, copy_X=True, fit_path=True,\n",
      "/home/eliana/anaconda3/envs/etmEnv/lib/python3.7/site-packages/sklearn/linear_model/_least_angle.py:1149: DeprecationWarning: `np.float` is a deprecated alias for the builtin `float`. To silence this warning, use `float` by itself. Doing this will not modify any behavior and is safe. If you specifically wanted the numpy scalar type, use `np.float64` here.\n",
      "Deprecated in NumPy 1.20; for more details and guidance: https://numpy.org/devdocs/release/1.20.0-notes.html#deprecations\n",
      "  eps=np.finfo(np.float).eps, positive=False):\n",
      "/home/eliana/anaconda3/envs/etmEnv/lib/python3.7/site-packages/sklearn/linear_model/_least_angle.py:1379: DeprecationWarning: `np.float` is a deprecated alias for the builtin `float`. To silence this warning, use `float` by itself. Doing this will not modify any behavior and is safe. If you specifically wanted the numpy scalar type, use `np.float64` here.\n",
      "Deprecated in NumPy 1.20; for more details and guidance: https://numpy.org/devdocs/release/1.20.0-notes.html#deprecations\n",
      "  max_n_alphas=1000, n_jobs=None, eps=np.finfo(np.float).eps,\n",
      "/home/eliana/anaconda3/envs/etmEnv/lib/python3.7/site-packages/sklearn/linear_model/_least_angle.py:1621: DeprecationWarning: `np.float` is a deprecated alias for the builtin `float`. To silence this warning, use `float` by itself. Doing this will not modify any behavior and is safe. If you specifically wanted the numpy scalar type, use `np.float64` here.\n",
      "Deprecated in NumPy 1.20; for more details and guidance: https://numpy.org/devdocs/release/1.20.0-notes.html#deprecations\n",
      "  max_n_alphas=1000, n_jobs=None, eps=np.finfo(np.float).eps,\n",
      "/home/eliana/anaconda3/envs/etmEnv/lib/python3.7/site-packages/sklearn/linear_model/_least_angle.py:1755: DeprecationWarning: `np.float` is a deprecated alias for the builtin `float`. To silence this warning, use `float` by itself. Doing this will not modify any behavior and is safe. If you specifically wanted the numpy scalar type, use `np.float64` here.\n",
      "Deprecated in NumPy 1.20; for more details and guidance: https://numpy.org/devdocs/release/1.20.0-notes.html#deprecations\n",
      "  eps=np.finfo(np.float).eps, copy_X=True, positive=False):\n",
      "/home/eliana/anaconda3/envs/etmEnv/lib/python3.7/site-packages/sklearn/decomposition/_lda.py:28: DeprecationWarning: `np.float` is a deprecated alias for the builtin `float`. To silence this warning, use `float` by itself. Doing this will not modify any behavior and is safe. If you specifically wanted the numpy scalar type, use `np.float64` here.\n",
      "Deprecated in NumPy 1.20; for more details and guidance: https://numpy.org/devdocs/release/1.20.0-notes.html#deprecations\n",
      "  EPS = np.finfo(np.float).eps\n",
      "/home/eliana/anaconda3/envs/etmEnv/lib/python3.7/site-packages/past/builtins/misc.py:45: DeprecationWarning: the imp module is deprecated in favour of importlib; see the module's documentation for alternative uses\n",
      "  from imp import reload\n",
      "/home/eliana/anaconda3/envs/etmEnv/lib/python3.7/site-packages/sklearn/linear_model/_least_angle.py:34: DeprecationWarning: `np.float` is a deprecated alias for the builtin `float`. To silence this warning, use `float` by itself. Doing this will not modify any behavior and is safe. If you specifically wanted the numpy scalar type, use `np.float64` here.\n",
      "Deprecated in NumPy 1.20; for more details and guidance: https://numpy.org/devdocs/release/1.20.0-notes.html#deprecations\n",
      "  method='lar', copy_X=True, eps=np.finfo(np.float).eps,\n",
      "/home/eliana/anaconda3/envs/etmEnv/lib/python3.7/site-packages/sklearn/linear_model/_least_angle.py:164: DeprecationWarning: `np.float` is a deprecated alias for the builtin `float`. To silence this warning, use `float` by itself. Doing this will not modify any behavior and is safe. If you specifically wanted the numpy scalar type, use `np.float64` here.\n",
      "Deprecated in NumPy 1.20; for more details and guidance: https://numpy.org/devdocs/release/1.20.0-notes.html#deprecations\n",
      "  method='lar', copy_X=True, eps=np.finfo(np.float).eps,\n",
      "/home/eliana/anaconda3/envs/etmEnv/lib/python3.7/site-packages/sklearn/linear_model/_least_angle.py:281: DeprecationWarning: `np.float` is a deprecated alias for the builtin `float`. To silence this warning, use `float` by itself. Doing this will not modify any behavior and is safe. If you specifically wanted the numpy scalar type, use `np.float64` here.\n",
      "Deprecated in NumPy 1.20; for more details and guidance: https://numpy.org/devdocs/release/1.20.0-notes.html#deprecations\n",
      "  eps=np.finfo(np.float).eps, copy_Gram=True, verbose=0,\n",
      "/home/eliana/anaconda3/envs/etmEnv/lib/python3.7/site-packages/sklearn/linear_model/_least_angle.py:865: DeprecationWarning: `np.float` is a deprecated alias for the builtin `float`. To silence this warning, use `float` by itself. Doing this will not modify any behavior and is safe. If you specifically wanted the numpy scalar type, use `np.float64` here.\n",
      "Deprecated in NumPy 1.20; for more details and guidance: https://numpy.org/devdocs/release/1.20.0-notes.html#deprecations\n",
      "  eps=np.finfo(np.float).eps, copy_X=True, fit_path=True,\n",
      "/home/eliana/anaconda3/envs/etmEnv/lib/python3.7/site-packages/sklearn/linear_model/_least_angle.py:1121: DeprecationWarning: `np.float` is a deprecated alias for the builtin `float`. To silence this warning, use `float` by itself. Doing this will not modify any behavior and is safe. If you specifically wanted the numpy scalar type, use `np.float64` here.\n",
      "Deprecated in NumPy 1.20; for more details and guidance: https://numpy.org/devdocs/release/1.20.0-notes.html#deprecations\n",
      "  eps=np.finfo(np.float).eps, copy_X=True, fit_path=True,\n",
      "/home/eliana/anaconda3/envs/etmEnv/lib/python3.7/site-packages/sklearn/linear_model/_least_angle.py:1149: DeprecationWarning: `np.float` is a deprecated alias for the builtin `float`. To silence this warning, use `float` by itself. Doing this will not modify any behavior and is safe. If you specifically wanted the numpy scalar type, use `np.float64` here.\n",
      "Deprecated in NumPy 1.20; for more details and guidance: https://numpy.org/devdocs/release/1.20.0-notes.html#deprecations\n",
      "  eps=np.finfo(np.float).eps, positive=False):\n",
      "/home/eliana/anaconda3/envs/etmEnv/lib/python3.7/site-packages/sklearn/linear_model/_least_angle.py:1379: DeprecationWarning: `np.float` is a deprecated alias for the builtin `float`. To silence this warning, use `float` by itself. Doing this will not modify any behavior and is safe. If you specifically wanted the numpy scalar type, use `np.float64` here.\n",
      "Deprecated in NumPy 1.20; for more details and guidance: https://numpy.org/devdocs/release/1.20.0-notes.html#deprecations\n",
      "  max_n_alphas=1000, n_jobs=None, eps=np.finfo(np.float).eps,\n",
      "/home/eliana/anaconda3/envs/etmEnv/lib/python3.7/site-packages/sklearn/linear_model/_least_angle.py:1621: DeprecationWarning: `np.float` is a deprecated alias for the builtin `float`. To silence this warning, use `float` by itself. Doing this will not modify any behavior and is safe. If you specifically wanted the numpy scalar type, use `np.float64` here.\n",
      "Deprecated in NumPy 1.20; for more details and guidance: https://numpy.org/devdocs/release/1.20.0-notes.html#deprecations\n",
      "  max_n_alphas=1000, n_jobs=None, eps=np.finfo(np.float).eps,\n",
      "/home/eliana/anaconda3/envs/etmEnv/lib/python3.7/site-packages/sklearn/linear_model/_least_angle.py:1755: DeprecationWarning: `np.float` is a deprecated alias for the builtin `float`. To silence this warning, use `float` by itself. Doing this will not modify any behavior and is safe. If you specifically wanted the numpy scalar type, use `np.float64` here.\n",
      "Deprecated in NumPy 1.20; for more details and guidance: https://numpy.org/devdocs/release/1.20.0-notes.html#deprecations\n",
      "  eps=np.finfo(np.float).eps, copy_X=True, positive=False):\n",
      "/home/eliana/anaconda3/envs/etmEnv/lib/python3.7/site-packages/sklearn/decomposition/_lda.py:28: DeprecationWarning: `np.float` is a deprecated alias for the builtin `float`. To silence this warning, use `float` by itself. Doing this will not modify any behavior and is safe. If you specifically wanted the numpy scalar type, use `np.float64` here.\n",
      "Deprecated in NumPy 1.20; for more details and guidance: https://numpy.org/devdocs/release/1.20.0-notes.html#deprecations\n",
      "  EPS = np.finfo(np.float).eps\n"
     ]
    },
    {
     "name": "stderr",
     "output_type": "stream",
     "text": [
      "/home/eliana/anaconda3/envs/etmEnv/lib/python3.7/site-packages/past/builtins/misc.py:45: DeprecationWarning: the imp module is deprecated in favour of importlib; see the module's documentation for alternative uses\n",
      "  from imp import reload\n",
      "/home/eliana/anaconda3/envs/etmEnv/lib/python3.7/site-packages/sklearn/linear_model/_least_angle.py:34: DeprecationWarning: `np.float` is a deprecated alias for the builtin `float`. To silence this warning, use `float` by itself. Doing this will not modify any behavior and is safe. If you specifically wanted the numpy scalar type, use `np.float64` here.\n",
      "Deprecated in NumPy 1.20; for more details and guidance: https://numpy.org/devdocs/release/1.20.0-notes.html#deprecations\n",
      "  method='lar', copy_X=True, eps=np.finfo(np.float).eps,\n",
      "/home/eliana/anaconda3/envs/etmEnv/lib/python3.7/site-packages/sklearn/linear_model/_least_angle.py:164: DeprecationWarning: `np.float` is a deprecated alias for the builtin `float`. To silence this warning, use `float` by itself. Doing this will not modify any behavior and is safe. If you specifically wanted the numpy scalar type, use `np.float64` here.\n",
      "Deprecated in NumPy 1.20; for more details and guidance: https://numpy.org/devdocs/release/1.20.0-notes.html#deprecations\n",
      "  method='lar', copy_X=True, eps=np.finfo(np.float).eps,\n",
      "/home/eliana/anaconda3/envs/etmEnv/lib/python3.7/site-packages/sklearn/linear_model/_least_angle.py:281: DeprecationWarning: `np.float` is a deprecated alias for the builtin `float`. To silence this warning, use `float` by itself. Doing this will not modify any behavior and is safe. If you specifically wanted the numpy scalar type, use `np.float64` here.\n",
      "Deprecated in NumPy 1.20; for more details and guidance: https://numpy.org/devdocs/release/1.20.0-notes.html#deprecations\n",
      "  eps=np.finfo(np.float).eps, copy_Gram=True, verbose=0,\n",
      "/home/eliana/anaconda3/envs/etmEnv/lib/python3.7/site-packages/sklearn/linear_model/_least_angle.py:865: DeprecationWarning: `np.float` is a deprecated alias for the builtin `float`. To silence this warning, use `float` by itself. Doing this will not modify any behavior and is safe. If you specifically wanted the numpy scalar type, use `np.float64` here.\n",
      "Deprecated in NumPy 1.20; for more details and guidance: https://numpy.org/devdocs/release/1.20.0-notes.html#deprecations\n",
      "  eps=np.finfo(np.float).eps, copy_X=True, fit_path=True,\n",
      "/home/eliana/anaconda3/envs/etmEnv/lib/python3.7/site-packages/sklearn/linear_model/_least_angle.py:1121: DeprecationWarning: `np.float` is a deprecated alias for the builtin `float`. To silence this warning, use `float` by itself. Doing this will not modify any behavior and is safe. If you specifically wanted the numpy scalar type, use `np.float64` here.\n",
      "Deprecated in NumPy 1.20; for more details and guidance: https://numpy.org/devdocs/release/1.20.0-notes.html#deprecations\n",
      "  eps=np.finfo(np.float).eps, copy_X=True, fit_path=True,\n",
      "/home/eliana/anaconda3/envs/etmEnv/lib/python3.7/site-packages/sklearn/linear_model/_least_angle.py:1149: DeprecationWarning: `np.float` is a deprecated alias for the builtin `float`. To silence this warning, use `float` by itself. Doing this will not modify any behavior and is safe. If you specifically wanted the numpy scalar type, use `np.float64` here.\n",
      "Deprecated in NumPy 1.20; for more details and guidance: https://numpy.org/devdocs/release/1.20.0-notes.html#deprecations\n",
      "  eps=np.finfo(np.float).eps, positive=False):\n",
      "/home/eliana/anaconda3/envs/etmEnv/lib/python3.7/site-packages/sklearn/linear_model/_least_angle.py:1379: DeprecationWarning: `np.float` is a deprecated alias for the builtin `float`. To silence this warning, use `float` by itself. Doing this will not modify any behavior and is safe. If you specifically wanted the numpy scalar type, use `np.float64` here.\n",
      "Deprecated in NumPy 1.20; for more details and guidance: https://numpy.org/devdocs/release/1.20.0-notes.html#deprecations\n",
      "  max_n_alphas=1000, n_jobs=None, eps=np.finfo(np.float).eps,\n",
      "/home/eliana/anaconda3/envs/etmEnv/lib/python3.7/site-packages/sklearn/linear_model/_least_angle.py:1621: DeprecationWarning: `np.float` is a deprecated alias for the builtin `float`. To silence this warning, use `float` by itself. Doing this will not modify any behavior and is safe. If you specifically wanted the numpy scalar type, use `np.float64` here.\n",
      "Deprecated in NumPy 1.20; for more details and guidance: https://numpy.org/devdocs/release/1.20.0-notes.html#deprecations\n",
      "  max_n_alphas=1000, n_jobs=None, eps=np.finfo(np.float).eps,\n",
      "/home/eliana/anaconda3/envs/etmEnv/lib/python3.7/site-packages/sklearn/linear_model/_least_angle.py:1755: DeprecationWarning: `np.float` is a deprecated alias for the builtin `float`. To silence this warning, use `float` by itself. Doing this will not modify any behavior and is safe. If you specifically wanted the numpy scalar type, use `np.float64` here.\n",
      "Deprecated in NumPy 1.20; for more details and guidance: https://numpy.org/devdocs/release/1.20.0-notes.html#deprecations\n",
      "  eps=np.finfo(np.float).eps, copy_X=True, positive=False):\n",
      "/home/eliana/anaconda3/envs/etmEnv/lib/python3.7/site-packages/sklearn/decomposition/_lda.py:28: DeprecationWarning: `np.float` is a deprecated alias for the builtin `float`. To silence this warning, use `float` by itself. Doing this will not modify any behavior and is safe. If you specifically wanted the numpy scalar type, use `np.float64` here.\n",
      "Deprecated in NumPy 1.20; for more details and guidance: https://numpy.org/devdocs/release/1.20.0-notes.html#deprecations\n",
      "  EPS = np.finfo(np.float).eps\n",
      "/home/eliana/anaconda3/envs/etmEnv/lib/python3.7/site-packages/past/builtins/misc.py:45: DeprecationWarning: the imp module is deprecated in favour of importlib; see the module's documentation for alternative uses\n",
      "  from imp import reload\n",
      "/home/eliana/anaconda3/envs/etmEnv/lib/python3.7/site-packages/sklearn/linear_model/_least_angle.py:34: DeprecationWarning: `np.float` is a deprecated alias for the builtin `float`. To silence this warning, use `float` by itself. Doing this will not modify any behavior and is safe. If you specifically wanted the numpy scalar type, use `np.float64` here.\n",
      "Deprecated in NumPy 1.20; for more details and guidance: https://numpy.org/devdocs/release/1.20.0-notes.html#deprecations\n",
      "  method='lar', copy_X=True, eps=np.finfo(np.float).eps,\n",
      "/home/eliana/anaconda3/envs/etmEnv/lib/python3.7/site-packages/sklearn/linear_model/_least_angle.py:164: DeprecationWarning: `np.float` is a deprecated alias for the builtin `float`. To silence this warning, use `float` by itself. Doing this will not modify any behavior and is safe. If you specifically wanted the numpy scalar type, use `np.float64` here.\n",
      "Deprecated in NumPy 1.20; for more details and guidance: https://numpy.org/devdocs/release/1.20.0-notes.html#deprecations\n",
      "  method='lar', copy_X=True, eps=np.finfo(np.float).eps,\n",
      "/home/eliana/anaconda3/envs/etmEnv/lib/python3.7/site-packages/sklearn/linear_model/_least_angle.py:281: DeprecationWarning: `np.float` is a deprecated alias for the builtin `float`. To silence this warning, use `float` by itself. Doing this will not modify any behavior and is safe. If you specifically wanted the numpy scalar type, use `np.float64` here.\n",
      "Deprecated in NumPy 1.20; for more details and guidance: https://numpy.org/devdocs/release/1.20.0-notes.html#deprecations\n",
      "  eps=np.finfo(np.float).eps, copy_Gram=True, verbose=0,\n",
      "/home/eliana/anaconda3/envs/etmEnv/lib/python3.7/site-packages/sklearn/linear_model/_least_angle.py:865: DeprecationWarning: `np.float` is a deprecated alias for the builtin `float`. To silence this warning, use `float` by itself. Doing this will not modify any behavior and is safe. If you specifically wanted the numpy scalar type, use `np.float64` here.\n",
      "Deprecated in NumPy 1.20; for more details and guidance: https://numpy.org/devdocs/release/1.20.0-notes.html#deprecations\n",
      "  eps=np.finfo(np.float).eps, copy_X=True, fit_path=True,\n",
      "/home/eliana/anaconda3/envs/etmEnv/lib/python3.7/site-packages/sklearn/linear_model/_least_angle.py:1121: DeprecationWarning: `np.float` is a deprecated alias for the builtin `float`. To silence this warning, use `float` by itself. Doing this will not modify any behavior and is safe. If you specifically wanted the numpy scalar type, use `np.float64` here.\n",
      "Deprecated in NumPy 1.20; for more details and guidance: https://numpy.org/devdocs/release/1.20.0-notes.html#deprecations\n",
      "  eps=np.finfo(np.float).eps, copy_X=True, fit_path=True,\n",
      "/home/eliana/anaconda3/envs/etmEnv/lib/python3.7/site-packages/sklearn/linear_model/_least_angle.py:1149: DeprecationWarning: `np.float` is a deprecated alias for the builtin `float`. To silence this warning, use `float` by itself. Doing this will not modify any behavior and is safe. If you specifically wanted the numpy scalar type, use `np.float64` here.\n",
      "Deprecated in NumPy 1.20; for more details and guidance: https://numpy.org/devdocs/release/1.20.0-notes.html#deprecations\n",
      "  eps=np.finfo(np.float).eps, positive=False):\n",
      "/home/eliana/anaconda3/envs/etmEnv/lib/python3.7/site-packages/sklearn/linear_model/_least_angle.py:1379: DeprecationWarning: `np.float` is a deprecated alias for the builtin `float`. To silence this warning, use `float` by itself. Doing this will not modify any behavior and is safe. If you specifically wanted the numpy scalar type, use `np.float64` here.\n",
      "Deprecated in NumPy 1.20; for more details and guidance: https://numpy.org/devdocs/release/1.20.0-notes.html#deprecations\n",
      "  max_n_alphas=1000, n_jobs=None, eps=np.finfo(np.float).eps,\n",
      "/home/eliana/anaconda3/envs/etmEnv/lib/python3.7/site-packages/sklearn/linear_model/_least_angle.py:1621: DeprecationWarning: `np.float` is a deprecated alias for the builtin `float`. To silence this warning, use `float` by itself. Doing this will not modify any behavior and is safe. If you specifically wanted the numpy scalar type, use `np.float64` here.\n",
      "Deprecated in NumPy 1.20; for more details and guidance: https://numpy.org/devdocs/release/1.20.0-notes.html#deprecations\n",
      "  max_n_alphas=1000, n_jobs=None, eps=np.finfo(np.float).eps,\n",
      "/home/eliana/anaconda3/envs/etmEnv/lib/python3.7/site-packages/sklearn/linear_model/_least_angle.py:1755: DeprecationWarning: `np.float` is a deprecated alias for the builtin `float`. To silence this warning, use `float` by itself. Doing this will not modify any behavior and is safe. If you specifically wanted the numpy scalar type, use `np.float64` here.\n",
      "Deprecated in NumPy 1.20; for more details and guidance: https://numpy.org/devdocs/release/1.20.0-notes.html#deprecations\n",
      "  eps=np.finfo(np.float).eps, copy_X=True, positive=False):\n",
      "/home/eliana/anaconda3/envs/etmEnv/lib/python3.7/site-packages/sklearn/decomposition/_lda.py:28: DeprecationWarning: `np.float` is a deprecated alias for the builtin `float`. To silence this warning, use `float` by itself. Doing this will not modify any behavior and is safe. If you specifically wanted the numpy scalar type, use `np.float64` here.\n",
      "Deprecated in NumPy 1.20; for more details and guidance: https://numpy.org/devdocs/release/1.20.0-notes.html#deprecations\n",
      "  EPS = np.finfo(np.float).eps\n"
     ]
    },
    {
     "name": "stderr",
     "output_type": "stream",
     "text": [
      "/home/eliana/anaconda3/envs/etmEnv/lib/python3.7/site-packages/past/builtins/misc.py:45: DeprecationWarning: the imp module is deprecated in favour of importlib; see the module's documentation for alternative uses\n",
      "  from imp import reload\n",
      "/home/eliana/anaconda3/envs/etmEnv/lib/python3.7/site-packages/sklearn/linear_model/_least_angle.py:34: DeprecationWarning: `np.float` is a deprecated alias for the builtin `float`. To silence this warning, use `float` by itself. Doing this will not modify any behavior and is safe. If you specifically wanted the numpy scalar type, use `np.float64` here.\n",
      "Deprecated in NumPy 1.20; for more details and guidance: https://numpy.org/devdocs/release/1.20.0-notes.html#deprecations\n",
      "  method='lar', copy_X=True, eps=np.finfo(np.float).eps,\n",
      "/home/eliana/anaconda3/envs/etmEnv/lib/python3.7/site-packages/sklearn/linear_model/_least_angle.py:164: DeprecationWarning: `np.float` is a deprecated alias for the builtin `float`. To silence this warning, use `float` by itself. Doing this will not modify any behavior and is safe. If you specifically wanted the numpy scalar type, use `np.float64` here.\n",
      "Deprecated in NumPy 1.20; for more details and guidance: https://numpy.org/devdocs/release/1.20.0-notes.html#deprecations\n",
      "  method='lar', copy_X=True, eps=np.finfo(np.float).eps,\n",
      "/home/eliana/anaconda3/envs/etmEnv/lib/python3.7/site-packages/sklearn/linear_model/_least_angle.py:281: DeprecationWarning: `np.float` is a deprecated alias for the builtin `float`. To silence this warning, use `float` by itself. Doing this will not modify any behavior and is safe. If you specifically wanted the numpy scalar type, use `np.float64` here.\n",
      "Deprecated in NumPy 1.20; for more details and guidance: https://numpy.org/devdocs/release/1.20.0-notes.html#deprecations\n",
      "  eps=np.finfo(np.float).eps, copy_Gram=True, verbose=0,\n",
      "/home/eliana/anaconda3/envs/etmEnv/lib/python3.7/site-packages/sklearn/linear_model/_least_angle.py:865: DeprecationWarning: `np.float` is a deprecated alias for the builtin `float`. To silence this warning, use `float` by itself. Doing this will not modify any behavior and is safe. If you specifically wanted the numpy scalar type, use `np.float64` here.\n",
      "Deprecated in NumPy 1.20; for more details and guidance: https://numpy.org/devdocs/release/1.20.0-notes.html#deprecations\n",
      "  eps=np.finfo(np.float).eps, copy_X=True, fit_path=True,\n",
      "/home/eliana/anaconda3/envs/etmEnv/lib/python3.7/site-packages/sklearn/linear_model/_least_angle.py:1121: DeprecationWarning: `np.float` is a deprecated alias for the builtin `float`. To silence this warning, use `float` by itself. Doing this will not modify any behavior and is safe. If you specifically wanted the numpy scalar type, use `np.float64` here.\n",
      "Deprecated in NumPy 1.20; for more details and guidance: https://numpy.org/devdocs/release/1.20.0-notes.html#deprecations\n",
      "  eps=np.finfo(np.float).eps, copy_X=True, fit_path=True,\n",
      "/home/eliana/anaconda3/envs/etmEnv/lib/python3.7/site-packages/sklearn/linear_model/_least_angle.py:1149: DeprecationWarning: `np.float` is a deprecated alias for the builtin `float`. To silence this warning, use `float` by itself. Doing this will not modify any behavior and is safe. If you specifically wanted the numpy scalar type, use `np.float64` here.\n",
      "Deprecated in NumPy 1.20; for more details and guidance: https://numpy.org/devdocs/release/1.20.0-notes.html#deprecations\n",
      "  eps=np.finfo(np.float).eps, positive=False):\n",
      "/home/eliana/anaconda3/envs/etmEnv/lib/python3.7/site-packages/sklearn/linear_model/_least_angle.py:1379: DeprecationWarning: `np.float` is a deprecated alias for the builtin `float`. To silence this warning, use `float` by itself. Doing this will not modify any behavior and is safe. If you specifically wanted the numpy scalar type, use `np.float64` here.\n",
      "Deprecated in NumPy 1.20; for more details and guidance: https://numpy.org/devdocs/release/1.20.0-notes.html#deprecations\n",
      "  max_n_alphas=1000, n_jobs=None, eps=np.finfo(np.float).eps,\n",
      "/home/eliana/anaconda3/envs/etmEnv/lib/python3.7/site-packages/sklearn/linear_model/_least_angle.py:1621: DeprecationWarning: `np.float` is a deprecated alias for the builtin `float`. To silence this warning, use `float` by itself. Doing this will not modify any behavior and is safe. If you specifically wanted the numpy scalar type, use `np.float64` here.\n",
      "Deprecated in NumPy 1.20; for more details and guidance: https://numpy.org/devdocs/release/1.20.0-notes.html#deprecations\n",
      "  max_n_alphas=1000, n_jobs=None, eps=np.finfo(np.float).eps,\n",
      "/home/eliana/anaconda3/envs/etmEnv/lib/python3.7/site-packages/sklearn/linear_model/_least_angle.py:1755: DeprecationWarning: `np.float` is a deprecated alias for the builtin `float`. To silence this warning, use `float` by itself. Doing this will not modify any behavior and is safe. If you specifically wanted the numpy scalar type, use `np.float64` here.\n",
      "Deprecated in NumPy 1.20; for more details and guidance: https://numpy.org/devdocs/release/1.20.0-notes.html#deprecations\n",
      "  eps=np.finfo(np.float).eps, copy_X=True, positive=False):\n",
      "/home/eliana/anaconda3/envs/etmEnv/lib/python3.7/site-packages/sklearn/decomposition/_lda.py:28: DeprecationWarning: `np.float` is a deprecated alias for the builtin `float`. To silence this warning, use `float` by itself. Doing this will not modify any behavior and is safe. If you specifically wanted the numpy scalar type, use `np.float64` here.\n",
      "Deprecated in NumPy 1.20; for more details and guidance: https://numpy.org/devdocs/release/1.20.0-notes.html#deprecations\n",
      "  EPS = np.finfo(np.float).eps\n",
      "/home/eliana/anaconda3/envs/etmEnv/lib/python3.7/site-packages/past/builtins/misc.py:45: DeprecationWarning: the imp module is deprecated in favour of importlib; see the module's documentation for alternative uses\n",
      "  from imp import reload\n",
      "/home/eliana/anaconda3/envs/etmEnv/lib/python3.7/site-packages/sklearn/linear_model/_least_angle.py:34: DeprecationWarning: `np.float` is a deprecated alias for the builtin `float`. To silence this warning, use `float` by itself. Doing this will not modify any behavior and is safe. If you specifically wanted the numpy scalar type, use `np.float64` here.\n",
      "Deprecated in NumPy 1.20; for more details and guidance: https://numpy.org/devdocs/release/1.20.0-notes.html#deprecations\n",
      "  method='lar', copy_X=True, eps=np.finfo(np.float).eps,\n",
      "/home/eliana/anaconda3/envs/etmEnv/lib/python3.7/site-packages/sklearn/linear_model/_least_angle.py:164: DeprecationWarning: `np.float` is a deprecated alias for the builtin `float`. To silence this warning, use `float` by itself. Doing this will not modify any behavior and is safe. If you specifically wanted the numpy scalar type, use `np.float64` here.\n",
      "Deprecated in NumPy 1.20; for more details and guidance: https://numpy.org/devdocs/release/1.20.0-notes.html#deprecations\n",
      "  method='lar', copy_X=True, eps=np.finfo(np.float).eps,\n",
      "/home/eliana/anaconda3/envs/etmEnv/lib/python3.7/site-packages/sklearn/linear_model/_least_angle.py:281: DeprecationWarning: `np.float` is a deprecated alias for the builtin `float`. To silence this warning, use `float` by itself. Doing this will not modify any behavior and is safe. If you specifically wanted the numpy scalar type, use `np.float64` here.\n",
      "Deprecated in NumPy 1.20; for more details and guidance: https://numpy.org/devdocs/release/1.20.0-notes.html#deprecations\n",
      "  eps=np.finfo(np.float).eps, copy_Gram=True, verbose=0,\n",
      "/home/eliana/anaconda3/envs/etmEnv/lib/python3.7/site-packages/sklearn/linear_model/_least_angle.py:865: DeprecationWarning: `np.float` is a deprecated alias for the builtin `float`. To silence this warning, use `float` by itself. Doing this will not modify any behavior and is safe. If you specifically wanted the numpy scalar type, use `np.float64` here.\n",
      "Deprecated in NumPy 1.20; for more details and guidance: https://numpy.org/devdocs/release/1.20.0-notes.html#deprecations\n",
      "  eps=np.finfo(np.float).eps, copy_X=True, fit_path=True,\n",
      "/home/eliana/anaconda3/envs/etmEnv/lib/python3.7/site-packages/sklearn/linear_model/_least_angle.py:1121: DeprecationWarning: `np.float` is a deprecated alias for the builtin `float`. To silence this warning, use `float` by itself. Doing this will not modify any behavior and is safe. If you specifically wanted the numpy scalar type, use `np.float64` here.\n",
      "Deprecated in NumPy 1.20; for more details and guidance: https://numpy.org/devdocs/release/1.20.0-notes.html#deprecations\n",
      "  eps=np.finfo(np.float).eps, copy_X=True, fit_path=True,\n",
      "/home/eliana/anaconda3/envs/etmEnv/lib/python3.7/site-packages/sklearn/linear_model/_least_angle.py:1149: DeprecationWarning: `np.float` is a deprecated alias for the builtin `float`. To silence this warning, use `float` by itself. Doing this will not modify any behavior and is safe. If you specifically wanted the numpy scalar type, use `np.float64` here.\n",
      "Deprecated in NumPy 1.20; for more details and guidance: https://numpy.org/devdocs/release/1.20.0-notes.html#deprecations\n",
      "  eps=np.finfo(np.float).eps, positive=False):\n",
      "/home/eliana/anaconda3/envs/etmEnv/lib/python3.7/site-packages/sklearn/linear_model/_least_angle.py:1379: DeprecationWarning: `np.float` is a deprecated alias for the builtin `float`. To silence this warning, use `float` by itself. Doing this will not modify any behavior and is safe. If you specifically wanted the numpy scalar type, use `np.float64` here.\n",
      "Deprecated in NumPy 1.20; for more details and guidance: https://numpy.org/devdocs/release/1.20.0-notes.html#deprecations\n",
      "  max_n_alphas=1000, n_jobs=None, eps=np.finfo(np.float).eps,\n",
      "/home/eliana/anaconda3/envs/etmEnv/lib/python3.7/site-packages/sklearn/linear_model/_least_angle.py:1621: DeprecationWarning: `np.float` is a deprecated alias for the builtin `float`. To silence this warning, use `float` by itself. Doing this will not modify any behavior and is safe. If you specifically wanted the numpy scalar type, use `np.float64` here.\n",
      "Deprecated in NumPy 1.20; for more details and guidance: https://numpy.org/devdocs/release/1.20.0-notes.html#deprecations\n",
      "  max_n_alphas=1000, n_jobs=None, eps=np.finfo(np.float).eps,\n",
      "/home/eliana/anaconda3/envs/etmEnv/lib/python3.7/site-packages/sklearn/linear_model/_least_angle.py:1755: DeprecationWarning: `np.float` is a deprecated alias for the builtin `float`. To silence this warning, use `float` by itself. Doing this will not modify any behavior and is safe. If you specifically wanted the numpy scalar type, use `np.float64` here.\n",
      "Deprecated in NumPy 1.20; for more details and guidance: https://numpy.org/devdocs/release/1.20.0-notes.html#deprecations\n",
      "  eps=np.finfo(np.float).eps, copy_X=True, positive=False):\n",
      "/home/eliana/anaconda3/envs/etmEnv/lib/python3.7/site-packages/sklearn/decomposition/_lda.py:28: DeprecationWarning: `np.float` is a deprecated alias for the builtin `float`. To silence this warning, use `float` by itself. Doing this will not modify any behavior and is safe. If you specifically wanted the numpy scalar type, use `np.float64` here.\n",
      "Deprecated in NumPy 1.20; for more details and guidance: https://numpy.org/devdocs/release/1.20.0-notes.html#deprecations\n",
      "  EPS = np.finfo(np.float).eps\n"
     ]
    },
    {
     "name": "stderr",
     "output_type": "stream",
     "text": [
      "/home/eliana/anaconda3/envs/etmEnv/lib/python3.7/site-packages/past/builtins/misc.py:45: DeprecationWarning: the imp module is deprecated in favour of importlib; see the module's documentation for alternative uses\n",
      "  from imp import reload\n",
      "/home/eliana/anaconda3/envs/etmEnv/lib/python3.7/site-packages/sklearn/linear_model/_least_angle.py:34: DeprecationWarning: `np.float` is a deprecated alias for the builtin `float`. To silence this warning, use `float` by itself. Doing this will not modify any behavior and is safe. If you specifically wanted the numpy scalar type, use `np.float64` here.\n",
      "Deprecated in NumPy 1.20; for more details and guidance: https://numpy.org/devdocs/release/1.20.0-notes.html#deprecations\n",
      "  method='lar', copy_X=True, eps=np.finfo(np.float).eps,\n",
      "/home/eliana/anaconda3/envs/etmEnv/lib/python3.7/site-packages/sklearn/linear_model/_least_angle.py:164: DeprecationWarning: `np.float` is a deprecated alias for the builtin `float`. To silence this warning, use `float` by itself. Doing this will not modify any behavior and is safe. If you specifically wanted the numpy scalar type, use `np.float64` here.\n",
      "Deprecated in NumPy 1.20; for more details and guidance: https://numpy.org/devdocs/release/1.20.0-notes.html#deprecations\n",
      "  method='lar', copy_X=True, eps=np.finfo(np.float).eps,\n",
      "/home/eliana/anaconda3/envs/etmEnv/lib/python3.7/site-packages/sklearn/linear_model/_least_angle.py:281: DeprecationWarning: `np.float` is a deprecated alias for the builtin `float`. To silence this warning, use `float` by itself. Doing this will not modify any behavior and is safe. If you specifically wanted the numpy scalar type, use `np.float64` here.\n",
      "Deprecated in NumPy 1.20; for more details and guidance: https://numpy.org/devdocs/release/1.20.0-notes.html#deprecations\n",
      "  eps=np.finfo(np.float).eps, copy_Gram=True, verbose=0,\n",
      "/home/eliana/anaconda3/envs/etmEnv/lib/python3.7/site-packages/sklearn/linear_model/_least_angle.py:865: DeprecationWarning: `np.float` is a deprecated alias for the builtin `float`. To silence this warning, use `float` by itself. Doing this will not modify any behavior and is safe. If you specifically wanted the numpy scalar type, use `np.float64` here.\n",
      "Deprecated in NumPy 1.20; for more details and guidance: https://numpy.org/devdocs/release/1.20.0-notes.html#deprecations\n",
      "  eps=np.finfo(np.float).eps, copy_X=True, fit_path=True,\n",
      "/home/eliana/anaconda3/envs/etmEnv/lib/python3.7/site-packages/sklearn/linear_model/_least_angle.py:1121: DeprecationWarning: `np.float` is a deprecated alias for the builtin `float`. To silence this warning, use `float` by itself. Doing this will not modify any behavior and is safe. If you specifically wanted the numpy scalar type, use `np.float64` here.\n",
      "Deprecated in NumPy 1.20; for more details and guidance: https://numpy.org/devdocs/release/1.20.0-notes.html#deprecations\n",
      "  eps=np.finfo(np.float).eps, copy_X=True, fit_path=True,\n",
      "/home/eliana/anaconda3/envs/etmEnv/lib/python3.7/site-packages/sklearn/linear_model/_least_angle.py:1149: DeprecationWarning: `np.float` is a deprecated alias for the builtin `float`. To silence this warning, use `float` by itself. Doing this will not modify any behavior and is safe. If you specifically wanted the numpy scalar type, use `np.float64` here.\n",
      "Deprecated in NumPy 1.20; for more details and guidance: https://numpy.org/devdocs/release/1.20.0-notes.html#deprecations\n",
      "  eps=np.finfo(np.float).eps, positive=False):\n",
      "/home/eliana/anaconda3/envs/etmEnv/lib/python3.7/site-packages/sklearn/linear_model/_least_angle.py:1379: DeprecationWarning: `np.float` is a deprecated alias for the builtin `float`. To silence this warning, use `float` by itself. Doing this will not modify any behavior and is safe. If you specifically wanted the numpy scalar type, use `np.float64` here.\n",
      "Deprecated in NumPy 1.20; for more details and guidance: https://numpy.org/devdocs/release/1.20.0-notes.html#deprecations\n",
      "  max_n_alphas=1000, n_jobs=None, eps=np.finfo(np.float).eps,\n",
      "/home/eliana/anaconda3/envs/etmEnv/lib/python3.7/site-packages/sklearn/linear_model/_least_angle.py:1621: DeprecationWarning: `np.float` is a deprecated alias for the builtin `float`. To silence this warning, use `float` by itself. Doing this will not modify any behavior and is safe. If you specifically wanted the numpy scalar type, use `np.float64` here.\n",
      "Deprecated in NumPy 1.20; for more details and guidance: https://numpy.org/devdocs/release/1.20.0-notes.html#deprecations\n",
      "  max_n_alphas=1000, n_jobs=None, eps=np.finfo(np.float).eps,\n",
      "/home/eliana/anaconda3/envs/etmEnv/lib/python3.7/site-packages/sklearn/linear_model/_least_angle.py:1755: DeprecationWarning: `np.float` is a deprecated alias for the builtin `float`. To silence this warning, use `float` by itself. Doing this will not modify any behavior and is safe. If you specifically wanted the numpy scalar type, use `np.float64` here.\n",
      "Deprecated in NumPy 1.20; for more details and guidance: https://numpy.org/devdocs/release/1.20.0-notes.html#deprecations\n",
      "  eps=np.finfo(np.float).eps, copy_X=True, positive=False):\n",
      "/home/eliana/anaconda3/envs/etmEnv/lib/python3.7/site-packages/sklearn/decomposition/_lda.py:28: DeprecationWarning: `np.float` is a deprecated alias for the builtin `float`. To silence this warning, use `float` by itself. Doing this will not modify any behavior and is safe. If you specifically wanted the numpy scalar type, use `np.float64` here.\n",
      "Deprecated in NumPy 1.20; for more details and guidance: https://numpy.org/devdocs/release/1.20.0-notes.html#deprecations\n",
      "  EPS = np.finfo(np.float).eps\n",
      "/home/eliana/anaconda3/envs/etmEnv/lib/python3.7/site-packages/past/builtins/misc.py:45: DeprecationWarning: the imp module is deprecated in favour of importlib; see the module's documentation for alternative uses\n",
      "  from imp import reload\n",
      "/home/eliana/anaconda3/envs/etmEnv/lib/python3.7/site-packages/sklearn/linear_model/_least_angle.py:34: DeprecationWarning: `np.float` is a deprecated alias for the builtin `float`. To silence this warning, use `float` by itself. Doing this will not modify any behavior and is safe. If you specifically wanted the numpy scalar type, use `np.float64` here.\n",
      "Deprecated in NumPy 1.20; for more details and guidance: https://numpy.org/devdocs/release/1.20.0-notes.html#deprecations\n",
      "  method='lar', copy_X=True, eps=np.finfo(np.float).eps,\n",
      "/home/eliana/anaconda3/envs/etmEnv/lib/python3.7/site-packages/sklearn/linear_model/_least_angle.py:164: DeprecationWarning: `np.float` is a deprecated alias for the builtin `float`. To silence this warning, use `float` by itself. Doing this will not modify any behavior and is safe. If you specifically wanted the numpy scalar type, use `np.float64` here.\n",
      "Deprecated in NumPy 1.20; for more details and guidance: https://numpy.org/devdocs/release/1.20.0-notes.html#deprecations\n",
      "  method='lar', copy_X=True, eps=np.finfo(np.float).eps,\n",
      "/home/eliana/anaconda3/envs/etmEnv/lib/python3.7/site-packages/sklearn/linear_model/_least_angle.py:281: DeprecationWarning: `np.float` is a deprecated alias for the builtin `float`. To silence this warning, use `float` by itself. Doing this will not modify any behavior and is safe. If you specifically wanted the numpy scalar type, use `np.float64` here.\n",
      "Deprecated in NumPy 1.20; for more details and guidance: https://numpy.org/devdocs/release/1.20.0-notes.html#deprecations\n",
      "  eps=np.finfo(np.float).eps, copy_Gram=True, verbose=0,\n",
      "/home/eliana/anaconda3/envs/etmEnv/lib/python3.7/site-packages/sklearn/linear_model/_least_angle.py:865: DeprecationWarning: `np.float` is a deprecated alias for the builtin `float`. To silence this warning, use `float` by itself. Doing this will not modify any behavior and is safe. If you specifically wanted the numpy scalar type, use `np.float64` here.\n",
      "Deprecated in NumPy 1.20; for more details and guidance: https://numpy.org/devdocs/release/1.20.0-notes.html#deprecations\n",
      "  eps=np.finfo(np.float).eps, copy_X=True, fit_path=True,\n",
      "/home/eliana/anaconda3/envs/etmEnv/lib/python3.7/site-packages/sklearn/linear_model/_least_angle.py:1121: DeprecationWarning: `np.float` is a deprecated alias for the builtin `float`. To silence this warning, use `float` by itself. Doing this will not modify any behavior and is safe. If you specifically wanted the numpy scalar type, use `np.float64` here.\n",
      "Deprecated in NumPy 1.20; for more details and guidance: https://numpy.org/devdocs/release/1.20.0-notes.html#deprecations\n",
      "  eps=np.finfo(np.float).eps, copy_X=True, fit_path=True,\n",
      "/home/eliana/anaconda3/envs/etmEnv/lib/python3.7/site-packages/sklearn/linear_model/_least_angle.py:1149: DeprecationWarning: `np.float` is a deprecated alias for the builtin `float`. To silence this warning, use `float` by itself. Doing this will not modify any behavior and is safe. If you specifically wanted the numpy scalar type, use `np.float64` here.\n",
      "Deprecated in NumPy 1.20; for more details and guidance: https://numpy.org/devdocs/release/1.20.0-notes.html#deprecations\n",
      "  eps=np.finfo(np.float).eps, positive=False):\n",
      "/home/eliana/anaconda3/envs/etmEnv/lib/python3.7/site-packages/sklearn/linear_model/_least_angle.py:1379: DeprecationWarning: `np.float` is a deprecated alias for the builtin `float`. To silence this warning, use `float` by itself. Doing this will not modify any behavior and is safe. If you specifically wanted the numpy scalar type, use `np.float64` here.\n",
      "Deprecated in NumPy 1.20; for more details and guidance: https://numpy.org/devdocs/release/1.20.0-notes.html#deprecations\n",
      "  max_n_alphas=1000, n_jobs=None, eps=np.finfo(np.float).eps,\n",
      "/home/eliana/anaconda3/envs/etmEnv/lib/python3.7/site-packages/sklearn/linear_model/_least_angle.py:1621: DeprecationWarning: `np.float` is a deprecated alias for the builtin `float`. To silence this warning, use `float` by itself. Doing this will not modify any behavior and is safe. If you specifically wanted the numpy scalar type, use `np.float64` here.\n",
      "Deprecated in NumPy 1.20; for more details and guidance: https://numpy.org/devdocs/release/1.20.0-notes.html#deprecations\n",
      "  max_n_alphas=1000, n_jobs=None, eps=np.finfo(np.float).eps,\n",
      "/home/eliana/anaconda3/envs/etmEnv/lib/python3.7/site-packages/sklearn/linear_model/_least_angle.py:1755: DeprecationWarning: `np.float` is a deprecated alias for the builtin `float`. To silence this warning, use `float` by itself. Doing this will not modify any behavior and is safe. If you specifically wanted the numpy scalar type, use `np.float64` here.\n",
      "Deprecated in NumPy 1.20; for more details and guidance: https://numpy.org/devdocs/release/1.20.0-notes.html#deprecations\n",
      "  eps=np.finfo(np.float).eps, copy_X=True, positive=False):\n",
      "/home/eliana/anaconda3/envs/etmEnv/lib/python3.7/site-packages/sklearn/decomposition/_lda.py:28: DeprecationWarning: `np.float` is a deprecated alias for the builtin `float`. To silence this warning, use `float` by itself. Doing this will not modify any behavior and is safe. If you specifically wanted the numpy scalar type, use `np.float64` here.\n",
      "Deprecated in NumPy 1.20; for more details and guidance: https://numpy.org/devdocs/release/1.20.0-notes.html#deprecations\n",
      "  EPS = np.finfo(np.float).eps\n"
     ]
    }
   ],
   "source": [
    "topic_coherence = etm_instance.get_topic_coherence()\n",
    "print(topic_coherence)\n",
    "topic_diversity = etm_instance.get_topic_diversity()\n",
    "print(topic_diversity)\n",
    "print(etm_instance._perplexity(test_dataset))\n"
   ]
  },
  {
   "cell_type": "code",
   "execution_count": null,
   "metadata": {},
   "outputs": [],
   "source": []
  },
  {
   "cell_type": "code",
   "execution_count": null,
   "metadata": {},
   "outputs": [],
   "source": []
  },
  {
   "cell_type": "code",
   "execution_count": null,
   "metadata": {},
   "outputs": [],
   "source": []
  }
 ],
 "metadata": {
  "kernelspec": {
   "display_name": "Python 3 (ipykernel)",
   "language": "python",
   "name": "python3"
  },
  "language_info": {
   "codemirror_mode": {
    "name": "ipython",
    "version": 3
   },
   "file_extension": ".py",
   "mimetype": "text/x-python",
   "name": "python",
   "nbconvert_exporter": "python",
   "pygments_lexer": "ipython3",
   "version": "3.9.7"
  }
 },
 "nbformat": 4,
 "nbformat_minor": 2
}
