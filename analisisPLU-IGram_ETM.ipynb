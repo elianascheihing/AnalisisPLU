{
 "cells": [
  {
   "cell_type": "markdown",
   "metadata": {},
   "source": [
    "### Cargar un modelo Word2Vec pre-entrenado para el español\n",
    "\n",
    "ver: https://github.com/dccuchile/spanish-word-embeddings"
   ]
  },
  {
   "cell_type": "code",
   "execution_count": 61,
   "metadata": {
    "scrolled": true
   },
   "outputs": [],
   "source": [
    "from gensim.models import KeyedVectors\n",
    "\n",
    "model = KeyedVectors.load_word2vec_format(\"data/SBW-vectors-300-min5.bin.gz\", binary=True) "
   ]
  },
  {
   "cell_type": "code",
   "execution_count": 62,
   "metadata": {},
   "outputs": [],
   "source": [
    "import pandas as pd\n",
    "#from pandasql import sqldf #para utilizar una síntaxis SQL para consultar nuestros datos\n",
    "\n",
    "dataset=\"data/luis/FN_PLU_2017-2021_igram_v1.csv\"\n",
    "df = pd.read_csv(dataset)\n",
    "\n"
   ]
  },
  {
   "cell_type": "code",
   "execution_count": 63,
   "metadata": {},
   "outputs": [
    {
     "data": {
      "text/html": [
       "<div>\n",
       "<style scoped>\n",
       "    .dataframe tbody tr th:only-of-type {\n",
       "        vertical-align: middle;\n",
       "    }\n",
       "\n",
       "    .dataframe tbody tr th {\n",
       "        vertical-align: top;\n",
       "    }\n",
       "\n",
       "    .dataframe thead th {\n",
       "        text-align: right;\n",
       "    }\n",
       "</style>\n",
       "<table border=\"1\" class=\"dataframe\">\n",
       "  <thead>\n",
       "    <tr style=\"text-align: right;\">\n",
       "      <th></th>\n",
       "      <th>Unnamed: 0</th>\n",
       "      <th>tipoI</th>\n",
       "      <th>Date</th>\n",
       "      <th>Account</th>\n",
       "      <th>totalInteractionCount</th>\n",
       "      <th>Likes</th>\n",
       "      <th>Comments</th>\n",
       "      <th>Description</th>\n",
       "      <th>ImageText</th>\n",
       "      <th>URL</th>\n",
       "      <th>Type</th>\n",
       "      <th>FollowersAtPosting</th>\n",
       "      <th>InstagramAccount</th>\n",
       "    </tr>\n",
       "  </thead>\n",
       "  <tbody>\n",
       "    <tr>\n",
       "      <th>0</th>\n",
       "      <td>1</td>\n",
       "      <td>2</td>\n",
       "      <td>Dec 31, 2021 @ 13:01:38.000</td>\n",
       "      <td>El Ciudadano</td>\n",
       "      <td>983</td>\n",
       "      <td>920</td>\n",
       "      <td>63</td>\n",
       "      <td>Otra fake news: Servel desmiente fraude electo...</td>\n",
       "      <td>elciudadano.com OTRA FAKE NEWS: SERVEL DESMIEN...</td>\n",
       "      <td>https://www.instagram.com/tv/CYJzVWJhA5z/</td>\n",
       "      <td>video</td>\n",
       "      <td>612,519</td>\n",
       "      <td>el.ciudadano</td>\n",
       "    </tr>\n",
       "    <tr>\n",
       "      <th>1</th>\n",
       "      <td>2</td>\n",
       "      <td>2</td>\n",
       "      <td>Dec 31, 2021 @ 11:01:15.000</td>\n",
       "      <td>El Desconcierto</td>\n",
       "      <td>2,102</td>\n",
       "      <td>2,016</td>\n",
       "      <td>86</td>\n",
       "      <td>#Nacional 📍 | A través de redes sociales se di...</td>\n",
       "      <td>D «ES INFORMACIÓN FALSA&gt;: SERVEL DESMIENTE DUP...</td>\n",
       "      <td>https://www.instagram.com/p/CYJlqyqNxTN/</td>\n",
       "      <td>photo</td>\n",
       "      <td>420,859</td>\n",
       "      <td>eldesconcierto</td>\n",
       "    </tr>\n",
       "    <tr>\n",
       "      <th>2</th>\n",
       "      <td>3</td>\n",
       "      <td>2</td>\n",
       "      <td>Dec 30, 2021 @ 20:49:36.000</td>\n",
       "      <td>Página 7</td>\n",
       "      <td>133</td>\n",
       "      <td>119</td>\n",
       "      <td>14</td>\n",
       "      <td>A través de Twitter, el Servicio Electoral des...</td>\n",
       "      <td>Página SER Servel aclaró video viral que acusa...</td>\n",
       "      <td>https://www.instagram.com/p/CYIENJlrR1f/</td>\n",
       "      <td>photo</td>\n",
       "      <td>109,922</td>\n",
       "      <td>pagina7chile</td>\n",
       "    </tr>\n",
       "    <tr>\n",
       "      <th>3</th>\n",
       "      <td>4</td>\n",
       "      <td>2</td>\n",
       "      <td>Dec 29, 2021 @ 18:40:06.000</td>\n",
       "      <td>El Ciudadano</td>\n",
       "      <td>1,529</td>\n",
       "      <td>1,495</td>\n",
       "      <td>34</td>\n",
       "      <td>La Mesa Directiva de la #ConvencionConstitucio...</td>\n",
       "      <td>MAÑUM LAMGEN JAIME BASSA MUCHAS GRACIAS, สอรัน...</td>\n",
       "      <td>https://www.instagram.com/p/CYFQle0Fy66/</td>\n",
       "      <td>photo</td>\n",
       "      <td>612,347</td>\n",
       "      <td>el.ciudadano</td>\n",
       "    </tr>\n",
       "    <tr>\n",
       "      <th>4</th>\n",
       "      <td>5</td>\n",
       "      <td>2</td>\n",
       "      <td>Dec 26, 2021 @ 10:45:01.000</td>\n",
       "      <td>Resumen</td>\n",
       "      <td>1,719</td>\n",
       "      <td>1,664</td>\n",
       "      <td>55</td>\n",
       "      <td>#OPINIÓN | El guion que ha aplicado la #ultrad...</td>\n",
       "      <td>(empty)</td>\n",
       "      <td>https://www.instagram.com/p/CX8r1fAtPIL/</td>\n",
       "      <td>album</td>\n",
       "      <td>80,829</td>\n",
       "      <td>resumen.cl</td>\n",
       "    </tr>\n",
       "    <tr>\n",
       "      <th>...</th>\n",
       "      <td>...</td>\n",
       "      <td>...</td>\n",
       "      <td>...</td>\n",
       "      <td>...</td>\n",
       "      <td>...</td>\n",
       "      <td>...</td>\n",
       "      <td>...</td>\n",
       "      <td>...</td>\n",
       "      <td>...</td>\n",
       "      <td>...</td>\n",
       "      <td>...</td>\n",
       "      <td>...</td>\n",
       "      <td>...</td>\n",
       "    </tr>\n",
       "    <tr>\n",
       "      <th>673</th>\n",
       "      <td>674</td>\n",
       "      <td>2</td>\n",
       "      <td>Jan 29, 2017 @ 09:43:51.000</td>\n",
       "      <td>Diario El Mostrador</td>\n",
       "      <td>61</td>\n",
       "      <td>58</td>\n",
       "      <td>3</td>\n",
       "      <td>La repercusión de las noticias falsas, difundi...</td>\n",
       "      <td>(empty)</td>\n",
       "      <td>https://www.instagram.com/p/BP2UVl1F68_/</td>\n",
       "      <td>photo</td>\n",
       "      <td>453,71</td>\n",
       "      <td>el_mostrador</td>\n",
       "    </tr>\n",
       "    <tr>\n",
       "      <th>674</th>\n",
       "      <td>675</td>\n",
       "      <td>2</td>\n",
       "      <td>Jan 27, 2017 @ 15:51:57.000</td>\n",
       "      <td>El Ciudadano</td>\n",
       "      <td>28</td>\n",
       "      <td>28</td>\n",
       "      <td>0</td>\n",
       "      <td>Experto en Comunicación por noticias falsas: “...</td>\n",
       "      <td>(empty)</td>\n",
       "      <td>https://www.instagram.com/p/BPx033JDA4X/</td>\n",
       "      <td>photo</td>\n",
       "      <td>604,487</td>\n",
       "      <td>el.ciudadano</td>\n",
       "    </tr>\n",
       "    <tr>\n",
       "      <th>675</th>\n",
       "      <td>676</td>\n",
       "      <td>2</td>\n",
       "      <td>Jan 26, 2017 @ 20:03:58.000</td>\n",
       "      <td>Diario El Mostrador</td>\n",
       "      <td>83</td>\n",
       "      <td>78</td>\n",
       "      <td>5</td>\n",
       "      <td>Abbott niega que haya mapuches y extranjeros d...</td>\n",
       "      <td>(empty)</td>\n",
       "      <td>https://www.instagram.com/p/BPvs6x7F060/</td>\n",
       "      <td>photo</td>\n",
       "      <td>453,71</td>\n",
       "      <td>el_mostrador</td>\n",
       "    </tr>\n",
       "    <tr>\n",
       "      <th>676</th>\n",
       "      <td>677</td>\n",
       "      <td>2</td>\n",
       "      <td>Jan 26, 2017 @ 18:13:43.000</td>\n",
       "      <td>24horascl</td>\n",
       "      <td>163</td>\n",
       "      <td>159</td>\n",
       "      <td>4</td>\n",
       "      <td>A propósito de la información falsa que circul...</td>\n",
       "      <td>(empty)</td>\n",
       "      <td>https://www.instagram.com/p/BPvgTSTgJWn/</td>\n",
       "      <td>video</td>\n",
       "      <td>1,229,054</td>\n",
       "      <td>24horascl</td>\n",
       "    </tr>\n",
       "    <tr>\n",
       "      <th>677</th>\n",
       "      <td>678</td>\n",
       "      <td>2</td>\n",
       "      <td>Jan 23, 2017 @ 12:04:28.000</td>\n",
       "      <td>El Definido</td>\n",
       "      <td>14</td>\n",
       "      <td>13</td>\n",
       "      <td>1</td>\n",
       "      <td>Así es como Facebook combatirá las noticias fa...</td>\n",
       "      <td>(empty)</td>\n",
       "      <td>https://www.instagram.com/p/BPnHqPOAcx_/</td>\n",
       "      <td>photo</td>\n",
       "      <td>12,137</td>\n",
       "      <td>eldefinido</td>\n",
       "    </tr>\n",
       "  </tbody>\n",
       "</table>\n",
       "<p>678 rows × 13 columns</p>\n",
       "</div>"
      ],
      "text/plain": [
       "     Unnamed: 0  tipoI                         Date              Account  \\\n",
       "0             1      2  Dec 31, 2021 @ 13:01:38.000         El Ciudadano   \n",
       "1             2      2  Dec 31, 2021 @ 11:01:15.000      El Desconcierto   \n",
       "2             3      2  Dec 30, 2021 @ 20:49:36.000             Página 7   \n",
       "3             4      2  Dec 29, 2021 @ 18:40:06.000         El Ciudadano   \n",
       "4             5      2  Dec 26, 2021 @ 10:45:01.000              Resumen   \n",
       "..          ...    ...                          ...                  ...   \n",
       "673         674      2  Jan 29, 2017 @ 09:43:51.000  Diario El Mostrador   \n",
       "674         675      2  Jan 27, 2017 @ 15:51:57.000         El Ciudadano   \n",
       "675         676      2  Jan 26, 2017 @ 20:03:58.000  Diario El Mostrador   \n",
       "676         677      2  Jan 26, 2017 @ 18:13:43.000            24horascl   \n",
       "677         678      2  Jan 23, 2017 @ 12:04:28.000          El Definido   \n",
       "\n",
       "    totalInteractionCount  Likes Comments  \\\n",
       "0                     983    920       63   \n",
       "1                   2,102  2,016       86   \n",
       "2                     133    119       14   \n",
       "3                   1,529  1,495       34   \n",
       "4                   1,719  1,664       55   \n",
       "..                    ...    ...      ...   \n",
       "673                    61     58        3   \n",
       "674                    28     28        0   \n",
       "675                    83     78        5   \n",
       "676                   163    159        4   \n",
       "677                    14     13        1   \n",
       "\n",
       "                                           Description  \\\n",
       "0    Otra fake news: Servel desmiente fraude electo...   \n",
       "1    #Nacional 📍 | A través de redes sociales se di...   \n",
       "2    A través de Twitter, el Servicio Electoral des...   \n",
       "3    La Mesa Directiva de la #ConvencionConstitucio...   \n",
       "4    #OPINIÓN | El guion que ha aplicado la #ultrad...   \n",
       "..                                                 ...   \n",
       "673  La repercusión de las noticias falsas, difundi...   \n",
       "674  Experto en Comunicación por noticias falsas: “...   \n",
       "675  Abbott niega que haya mapuches y extranjeros d...   \n",
       "676  A propósito de la información falsa que circul...   \n",
       "677  Así es como Facebook combatirá las noticias fa...   \n",
       "\n",
       "                                             ImageText  \\\n",
       "0    elciudadano.com OTRA FAKE NEWS: SERVEL DESMIEN...   \n",
       "1    D «ES INFORMACIÓN FALSA>: SERVEL DESMIENTE DUP...   \n",
       "2    Página SER Servel aclaró video viral que acusa...   \n",
       "3    MAÑUM LAMGEN JAIME BASSA MUCHAS GRACIAS, สอรัน...   \n",
       "4                                              (empty)   \n",
       "..                                                 ...   \n",
       "673                                            (empty)   \n",
       "674                                            (empty)   \n",
       "675                                            (empty)   \n",
       "676                                            (empty)   \n",
       "677                                            (empty)   \n",
       "\n",
       "                                           URL   Type FollowersAtPosting  \\\n",
       "0    https://www.instagram.com/tv/CYJzVWJhA5z/  video            612,519   \n",
       "1     https://www.instagram.com/p/CYJlqyqNxTN/  photo            420,859   \n",
       "2     https://www.instagram.com/p/CYIENJlrR1f/  photo            109,922   \n",
       "3     https://www.instagram.com/p/CYFQle0Fy66/  photo            612,347   \n",
       "4     https://www.instagram.com/p/CX8r1fAtPIL/  album             80,829   \n",
       "..                                         ...    ...                ...   \n",
       "673   https://www.instagram.com/p/BP2UVl1F68_/  photo             453,71   \n",
       "674   https://www.instagram.com/p/BPx033JDA4X/  photo            604,487   \n",
       "675   https://www.instagram.com/p/BPvs6x7F060/  photo             453,71   \n",
       "676   https://www.instagram.com/p/BPvgTSTgJWn/  video          1,229,054   \n",
       "677   https://www.instagram.com/p/BPnHqPOAcx_/  photo             12,137   \n",
       "\n",
       "    InstagramAccount  \n",
       "0       el.ciudadano  \n",
       "1     eldesconcierto  \n",
       "2       pagina7chile  \n",
       "3       el.ciudadano  \n",
       "4         resumen.cl  \n",
       "..               ...  \n",
       "673     el_mostrador  \n",
       "674     el.ciudadano  \n",
       "675     el_mostrador  \n",
       "676        24horascl  \n",
       "677       eldefinido  \n",
       "\n",
       "[678 rows x 13 columns]"
      ]
     },
     "execution_count": 63,
     "metadata": {},
     "output_type": "execute_result"
    }
   ],
   "source": [
    "df"
   ]
  },
  {
   "cell_type": "code",
   "execution_count": 64,
   "metadata": {},
   "outputs": [
    {
     "name": "stdout",
     "output_type": "stream",
     "text": [
      "0      Otra fake news: Servel desmiente fraude electo...\n",
      "1      #Nacional 📍 | A través de redes sociales se di...\n",
      "2      A través de Twitter, el Servicio Electoral des...\n",
      "3      La Mesa Directiva de la #ConvencionConstitucio...\n",
      "4      #OPINIÓN | El guion que ha aplicado la #ultrad...\n",
      "                             ...                        \n",
      "673    La repercusión de las noticias falsas, difundi...\n",
      "674    Experto en Comunicación por noticias falsas: “...\n",
      "675    Abbott niega que haya mapuches y extranjeros d...\n",
      "676    A propósito de la información falsa que circul...\n",
      "677    Así es como Facebook combatirá las noticias fa...\n",
      "Name: Description, Length: 678, dtype: object\n"
     ]
    }
   ],
   "source": [
    "noticias = df.Description\n",
    "\n",
    "print(noticias)"
   ]
  },
  {
   "cell_type": "code",
   "execution_count": 65,
   "metadata": {},
   "outputs": [
    {
     "data": {
      "text/plain": [
       "678"
      ]
     },
     "execution_count": 65,
     "metadata": {},
     "output_type": "execute_result"
    }
   ],
   "source": [
    "len(noticias)"
   ]
  },
  {
   "cell_type": "code",
   "execution_count": 73,
   "metadata": {},
   "outputs": [],
   "source": [
    "import re\n",
    "# Remove Emails\n",
    "noticias = [re.sub(r'\\S*@\\S*\\s?', '', sent) for sent in noticias]\n",
    "\n",
    "# Remove new line characters\n",
    "noticias = [re.sub(r'\\s+', ' ', sent) for sent in noticias]\n",
    "\n",
    "# Remove distracting single quotes\n",
    "noticias= [re.sub(\"\\'\", \"\", sent) for sent in noticias]\n",
    "\n",
    "# Remove links\n",
    "noticias = [re.sub(r'\\S*http\\S*\\s?', '', sent) for sent in noticias]\n",
    "noticias = [re.sub(r'\\S*https\\S*\\s?', '', sent) for sent in noticias]\n"
   ]
  },
  {
   "cell_type": "code",
   "execution_count": 74,
   "metadata": {},
   "outputs": [],
   "source": [
    "import spacy\n",
    "nlp = spacy.load(\"es_core_news_md\")\n",
    "\n",
    "def spacy_tokenizer(texto):\n",
    "    # crea lista de tokens a partir de un texto\n",
    "    mytokens = []\n",
    "    doc = nlp(texto.lower().strip())\n",
    "    for token in doc:\n",
    "        if not token.is_stop and not token.is_punct and not token.is_space and not token.is_digit and not token.like_num:\n",
    "            mytokens.append(token.lemma_)\n",
    "    return mytokens\n"
   ]
  },
  {
   "cell_type": "code",
   "execution_count": 75,
   "metadata": {},
   "outputs": [],
   "source": [
    "documents=[]\n",
    "for noticia in noticias:\n",
    "    documents.append(spacy_tokenizer(noticia))"
   ]
  },
  {
   "cell_type": "code",
   "execution_count": 76,
   "metadata": {},
   "outputs": [],
   "source": [
    "etm_documents=[]\n",
    "for document in documents:\n",
    "    etm_documents.append(\" \".join(document))"
   ]
  },
  {
   "cell_type": "code",
   "execution_count": 77,
   "metadata": {},
   "outputs": [],
   "source": [
    "from embedded_topic_model.utils import preprocessing\n",
    "import json\n",
    "\n",
    "# Preprocessing the dataset\n",
    "diccionario, train_dataset,test_dataset, = preprocessing.create_etm_datasets(\n",
    "    etm_documents, \n",
    "    min_df=0.01, \n",
    "    max_df=0.75, \n",
    "    train_size=0.85, \n",
    ")\n",
    "\n"
   ]
  },
  {
   "cell_type": "code",
   "execution_count": 85,
   "metadata": {},
   "outputs": [
    {
     "data": {
      "text/plain": [
       "'él'"
      ]
     },
     "execution_count": 85,
     "metadata": {},
     "output_type": "execute_result"
    }
   ],
   "source": [
    "diccionario[44]"
   ]
  },
  {
   "cell_type": "code",
   "execution_count": 78,
   "metadata": {},
   "outputs": [
    {
     "name": "stdout",
     "output_type": "stream",
     "text": [
      "['acabar', 'nota', 'operación', 'lamentar', 'servicio', 'martes', 'carta', 'pretender', 'texto', 'reconocer', 'venir', 'organismo', 'controlar', 'ministerio', 'pleno', 'china', 'centro', 'pese', 'contagio', 'calificar', 'alguien', 'demanda', 'virus', 'familia', 'alcalde', 'necesitar', 'democracia', 'mil', 'privado', 'cristiano', 'alcanzar', 'cercano', 'electrónico', 'juan', 'aumento', 'encuentro', 'acudir', 'biobío', 'odio', 'seguidor', 'candidato', 'asumir', 'detalle', 'negativo', 'él', 'tipo', 'estallido', 'resolver', 'antofagasta', 'herramienta', 'andrés', 'ingreso', 'distinguir', 'constituyent', 'sanitario', 'fácilmente', 'necesidad', 'objetivo', 'encontrar', 'preguntar', 'reducir', 'capítulo', 'cantidad', 'reunir', 'manipulación', 'propaganda', 'administrar', 'viral', 'gestión', 'raíz', 'ley', 'fiscal', 'claro', 'editor', 'basado', 'detenido', 'jornada', 'producto', 'ellibero', 'amigo', 'empresario', 'control', 'asistir', 'fiesta', 'completamente', 'mantener', 'investigador', 'estadounidense', 'común', 'baja', 'pandemia', 'corte', 'presidente', 'diálogo', 'materia', 'nicolás', 'humanos', 'dato', 'incluir', 'totalmente', 'mivoz', 'edad', 'tv', 'investigación', 'remover', 'rumor', 'advertir', 'formar', 'engaño', 'orientación', 'experiencia', 'mensajería', 'solicitar', 'alertar', 'fraude', 'pensar', 'discurso', 'salud', 'afectado', 'falso', 'nacional', 'antonio', 'versión', 'considerar', 'responsabilidad', 'esfuerzo', 'acusar', 'fake', 'cumplir', 'soler', 'preferir', 'uu', 'elaborado', 'realidad', 'migratorio', 'miembro', 'apruebo', 'titular', 'intentar', 'haber', 'gobierno', 'mercado', 'sentir', 'representante', 'mayoría', 'actualidad', 'elecciones2021cl', 'frecuente', 'apuntar', 'impedir', 'bloquear', 'periodista', 'producir', 'principalmente', 'joven', 'permitir', 'disponible', 'presidencia', 'diverso', 'organización', 'actuar', 'extranjero', 'médico', 'dinero', 'compartido', 'vuelta', 'periodismo', 'similar', 'promover', 'directorio', 'ejemplo', 'género', 'bio', 'funcionar', 'maría', 'oficina', 'detectar', 'ciudadano', 'punto', 'policía', 'abanderado', 'perder', 'tecnología', 'programa', 'servir', 'base', 'theclinic', 'golpe', 'intervención', 'sitio', 'mayor', 'plan', 'recién', 'frente', 'publicado', 'condición', 'comunicar', 'arkabas', 'tecnológico', 'suscribir', 'competencia', 'camilo', 'conversación', 'resultado', 'diferencia', 'kast', 'suprema', 'yo', 'década', 'clinic', 'paciente', 'significar', 'contacto', 'republicano', 'cnn', 'autoridad', 'solución', 'insistir', 'ir', 'paris', 'verificar', 'difusión', 'confirmar', 'comisión', 'esperar', 'spotify', 'comprar', 'democrático', 'escuchar', 'entregado', 'tendencia', 'invitar', 'municipal', 'desconfianza', 'enlace', 'iniciativa', 'informado', 'acto', 'asociado', 'marco', 'dirigente', 'brasil', 'continúar', 'conversar', 'pagar', 'próximo', 'mundo', 'motivo', 'acceso', 'ciudadanía', 'ser', 'sostener', 'bajo', 'duro', 'aprobar', 'anunciar', 'dar', 'ciencia', 'entrevista', 'ocasión', 'noticia', 'representar', 'contrario', 'asegurar', 'veracidad', 'expresar', 'ambiente', 'corresponder', 'asunto', 'zona', 'interior', 'ayer', 'marzo', 'pc', 'violencia', 'ataque', 'crítico', 'pablo', 'post', 'circunstancia', 'negocio', 'duda', 'chile', 'difundido', 'condenar', 'pena', 'vocera', 'mencionado', 'hablar', 'leer', 'amenaza', 'población', 'enfrentar', 'chileno', 'demostrar', 'reciente', 'análisis', 'hotel', 'congreso', 'influir', 'diputado', 'prueba', 'favor', 'polémica', 'suspender', 'cuarentena', 'empezar', 'querer', 'voto', 'opinión', 'presentar', 'abierto', 'desarrollo', 'síntoma', 'atención', 'labor', 'agua', 'cuidado', 'principio', 'noche', 'ansiedad', 'crisis', 'mercurio', 'actor', 'determinar', 'comunicado', 'escenario', 'mirar', 'derechos', 'establecer', 'piñera', 'ayuda', 'engañoso', 'asociación', 'prisión', 'avance', 'rechazar', 'recalcar', 'estrategia', 'instancia', 'carlos', 'millón', 'incendio', 'derecho', 'parlamentario', 'razón', 'escribir', 'ayudar', 'criticar', 'ee', 'teoría', 'consignar', 'participar', 'incertidumbre', 'castro', 'exigir', 'directora', 'publicación', 'penal', 'profesor', 'inteligencia', 'evento', 'imponer', 'sumar', 'poder', 'desafío', 'manifestación', 'contenido', 'seguridad', 'contribuir', 'usar', 'fundamental', 'rápido', 'llamado', 'gustar', 'fiscalía', 'video', 'news', 'especial', 'consulta', 'oposición', 'independiente', 'conspirativa', 'conducta', 'audio', 'material', 'test', 'ejecutivo', 'aparecer', 'norma', 'origen', 'finalmente', 'noviembre', 'sufrir', 'práctica', 'valor', 'precisar', 'miedo', 'equipo', 'peligroso', 'regional', 'funcionario', 'ocultar', 'radio', 'covid19', 'dejar', 'serio', 'fallecer', 'instituto', 'citado', 'experto', 'relacionado', 'biografía', 'profesional', 'curso', 'popular', 'recomendar', 'nuevamente', 'ingresar', 'argentina', 'acción', 'ultraderecha', 'vacuna', 'provocar', 'difícil', 'masivo', 'constituyente', 'comentario', 'causa', 'elección', 'ganar', 'historia', 'grabar', 'unir', 'luchar', 'sacar', 'obtener', 'propósito', 'inicio', 'dave', 'mostrar', 'utilizar', 'mundial', 'sentido', 'estar', 'comenzar', 'civil', 'whatsapp', 'regular', 'vivo', 'efectividad', 'oficial', 'llevar', 'informativo', 'mensaje', 'denunciar', 'vía', 'sugerir', 'revelar', 'examen', 'mapuche', 'relación', 'candidatura', 'caber', 'internacional', 'línea', 'deber', 'creer', 'preocupación', 'víctima', 'agencia', 'convención', 'jadue', 'contener', 'américa', 'surgir', 'comuna', 'emitido', 'mes', 'pérez', 'firmar', 'subir', 'compromiso', 'tema', 'futuro', 'resultar', 'comunista', 'sociedad', 'interés', 'efectivo', 'económico', 'espacio', 'actualmente', 'sector', 'preocupar', 'fenómeno', 'chino', 'hacer', 'caso', 'naturaleza', 'cara', 'libre', 'justicia', 'mostrador', 'delito', 'hecho', 'chilegram', 'diseño', 'humano', 'ex', 'podcast', 'situación', 'lugar', 'importante', 'iniciar', 'portadalun', 'protesta', 'portal', 'stories', 'garantizar', 'explicación', 'aumentar', 'coronavirus', 'eduardo', 'amplio', 'exponer', 'transporte', 'recientemente', 'new', 'entrar', 'abuso', 'financiero', 'activista', 'violación', 'papel', 'impacto', 'carabinero', 'comunicación', 'debate', 'supuesto', 'entender', 'unidos', 'daniel', 'antecedente', 'denuncia', 'líder', 'informar', 'cultural', 'transparencia', 'aplicación', 'correr', 'blanco', 'consultar', 'nivel', 'reacción', 'joe', 'ministra', 'decidir', 'entregar', 'circular', 'agosto', 'declarar', 'confianza', 'volver', 'veraz', 'cifra', 'efecto', 'decir', 'moneda', 'señor', 'rápidamente', 'español', 'tiempo', 'diario', 'justificar', 'aprovechar', 'conocimiento', 'sexual', 'afectar', 'cosa', 'vivir', 'servel', 'existir', 'par', 'romper', 'conjunto', 'calidad', 'región', 'bandera', 'miércoles', 'violento', 'relevante', 'erróneo', 'viralizado', 'comunidad', 'antivacuna', 'página', 'semana', 'santiago', 'querella', 'donald', 'senado', 'apoyar', 'terminar', 'importancia', 'desaparecido', 'negar', 'posverdad', 'término', 'vecino', 'acerca', 'llamar', 'fundador', 'destinado', 'empresa', 'ministro', 'tú', 'declaración', 'fotografía', 'saber', 'presidenta', 'jair', 'central', 'búsqueda', 'nombre', 'tomar', 'militar', 'investigar', 'reportaje', 'cámara', 'consumo', 'lunes', 'poner', 'frase', 'canal', 'número', 'particular', 'correspondiente', 'buscar', 'sancionar', 'duna', 'responsable', 'judicial', 'dedicado', 'plaza', 'estudio', 'beneficio', 'convencional', 'contexto', 'tribunal', 'ocupar', 'resumir', 'recurso', 'doble', 'desatar', 'radiolaclave', 'suceder', 'palabra', 'divulgar', 'padre', 'morir', 'madre', 'noticiasfalsa', 'rrss', 'peligro', 'lograr', 'sanción', 'públicamente', 'multa', 'columna', 'científico', 'director', 'denominado', 'llegar', 'montaje', 'eliminar', 'rechazo', 'instalar', 'electoral', 'julio', 'referencia', 'enero', 'marca', 'causar', 'aseverar', 'dirección', 'fuerza', 'web', 'mayo', 'autor', 'momento', 'fuerte', 'lector', 'fakenews', 'resumen', 'decisión', 'opción', 'facultad', 'abordar', 'requerir', 'asesoramiento', 'real', 'indicar', 'proceso', 'serie', 'dictadura', 'admitir', 'parecer', 'vallejo', 'recibir', 'respuesta', 'aplicar', 'oms', 'televisión', 'cerrar', 'evidencia', 'vacunación', 'supuestamente', 'general', 'felipe', 'clase', 'conducir', 'foto', 'demócrata', 'escrito', 'acá', 'territorio', 'ocurrir', 'giorgio', 'país', 'ciudad', 'responder', 'libertad', 'conocer', 'agriculturo', 'constituir', 'visita', 'discusión', 'capacidad', 'político', 'existencia', 'abrir', 'especialista', 'facebook', 'niño', 'contenidoesencial', 'viaje', 'seguro', 'atacar', 'hora', 'plataforma', 'ofrecer', 'brasileño', 'minuto', 'fact', 'parque', 'creador', 'convertir', 'policial', 'borrar', 'referir', 'entidad', 'rodrigo', 'gerente', 'partido', 'jackson', 'guerra', 'concluir', 'falsedad', 'covid', 'proyecto', 'cambiar', 'cambio', 'clave', 'cuestionar', 'daño', 'cuestión', 'descartar', 'modelo', 'sebastián', 'tener', 'fecha', 'tratar', 'original', 'dirigir', 'enviar', 'troy', 'señalar', 'previo', 'capital', 'caída', 'repetir', 'solicitud', 'revista', 'continuar', 'malo', 'informe', 'piñero', 'matemática', 'colaborar', 'propuesta', 'abril', 'destacar', 'diciembre', 'economía', 'acceder', 'diputada', 'libro', 'luis', 'anuncio', 'expresión', 'medio', 'faltar', 'trump', 'legal', 'ciento', 'grupo', 'maduro', 'fallecido', 'hospital', 'red', 'cadena', 'octubre', 'constitución', 'concepción', 'interferencia', 'valparaíso', 'dignidad', 'norte', 'prensa', 'realizar', 'sensación', 'recordar', 'emitir', 'familiar', 'orden', 'ilegal', 'ddhh', 'depender', 'proponer', 'transformar', 'idea', 'actual', 'siquiera', 'boric', 'necesario', 'mandatario', 'oportunidad', 'problema', 'españa', 'encuesta', 'digital', 'eventual', 'pasar', 'jueves', 'posibilidad', 'the', 'tuit', 'plebiscito', 'conocido', 'filtrar', 'forma', 'identificar', 'contar', 'público', 'afirmar', 'analizar', 'gente', 'bajar', 'francisco', 'paso', 'pedir', 'comentar', 'jaime', 'medida', 'minsal', 'ejército', 'engañar', 'política', 'sistema', 'defender', 'regla', 'personal', 'gonzalo', 'resto', 'compañía', 'llegada', 'plazo', 'transmitir', 'consecuencia', 'especialmente', 'riesgo', 'emergencia', 'fondo', 'construir', 'positivo', 'enrique', 'trabajador', 'votación', 'cabo', 'dicho', 'registro', 'juicio', 'campaña', 'udi', 'presunto', 'época', 'documento', 'anti', 'tanto', 'crítica', 'recuperar', 'mesa', 'desmentir', 'cuestionamiento', 'extender', 'mascarilla', 'generar', 'torno', 'apoyo', 'youtube', 'domingo', 'viralizar', 'trabajar', 'infodemia', 'comercial', 'clínico', 'inédito', 'pueblo', 'combatir', 'abogado', 'bachelet', 'explicar', 'constitucional', 'internet', 'artículo', 'desarrollar', 'actividad', 'propagación', 'derecha', 'rol', 'específicamente', 'cerca', 'imagen', 'movimiento', 'alto', 'plantear', 'mencionar', 'aclarar', 'directo', 'jorge', 'revisar', 'polémico', 'directamente', 'social', 'dirigido', 'institución', 'salida', 'fuente', 'sergio', 'dc', 'extremo', 'principal', 'correcto', 'participación', 'superar', 'publicar', 'caer', 'académico', 'sábado', 'difundir', 'calle', 'presidencial', 'completo', 'credibilidad', 'mujer', 'carrera', 'local', 'votar', 'cuenta', 'apple', 'jefe', 'usuario', 'realizado', 'facilitar', 'revuelo', 'salir', 'link', 'acusación', 'confusión', 'quedar', 'perfil', 'mala', 'presencia', 'persona', 'conspiración', 'manifestar', 'austral', 'agricultura', 'periodístico', 'obstante', 'crear', 'casa', 'impunidad', 'registrar', 'enfermedad', 'influencia', 'cierre', 'jugar', 'carolina', 'venezuela', 'trabajo', 'cargo', 'compartir', 'desinformación', 'instagram', 'católico', 'año', 'eeuu', 'asimismo', 'falta', 'bolsonaro', 'vida', 'viajar', 'consejo', 'agente', 'universidad', 'hijo', 'información', 'único', 'camila', 'times', 'mentira', 'distinto', 'defensa', 'izquierda', 'detener', 'hombre', 'cuyo', 'entrega', 'transmisión', 'identidad', 'pregunta', 'menor', 'ciper', 'viernes', 'york', 'agregar', 'josé', 'voz', 'global', 'crimen', 'favorecer', 'proteger', 'lanzar', 'twitter', 'febrero', 'adolescente', 'gracias', 'senador', 'google', 'absolutamente', 'mañana', 'biden', 'certeza', 'votante', 'grave', 'atento', 'levantar', 'pinochet', 'compilado', 'muerte', 'evitar', 'ver', 'comando', 'edición', 'organizar', 'error', 'gabriel', 'operar', 'seguir', 'suscríbete']\n"
     ]
    }
   ],
   "source": [
    "print(diccionario)"
   ]
  },
  {
   "cell_type": "code",
   "execution_count": 79,
   "metadata": {},
   "outputs": [],
   "source": [
    "from embedded_topic_model.models.etm import ETM\n",
    "# Training an ETM instance\n",
    "perp =[]\n",
    "numk = range(1,10)\n",
    "for k in numk:\n",
    "    etm_instance = ETM(\n",
    "       diccionario,\n",
    "        embeddings=model, # You can pass here the path to a word2vec file or\n",
    "                                   # a KeyedVectors instance\n",
    "        num_topics=k,\n",
    "        epochs=200,\n",
    "        debug_mode=False,\n",
    "        eval_perplexity=True,\n",
    "        train_embeddings=False, # Optional. If True, ETM will learn word embeddings jointly with\n",
    "                            # topic embeddings. By default, is False. If 'embeddings' argument\n",
    "                            # is being passed, this argument must not be True\n",
    "    )\n",
    "\n",
    "    etm_instance.fit(train_dataset, test_dataset)\n",
    "    perp.append(etm_instance._perplexity(test_dataset))\n",
    "\n"
   ]
  },
  {
   "cell_type": "code",
   "execution_count": 80,
   "metadata": {},
   "outputs": [
    {
     "data": {
      "image/png": "[encoded data removed]",
      "text/plain": [
       "<Figure size 432x288 with 1 Axes>"
      ]
     },
     "metadata": {
      "needs_background": "light"
     },
     "output_type": "display_data"
    }
   ],
   "source": [
    "import matplotlib.pyplot as plt\n",
    "plt.plot(numk, perp, '-o')\n",
    "plt.xlabel('number of topics, k')\n",
    "plt.ylabel('perplexity test')\n",
    "plt.xticks(numk)\n",
    "plt.show()"
   ]
  },
  {
   "cell_type": "code",
   "execution_count": 81,
   "metadata": {},
   "outputs": [
    {
     "data": {
      "text/plain": [
       "<embedded_topic_model.models.etm.ETM at 0x7f44728fe390>"
      ]
     },
     "execution_count": 81,
     "metadata": {},
     "output_type": "execute_result"
    }
   ],
   "source": [
    "from embedded_topic_model.models.etm import ETM\n",
    "etm_instance = ETM(\n",
    "       diccionario,\n",
    "        embeddings=model, # You can pass here the path to a word2vec file or\n",
    "                                   # a KeyedVectors instance\n",
    "        num_topics=4,\n",
    "        epochs=500,\n",
    "        debug_mode=False,\n",
    "        eval_perplexity=True,\n",
    "        train_embeddings=False, # Optional. If True, ETM will learn word embeddings jointly with\n",
    "                            # topic embeddings. By default, is False. If 'embeddings' argument\n",
    "                            # is being passed, this argument must not be True\n",
    "    )\n",
    "\n",
    "etm_instance.fit(train_dataset, test_dataset)"
   ]
  },
  {
   "cell_type": "code",
   "execution_count": 86,
   "metadata": {},
   "outputs": [
    {
     "name": "stdout",
     "output_type": "stream",
     "text": [
      "[['él', 'persona', 'chile', 'año', 'coronavirus', 'vacuna', 'pandemia', 'salud', 'enfermedad', 'tiempo', 'país', 'médico', 'virus', 'mundo', 'crisis', 'haber', 'gente', 'momento', 'tomar', 'problema'], ['falso', 'noticia', 'social', 'fake', 'red', 'new', 'link', 'leer', 'bio', 'completo', 'facebook', 'twitter', 'circular', 'desmentir', 'detalle', 'publicar', 'revisar', 'contenido', 'video', 'difundir'], ['chile', 'presidente', 'gobierno', 'campaña', 'candidato', 'presidencial', 'kast', 'boric', 'elección', 'diputado', 'político', 'política', 'unidos', 'mandatario', 'entrevista', 'canal', 'voto', 'alcalde', 'electoral', 'partido'], ['información', 'desinformación', 'país', 'medio', 'caso', 'público', 'nacional', 'social', 'investigación', 'periodismo', 'artículo', 'grupo', 'comunicación', 'chileno', 'sistema', 'piñera', 'señalar', 'medida', 'humanos', 'carabinero']]\n"
     ]
    }
   ],
   "source": [
    "import numpy as np\n",
    "## extrayendo resultados del análisis de tópicos\n",
    "topics = etm_instance.get_topics(20)\n",
    "dist = etm_instance.get_document_topic_dist()\n",
    "d_topic = etm_instance.get_topic_word_dist()\n",
    "\n",
    "##creando las entradas para visualización\n",
    "true_k=4\n",
    "nDoc = len(dist)\n",
    "nVocab = len(diccionario)\n",
    "dist_doc = np.array(dist).reshape(nDoc,true_k)\n",
    "dist_topic= np.array(d_topic).reshape(true_k,nVocab)\n",
    "print(topics)"
   ]
  },
  {
   "cell_type": "code",
   "execution_count": 87,
   "metadata": {},
   "outputs": [
    {
     "data": {
      "image/png": "[encoded data removed]",
      "text/plain": [
       "<Figure size 432x288 with 1 Axes>"
      ]
     },
     "metadata": {
      "needs_background": "light"
     },
     "output_type": "display_data"
    },
    {
     "data": {
      "image/png": "[encoded data removed]",
      "text/plain": [
       "<Figure size 432x288 with 1 Axes>"
      ]
     },
     "metadata": {
      "needs_background": "light"
     },
     "output_type": "display_data"
    },
    {
     "name": "stdout",
     "output_type": "stream",
     "text": [
      "[0.0231225, 0.02259456, 0.017917097, 0.017262591, 0.014520019, 0.014221696, 0.013864044, 0.0124194585, 0.009619539, 0.0090892995, 0.0073571806, 0.007344798, 0.00724969, 0.0069762287, 0.006391418]\n"
     ]
    },
    {
     "data": {
      "image/png": "[encoded data removed]",
      "text/plain": [
       "<Figure size 432x288 with 1 Axes>"
      ]
     },
     "metadata": {
      "needs_background": "light"
     },
     "output_type": "display_data"
    },
    {
     "name": "stdout",
     "output_type": "stream",
     "text": [
      "[0.070856065, 0.049268477, 0.04621429, 0.045786653, 0.044425838, 0.03969216, 0.028081622, 0.027180264, 0.021704432, 0.015758757, 0.013849341, 0.01311834, 0.011403374, 0.010988461, 0.010711999]\n"
     ]
    },
    {
     "data": {
      "image/png": "[encoded data removed]",
      "text/plain": [
       "<Figure size 432x288 with 1 Axes>"
      ]
     },
     "metadata": {
      "needs_background": "light"
     },
     "output_type": "display_data"
    },
    {
     "name": "stdout",
     "output_type": "stream",
     "text": [
      "[0.020787561, 0.017874263, 0.01193212, 0.011394669, 0.011367084, 0.009134049, 0.0088813715, 0.008628703, 0.008345009, 0.00803135, 0.007363465, 0.006933553, 0.0068876245, 0.0068551046, 0.006580339]\n"
     ]
    },
    {
     "data": {
      "image/png": "[encoded data removed]",
      "text/plain": [
       "<Figure size 432x288 with 1 Axes>"
      ]
     },
     "metadata": {
      "needs_background": "light"
     },
     "output_type": "display_data"
    },
    {
     "name": "stdout",
     "output_type": "stream",
     "text": [
      "[0.047745578, 0.025502354, 0.014896103, 0.013865541, 0.010188234, 0.009973854, 0.0097000385, 0.008458459, 0.007890992, 0.0069784443, 0.006450019, 0.0061700926, 0.0060834084, 0.005985488, 0.0058976277]\n"
     ]
    },
    {
     "data": {
      "image/png": "[encoded data removed]",
      "text/plain": [
       "<Figure size 432x288 with 1 Axes>"
      ]
     },
     "metadata": {
      "needs_background": "light"
     },
     "output_type": "display_data"
    }
   ],
   "source": [
    "#Generando algunos gráficos de los resultados\n",
    "from matplotlib.pylab import hist, show\n",
    "import matplotlib.pyplot as plt\n",
    "import numpy as np\n",
    "\n",
    "dist_sum = sum(dist_doc)/nDoc\n",
    "w=np.arange(0,true_k)\n",
    "plt.bar(w,height=dist_sum,alpha=0.5,tick_label=w)\n",
    "show()\n",
    "\n",
    "#distribución de tópicos en el documento 100\n",
    "plt.bar(w,height=dist_doc[51],alpha=0.5,tick_label=w)\n",
    "show()\n",
    "\n",
    "#frecuencia de palabras por tópico\n",
    "n_top_words=15\n",
    "numo =np.arange(0,n_top_words)\n",
    "\n",
    "for idx,topic in enumerate(dist_topic):\n",
    "    d =[]\n",
    "    s = []\n",
    "    for i in topic.argsort()[:-n_top_words - 1:-1]:\n",
    "        s.append(diccionario[i])\n",
    "        d.append(topic[i])\n",
    "    print(d)\n",
    "    \n",
    "    plt.barh(numo,width=d,alpha=0.5,tick_label=s)\n",
    "    show()\n",
    "\n"
   ]
  },
  {
   "cell_type": "code",
   "execution_count": 88,
   "metadata": {},
   "outputs": [],
   "source": [
    "doc_l = np.zeros(len(train_dataset['counts']))\n",
    "term_f= np.zeros(len(diccionario))\n",
    "for i in range(0,len(train_dataset['counts'])):\n",
    "        for j in range(0,len(train_dataset['counts'][i])):\n",
    "                js = train_dataset['tokens'][i][j]\n",
    "             \n",
    "                term_f[js] = term_f[js] + train_dataset['counts'][i][j]\n",
    "                doc_l[i] = doc_l[i]+ train_dataset['counts'][i][j]"
   ]
  },
  {
   "cell_type": "code",
   "execution_count": 89,
   "metadata": {
    "scrolled": false
   },
   "outputs": [
    {
     "name": "stderr",
     "output_type": "stream",
     "text": [
      "/home/eliana/anaconda3/envs/etmEnv/lib/python3.7/site-packages/pyLDAvis/_prepare.py:247: FutureWarning: In a future version of pandas all arguments of DataFrame.drop except for the argument 'labels' will be keyword-only\n",
      "  by='saliency', ascending=False).head(R).drop('saliency', 1)\n"
     ]
    },
    {
     "data": {
      "text/html": [
       "\n",
       "<link rel=\"stylesheet\" type=\"text/css\" href=\"https://cdn.jsdelivr.net/gh/bmabey/pyLDAvis@3.3.1/pyLDAvis/js/ldavis.v1.0.0.css\">\n",
       "\n",
       "\n",
       "<div id=\"ldavis_el1340971399289448025127296823189\"></div>\n",
       "<script type=\"text/javascript\">\n",
       "\n",
       "var ldavis_el1340971399289448025127296823189_data = {\"mdsDat\": {\"x\": [-0.030628764818873336, -0.1579773637658352, -0.11398959279798218, 0.3025957213826906], \"y\": [0.2012775612196673, -0.046384990247525196, -0.10971806326955032, -0.04517450770259182], \"topics\": [1, 2, 3, 4], \"cluster\": [1, 1, 1, 1], \"Freq\": [26.23568660965448, 25.31346138067363, 25.194481371965775, 23.256370637706112]}, \"tinfo\": {\"Term\": [\"falso\", \"informaci\\u00f3n\", \"noticia\", \"fake\", \"red\", \"social\", \"new\", \"link\", \"leer\", \"desinformaci\\u00f3n\", \"bio\", \"chile\", \"persona\", \"\\u00e9l\", \"presidente\", \"coronavirus\", \"pandemia\", \"vacuna\", \"completo\", \"facebook\", \"a\\u00f1o\", \"twitter\", \"salud\", \"medio\", \"candidato\", \"pa\\u00eds\", \"campa\\u00f1a\", \"circular\", \"desmentir\", \"enfermedad\", \"desinformaci\\u00f3n\", \"informaci\\u00f3n\", \"delito\", \"fiscal\\u00eda\", \"periodismo\", \"bachelet\", \"estallido\", \"penal\", \"mercado\", \"medio\", \"asociaci\\u00f3n\", \"sector\", \"prisi\\u00f3n\", \"civil\", \"v\\u00edctima\", \"investigaci\\u00f3n\", \"informe\", \"aumento\", \"art\\u00edculo\", \"director\", \"violaci\\u00f3n\", \"financiero\", \"period\\u00edstico\", \"tribunal\", \"conspiraci\\u00f3n\", \"organizaci\\u00f3n\", \"nacional\", \"cifra\", \"acci\\u00f3n\", \"causar\", \"humanos\", \"caso\", \"pi\\u00f1era\", \"sociedad\", \"p\\u00fablico\", \"grupo\", \"medida\", \"sistema\", \"prensa\", \"pa\\u00eds\", \"derechos\", \"empresa\", \"comunicaci\\u00f3n\", \"carabinero\", \"dato\", \"servicio\", \"se\\u00f1alar\", \"informar\", \"chileno\", \"diario\", \"social\", \"periodista\", \"agriculturo\", \"apruebo\", \"candidato\", \"candidatura\", \"dem\\u00f3crata\", \"presidencial\", \"senador\", \"kast\", \"presidente\", \"presidencia\", \"convenci\\u00f3n\", \"republicano\", \"votaci\\u00f3n\", \"servel\", \"elecci\\u00f3n\", \"unidos\", \"campa\\u00f1a\", \"electoral\", \"donald\", \"castro\", \"partido\", \"voto\", \"presidenta\", \"jorge\", \"mercurio\", \"troy\", \"boric\", \"abanderado\", \"dirigente\", \"plebiscito\", \"mandatario\", \"jos\\u00e9\", \"diputado\", \"alcalde\", \"parlamentario\", \"bolsonaro\", \"acusar\", \"canal\", \"pol\\u00edtica\", \"trump\", \"debate\", \"gobierno\", \"chile\", \"responder\", \"pol\\u00edtico\", \"querer\", \"entrevista\", \"ex\", \"deber\", \"derecho\", \"\\u00e9l\", \"chileno\", \"pandemia\", \"contagio\", \"coronavirus\", \"vacuna\", \"virus\", \"enfermedad\", \"salud\", \"cuarentena\", \"m\\u00e9dico\", \"antivacuna\", \"universidad\", \"infodemia\", \"vacunaci\\u00f3n\", \"mascarilla\", \"paciente\", \"crisis\", \"surgir\", \"peligroso\", \"positivo\", \"minsal\", \"efectividad\", \"fallecer\", \"experto\", \"sanitario\", \"covid\", \"cient\\u00edfico\", \"mar\\u00eda\", \"propagaci\\u00f3n\", \"persona\", \"maduro\", \"casa\", \"mundial\", \"tomar\", \"a\\u00f1o\", \"\\u00e9l\", \"mundo\", \"tiempo\", \"vivir\", \"esperar\", \"problema\", \"importante\", \"gente\", \"evitar\", \"vida\", \"momento\", \"chile\", \"lugar\", \"buscar\", \"creer\", \"haber\", \"fuente\", \"pa\\u00eds\", \"generar\", \"arkabas\", \"link\", \"fake\", \"leer\", \"facebook\", \"bio\", \"falso\", \"new\", \"twitter\", \"noticia\", \"whatsapp\", \"portadalun\", \"youtube\", \"publicar\", \"google\", \"usuario\", \"biob\\u00edo\", \"red\", \"detalle\", \"imagen\", \"desmentir\", \"revisar\", \"circular\", \"times\", \"fakenews\", \"completo\", \"enga\\u00f1oso\", \"instagram\", \"podcast\", \"nota\", \"contenido\", \"social\", \"publicaci\\u00f3n\", \"p\\u00e1gina\", \"mensaje\", \"difundir\", \"video\", \"plataforma\", \"ver\", \"news\"], \"Freq\": [364.0, 274.0, 256.0, 232.0, 238.0, 281.0, 205.0, 142.0, 138.0, 145.0, 110.0, 211.0, 135.0, 153.0, 99.0, 80.0, 75.0, 78.0, 86.0, 70.0, 111.0, 68.0, 68.0, 84.0, 62.0, 126.0, 64.0, 61.0, 59.0, 53.0, 144.3723054178201, 270.2942321836345, 19.227100396539523, 16.28181076750779, 39.50592537384706, 7.1459382471219435, 18.24862712963033, 13.206893966391162, 18.16122220782146, 78.49471814118544, 12.439466046559824, 25.52522922351147, 8.831214066227675, 16.82165663274205, 12.154895223725807, 44.671981730926476, 27.419972640699324, 14.472816756056416, 36.51443682894187, 25.432082718891053, 26.7258105336733, 11.289536146931097, 19.260831536514353, 15.775229439788458, 9.254436337252933, 21.243190769278257, 54.91324141018299, 17.996678936407385, 23.598324506828252, 15.935918627607268, 31.065002516899067, 57.676983139735505, 33.082053774364525, 26.05100847447465, 56.463347505385066, 34.929736247405565, 31.201400696996565, 33.38727505126386, 25.455571012211024, 84.32887277183919, 27.7990594595544, 29.728637254736658, 34.439004904376056, 30.771398850399407, 29.127426575596406, 23.47968358192754, 32.28513631545083, 27.876299301785064, 33.88466536499216, 28.893355583400332, 47.88448958001123, 25.49442028029817, 9.510598885850106, 22.68413587259944, 62.08859188395745, 15.344674802388246, 17.08952918886558, 49.89144028961647, 16.260680528997533, 48.51128277264996, 97.631704838771, 16.31734222411652, 21.336692936708502, 17.473261661297382, 15.710106745288195, 14.390168017332307, 45.58159563843537, 37.62116033883764, 62.23926412418093, 31.372934791071444, 22.648781131738737, 3.1388667014877822, 31.04821802905838, 32.41611330101126, 14.93348899215213, 17.321706824305657, 13.313360535716974, 9.849548474566138, 47.13117103880113, 9.67101593549247, 16.536199515823682, 18.296303495742045, 37.443532016337784, 22.428261658509815, 43.86834559243031, 32.05224688638467, 27.743020307291992, 24.481944793418457, 29.393542395087938, 32.79132884180478, 37.87202893206296, 28.58977398142543, 29.311755942399024, 65.17489288966536, 113.54454304432342, 20.791634746924085, 40.22026792847199, 25.56404658389002, 35.94272326680096, 25.148086611884438, 25.12604458423704, 23.204771312618067, 25.317555365414428, 23.349885991058763, 75.37139314191758, 19.489119176532874, 78.93757944296942, 77.31575624147594, 39.41268801138004, 52.2962871352239, 67.5179536974993, 21.28480552939243, 39.92973965963185, 6.801195050734475, 29.232892085208363, 11.256160941392297, 10.768727178496274, 8.035400395757163, 11.753109540145383, 34.746722376405444, 13.272087201101101, 17.66194032452156, 20.97827895957388, 11.432667032397799, 5.706468060475877, 13.048136039930593, 17.10923683820269, 27.51167511348206, 13.31077690082267, 22.85062575128501, 8.260824286942263, 12.754135586334142, 122.8345385837678, 12.114120158737576, 24.01419005374697, 26.96254364615862, 31.636600119339732, 93.84747532674517, 125.70466977012718, 37.92602433799849, 49.413660211258964, 27.638675451500248, 29.832814067843838, 30.455995944547347, 27.04230270389779, 33.105023965037326, 21.1036072079064, 29.92247655457671, 32.499859139496444, 97.40567205164565, 27.083217637281287, 29.115395191066035, 26.758363901256217, 33.240226529522694, 26.707218968751153, 39.99705614234442, 29.464949273893655, 9.244129970776465, 140.92087062383382, 229.7693120868025, 136.3976211228525, 69.49959075756804, 108.91847356590044, 355.57413013713045, 199.18556388364868, 65.8312348794797, 247.24200874857712, 23.864617743159158, 7.117921563794224, 21.123711078408732, 51.365927599050956, 19.051724240687726, 35.24113990239923, 4.81180279675337, 222.94038898094274, 53.75559080204121, 39.340585677556895, 55.14294978094527, 51.248960948784216, 57.22509356007724, 10.453141330808744, 27.675388124261374, 79.08153221052795, 13.507061257967365, 21.22880673767865, 16.336578561124107, 45.433815800434736, 49.553909622137276, 231.91530684191818, 34.66623107995598, 28.17957808833122, 39.95317554917806, 45.53940686326594, 48.06735309051369, 37.374123303603426, 31.143766877047504, 24.938678368926357], \"Total\": [364.0, 274.0, 256.0, 232.0, 238.0, 281.0, 205.0, 142.0, 138.0, 145.0, 110.0, 211.0, 135.0, 153.0, 99.0, 80.0, 75.0, 78.0, 86.0, 70.0, 111.0, 68.0, 68.0, 84.0, 62.0, 126.0, 64.0, 61.0, 59.0, 53.0, 145.74329891987512, 274.817264442092, 19.961382486049278, 16.95222145720767, 41.23861410633936, 7.542180423476746, 19.364808972361658, 14.096538049147576, 19.389903047686225, 84.46796888511793, 13.494788309923232, 27.972570947634086, 9.68236634363314, 18.461991891823352, 13.400939672863979, 49.36223443033386, 30.3642468572428, 16.07808553768895, 40.76958651625887, 28.512568319804966, 30.048429372593425, 12.727861432045675, 21.740104762544764, 17.88811413967179, 10.565896045227207, 24.257623491538435, 62.87941985013466, 20.632918525973885, 27.12645385496154, 18.329456393187858, 35.89401718702793, 69.62162495924306, 39.172784636826286, 30.69752004434891, 70.61633861526548, 42.462835204917965, 37.94714649799207, 41.21712407865328, 30.770614293715088, 126.10651906105453, 34.33032629419309, 37.468632124687815, 47.3546065626806, 41.290681629003146, 39.164929406615606, 28.711904905116924, 48.10660152952901, 38.51370674860664, 60.7500165577348, 49.73447708018163, 281.0275326186693, 35.59579651330795, 9.529959078306714, 22.732213375662226, 62.29899535714031, 15.398830294544185, 17.159873346089928, 50.23937526049725, 16.427412489554776, 49.033847617198134, 99.10882013072509, 16.569228963874192, 21.666389017570307, 17.91899305397092, 16.156922726267606, 14.829150396446002, 46.974667155118226, 38.802445733343454, 64.43498708024413, 32.48957373480744, 23.486677898160124, 3.2690846121344785, 32.45270146261916, 33.91440194657533, 15.712813568761035, 18.28530637719117, 14.06416774576988, 10.414085798721699, 49.88367204545826, 10.240834899544476, 17.539984649025214, 19.516152268019574, 40.05691582099693, 24.066676635078828, 47.88387531533493, 34.83382524750758, 30.34344280359144, 26.74118497822893, 33.4122103579258, 38.482431764879266, 45.89017231021817, 33.066376428751944, 34.091810582312505, 90.5648074478129, 211.35531980179786, 22.713170298155866, 57.46147888469933, 30.770662701975397, 51.065688581393026, 30.840058239223627, 31.72842164683652, 31.622057606705656, 153.02655327402277, 60.7500165577348, 75.49986202852827, 19.709793340163845, 80.04375945175607, 78.64225401770042, 40.13046853114114, 53.31669662107976, 68.89740860937019, 21.845966033940407, 41.138120099082464, 7.041163746290665, 30.361704498064825, 11.69905171637297, 11.241759347920325, 8.464369649680847, 12.402130105986565, 36.713390211891664, 14.174265218398011, 18.87387234825654, 22.50872725475648, 12.281273548332921, 6.1347599474591, 14.053421464957324, 18.52591942568012, 29.85039041028574, 14.484129116458849, 24.91059595884182, 9.020894973057892, 13.946683459451277, 135.78120124310897, 13.445100634844119, 26.806892883318223, 30.279690485546038, 35.89889333910522, 111.50586032939431, 153.02655327402277, 43.51722304845742, 58.416143723698575, 31.91042797118792, 34.871265164910234, 35.73944000563157, 31.3777615926616, 39.81213274563009, 23.90191313054472, 36.94656883357739, 41.71258037529369, 211.35531980179786, 34.41528204260998, 39.50932072844247, 34.811858552414975, 55.99274155970041, 36.79830051887616, 126.10651906105453, 51.74521697002322, 9.251396333495155, 142.0898290806184, 232.33098753095894, 138.13575698053705, 70.51462262474175, 110.62557596658813, 364.07352409864654, 205.65424075255189, 68.06840602316332, 256.2027992427676, 24.890779280466663, 7.426441818387277, 22.337765726579367, 54.48694136624772, 20.317548023531504, 37.62394264152104, 5.1398851154330645, 238.32080283789978, 57.58548220196464, 42.20153362471587, 59.34052805921604, 55.27549388574113, 61.78902983174407, 11.298653683015331, 29.95780293244356, 86.1361258423281, 14.748035676052394, 23.940655059743417, 18.499435553117284, 51.46647756041117, 56.48885519101656, 281.0275326186693, 40.507950225353326, 33.04030092827071, 48.53871692377315, 56.12703421017795, 70.40945769905643, 52.801533997807766, 45.78631294270175, 31.06675156899903], \"Category\": [\"Default\", \"Default\", \"Default\", \"Default\", \"Default\", \"Default\", \"Default\", \"Default\", \"Default\", \"Default\", \"Default\", \"Default\", \"Default\", \"Default\", \"Default\", \"Default\", \"Default\", \"Default\", \"Default\", \"Default\", \"Default\", \"Default\", \"Default\", \"Default\", \"Default\", \"Default\", \"Default\", \"Default\", \"Default\", \"Default\", \"Topic1\", \"Topic1\", \"Topic1\", \"Topic1\", \"Topic1\", \"Topic1\", \"Topic1\", \"Topic1\", \"Topic1\", \"Topic1\", \"Topic1\", \"Topic1\", \"Topic1\", \"Topic1\", \"Topic1\", \"Topic1\", \"Topic1\", \"Topic1\", \"Topic1\", \"Topic1\", \"Topic1\", \"Topic1\", \"Topic1\", \"Topic1\", \"Topic1\", \"Topic1\", \"Topic1\", \"Topic1\", \"Topic1\", \"Topic1\", \"Topic1\", \"Topic1\", \"Topic1\", \"Topic1\", \"Topic1\", \"Topic1\", \"Topic1\", \"Topic1\", \"Topic1\", \"Topic1\", \"Topic1\", \"Topic1\", \"Topic1\", \"Topic1\", \"Topic1\", \"Topic1\", \"Topic1\", \"Topic1\", \"Topic1\", \"Topic1\", \"Topic1\", \"Topic1\", \"Topic2\", \"Topic2\", \"Topic2\", \"Topic2\", \"Topic2\", \"Topic2\", \"Topic2\", \"Topic2\", \"Topic2\", \"Topic2\", \"Topic2\", \"Topic2\", \"Topic2\", \"Topic2\", \"Topic2\", \"Topic2\", \"Topic2\", \"Topic2\", \"Topic2\", \"Topic2\", \"Topic2\", \"Topic2\", \"Topic2\", \"Topic2\", \"Topic2\", \"Topic2\", \"Topic2\", \"Topic2\", \"Topic2\", \"Topic2\", \"Topic2\", \"Topic2\", \"Topic2\", \"Topic2\", \"Topic2\", \"Topic2\", \"Topic2\", \"Topic2\", \"Topic2\", \"Topic2\", \"Topic2\", \"Topic2\", \"Topic2\", \"Topic2\", \"Topic2\", \"Topic2\", \"Topic2\", \"Topic2\", \"Topic2\", \"Topic2\", \"Topic2\", \"Topic2\", \"Topic3\", \"Topic3\", \"Topic3\", \"Topic3\", \"Topic3\", \"Topic3\", \"Topic3\", \"Topic3\", \"Topic3\", \"Topic3\", \"Topic3\", \"Topic3\", \"Topic3\", \"Topic3\", \"Topic3\", \"Topic3\", \"Topic3\", \"Topic3\", \"Topic3\", \"Topic3\", \"Topic3\", \"Topic3\", \"Topic3\", \"Topic3\", \"Topic3\", \"Topic3\", \"Topic3\", \"Topic3\", \"Topic3\", \"Topic3\", \"Topic3\", \"Topic3\", \"Topic3\", \"Topic3\", \"Topic3\", \"Topic3\", \"Topic3\", \"Topic3\", \"Topic3\", \"Topic3\", \"Topic3\", \"Topic3\", \"Topic3\", \"Topic3\", \"Topic3\", \"Topic3\", \"Topic3\", \"Topic3\", \"Topic3\", \"Topic3\", \"Topic3\", \"Topic3\", \"Topic3\", \"Topic4\", \"Topic4\", \"Topic4\", \"Topic4\", \"Topic4\", \"Topic4\", \"Topic4\", \"Topic4\", \"Topic4\", \"Topic4\", \"Topic4\", \"Topic4\", \"Topic4\", \"Topic4\", \"Topic4\", \"Topic4\", \"Topic4\", \"Topic4\", \"Topic4\", \"Topic4\", \"Topic4\", \"Topic4\", \"Topic4\", \"Topic4\", \"Topic4\", \"Topic4\", \"Topic4\", \"Topic4\", \"Topic4\", \"Topic4\", \"Topic4\", \"Topic4\", \"Topic4\", \"Topic4\", \"Topic4\", \"Topic4\", \"Topic4\", \"Topic4\", \"Topic4\", \"Topic4\"], \"logprob\": [30.0, 29.0, 28.0, 27.0, 26.0, 25.0, 24.0, 23.0, 22.0, 21.0, 20.0, 19.0, 18.0, 17.0, 16.0, 15.0, 14.0, 13.0, 12.0, 11.0, 10.0, 9.0, 8.0, 7.0, 6.0, 5.0, 4.0, 3.0, 2.0, 1.0, -3.669, -3.0419, -5.6851, -5.8513, -4.9649, -6.6748, -5.7373, -6.0606, -5.7421, -4.2783, -6.1205, -5.4017, -6.4631, -5.8187, -6.1436, -4.842, -5.3301, -5.9691, -5.0437, -5.4054, -5.3558, -6.2175, -5.6833, -5.8829, -6.4163, -5.5853, -4.6356, -5.7512, -5.4802, -5.8728, -5.2053, -4.5865, -5.1424, -5.3813, -4.6078, -5.088, -5.2009, -5.1332, -5.4044, -4.2067, -5.3164, -5.2493, -5.1022, -5.2148, -5.2697, -5.4852, -5.1668, -5.3136, -5.1184, -5.2778, -4.7726, -5.4029, -6.3532, -5.4839, -4.477, -5.8748, -5.7671, -4.6957, -5.8168, -4.7238, -4.0244, -5.8134, -5.5452, -5.7449, -5.8513, -5.9391, -4.7861, -4.978, -4.4746, -5.1597, -5.4855, -7.4617, -5.1701, -5.1269, -5.902, -5.7536, -6.0168, -6.3182, -4.7527, -6.3365, -5.8, -5.6989, -4.9828, -5.4953, -4.8244, -5.1382, -5.2826, -5.4077, -5.2248, -5.1154, -4.9714, -5.2525, -5.2276, -4.4285, -3.8734, -5.571, -4.9112, -5.3644, -5.0237, -5.3808, -5.3817, -5.4612, -5.3741, -5.455, -4.2785, -5.631, -4.2322, -4.253, -4.9268, -4.644, -4.3885, -5.5429, -4.9138, -6.6838, -5.2256, -6.18, -6.2242, -6.517, -6.1368, -5.0528, -6.0152, -5.7295, -5.5574, -6.1644, -6.8593, -6.0322, -5.7613, -5.2863, -6.0123, -5.4719, -6.4894, -6.055, -3.79, -6.1065, -5.4222, -5.3064, -5.1466, -4.0592, -3.7669, -4.9652, -4.7007, -5.2817, -5.2053, -5.1846, -5.3035, -5.1012, -5.5514, -5.2023, -5.1196, -4.022, -5.302, -5.2296, -5.314, -5.0971, -5.316, -4.9121, -5.2177, -6.2968, -3.5726, -3.0838, -3.6053, -4.2795, -3.8302, -2.6471, -3.2266, -4.3337, -3.0105, -5.3484, -6.5582, -5.4704, -4.5819, -5.5737, -4.9586, -6.9498, -3.1139, -4.5364, -4.8486, -4.5109, -4.5841, -4.4738, -6.1739, -5.2003, -4.1504, -5.9176, -5.4655, -5.7274, -4.7046, -4.6178, -3.0745, -4.9751, -5.1822, -4.8331, -4.7023, -4.6482, -4.8999, -5.0822, -5.3044], \"loglift\": [30.0, 29.0, 28.0, 27.0, 26.0, 25.0, 24.0, 23.0, 22.0, 21.0, 20.0, 19.0, 18.0, 17.0, 16.0, 15.0, 14.0, 13.0, 12.0, 11.0, 10.0, 9.0, 8.0, 7.0, 6.0, 5.0, 4.0, 3.0, 2.0, 1.0, 1.3286, 1.3215, 1.3006, 1.2977, 1.2951, 1.2841, 1.2787, 1.2729, 1.2726, 1.2647, 1.2566, 1.2465, 1.246, 1.245, 1.2405, 1.2382, 1.2361, 1.2329, 1.2278, 1.2237, 1.2209, 1.2181, 1.217, 1.2124, 1.2055, 1.2054, 1.2026, 1.2013, 1.1987, 1.1981, 1.1936, 1.1498, 1.1691, 1.1739, 1.1144, 1.1428, 1.1423, 1.1274, 1.1484, 0.9356, 1.127, 1.1067, 1.0196, 1.044, 1.0419, 1.1369, 0.9392, 1.0148, 0.7542, 0.795, -0.4316, 1.0043, 1.3718, 1.3717, 1.3705, 1.3703, 1.3697, 1.3669, 1.3636, 1.3631, 1.3588, 1.3585, 1.3585, 1.3486, 1.3458, 1.3438, 1.3437, 1.3429, 1.3392, 1.3389, 1.3375, 1.3332, 1.3296, 1.3286, 1.323, 1.3197, 1.319, 1.3181, 1.3171, 1.3166, 1.3149, 1.3093, 1.3064, 1.3033, 1.2862, 1.2906, 1.2842, 1.2856, 1.2457, 1.2138, 1.1818, 1.2284, 1.2228, 1.0448, 0.7525, 1.2854, 1.0171, 1.1885, 1.0226, 1.1698, 1.1405, 1.0643, -0.4253, 0.4177, 1.3768, 1.3673, 1.3646, 1.3615, 1.3605, 1.3592, 1.3583, 1.3525, 1.3487, 1.3439, 1.3407, 1.34, 1.3356, 1.3265, 1.3248, 1.3235, 1.3128, 1.3122, 1.3081, 1.3069, 1.3062, 1.3043, 1.299, 1.297, 1.2941, 1.2922, 1.2905, 1.2892, 1.2783, 1.2743, 1.2685, 1.2625, 1.2522, 1.2061, 1.1819, 1.241, 1.2112, 1.2348, 1.2225, 1.2186, 1.2298, 1.1941, 1.254, 1.1677, 1.129, 0.6039, 1.139, 1.0733, 1.1154, 0.8571, 1.058, 0.2302, 0.8154, 1.4578, 1.4503, 1.4475, 1.4459, 1.4441, 1.443, 1.435, 1.4266, 1.4252, 1.423, 1.4165, 1.4162, 1.4027, 1.3996, 1.3943, 1.3932, 1.3926, 1.3919, 1.3898, 1.3884, 1.3852, 1.383, 1.3819, 1.3808, 1.3793, 1.3731, 1.3707, 1.3384, 1.3343, 1.3339, 1.3276, 1.2665, 1.3029, 1.2995, 1.2639, 1.2496, 1.0769, 1.113, 1.0732, 1.2389]}, \"token.table\": {\"Topic\": [2, 1, 2, 3, 1, 2, 4, 2, 1, 2, 4, 3, 2, 4, 1, 2, 1, 2, 1, 3, 1, 2, 3, 1, 3, 4, 4, 1, 2, 3, 1, 2, 3, 1, 2, 3, 4, 1, 2, 3, 4, 1, 2, 3, 4, 2, 2, 1, 2, 3, 1, 2, 3, 4, 1, 2, 3, 4, 2, 1, 3, 2, 3, 1, 2, 3, 3, 4, 1, 3, 4, 1, 2, 3, 4, 1, 3, 1, 3, 4, 1, 2, 3, 4, 1, 2, 3, 1, 3, 4, 2, 2, 3, 2, 3, 1, 2, 3, 4, 1, 2, 3, 3, 1, 3, 4, 1, 2, 3, 1, 2, 3, 1, 2, 1, 2, 3, 1, 2, 1, 1, 2, 3, 4, 1, 2, 3, 4, 1, 2, 4, 1, 3, 4, 1, 2, 1, 2, 3, 1, 2, 1, 2, 3, 1, 2, 3, 1, 2, 3, 1, 3, 4, 2, 3, 3, 4, 1, 2, 3, 4, 2, 3, 4, 1, 3, 1, 2, 3, 4, 1, 2, 3, 1, 3, 4, 2, 4, 1, 4, 2, 3, 1, 3, 4, 1, 2, 4, 1, 1, 2, 3, 4, 1, 2, 3, 4, 1, 2, 3, 4, 1, 2, 3, 1, 4, 1, 2, 3, 4, 1, 2, 3, 1, 2, 3, 1, 2, 3, 4, 1, 2, 3, 4, 3, 1, 3, 4, 1, 2, 3, 4, 1, 3, 4, 2, 4, 1, 2, 3, 4, 2, 1, 2, 3, 2, 3, 2, 3, 4, 2, 4, 1, 2, 3, 2, 3, 1, 2, 3, 3, 3, 1, 2, 3, 4, 1, 3, 4, 1, 2, 3, 4, 1, 2, 3, 2, 3, 1, 2, 3, 4, 1, 3, 4, 1, 3, 4, 2, 3, 1, 2, 3, 2, 3, 4, 2, 4, 1, 2, 4, 1, 2, 3, 4, 1, 2, 4, 3, 3, 1, 2, 1, 2, 1, 2, 3, 1, 3, 1, 1, 2, 4, 1, 2, 1, 2, 4, 1, 2, 3, 1, 2, 3, 1, 2, 4, 1, 2, 1, 2, 4, 1, 2, 3, 1, 2, 4, 3, 4, 1, 2, 4, 2, 2, 2, 1, 2, 1, 1, 2, 3, 4, 3, 4, 1, 2, 4, 1, 3, 4, 1, 2, 3, 4, 1, 2, 3, 4, 1, 2, 3, 1, 4, 2, 1, 2, 3, 1, 2, 3, 4, 1, 3, 1, 2, 3, 4, 1, 2, 3, 2, 2, 1, 2, 3, 4, 1, 2, 4, 1, 2, 3, 4, 1, 2, 3, 4, 1, 3, 4, 3, 1, 2, 3, 4, 2, 4, 1, 2, 3, 1, 2, 3, 2, 2, 4, 2, 3, 4, 2, 3, 1, 3, 1, 3, 4, 2, 3, 3, 1, 2, 3, 4, 1, 2, 3, 4, 1, 2, 4, 1, 2, 3, 4, 1, 2, 3, 4, 2, 1, 2, 1, 3, 4, 2, 4, 2, 3, 4], \"Freq\": [0.9764828842660876, 0.8847452058541113, 0.07372876715450928, 0.07372876715450928, 0.08978753479230271, 0.8679461696589262, 0.029929178264100905, 1.0493224491134754, 0.05741545712505701, 0.9186473140009122, 0.028707728562528505, 0.9941538433455194, 1.011780050622984, 0.9728261200328255, 0.9075392507413446, 0.09811235143149671, 0.8892321779642844, 0.0741026814970237, 0.8707504364983213, 0.0621964597498801, 0.06277696956304918, 0.08968138509007026, 0.8430050198466604, 0.9281135702098711, 0.009039500958639318, 0.9853056044916856, 0.9727843886990695, 0.03739550064120719, 0.8974920153889725, 0.03739550064120719, 0.020046639691815683, 0.9421920655153371, 0.020046639691815683, 0.025310483236936732, 0.17717338265855712, 0.7340040138711652, 0.050620966473873465, 0.015519518902900528, 0.9622101719798327, 0.015519518902900528, 0.015519518902900528, 0.07795765138568841, 0.8575341652425725, 0.02598588379522947, 0.02598588379522947, 0.9952006391848494, 0.9740999616908895, 0.7507747214864375, 0.19374831522230646, 0.048437078805576614, 0.037303838395321615, 0.037303838395321615, 0.8952921214877186, 0.037303838395321615, 0.8330744942243673, 0.028726706697391975, 0.1149068267895679, 0.028726706697391975, 0.9176880857914579, 0.8729118669305653, 0.10911398336632067, 0.5393760616335822, 0.45894278928471466, 0.5596706293518048, 0.37860071985563265, 0.04938270258986513, 0.9233018767596497, 0.040143559859115205, 0.872392336418165, 0.09693248182424057, 0.04846624091212028, 0.016184102626681005, 0.04855230788004301, 0.016184102626681005, 0.9224938497208172, 0.9208107174789273, 0.05416533632228984, 0.011609530730816671, 0.06965718438490003, 0.917152927734517, 0.7179871710051299, 0.04223453947088999, 0.04223453947088999, 0.21117269735444996, 0.8517971368898193, 0.09464412632109104, 0.9639877837421331, 0.1062156416466762, 0.0177026069411127, 0.885130347055635, 0.9692431896690353, 0.012493166323637252, 0.986960139567343, 0.0690410857262839, 0.8975341144416906, 0.02872584347929415, 0.1723550608757649, 0.7755977739409421, 0.02872584347929415, 0.027238018451265084, 0.027238018451265084, 0.9533306457942778, 0.9612758697589251, 0.7404583753724683, 0.025533047426636837, 0.22979742683973153, 0.08799767301172495, 0.8506441724466745, 0.029332557670574983, 0.09455244995772158, 0.7879370829810132, 0.12606993327696212, 0.951837880631706, 0.9906833026756368, 0.2213644692910687, 0.7273403990992258, 0.03162349561300982, 0.8156054142933138, 0.17477258877713867, 0.988038565527232, 0.033703778267766604, 0.016851889133883302, 0.033703778267766604, 0.9268539023635817, 0.03473097599470594, 0.01736548799735297, 0.01736548799735297, 0.9377363518570604, 0.583096509756127, 0.34181519537428134, 0.08042710479394855, 0.1425338094659079, 0.03563345236647698, 0.8195694044289705, 0.08353542760811153, 0.9188897036892268, 0.8768063164143259, 0.03507225265657304, 0.03507225265657304, 0.0570125926567202, 0.9692140751642434, 0.0425773284896259, 0.9792785552613957, 0.978033378874928, 0.021288069944121846, 0.979251217429605, 0.021288069944121846, 0.030779104957251502, 0.9541522536747966, 0.030779104957251502, 0.8006697415631892, 0.026688991385439637, 0.18682293969807748, 0.018755850669199773, 0.9753042347983881, 0.06780564015204972, 0.9492789621286961, 0.25457406648457204, 0.7049743379572765, 0.019582620498813236, 0.03916524099762647, 0.057353812387986765, 0.8603071858198015, 0.08603071858198015, 0.9295211755349833, 0.051640065307499074, 0.04183765519263312, 0.04183765519263312, 0.8785907590452955, 0.04183765519263312, 0.1621268014870607, 0.8106340074353036, 0.032425360297412144, 0.053978427576114124, 0.91763326879394, 0.9785204462796018, 0.008608408293936652, 0.989966953802715, 0.06676057000942648, 0.9346479801319706, 0.07115704901425844, 0.9250416371853597, 0.005493395887414476, 0.016480187662243427, 0.9778244679597767, 0.8642457382749833, 0.07856779438863484, 0.07856779438863484, 0.9438291046626925, 0.16305100820952922, 0.05435033606984307, 0.7337295369428815, 0.05435033606984307, 0.36718369566421927, 0.019325457666537857, 0.5604382723295978, 0.038650915333075714, 0.050235942213357726, 0.025117971106678863, 0.8288930465204025, 0.07535391332003659, 0.24291996659604548, 0.7177180831246799, 0.044167266653826455, 0.049218537534244475, 0.935152213150645, 0.8242501903393009, 0.04710001087653148, 0.1177500271913287, 0.02355000543826574, 0.2321729502410447, 0.16073511939764634, 0.5893621044580366, 0.8636536790650275, 0.08357938829661557, 0.027859796098871858, 0.02369582131523147, 0.02369582131523147, 0.02369582131523147, 0.9241370312940274, 0.09560911447238538, 0.03186970482412846, 0.8604820302514683, 0.03186970482412846, 0.940247147091876, 0.9824710268771814, 0.007277563162053195, 0.007277563162053195, 0.727013896189387, 0.2336830380608744, 0.02596478200676382, 0.02596478200676382, 0.8892036784887248, 0.06586693914731295, 0.032933469573656476, 0.08353990293954115, 0.8771689808651821, 0.9116281002941553, 0.020258402228759007, 0.06077520668627702, 0.020258402228759007, 0.9297082394640955, 0.041551229326878956, 0.914127045191337, 0.041551229326878956, 0.9993097091327122, 0.020394075696585964, 0.007239255221520213, 0.007239255221520213, 0.9845387101267489, 0.007037801413869137, 0.9923299993555482, 0.1452842953258218, 0.058113718130328715, 0.7845351947594377, 0.07437653515276897, 0.8925184218332276, 0.04992895631150028, 0.9236856917627552, 0.02496447815575014, 0.8868299679680418, 0.9451383069383842, 0.8169257206636164, 0.07905732780615642, 0.02635244260205214, 0.07905732780615642, 0.9234269632561569, 0.035516421663698346, 0.035516421663698346, 0.02060211030238879, 0.06180633090716637, 0.10301055151194395, 0.8240844120955516, 0.9283182053944267, 0.9243348227206722, 0.07110267867082094, 0.08142478026114332, 0.8956725828725766, 0.04794716562738942, 0.11986791406847354, 0.7671546500382307, 0.07192074844108412, 0.09907630995871788, 0.8916867896284609, 0.033025436652905964, 0.09191762984384158, 0.873217483516495, 0.04595881492192079, 0.02430835433392358, 0.9723341733569433, 0.8746900039963109, 0.04771036385434423, 0.07951727309057373, 0.024312652059609703, 0.009725060823843881, 0.9676435519724661, 0.1931325193969522, 0.8047188308206341, 0.07772049282573912, 0.01943012320643478, 0.8743555442895652, 0.019515789892920722, 0.0078063159571682885, 0.0078063159571682885, 0.9640800207102835, 0.8657072283822542, 0.0824483074649766, 0.0412241537324883, 0.9675757226742481, 0.9933792987815078, 0.06591209879991866, 0.9227693831988613, 0.03081407571421615, 0.9552363471407006, 0.666103549804046, 0.01585960832866776, 0.3171921665733552, 0.05298329783884409, 0.9536993610991936, 0.9222122449267688, 0.9699647009682375, 0.024249117524205936, 0.024249117524205936, 0.7023301189693402, 0.2809320475877361, 0.8739608298822188, 0.09199587682970725, 0.045997938414853626, 0.08837747707441948, 0.007364789756201623, 0.9058691400127996, 0.8424216022921368, 0.0765837820265579, 0.0765837820265579, 0.2840826556407012, 0.01893884370938008, 0.700737217247063, 0.0512396084159819, 0.9223129514876741, 0.054055703328283064, 0.054055703328283064, 0.864891253252529, 0.1525381066926467, 0.828064007760082, 0.021791158098949527, 0.29585037367575845, 0.6961185262959022, 0.942577908934607, 0.9329714542417027, 0.04442721210674774, 0.8124634679492331, 0.06499707743593865, 0.09749561615390796, 0.9656454162643731, 0.9952353057884168, 0.9546348866393862, 0.010089919329894094, 0.9888120943296211, 0.9295248372747386, 0.08394087874704474, 0.027980292915681583, 0.8394087874704474, 0.027980292915681583, 0.9321212485962219, 0.07170163450740169, 0.12343256008225699, 0.024686512016451397, 0.8640279205757989, 0.03670604276640334, 0.01835302138320167, 0.9360040905432851, 0.09079820448708656, 0.03026606816236219, 0.03026606816236219, 0.8474499085461412, 0.7930176089290221, 0.028322057461750788, 0.056644114923501576, 0.11328822984700315, 0.032498487591422674, 0.8449606773769895, 0.1299939503656907, 0.06294037205892869, 0.9357135312760732, 0.9487140236506054, 0.044027319254555684, 0.9245737043456693, 0.044027319254555684, 0.01809119972889035, 0.01809119972889035, 0.0361823994577807, 0.9226511861734078, 0.014514333995778152, 0.9869747117129143, 0.033500399366817785, 0.033500399366817785, 0.9380111822708979, 0.033500399366817785, 0.929481957474455, 0.035749306056709805, 0.07149861211341961, 0.9739817521580747, 0.9440864530819838, 0.8010614438856347, 0.0348287584298102, 0.0696575168596204, 0.10448627528943061, 0.665189370742758, 0.20787167835711187, 0.12472300701426713, 0.8006381021884785, 0.024261760672378136, 0.024261760672378136, 0.14557056403426882, 0.17080177003557856, 0.003558370209074553, 0.003558370209074553, 0.8255418885052963, 0.8469739562817331, 0.06515184279090255, 0.06515184279090255, 0.9171551258351064, 0.017118555526874236, 0.08559277763437119, 0.8388092208168376, 0.03423711105374847, 0.08850612011440329, 0.8850612011440329, 0.027856011898580852, 0.08356803569574256, 0.8913923807545873, 0.8944486755322978, 0.11180608444153722, 0.05590304222076861, 0.9602379117356103, 0.8770238269828641, 0.12096880372177436, 0.014691103529877066, 0.014691103529877066, 0.9696128329718864, 0.9793197125032276, 0.025771571381663885, 0.032936227281434, 0.955150591161586, 0.026578820022344487, 0.026578820022344487, 0.9302587007820571, 0.012715810507859105, 0.9791174091051511, 0.9784945273743962, 0.043681176130142975, 0.021840588065071487, 0.24024646871578637, 0.6770582300172161, 0.13533056405107782, 0.027066112810215565, 0.8119833843064669, 0.027066112810215565, 0.2840527487867304, 0.028405274878673045, 0.6817265970881531, 0.8985494604462143, 0.09983882893846825, 0.9718301686344902, 0.024918722272679238, 0.03133771821872476, 0.06267543643744952, 0.8774561101242934, 0.03133771821872476, 0.9902875857657917, 0.029485998354777998, 0.9435519473528959, 0.8954595940984057, 0.07462163284153381, 0.9642124792305835, 0.04476723465722963, 0.9401119278018222, 0.1633703397555639, 0.8233865123680421, 0.013069627180445112], \"Term\": [\"abanderado\", \"acci\\u00f3n\", \"acci\\u00f3n\", \"acci\\u00f3n\", \"acusar\", \"acusar\", \"acusar\", \"agriculturo\", \"alcalde\", \"alcalde\", \"alcalde\", \"antivacuna\", \"apruebo\", \"arkabas\", \"art\\u00edculo\", \"art\\u00edculo\", \"asociaci\\u00f3n\", \"asociaci\\u00f3n\", \"aumento\", \"aumento\", \"a\\u00f1o\", \"a\\u00f1o\", \"a\\u00f1o\", \"bachelet\", \"bio\", \"bio\", \"biob\\u00edo\", \"bolsonaro\", \"bolsonaro\", \"bolsonaro\", \"boric\", \"boric\", \"boric\", \"buscar\", \"buscar\", \"buscar\", \"buscar\", \"campa\\u00f1a\", \"campa\\u00f1a\", \"campa\\u00f1a\", \"campa\\u00f1a\", \"canal\", \"canal\", \"canal\", \"canal\", \"candidato\", \"candidatura\", \"carabinero\", \"carabinero\", \"carabinero\", \"casa\", \"casa\", \"casa\", \"casa\", \"caso\", \"caso\", \"caso\", \"caso\", \"castro\", \"causar\", \"causar\", \"chile\", \"chile\", \"chileno\", \"chileno\", \"chileno\", \"cient\\u00edfico\", \"cient\\u00edfico\", \"cifra\", \"cifra\", \"cifra\", \"circular\", \"circular\", \"circular\", \"circular\", \"civil\", \"civil\", \"completo\", \"completo\", \"completo\", \"comunicaci\\u00f3n\", \"comunicaci\\u00f3n\", \"comunicaci\\u00f3n\", \"comunicaci\\u00f3n\", \"conspiraci\\u00f3n\", \"conspiraci\\u00f3n\", \"contagio\", \"contenido\", \"contenido\", \"contenido\", \"convenci\\u00f3n\", \"coronavirus\", \"coronavirus\", \"covid\", \"covid\", \"creer\", \"creer\", \"creer\", \"creer\", \"crisis\", \"crisis\", \"crisis\", \"cuarentena\", \"dato\", \"dato\", \"dato\", \"debate\", \"debate\", \"debate\", \"deber\", \"deber\", \"deber\", \"delito\", \"dem\\u00f3crata\", \"derecho\", \"derecho\", \"derecho\", \"derechos\", \"derechos\", \"desinformaci\\u00f3n\", \"desmentir\", \"desmentir\", \"desmentir\", \"desmentir\", \"detalle\", \"detalle\", \"detalle\", \"detalle\", \"diario\", \"diario\", \"diario\", \"difundir\", \"difundir\", \"difundir\", \"diputado\", \"diputado\", \"director\", \"director\", \"director\", \"dirigente\", \"dirigente\", \"donald\", \"donald\", \"efectividad\", \"elecci\\u00f3n\", \"elecci\\u00f3n\", \"elecci\\u00f3n\", \"electoral\", \"electoral\", \"electoral\", \"empresa\", \"empresa\", \"empresa\", \"enfermedad\", \"enfermedad\", \"enga\\u00f1oso\", \"enga\\u00f1oso\", \"entrevista\", \"entrevista\", \"entrevista\", \"entrevista\", \"esperar\", \"esperar\", \"esperar\", \"estallido\", \"estallido\", \"evitar\", \"evitar\", \"evitar\", \"evitar\", \"ex\", \"ex\", \"ex\", \"experto\", \"experto\", \"facebook\", \"fake\", \"fake\", \"fakenews\", \"fakenews\", \"fallecer\", \"fallecer\", \"falso\", \"falso\", \"falso\", \"financiero\", \"financiero\", \"financiero\", \"fiscal\\u00eda\", \"fuente\", \"fuente\", \"fuente\", \"fuente\", \"generar\", \"generar\", \"generar\", \"generar\", \"gente\", \"gente\", \"gente\", \"gente\", \"gobierno\", \"gobierno\", \"gobierno\", \"google\", \"google\", \"grupo\", \"grupo\", \"grupo\", \"grupo\", \"haber\", \"haber\", \"haber\", \"humanos\", \"humanos\", \"humanos\", \"imagen\", \"imagen\", \"imagen\", \"imagen\", \"importante\", \"importante\", \"importante\", \"importante\", \"infodemia\", \"informaci\\u00f3n\", \"informaci\\u00f3n\", \"informaci\\u00f3n\", \"informar\", \"informar\", \"informar\", \"informar\", \"informe\", \"informe\", \"informe\", \"instagram\", \"instagram\", \"investigaci\\u00f3n\", \"investigaci\\u00f3n\", \"investigaci\\u00f3n\", \"investigaci\\u00f3n\", \"jorge\", \"jos\\u00e9\", \"jos\\u00e9\", \"jos\\u00e9\", \"kast\", \"kast\", \"leer\", \"leer\", \"leer\", \"link\", \"link\", \"lugar\", \"lugar\", \"lugar\", \"maduro\", \"maduro\", \"mandatario\", \"mandatario\", \"mandatario\", \"mar\\u00eda\", \"mascarilla\", \"medida\", \"medida\", \"medida\", \"medida\", \"medio\", \"medio\", \"medio\", \"mensaje\", \"mensaje\", \"mensaje\", \"mensaje\", \"mercado\", \"mercurio\", \"mercurio\", \"minsal\", \"minsal\", \"momento\", \"momento\", \"momento\", \"momento\", \"mundial\", \"mundial\", \"mundial\", \"mundo\", \"mundo\", \"mundo\", \"m\\u00e9dico\", \"m\\u00e9dico\", \"nacional\", \"nacional\", \"nacional\", \"new\", \"new\", \"new\", \"news\", \"news\", \"nota\", \"nota\", \"nota\", \"noticia\", \"noticia\", \"noticia\", \"noticia\", \"organizaci\\u00f3n\", \"organizaci\\u00f3n\", \"organizaci\\u00f3n\", \"paciente\", \"pandemia\", \"parlamentario\", \"parlamentario\", \"partido\", \"partido\", \"pa\\u00eds\", \"pa\\u00eds\", \"pa\\u00eds\", \"peligroso\", \"peligroso\", \"penal\", \"periodismo\", \"periodismo\", \"periodismo\", \"periodista\", \"periodista\", \"period\\u00edstico\", \"period\\u00edstico\", \"period\\u00edstico\", \"persona\", \"persona\", \"persona\", \"pi\\u00f1era\", \"pi\\u00f1era\", \"pi\\u00f1era\", \"plataforma\", \"plataforma\", \"plataforma\", \"plebiscito\", \"plebiscito\", \"podcast\", \"podcast\", \"podcast\", \"pol\\u00edtica\", \"pol\\u00edtica\", \"pol\\u00edtica\", \"pol\\u00edtico\", \"pol\\u00edtico\", \"portadalun\", \"positivo\", \"positivo\", \"prensa\", \"prensa\", \"prensa\", \"presidencia\", \"presidencial\", \"presidenta\", \"presidente\", \"presidente\", \"prisi\\u00f3n\", \"problema\", \"problema\", \"problema\", \"problema\", \"propagaci\\u00f3n\", \"propagaci\\u00f3n\", \"publicaci\\u00f3n\", \"publicaci\\u00f3n\", \"publicaci\\u00f3n\", \"publicar\", \"publicar\", \"publicar\", \"p\\u00e1gina\", \"p\\u00e1gina\", \"p\\u00e1gina\", \"p\\u00e1gina\", \"p\\u00fablico\", \"p\\u00fablico\", \"p\\u00fablico\", \"p\\u00fablico\", \"querer\", \"querer\", \"querer\", \"red\", \"red\", \"republicano\", \"responder\", \"responder\", \"responder\", \"revisar\", \"revisar\", \"revisar\", \"revisar\", \"salud\", \"salud\", \"sanitario\", \"sanitario\", \"sanitario\", \"sanitario\", \"sector\", \"sector\", \"sector\", \"senador\", \"servel\", \"servicio\", \"servicio\", \"servicio\", \"servicio\", \"se\\u00f1alar\", \"se\\u00f1alar\", \"se\\u00f1alar\", \"sistema\", \"sistema\", \"sistema\", \"sistema\", \"social\", \"social\", \"social\", \"social\", \"sociedad\", \"sociedad\", \"sociedad\", \"surgir\", \"tiempo\", \"tiempo\", \"tiempo\", \"tiempo\", \"times\", \"times\", \"tomar\", \"tomar\", \"tomar\", \"tribunal\", \"tribunal\", \"tribunal\", \"troy\", \"trump\", \"trump\", \"twitter\", \"twitter\", \"twitter\", \"unidos\", \"unidos\", \"universidad\", \"universidad\", \"usuario\", \"usuario\", \"usuario\", \"vacuna\", \"vacuna\", \"vacunaci\\u00f3n\", \"ver\", \"ver\", \"ver\", \"ver\", \"vida\", \"vida\", \"vida\", \"vida\", \"video\", \"video\", \"video\", \"violaci\\u00f3n\", \"violaci\\u00f3n\", \"virus\", \"virus\", \"vivir\", \"vivir\", \"vivir\", \"vivir\", \"votaci\\u00f3n\", \"voto\", \"voto\", \"v\\u00edctima\", \"v\\u00edctima\", \"whatsapp\", \"youtube\", \"youtube\", \"\\u00e9l\", \"\\u00e9l\", \"\\u00e9l\"]}, \"R\": 30, \"lambda.step\": 0.01, \"plot.opts\": {\"xlab\": \"PC1\", \"ylab\": \"PC2\"}, \"topic.order\": [4, 3, 1, 2]};\n",
       "\n",
       "function LDAvis_load_lib(url, callback){\n",
       "  var s = document.createElement('script');\n",
       "  s.src = url;\n",
       "  s.async = true;\n",
       "  s.onreadystatechange = s.onload = callback;\n",
       "  s.onerror = function(){console.warn(\"failed to load library \" + url);};\n",
       "  document.getElementsByTagName(\"head\")[0].appendChild(s);\n",
       "}\n",
       "\n",
       "if(typeof(LDAvis) !== \"undefined\"){\n",
       "   // already loaded: just create the visualization\n",
       "   !function(LDAvis){\n",
       "       new LDAvis(\"#\" + \"ldavis_el1340971399289448025127296823189\", ldavis_el1340971399289448025127296823189_data);\n",
       "   }(LDAvis);\n",
       "}else if(typeof define === \"function\" && define.amd){\n",
       "   // require.js is available: use it to load d3/LDAvis\n",
       "   require.config({paths: {d3: \"https://d3js.org/d3.v5\"}});\n",
       "   require([\"d3\"], function(d3){\n",
       "      window.d3 = d3;\n",
       "      LDAvis_load_lib(\"https://cdn.jsdelivr.net/gh/bmabey/pyLDAvis@3.3.1/pyLDAvis/js/ldavis.v3.0.0.js\", function(){\n",
       "        new LDAvis(\"#\" + \"ldavis_el1340971399289448025127296823189\", ldavis_el1340971399289448025127296823189_data);\n",
       "      });\n",
       "    });\n",
       "}else{\n",
       "    // require.js not available: dynamically load d3 & LDAvis\n",
       "    LDAvis_load_lib(\"https://d3js.org/d3.v5.js\", function(){\n",
       "         LDAvis_load_lib(\"https://cdn.jsdelivr.net/gh/bmabey/pyLDAvis@3.3.1/pyLDAvis/js/ldavis.v3.0.0.js\", function(){\n",
       "                 new LDAvis(\"#\" + \"ldavis_el1340971399289448025127296823189\", ldavis_el1340971399289448025127296823189_data);\n",
       "            })\n",
       "         });\n",
       "}\n",
       "</script>"
      ],
      "text/plain": [
       "<IPython.core.display.HTML object>"
      ]
     },
     "execution_count": 89,
     "metadata": {},
     "output_type": "execute_result"
    }
   ],
   "source": [
    "import pyLDAvis\n",
    "prepared = pyLDAvis.prepare(doc_lengths = doc_l,\n",
    "                        vocab = diccionario,\n",
    "                        term_frequency = term_f,\n",
    "                        topic_term_dists = dist_topic,\n",
    "                        doc_topic_dists = dist_doc)\n",
    "pyLDAvis.display(prepared)"
   ]
  },
  {
   "cell_type": "code",
   "execution_count": 90,
   "metadata": {},
   "outputs": [
    {
     "name": "stdout",
     "output_type": "stream",
     "text": [
      "0.13542433677162868\n",
      "0.97\n",
      "634.1\n"
     ]
    },
    {
     "name": "stderr",
     "output_type": "stream",
     "text": [
      "/home/eliana/anaconda3/envs/etmEnv/lib/python3.7/site-packages/past/builtins/misc.py:45: DeprecationWarning: the imp module is deprecated in favour of importlib; see the module's documentation for alternative uses\n",
      "  from imp import reload\n",
      "/home/eliana/anaconda3/envs/etmEnv/lib/python3.7/site-packages/sklearn/linear_model/_least_angle.py:34: DeprecationWarning: `np.float` is a deprecated alias for the builtin `float`. To silence this warning, use `float` by itself. Doing this will not modify any behavior and is safe. If you specifically wanted the numpy scalar type, use `np.float64` here.\n",
      "Deprecated in NumPy 1.20; for more details and guidance: https://numpy.org/devdocs/release/1.20.0-notes.html#deprecations\n",
      "  method='lar', copy_X=True, eps=np.finfo(np.float).eps,\n",
      "/home/eliana/anaconda3/envs/etmEnv/lib/python3.7/site-packages/sklearn/linear_model/_least_angle.py:164: DeprecationWarning: `np.float` is a deprecated alias for the builtin `float`. To silence this warning, use `float` by itself. Doing this will not modify any behavior and is safe. If you specifically wanted the numpy scalar type, use `np.float64` here.\n",
      "Deprecated in NumPy 1.20; for more details and guidance: https://numpy.org/devdocs/release/1.20.0-notes.html#deprecations\n",
      "  method='lar', copy_X=True, eps=np.finfo(np.float).eps,\n",
      "/home/eliana/anaconda3/envs/etmEnv/lib/python3.7/site-packages/sklearn/linear_model/_least_angle.py:281: DeprecationWarning: `np.float` is a deprecated alias for the builtin `float`. To silence this warning, use `float` by itself. Doing this will not modify any behavior and is safe. If you specifically wanted the numpy scalar type, use `np.float64` here.\n",
      "Deprecated in NumPy 1.20; for more details and guidance: https://numpy.org/devdocs/release/1.20.0-notes.html#deprecations\n",
      "  eps=np.finfo(np.float).eps, copy_Gram=True, verbose=0,\n",
      "/home/eliana/anaconda3/envs/etmEnv/lib/python3.7/site-packages/sklearn/linear_model/_least_angle.py:865: DeprecationWarning: `np.float` is a deprecated alias for the builtin `float`. To silence this warning, use `float` by itself. Doing this will not modify any behavior and is safe. If you specifically wanted the numpy scalar type, use `np.float64` here.\n",
      "Deprecated in NumPy 1.20; for more details and guidance: https://numpy.org/devdocs/release/1.20.0-notes.html#deprecations\n",
      "  eps=np.finfo(np.float).eps, copy_X=True, fit_path=True,\n",
      "/home/eliana/anaconda3/envs/etmEnv/lib/python3.7/site-packages/sklearn/linear_model/_least_angle.py:1121: DeprecationWarning: `np.float` is a deprecated alias for the builtin `float`. To silence this warning, use `float` by itself. Doing this will not modify any behavior and is safe. If you specifically wanted the numpy scalar type, use `np.float64` here.\n",
      "Deprecated in NumPy 1.20; for more details and guidance: https://numpy.org/devdocs/release/1.20.0-notes.html#deprecations\n",
      "  eps=np.finfo(np.float).eps, copy_X=True, fit_path=True,\n",
      "/home/eliana/anaconda3/envs/etmEnv/lib/python3.7/site-packages/sklearn/linear_model/_least_angle.py:1149: DeprecationWarning: `np.float` is a deprecated alias for the builtin `float`. To silence this warning, use `float` by itself. Doing this will not modify any behavior and is safe. If you specifically wanted the numpy scalar type, use `np.float64` here.\n",
      "Deprecated in NumPy 1.20; for more details and guidance: https://numpy.org/devdocs/release/1.20.0-notes.html#deprecations\n",
      "  eps=np.finfo(np.float).eps, positive=False):\n",
      "/home/eliana/anaconda3/envs/etmEnv/lib/python3.7/site-packages/sklearn/linear_model/_least_angle.py:1379: DeprecationWarning: `np.float` is a deprecated alias for the builtin `float`. To silence this warning, use `float` by itself. Doing this will not modify any behavior and is safe. If you specifically wanted the numpy scalar type, use `np.float64` here.\n",
      "Deprecated in NumPy 1.20; for more details and guidance: https://numpy.org/devdocs/release/1.20.0-notes.html#deprecations\n",
      "  max_n_alphas=1000, n_jobs=None, eps=np.finfo(np.float).eps,\n",
      "/home/eliana/anaconda3/envs/etmEnv/lib/python3.7/site-packages/sklearn/linear_model/_least_angle.py:1621: DeprecationWarning: `np.float` is a deprecated alias for the builtin `float`. To silence this warning, use `float` by itself. Doing this will not modify any behavior and is safe. If you specifically wanted the numpy scalar type, use `np.float64` here.\n",
      "Deprecated in NumPy 1.20; for more details and guidance: https://numpy.org/devdocs/release/1.20.0-notes.html#deprecations\n",
      "  max_n_alphas=1000, n_jobs=None, eps=np.finfo(np.float).eps,\n",
      "/home/eliana/anaconda3/envs/etmEnv/lib/python3.7/site-packages/sklearn/linear_model/_least_angle.py:1755: DeprecationWarning: `np.float` is a deprecated alias for the builtin `float`. To silence this warning, use `float` by itself. Doing this will not modify any behavior and is safe. If you specifically wanted the numpy scalar type, use `np.float64` here.\n",
      "Deprecated in NumPy 1.20; for more details and guidance: https://numpy.org/devdocs/release/1.20.0-notes.html#deprecations\n",
      "  eps=np.finfo(np.float).eps, copy_X=True, positive=False):\n",
      "/home/eliana/anaconda3/envs/etmEnv/lib/python3.7/site-packages/sklearn/decomposition/_lda.py:28: DeprecationWarning: `np.float` is a deprecated alias for the builtin `float`. To silence this warning, use `float` by itself. Doing this will not modify any behavior and is safe. If you specifically wanted the numpy scalar type, use `np.float64` here.\n",
      "Deprecated in NumPy 1.20; for more details and guidance: https://numpy.org/devdocs/release/1.20.0-notes.html#deprecations\n",
      "  EPS = np.finfo(np.float).eps\n",
      "/home/eliana/anaconda3/envs/etmEnv/lib/python3.7/site-packages/past/builtins/misc.py:45: DeprecationWarning: the imp module is deprecated in favour of importlib; see the module's documentation for alternative uses\n",
      "  from imp import reload\n",
      "/home/eliana/anaconda3/envs/etmEnv/lib/python3.7/site-packages/sklearn/linear_model/_least_angle.py:34: DeprecationWarning: `np.float` is a deprecated alias for the builtin `float`. To silence this warning, use `float` by itself. Doing this will not modify any behavior and is safe. If you specifically wanted the numpy scalar type, use `np.float64` here.\n",
      "Deprecated in NumPy 1.20; for more details and guidance: https://numpy.org/devdocs/release/1.20.0-notes.html#deprecations\n",
      "  method='lar', copy_X=True, eps=np.finfo(np.float).eps,\n",
      "/home/eliana/anaconda3/envs/etmEnv/lib/python3.7/site-packages/sklearn/linear_model/_least_angle.py:164: DeprecationWarning: `np.float` is a deprecated alias for the builtin `float`. To silence this warning, use `float` by itself. Doing this will not modify any behavior and is safe. If you specifically wanted the numpy scalar type, use `np.float64` here.\n",
      "Deprecated in NumPy 1.20; for more details and guidance: https://numpy.org/devdocs/release/1.20.0-notes.html#deprecations\n",
      "  method='lar', copy_X=True, eps=np.finfo(np.float).eps,\n",
      "/home/eliana/anaconda3/envs/etmEnv/lib/python3.7/site-packages/sklearn/linear_model/_least_angle.py:281: DeprecationWarning: `np.float` is a deprecated alias for the builtin `float`. To silence this warning, use `float` by itself. Doing this will not modify any behavior and is safe. If you specifically wanted the numpy scalar type, use `np.float64` here.\n",
      "Deprecated in NumPy 1.20; for more details and guidance: https://numpy.org/devdocs/release/1.20.0-notes.html#deprecations\n",
      "  eps=np.finfo(np.float).eps, copy_Gram=True, verbose=0,\n",
      "/home/eliana/anaconda3/envs/etmEnv/lib/python3.7/site-packages/sklearn/linear_model/_least_angle.py:865: DeprecationWarning: `np.float` is a deprecated alias for the builtin `float`. To silence this warning, use `float` by itself. Doing this will not modify any behavior and is safe. If you specifically wanted the numpy scalar type, use `np.float64` here.\n",
      "Deprecated in NumPy 1.20; for more details and guidance: https://numpy.org/devdocs/release/1.20.0-notes.html#deprecations\n",
      "  eps=np.finfo(np.float).eps, copy_X=True, fit_path=True,\n",
      "/home/eliana/anaconda3/envs/etmEnv/lib/python3.7/site-packages/sklearn/linear_model/_least_angle.py:1121: DeprecationWarning: `np.float` is a deprecated alias for the builtin `float`. To silence this warning, use `float` by itself. Doing this will not modify any behavior and is safe. If you specifically wanted the numpy scalar type, use `np.float64` here.\n",
      "Deprecated in NumPy 1.20; for more details and guidance: https://numpy.org/devdocs/release/1.20.0-notes.html#deprecations\n",
      "  eps=np.finfo(np.float).eps, copy_X=True, fit_path=True,\n",
      "/home/eliana/anaconda3/envs/etmEnv/lib/python3.7/site-packages/sklearn/linear_model/_least_angle.py:1149: DeprecationWarning: `np.float` is a deprecated alias for the builtin `float`. To silence this warning, use `float` by itself. Doing this will not modify any behavior and is safe. If you specifically wanted the numpy scalar type, use `np.float64` here.\n",
      "Deprecated in NumPy 1.20; for more details and guidance: https://numpy.org/devdocs/release/1.20.0-notes.html#deprecations\n",
      "  eps=np.finfo(np.float).eps, positive=False):\n",
      "/home/eliana/anaconda3/envs/etmEnv/lib/python3.7/site-packages/sklearn/linear_model/_least_angle.py:1379: DeprecationWarning: `np.float` is a deprecated alias for the builtin `float`. To silence this warning, use `float` by itself. Doing this will not modify any behavior and is safe. If you specifically wanted the numpy scalar type, use `np.float64` here.\n",
      "Deprecated in NumPy 1.20; for more details and guidance: https://numpy.org/devdocs/release/1.20.0-notes.html#deprecations\n",
      "  max_n_alphas=1000, n_jobs=None, eps=np.finfo(np.float).eps,\n",
      "/home/eliana/anaconda3/envs/etmEnv/lib/python3.7/site-packages/sklearn/linear_model/_least_angle.py:1621: DeprecationWarning: `np.float` is a deprecated alias for the builtin `float`. To silence this warning, use `float` by itself. Doing this will not modify any behavior and is safe. If you specifically wanted the numpy scalar type, use `np.float64` here.\n",
      "Deprecated in NumPy 1.20; for more details and guidance: https://numpy.org/devdocs/release/1.20.0-notes.html#deprecations\n",
      "  max_n_alphas=1000, n_jobs=None, eps=np.finfo(np.float).eps,\n",
      "/home/eliana/anaconda3/envs/etmEnv/lib/python3.7/site-packages/sklearn/linear_model/_least_angle.py:1755: DeprecationWarning: `np.float` is a deprecated alias for the builtin `float`. To silence this warning, use `float` by itself. Doing this will not modify any behavior and is safe. If you specifically wanted the numpy scalar type, use `np.float64` here.\n",
      "Deprecated in NumPy 1.20; for more details and guidance: https://numpy.org/devdocs/release/1.20.0-notes.html#deprecations\n",
      "  eps=np.finfo(np.float).eps, copy_X=True, positive=False):\n",
      "/home/eliana/anaconda3/envs/etmEnv/lib/python3.7/site-packages/sklearn/decomposition/_lda.py:28: DeprecationWarning: `np.float` is a deprecated alias for the builtin `float`. To silence this warning, use `float` by itself. Doing this will not modify any behavior and is safe. If you specifically wanted the numpy scalar type, use `np.float64` here.\n",
      "Deprecated in NumPy 1.20; for more details and guidance: https://numpy.org/devdocs/release/1.20.0-notes.html#deprecations\n",
      "  EPS = np.finfo(np.float).eps\n"
     ]
    },
    {
     "name": "stderr",
     "output_type": "stream",
     "text": [
      "/home/eliana/anaconda3/envs/etmEnv/lib/python3.7/site-packages/past/builtins/misc.py:45: DeprecationWarning: the imp module is deprecated in favour of importlib; see the module's documentation for alternative uses\n",
      "  from imp import reload\n",
      "/home/eliana/anaconda3/envs/etmEnv/lib/python3.7/site-packages/sklearn/linear_model/_least_angle.py:34: DeprecationWarning: `np.float` is a deprecated alias for the builtin `float`. To silence this warning, use `float` by itself. Doing this will not modify any behavior and is safe. If you specifically wanted the numpy scalar type, use `np.float64` here.\n",
      "Deprecated in NumPy 1.20; for more details and guidance: https://numpy.org/devdocs/release/1.20.0-notes.html#deprecations\n",
      "  method='lar', copy_X=True, eps=np.finfo(np.float).eps,\n",
      "/home/eliana/anaconda3/envs/etmEnv/lib/python3.7/site-packages/sklearn/linear_model/_least_angle.py:164: DeprecationWarning: `np.float` is a deprecated alias for the builtin `float`. To silence this warning, use `float` by itself. Doing this will not modify any behavior and is safe. If you specifically wanted the numpy scalar type, use `np.float64` here.\n",
      "Deprecated in NumPy 1.20; for more details and guidance: https://numpy.org/devdocs/release/1.20.0-notes.html#deprecations\n",
      "  method='lar', copy_X=True, eps=np.finfo(np.float).eps,\n",
      "/home/eliana/anaconda3/envs/etmEnv/lib/python3.7/site-packages/sklearn/linear_model/_least_angle.py:281: DeprecationWarning: `np.float` is a deprecated alias for the builtin `float`. To silence this warning, use `float` by itself. Doing this will not modify any behavior and is safe. If you specifically wanted the numpy scalar type, use `np.float64` here.\n",
      "Deprecated in NumPy 1.20; for more details and guidance: https://numpy.org/devdocs/release/1.20.0-notes.html#deprecations\n",
      "  eps=np.finfo(np.float).eps, copy_Gram=True, verbose=0,\n",
      "/home/eliana/anaconda3/envs/etmEnv/lib/python3.7/site-packages/sklearn/linear_model/_least_angle.py:865: DeprecationWarning: `np.float` is a deprecated alias for the builtin `float`. To silence this warning, use `float` by itself. Doing this will not modify any behavior and is safe. If you specifically wanted the numpy scalar type, use `np.float64` here.\n",
      "Deprecated in NumPy 1.20; for more details and guidance: https://numpy.org/devdocs/release/1.20.0-notes.html#deprecations\n",
      "  eps=np.finfo(np.float).eps, copy_X=True, fit_path=True,\n",
      "/home/eliana/anaconda3/envs/etmEnv/lib/python3.7/site-packages/sklearn/linear_model/_least_angle.py:1121: DeprecationWarning: `np.float` is a deprecated alias for the builtin `float`. To silence this warning, use `float` by itself. Doing this will not modify any behavior and is safe. If you specifically wanted the numpy scalar type, use `np.float64` here.\n",
      "Deprecated in NumPy 1.20; for more details and guidance: https://numpy.org/devdocs/release/1.20.0-notes.html#deprecations\n",
      "  eps=np.finfo(np.float).eps, copy_X=True, fit_path=True,\n",
      "/home/eliana/anaconda3/envs/etmEnv/lib/python3.7/site-packages/sklearn/linear_model/_least_angle.py:1149: DeprecationWarning: `np.float` is a deprecated alias for the builtin `float`. To silence this warning, use `float` by itself. Doing this will not modify any behavior and is safe. If you specifically wanted the numpy scalar type, use `np.float64` here.\n",
      "Deprecated in NumPy 1.20; for more details and guidance: https://numpy.org/devdocs/release/1.20.0-notes.html#deprecations\n",
      "  eps=np.finfo(np.float).eps, positive=False):\n",
      "/home/eliana/anaconda3/envs/etmEnv/lib/python3.7/site-packages/sklearn/linear_model/_least_angle.py:1379: DeprecationWarning: `np.float` is a deprecated alias for the builtin `float`. To silence this warning, use `float` by itself. Doing this will not modify any behavior and is safe. If you specifically wanted the numpy scalar type, use `np.float64` here.\n",
      "Deprecated in NumPy 1.20; for more details and guidance: https://numpy.org/devdocs/release/1.20.0-notes.html#deprecations\n",
      "  max_n_alphas=1000, n_jobs=None, eps=np.finfo(np.float).eps,\n",
      "/home/eliana/anaconda3/envs/etmEnv/lib/python3.7/site-packages/sklearn/linear_model/_least_angle.py:1621: DeprecationWarning: `np.float` is a deprecated alias for the builtin `float`. To silence this warning, use `float` by itself. Doing this will not modify any behavior and is safe. If you specifically wanted the numpy scalar type, use `np.float64` here.\n",
      "Deprecated in NumPy 1.20; for more details and guidance: https://numpy.org/devdocs/release/1.20.0-notes.html#deprecations\n",
      "  max_n_alphas=1000, n_jobs=None, eps=np.finfo(np.float).eps,\n",
      "/home/eliana/anaconda3/envs/etmEnv/lib/python3.7/site-packages/sklearn/linear_model/_least_angle.py:1755: DeprecationWarning: `np.float` is a deprecated alias for the builtin `float`. To silence this warning, use `float` by itself. Doing this will not modify any behavior and is safe. If you specifically wanted the numpy scalar type, use `np.float64` here.\n",
      "Deprecated in NumPy 1.20; for more details and guidance: https://numpy.org/devdocs/release/1.20.0-notes.html#deprecations\n",
      "  eps=np.finfo(np.float).eps, copy_X=True, positive=False):\n",
      "/home/eliana/anaconda3/envs/etmEnv/lib/python3.7/site-packages/sklearn/decomposition/_lda.py:28: DeprecationWarning: `np.float` is a deprecated alias for the builtin `float`. To silence this warning, use `float` by itself. Doing this will not modify any behavior and is safe. If you specifically wanted the numpy scalar type, use `np.float64` here.\n",
      "Deprecated in NumPy 1.20; for more details and guidance: https://numpy.org/devdocs/release/1.20.0-notes.html#deprecations\n",
      "  EPS = np.finfo(np.float).eps\n",
      "/home/eliana/anaconda3/envs/etmEnv/lib/python3.7/site-packages/past/builtins/misc.py:45: DeprecationWarning: the imp module is deprecated in favour of importlib; see the module's documentation for alternative uses\n",
      "  from imp import reload\n",
      "/home/eliana/anaconda3/envs/etmEnv/lib/python3.7/site-packages/sklearn/linear_model/_least_angle.py:34: DeprecationWarning: `np.float` is a deprecated alias for the builtin `float`. To silence this warning, use `float` by itself. Doing this will not modify any behavior and is safe. If you specifically wanted the numpy scalar type, use `np.float64` here.\n",
      "Deprecated in NumPy 1.20; for more details and guidance: https://numpy.org/devdocs/release/1.20.0-notes.html#deprecations\n",
      "  method='lar', copy_X=True, eps=np.finfo(np.float).eps,\n",
      "/home/eliana/anaconda3/envs/etmEnv/lib/python3.7/site-packages/sklearn/linear_model/_least_angle.py:164: DeprecationWarning: `np.float` is a deprecated alias for the builtin `float`. To silence this warning, use `float` by itself. Doing this will not modify any behavior and is safe. If you specifically wanted the numpy scalar type, use `np.float64` here.\n",
      "Deprecated in NumPy 1.20; for more details and guidance: https://numpy.org/devdocs/release/1.20.0-notes.html#deprecations\n",
      "  method='lar', copy_X=True, eps=np.finfo(np.float).eps,\n",
      "/home/eliana/anaconda3/envs/etmEnv/lib/python3.7/site-packages/sklearn/linear_model/_least_angle.py:281: DeprecationWarning: `np.float` is a deprecated alias for the builtin `float`. To silence this warning, use `float` by itself. Doing this will not modify any behavior and is safe. If you specifically wanted the numpy scalar type, use `np.float64` here.\n",
      "Deprecated in NumPy 1.20; for more details and guidance: https://numpy.org/devdocs/release/1.20.0-notes.html#deprecations\n",
      "  eps=np.finfo(np.float).eps, copy_Gram=True, verbose=0,\n",
      "/home/eliana/anaconda3/envs/etmEnv/lib/python3.7/site-packages/sklearn/linear_model/_least_angle.py:865: DeprecationWarning: `np.float` is a deprecated alias for the builtin `float`. To silence this warning, use `float` by itself. Doing this will not modify any behavior and is safe. If you specifically wanted the numpy scalar type, use `np.float64` here.\n",
      "Deprecated in NumPy 1.20; for more details and guidance: https://numpy.org/devdocs/release/1.20.0-notes.html#deprecations\n",
      "  eps=np.finfo(np.float).eps, copy_X=True, fit_path=True,\n",
      "/home/eliana/anaconda3/envs/etmEnv/lib/python3.7/site-packages/sklearn/linear_model/_least_angle.py:1121: DeprecationWarning: `np.float` is a deprecated alias for the builtin `float`. To silence this warning, use `float` by itself. Doing this will not modify any behavior and is safe. If you specifically wanted the numpy scalar type, use `np.float64` here.\n",
      "Deprecated in NumPy 1.20; for more details and guidance: https://numpy.org/devdocs/release/1.20.0-notes.html#deprecations\n",
      "  eps=np.finfo(np.float).eps, copy_X=True, fit_path=True,\n",
      "/home/eliana/anaconda3/envs/etmEnv/lib/python3.7/site-packages/sklearn/linear_model/_least_angle.py:1149: DeprecationWarning: `np.float` is a deprecated alias for the builtin `float`. To silence this warning, use `float` by itself. Doing this will not modify any behavior and is safe. If you specifically wanted the numpy scalar type, use `np.float64` here.\n",
      "Deprecated in NumPy 1.20; for more details and guidance: https://numpy.org/devdocs/release/1.20.0-notes.html#deprecations\n",
      "  eps=np.finfo(np.float).eps, positive=False):\n",
      "/home/eliana/anaconda3/envs/etmEnv/lib/python3.7/site-packages/sklearn/linear_model/_least_angle.py:1379: DeprecationWarning: `np.float` is a deprecated alias for the builtin `float`. To silence this warning, use `float` by itself. Doing this will not modify any behavior and is safe. If you specifically wanted the numpy scalar type, use `np.float64` here.\n",
      "Deprecated in NumPy 1.20; for more details and guidance: https://numpy.org/devdocs/release/1.20.0-notes.html#deprecations\n",
      "  max_n_alphas=1000, n_jobs=None, eps=np.finfo(np.float).eps,\n",
      "/home/eliana/anaconda3/envs/etmEnv/lib/python3.7/site-packages/sklearn/linear_model/_least_angle.py:1621: DeprecationWarning: `np.float` is a deprecated alias for the builtin `float`. To silence this warning, use `float` by itself. Doing this will not modify any behavior and is safe. If you specifically wanted the numpy scalar type, use `np.float64` here.\n",
      "Deprecated in NumPy 1.20; for more details and guidance: https://numpy.org/devdocs/release/1.20.0-notes.html#deprecations\n",
      "  max_n_alphas=1000, n_jobs=None, eps=np.finfo(np.float).eps,\n",
      "/home/eliana/anaconda3/envs/etmEnv/lib/python3.7/site-packages/sklearn/linear_model/_least_angle.py:1755: DeprecationWarning: `np.float` is a deprecated alias for the builtin `float`. To silence this warning, use `float` by itself. Doing this will not modify any behavior and is safe. If you specifically wanted the numpy scalar type, use `np.float64` here.\n",
      "Deprecated in NumPy 1.20; for more details and guidance: https://numpy.org/devdocs/release/1.20.0-notes.html#deprecations\n",
      "  eps=np.finfo(np.float).eps, copy_X=True, positive=False):\n",
      "/home/eliana/anaconda3/envs/etmEnv/lib/python3.7/site-packages/sklearn/decomposition/_lda.py:28: DeprecationWarning: `np.float` is a deprecated alias for the builtin `float`. To silence this warning, use `float` by itself. Doing this will not modify any behavior and is safe. If you specifically wanted the numpy scalar type, use `np.float64` here.\n",
      "Deprecated in NumPy 1.20; for more details and guidance: https://numpy.org/devdocs/release/1.20.0-notes.html#deprecations\n",
      "  EPS = np.finfo(np.float).eps\n"
     ]
    },
    {
     "name": "stderr",
     "output_type": "stream",
     "text": [
      "/home/eliana/anaconda3/envs/etmEnv/lib/python3.7/site-packages/past/builtins/misc.py:45: DeprecationWarning: the imp module is deprecated in favour of importlib; see the module's documentation for alternative uses\n",
      "  from imp import reload\n",
      "/home/eliana/anaconda3/envs/etmEnv/lib/python3.7/site-packages/sklearn/linear_model/_least_angle.py:34: DeprecationWarning: `np.float` is a deprecated alias for the builtin `float`. To silence this warning, use `float` by itself. Doing this will not modify any behavior and is safe. If you specifically wanted the numpy scalar type, use `np.float64` here.\n",
      "Deprecated in NumPy 1.20; for more details and guidance: https://numpy.org/devdocs/release/1.20.0-notes.html#deprecations\n",
      "  method='lar', copy_X=True, eps=np.finfo(np.float).eps,\n",
      "/home/eliana/anaconda3/envs/etmEnv/lib/python3.7/site-packages/sklearn/linear_model/_least_angle.py:164: DeprecationWarning: `np.float` is a deprecated alias for the builtin `float`. To silence this warning, use `float` by itself. Doing this will not modify any behavior and is safe. If you specifically wanted the numpy scalar type, use `np.float64` here.\n",
      "Deprecated in NumPy 1.20; for more details and guidance: https://numpy.org/devdocs/release/1.20.0-notes.html#deprecations\n",
      "  method='lar', copy_X=True, eps=np.finfo(np.float).eps,\n",
      "/home/eliana/anaconda3/envs/etmEnv/lib/python3.7/site-packages/sklearn/linear_model/_least_angle.py:281: DeprecationWarning: `np.float` is a deprecated alias for the builtin `float`. To silence this warning, use `float` by itself. Doing this will not modify any behavior and is safe. If you specifically wanted the numpy scalar type, use `np.float64` here.\n",
      "Deprecated in NumPy 1.20; for more details and guidance: https://numpy.org/devdocs/release/1.20.0-notes.html#deprecations\n",
      "  eps=np.finfo(np.float).eps, copy_Gram=True, verbose=0,\n",
      "/home/eliana/anaconda3/envs/etmEnv/lib/python3.7/site-packages/sklearn/linear_model/_least_angle.py:865: DeprecationWarning: `np.float` is a deprecated alias for the builtin `float`. To silence this warning, use `float` by itself. Doing this will not modify any behavior and is safe. If you specifically wanted the numpy scalar type, use `np.float64` here.\n",
      "Deprecated in NumPy 1.20; for more details and guidance: https://numpy.org/devdocs/release/1.20.0-notes.html#deprecations\n",
      "  eps=np.finfo(np.float).eps, copy_X=True, fit_path=True,\n",
      "/home/eliana/anaconda3/envs/etmEnv/lib/python3.7/site-packages/sklearn/linear_model/_least_angle.py:1121: DeprecationWarning: `np.float` is a deprecated alias for the builtin `float`. To silence this warning, use `float` by itself. Doing this will not modify any behavior and is safe. If you specifically wanted the numpy scalar type, use `np.float64` here.\n",
      "Deprecated in NumPy 1.20; for more details and guidance: https://numpy.org/devdocs/release/1.20.0-notes.html#deprecations\n",
      "  eps=np.finfo(np.float).eps, copy_X=True, fit_path=True,\n",
      "/home/eliana/anaconda3/envs/etmEnv/lib/python3.7/site-packages/sklearn/linear_model/_least_angle.py:1149: DeprecationWarning: `np.float` is a deprecated alias for the builtin `float`. To silence this warning, use `float` by itself. Doing this will not modify any behavior and is safe. If you specifically wanted the numpy scalar type, use `np.float64` here.\n",
      "Deprecated in NumPy 1.20; for more details and guidance: https://numpy.org/devdocs/release/1.20.0-notes.html#deprecations\n",
      "  eps=np.finfo(np.float).eps, positive=False):\n",
      "/home/eliana/anaconda3/envs/etmEnv/lib/python3.7/site-packages/sklearn/linear_model/_least_angle.py:1379: DeprecationWarning: `np.float` is a deprecated alias for the builtin `float`. To silence this warning, use `float` by itself. Doing this will not modify any behavior and is safe. If you specifically wanted the numpy scalar type, use `np.float64` here.\n",
      "Deprecated in NumPy 1.20; for more details and guidance: https://numpy.org/devdocs/release/1.20.0-notes.html#deprecations\n",
      "  max_n_alphas=1000, n_jobs=None, eps=np.finfo(np.float).eps,\n",
      "/home/eliana/anaconda3/envs/etmEnv/lib/python3.7/site-packages/sklearn/linear_model/_least_angle.py:1621: DeprecationWarning: `np.float` is a deprecated alias for the builtin `float`. To silence this warning, use `float` by itself. Doing this will not modify any behavior and is safe. If you specifically wanted the numpy scalar type, use `np.float64` here.\n",
      "Deprecated in NumPy 1.20; for more details and guidance: https://numpy.org/devdocs/release/1.20.0-notes.html#deprecations\n",
      "  max_n_alphas=1000, n_jobs=None, eps=np.finfo(np.float).eps,\n",
      "/home/eliana/anaconda3/envs/etmEnv/lib/python3.7/site-packages/sklearn/linear_model/_least_angle.py:1755: DeprecationWarning: `np.float` is a deprecated alias for the builtin `float`. To silence this warning, use `float` by itself. Doing this will not modify any behavior and is safe. If you specifically wanted the numpy scalar type, use `np.float64` here.\n",
      "Deprecated in NumPy 1.20; for more details and guidance: https://numpy.org/devdocs/release/1.20.0-notes.html#deprecations\n",
      "  eps=np.finfo(np.float).eps, copy_X=True, positive=False):\n",
      "/home/eliana/anaconda3/envs/etmEnv/lib/python3.7/site-packages/sklearn/decomposition/_lda.py:28: DeprecationWarning: `np.float` is a deprecated alias for the builtin `float`. To silence this warning, use `float` by itself. Doing this will not modify any behavior and is safe. If you specifically wanted the numpy scalar type, use `np.float64` here.\n",
      "Deprecated in NumPy 1.20; for more details and guidance: https://numpy.org/devdocs/release/1.20.0-notes.html#deprecations\n",
      "  EPS = np.finfo(np.float).eps\n",
      "/home/eliana/anaconda3/envs/etmEnv/lib/python3.7/site-packages/past/builtins/misc.py:45: DeprecationWarning: the imp module is deprecated in favour of importlib; see the module's documentation for alternative uses\n",
      "  from imp import reload\n",
      "/home/eliana/anaconda3/envs/etmEnv/lib/python3.7/site-packages/sklearn/linear_model/_least_angle.py:34: DeprecationWarning: `np.float` is a deprecated alias for the builtin `float`. To silence this warning, use `float` by itself. Doing this will not modify any behavior and is safe. If you specifically wanted the numpy scalar type, use `np.float64` here.\n",
      "Deprecated in NumPy 1.20; for more details and guidance: https://numpy.org/devdocs/release/1.20.0-notes.html#deprecations\n",
      "  method='lar', copy_X=True, eps=np.finfo(np.float).eps,\n",
      "/home/eliana/anaconda3/envs/etmEnv/lib/python3.7/site-packages/sklearn/linear_model/_least_angle.py:164: DeprecationWarning: `np.float` is a deprecated alias for the builtin `float`. To silence this warning, use `float` by itself. Doing this will not modify any behavior and is safe. If you specifically wanted the numpy scalar type, use `np.float64` here.\n",
      "Deprecated in NumPy 1.20; for more details and guidance: https://numpy.org/devdocs/release/1.20.0-notes.html#deprecations\n",
      "  method='lar', copy_X=True, eps=np.finfo(np.float).eps,\n",
      "/home/eliana/anaconda3/envs/etmEnv/lib/python3.7/site-packages/sklearn/linear_model/_least_angle.py:281: DeprecationWarning: `np.float` is a deprecated alias for the builtin `float`. To silence this warning, use `float` by itself. Doing this will not modify any behavior and is safe. If you specifically wanted the numpy scalar type, use `np.float64` here.\n",
      "Deprecated in NumPy 1.20; for more details and guidance: https://numpy.org/devdocs/release/1.20.0-notes.html#deprecations\n",
      "  eps=np.finfo(np.float).eps, copy_Gram=True, verbose=0,\n",
      "/home/eliana/anaconda3/envs/etmEnv/lib/python3.7/site-packages/sklearn/linear_model/_least_angle.py:865: DeprecationWarning: `np.float` is a deprecated alias for the builtin `float`. To silence this warning, use `float` by itself. Doing this will not modify any behavior and is safe. If you specifically wanted the numpy scalar type, use `np.float64` here.\n",
      "Deprecated in NumPy 1.20; for more details and guidance: https://numpy.org/devdocs/release/1.20.0-notes.html#deprecations\n",
      "  eps=np.finfo(np.float).eps, copy_X=True, fit_path=True,\n",
      "/home/eliana/anaconda3/envs/etmEnv/lib/python3.7/site-packages/sklearn/linear_model/_least_angle.py:1121: DeprecationWarning: `np.float` is a deprecated alias for the builtin `float`. To silence this warning, use `float` by itself. Doing this will not modify any behavior and is safe. If you specifically wanted the numpy scalar type, use `np.float64` here.\n",
      "Deprecated in NumPy 1.20; for more details and guidance: https://numpy.org/devdocs/release/1.20.0-notes.html#deprecations\n",
      "  eps=np.finfo(np.float).eps, copy_X=True, fit_path=True,\n",
      "/home/eliana/anaconda3/envs/etmEnv/lib/python3.7/site-packages/sklearn/linear_model/_least_angle.py:1149: DeprecationWarning: `np.float` is a deprecated alias for the builtin `float`. To silence this warning, use `float` by itself. Doing this will not modify any behavior and is safe. If you specifically wanted the numpy scalar type, use `np.float64` here.\n",
      "Deprecated in NumPy 1.20; for more details and guidance: https://numpy.org/devdocs/release/1.20.0-notes.html#deprecations\n",
      "  eps=np.finfo(np.float).eps, positive=False):\n",
      "/home/eliana/anaconda3/envs/etmEnv/lib/python3.7/site-packages/sklearn/linear_model/_least_angle.py:1379: DeprecationWarning: `np.float` is a deprecated alias for the builtin `float`. To silence this warning, use `float` by itself. Doing this will not modify any behavior and is safe. If you specifically wanted the numpy scalar type, use `np.float64` here.\n",
      "Deprecated in NumPy 1.20; for more details and guidance: https://numpy.org/devdocs/release/1.20.0-notes.html#deprecations\n",
      "  max_n_alphas=1000, n_jobs=None, eps=np.finfo(np.float).eps,\n",
      "/home/eliana/anaconda3/envs/etmEnv/lib/python3.7/site-packages/sklearn/linear_model/_least_angle.py:1621: DeprecationWarning: `np.float` is a deprecated alias for the builtin `float`. To silence this warning, use `float` by itself. Doing this will not modify any behavior and is safe. If you specifically wanted the numpy scalar type, use `np.float64` here.\n",
      "Deprecated in NumPy 1.20; for more details and guidance: https://numpy.org/devdocs/release/1.20.0-notes.html#deprecations\n",
      "  max_n_alphas=1000, n_jobs=None, eps=np.finfo(np.float).eps,\n",
      "/home/eliana/anaconda3/envs/etmEnv/lib/python3.7/site-packages/sklearn/linear_model/_least_angle.py:1755: DeprecationWarning: `np.float` is a deprecated alias for the builtin `float`. To silence this warning, use `float` by itself. Doing this will not modify any behavior and is safe. If you specifically wanted the numpy scalar type, use `np.float64` here.\n",
      "Deprecated in NumPy 1.20; for more details and guidance: https://numpy.org/devdocs/release/1.20.0-notes.html#deprecations\n",
      "  eps=np.finfo(np.float).eps, copy_X=True, positive=False):\n",
      "/home/eliana/anaconda3/envs/etmEnv/lib/python3.7/site-packages/sklearn/decomposition/_lda.py:28: DeprecationWarning: `np.float` is a deprecated alias for the builtin `float`. To silence this warning, use `float` by itself. Doing this will not modify any behavior and is safe. If you specifically wanted the numpy scalar type, use `np.float64` here.\n",
      "Deprecated in NumPy 1.20; for more details and guidance: https://numpy.org/devdocs/release/1.20.0-notes.html#deprecations\n",
      "  EPS = np.finfo(np.float).eps\n"
     ]
    },
    {
     "name": "stderr",
     "output_type": "stream",
     "text": [
      "/home/eliana/anaconda3/envs/etmEnv/lib/python3.7/site-packages/past/builtins/misc.py:45: DeprecationWarning: the imp module is deprecated in favour of importlib; see the module's documentation for alternative uses\n",
      "  from imp import reload\n",
      "/home/eliana/anaconda3/envs/etmEnv/lib/python3.7/site-packages/sklearn/linear_model/_least_angle.py:34: DeprecationWarning: `np.float` is a deprecated alias for the builtin `float`. To silence this warning, use `float` by itself. Doing this will not modify any behavior and is safe. If you specifically wanted the numpy scalar type, use `np.float64` here.\n",
      "Deprecated in NumPy 1.20; for more details and guidance: https://numpy.org/devdocs/release/1.20.0-notes.html#deprecations\n",
      "  method='lar', copy_X=True, eps=np.finfo(np.float).eps,\n",
      "/home/eliana/anaconda3/envs/etmEnv/lib/python3.7/site-packages/sklearn/linear_model/_least_angle.py:164: DeprecationWarning: `np.float` is a deprecated alias for the builtin `float`. To silence this warning, use `float` by itself. Doing this will not modify any behavior and is safe. If you specifically wanted the numpy scalar type, use `np.float64` here.\n",
      "Deprecated in NumPy 1.20; for more details and guidance: https://numpy.org/devdocs/release/1.20.0-notes.html#deprecations\n",
      "  method='lar', copy_X=True, eps=np.finfo(np.float).eps,\n",
      "/home/eliana/anaconda3/envs/etmEnv/lib/python3.7/site-packages/sklearn/linear_model/_least_angle.py:281: DeprecationWarning: `np.float` is a deprecated alias for the builtin `float`. To silence this warning, use `float` by itself. Doing this will not modify any behavior and is safe. If you specifically wanted the numpy scalar type, use `np.float64` here.\n",
      "Deprecated in NumPy 1.20; for more details and guidance: https://numpy.org/devdocs/release/1.20.0-notes.html#deprecations\n",
      "  eps=np.finfo(np.float).eps, copy_Gram=True, verbose=0,\n",
      "/home/eliana/anaconda3/envs/etmEnv/lib/python3.7/site-packages/sklearn/linear_model/_least_angle.py:865: DeprecationWarning: `np.float` is a deprecated alias for the builtin `float`. To silence this warning, use `float` by itself. Doing this will not modify any behavior and is safe. If you specifically wanted the numpy scalar type, use `np.float64` here.\n",
      "Deprecated in NumPy 1.20; for more details and guidance: https://numpy.org/devdocs/release/1.20.0-notes.html#deprecations\n",
      "  eps=np.finfo(np.float).eps, copy_X=True, fit_path=True,\n",
      "/home/eliana/anaconda3/envs/etmEnv/lib/python3.7/site-packages/sklearn/linear_model/_least_angle.py:1121: DeprecationWarning: `np.float` is a deprecated alias for the builtin `float`. To silence this warning, use `float` by itself. Doing this will not modify any behavior and is safe. If you specifically wanted the numpy scalar type, use `np.float64` here.\n",
      "Deprecated in NumPy 1.20; for more details and guidance: https://numpy.org/devdocs/release/1.20.0-notes.html#deprecations\n",
      "  eps=np.finfo(np.float).eps, copy_X=True, fit_path=True,\n",
      "/home/eliana/anaconda3/envs/etmEnv/lib/python3.7/site-packages/sklearn/linear_model/_least_angle.py:1149: DeprecationWarning: `np.float` is a deprecated alias for the builtin `float`. To silence this warning, use `float` by itself. Doing this will not modify any behavior and is safe. If you specifically wanted the numpy scalar type, use `np.float64` here.\n",
      "Deprecated in NumPy 1.20; for more details and guidance: https://numpy.org/devdocs/release/1.20.0-notes.html#deprecations\n",
      "  eps=np.finfo(np.float).eps, positive=False):\n",
      "/home/eliana/anaconda3/envs/etmEnv/lib/python3.7/site-packages/sklearn/linear_model/_least_angle.py:1379: DeprecationWarning: `np.float` is a deprecated alias for the builtin `float`. To silence this warning, use `float` by itself. Doing this will not modify any behavior and is safe. If you specifically wanted the numpy scalar type, use `np.float64` here.\n",
      "Deprecated in NumPy 1.20; for more details and guidance: https://numpy.org/devdocs/release/1.20.0-notes.html#deprecations\n",
      "  max_n_alphas=1000, n_jobs=None, eps=np.finfo(np.float).eps,\n",
      "/home/eliana/anaconda3/envs/etmEnv/lib/python3.7/site-packages/sklearn/linear_model/_least_angle.py:1621: DeprecationWarning: `np.float` is a deprecated alias for the builtin `float`. To silence this warning, use `float` by itself. Doing this will not modify any behavior and is safe. If you specifically wanted the numpy scalar type, use `np.float64` here.\n",
      "Deprecated in NumPy 1.20; for more details and guidance: https://numpy.org/devdocs/release/1.20.0-notes.html#deprecations\n",
      "  max_n_alphas=1000, n_jobs=None, eps=np.finfo(np.float).eps,\n",
      "/home/eliana/anaconda3/envs/etmEnv/lib/python3.7/site-packages/sklearn/linear_model/_least_angle.py:1755: DeprecationWarning: `np.float` is a deprecated alias for the builtin `float`. To silence this warning, use `float` by itself. Doing this will not modify any behavior and is safe. If you specifically wanted the numpy scalar type, use `np.float64` here.\n",
      "Deprecated in NumPy 1.20; for more details and guidance: https://numpy.org/devdocs/release/1.20.0-notes.html#deprecations\n",
      "  eps=np.finfo(np.float).eps, copy_X=True, positive=False):\n",
      "/home/eliana/anaconda3/envs/etmEnv/lib/python3.7/site-packages/sklearn/decomposition/_lda.py:28: DeprecationWarning: `np.float` is a deprecated alias for the builtin `float`. To silence this warning, use `float` by itself. Doing this will not modify any behavior and is safe. If you specifically wanted the numpy scalar type, use `np.float64` here.\n",
      "Deprecated in NumPy 1.20; for more details and guidance: https://numpy.org/devdocs/release/1.20.0-notes.html#deprecations\n",
      "  EPS = np.finfo(np.float).eps\n",
      "/home/eliana/anaconda3/envs/etmEnv/lib/python3.7/site-packages/past/builtins/misc.py:45: DeprecationWarning: the imp module is deprecated in favour of importlib; see the module's documentation for alternative uses\n",
      "  from imp import reload\n",
      "/home/eliana/anaconda3/envs/etmEnv/lib/python3.7/site-packages/sklearn/linear_model/_least_angle.py:34: DeprecationWarning: `np.float` is a deprecated alias for the builtin `float`. To silence this warning, use `float` by itself. Doing this will not modify any behavior and is safe. If you specifically wanted the numpy scalar type, use `np.float64` here.\n",
      "Deprecated in NumPy 1.20; for more details and guidance: https://numpy.org/devdocs/release/1.20.0-notes.html#deprecations\n",
      "  method='lar', copy_X=True, eps=np.finfo(np.float).eps,\n",
      "/home/eliana/anaconda3/envs/etmEnv/lib/python3.7/site-packages/sklearn/linear_model/_least_angle.py:164: DeprecationWarning: `np.float` is a deprecated alias for the builtin `float`. To silence this warning, use `float` by itself. Doing this will not modify any behavior and is safe. If you specifically wanted the numpy scalar type, use `np.float64` here.\n",
      "Deprecated in NumPy 1.20; for more details and guidance: https://numpy.org/devdocs/release/1.20.0-notes.html#deprecations\n",
      "  method='lar', copy_X=True, eps=np.finfo(np.float).eps,\n",
      "/home/eliana/anaconda3/envs/etmEnv/lib/python3.7/site-packages/sklearn/linear_model/_least_angle.py:281: DeprecationWarning: `np.float` is a deprecated alias for the builtin `float`. To silence this warning, use `float` by itself. Doing this will not modify any behavior and is safe. If you specifically wanted the numpy scalar type, use `np.float64` here.\n",
      "Deprecated in NumPy 1.20; for more details and guidance: https://numpy.org/devdocs/release/1.20.0-notes.html#deprecations\n",
      "  eps=np.finfo(np.float).eps, copy_Gram=True, verbose=0,\n",
      "/home/eliana/anaconda3/envs/etmEnv/lib/python3.7/site-packages/sklearn/linear_model/_least_angle.py:865: DeprecationWarning: `np.float` is a deprecated alias for the builtin `float`. To silence this warning, use `float` by itself. Doing this will not modify any behavior and is safe. If you specifically wanted the numpy scalar type, use `np.float64` here.\n",
      "Deprecated in NumPy 1.20; for more details and guidance: https://numpy.org/devdocs/release/1.20.0-notes.html#deprecations\n",
      "  eps=np.finfo(np.float).eps, copy_X=True, fit_path=True,\n",
      "/home/eliana/anaconda3/envs/etmEnv/lib/python3.7/site-packages/sklearn/linear_model/_least_angle.py:1121: DeprecationWarning: `np.float` is a deprecated alias for the builtin `float`. To silence this warning, use `float` by itself. Doing this will not modify any behavior and is safe. If you specifically wanted the numpy scalar type, use `np.float64` here.\n",
      "Deprecated in NumPy 1.20; for more details and guidance: https://numpy.org/devdocs/release/1.20.0-notes.html#deprecations\n",
      "  eps=np.finfo(np.float).eps, copy_X=True, fit_path=True,\n",
      "/home/eliana/anaconda3/envs/etmEnv/lib/python3.7/site-packages/sklearn/linear_model/_least_angle.py:1149: DeprecationWarning: `np.float` is a deprecated alias for the builtin `float`. To silence this warning, use `float` by itself. Doing this will not modify any behavior and is safe. If you specifically wanted the numpy scalar type, use `np.float64` here.\n",
      "Deprecated in NumPy 1.20; for more details and guidance: https://numpy.org/devdocs/release/1.20.0-notes.html#deprecations\n",
      "  eps=np.finfo(np.float).eps, positive=False):\n",
      "/home/eliana/anaconda3/envs/etmEnv/lib/python3.7/site-packages/sklearn/linear_model/_least_angle.py:1379: DeprecationWarning: `np.float` is a deprecated alias for the builtin `float`. To silence this warning, use `float` by itself. Doing this will not modify any behavior and is safe. If you specifically wanted the numpy scalar type, use `np.float64` here.\n",
      "Deprecated in NumPy 1.20; for more details and guidance: https://numpy.org/devdocs/release/1.20.0-notes.html#deprecations\n",
      "  max_n_alphas=1000, n_jobs=None, eps=np.finfo(np.float).eps,\n",
      "/home/eliana/anaconda3/envs/etmEnv/lib/python3.7/site-packages/sklearn/linear_model/_least_angle.py:1621: DeprecationWarning: `np.float` is a deprecated alias for the builtin `float`. To silence this warning, use `float` by itself. Doing this will not modify any behavior and is safe. If you specifically wanted the numpy scalar type, use `np.float64` here.\n",
      "Deprecated in NumPy 1.20; for more details and guidance: https://numpy.org/devdocs/release/1.20.0-notes.html#deprecations\n",
      "  max_n_alphas=1000, n_jobs=None, eps=np.finfo(np.float).eps,\n",
      "/home/eliana/anaconda3/envs/etmEnv/lib/python3.7/site-packages/sklearn/linear_model/_least_angle.py:1755: DeprecationWarning: `np.float` is a deprecated alias for the builtin `float`. To silence this warning, use `float` by itself. Doing this will not modify any behavior and is safe. If you specifically wanted the numpy scalar type, use `np.float64` here.\n",
      "Deprecated in NumPy 1.20; for more details and guidance: https://numpy.org/devdocs/release/1.20.0-notes.html#deprecations\n",
      "  eps=np.finfo(np.float).eps, copy_X=True, positive=False):\n",
      "/home/eliana/anaconda3/envs/etmEnv/lib/python3.7/site-packages/sklearn/decomposition/_lda.py:28: DeprecationWarning: `np.float` is a deprecated alias for the builtin `float`. To silence this warning, use `float` by itself. Doing this will not modify any behavior and is safe. If you specifically wanted the numpy scalar type, use `np.float64` here.\n",
      "Deprecated in NumPy 1.20; for more details and guidance: https://numpy.org/devdocs/release/1.20.0-notes.html#deprecations\n",
      "  EPS = np.finfo(np.float).eps\n"
     ]
    }
   ],
   "source": [
    "topic_coherence = etm_instance.get_topic_coherence()\n",
    "print(topic_coherence)\n",
    "topic_diversity = etm_instance.get_topic_diversity()\n",
    "print(topic_diversity)\n",
    "print(etm_instance._perplexity(test_dataset))\n"
   ]
  },
  {
   "cell_type": "code",
   "execution_count": null,
   "metadata": {},
   "outputs": [],
   "source": []
  }
 ],
 "metadata": {
  "kernelspec": {
   "display_name": "Python 3 (ipykernel)",
   "language": "python",
   "name": "python3"
  },
  "language_info": {
   "codemirror_mode": {
    "name": "ipython",
    "version": 3
   },
   "file_extension": ".py",
   "mimetype": "text/x-python",
   "name": "python",
   "nbconvert_exporter": "python",
   "pygments_lexer": "ipython3",
   "version": "3.9.7"
  }
 },
 "nbformat": 4,
 "nbformat_minor": 2
}
